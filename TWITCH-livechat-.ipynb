{
 "cells": [
  {
   "cell_type": "code",
   "execution_count": null,
   "metadata": {},
   "outputs": [],
   "source": [
    "#get oauth token\n",
    "#https://twitchapps.com/tmi/\n",
    "\n",
    "#Dieses Skript gilt nur für LIVE Aufzeichnungen"
   ]
  },
  {
   "cell_type": "code",
   "execution_count": 9,
   "metadata": {},
   "outputs": [],
   "source": [
    "#Kernel 3.9.13\n",
    "\n",
    "from twitch_listener import listener\n",
    "\n",
    "\n",
    "# Connect to Twitch\n",
    "bot = listener.connect_twitch('mckytv', \n",
    "                             'oauth:sweozc63jm1l2wq6p1vltlx81gelo8', \n",
    "                             '6wk5itntbput1tddde1lo7o1zuym20')\n",
    "\n",
    "# List of channels to connect to\n",
    "channels_to_listen_to = ['mckytv']\n",
    "\n",
    "# Scrape live chat data into raw log files. (Duration is seconds)\n",
    "bot.listen(channels_to_listen_to, duration = 400) \n",
    "\n",
    "# Convert log files into .CSV format\n",
    "bot.parse_logs(timestamp = True)\n",
    "\n",
    "# Generate adjacency matrix\n",
    "#bot.adj_matrix(weighted = False, matrix_name = \"streamer_network.csv\")\n"
   ]
  },
  {
   "cell_type": "code",
   "execution_count": null,
   "metadata": {},
   "outputs": [],
   "source": [
    "#remove the column username\n",
    "'''\n",
    "def remove_column(file_name, column_index):\n",
    "    with open(file_name, 'r') as f:\n",
    "        reader = csv.reader(f)\n",
    "        data = list(reader)\n",
    "    with open(file_name, 'w') as f:\n",
    "        writer = csv.writer(f)\n",
    "        for row in data:\n",
    "            del row[column_index]\n",
    "            writer.writerow(row)\n",
    "\n",
    "\n",
    "remove_column('trainwreckstv.csv', 1)\n",
    "'''"
   ]
  },
  {
   "cell_type": "code",
   "execution_count": 10,
   "metadata": {},
   "outputs": [
    {
     "name": "stdout",
     "output_type": "stream",
     "text": [
      "['text', 'username', 'timestamp']\n",
      "['GG', 'coldey7oq', ' 08:55:2']\n",
      "['B2b', 'ub_masaki', ' 08:55:2']\n",
      "['mckyLiebe mckyLiebe mckyLiebe mckyLiebe mckyLiebe mckyLiebe mckyLiebe mckyLiebe mckyLiebe mckyLiebe mckyLiebe mckyLiebe mckyLiebe mckyLiebe mckyLiebe mckyLiebe mckyLiebe mckyLiebe mckyLiebe mckyLiebe mckyLiebe', 'wienclown', ' 08:55:2']\n",
      "['seyyn mckyLiebe', 'sunnycreme99', ' 08:55:2']\n",
      "['pro', 'schmidt2297', ' 08:55:2']\n",
      "['2020Glitchy 2020Glitchy 2020Glitchy 2020Glitchy', 'mahjong92', ' 08:55:2']\n",
      "['Back to back', 'sinuxfps', ' 08:55:2']\n",
      "['gg', 'coldey7oq', ' 08:55:2']\n",
      "['<3 <3 <3 <3 <3 <3', 'hobby_loster', ' 08:55:2']\n",
      "['B2B', 'ub_masaki', ' 08:55:2']\n",
      "['genau back2back hahahaha', 'eatmorebanana', ' 08:55:2']\n",
      "['G❤️ MICKY ❤️G', 'sonja_sun1', ' 08:55:2']\n",
      "['B2B mckyHS xtheGier xtheGier', 'dequiall0', ' 08:55:2']\n",
      "['B2B', 'champ3001', ' 08:55:2']\n",
      "['xtheGier xtheGier xtheGier xtheGier', 'hobby_loster', ' 08:55:3']\n",
      "['xtheGier xtheGier xtheGier xtheGier xtheGier xtheGier xtheGier xtheGier', 'i__dante__i', ' 08:55:3']\n",
      "['B2B mckyLiebe', 'sunnycreme99', ' 08:55:3']\n",
      "['b2b', 'fetteralsturtok', ' 08:55:3']\n",
      "['xtheGier xtheGier xtheGier', 'mahjong92', ' 08:55:3']\n",
      "['Pog', 'wienclown', ' 08:55:3']\n",
      "['b2b xrohatLost KappaPride xrohatLost xrohatLost KappaPride xrohatLost xrohatLost xrohatLost xrohatLost xrohatLost KappaPride xrohatLost KappaPride KappaPride KappaPride xrohatLost xrohatLost xrohatLost xrohatLost KappaPride xrohatLost KappaPride xrohatLost xrohatLost', '7773nvy', ' 08:55:3']\n",
      "['xtheGier xtheGier xtheGier', 'hobby_loster', ' 08:55:3']\n",
      "['@jenniifer_xxx belastend LUL', 'kyuuibii', ' 08:55:3']\n",
      "['xtheKnossi', 'arcan1810', ' 08:55:3']\n",
      "['@MckyTV Danny muss wegen diesem win morgen wieder b2b Challenge machen KEKW', 'maurice1310', ' 08:55:3']\n",
      "['xtheGier', 'justyfool', ' 08:55:3']\n",
      "['1/2 Kappa', 'marciaveli', ' 08:55:3']\n",
      "['B2B', 'pfisti17', ' 08:55:4']\n",
      "['LULW', 'sunnycreme99', ' 08:55:4']\n",
      "['xtheGier', 'hobby_loster', ' 08:55:4']\n",
      "['mckyLaugh mckyLaugh mckyLaugh mckyLaugh mckyLaugh', 'itzruffy97', ' 08:55:4']\n",
      "['GEIL', 'ckwien1312', ' 08:55:4']\n",
      "['mckyEnergie mckyEnergie mckyEnergie mckyEnergie', 'mcmecki', ' 08:55:4']\n",
      "['xtheGier xtheGier xtheGier xtheGier xtheGier', 'parddy', ' 08:55:4']\n",
      "['xtheGier xtheGier xtheGier xtheGier xtheGier', 'firefighterme', ' 08:55:4']\n",
      "['xtheGier xtheGier xtheGier xtheGier xtheGier xtheGier xtheGier xtheGier xtheGier xtheGier', 'wienclown', ' 08:55:4']\n",
      "['Auf chillig', 'k1zamu', ' 08:55:4']\n",
      "['jaaaaa', 'toxic_intj', ' 08:55:4']\n",
      "['Mega', 'littleghostiiiiii', ' 08:55:4']\n",
      "['mckyLaugh', 'jonathan05_lu', ' 08:55:4']\n",
      "['Jetzt back to back in Fall guys!!', 'fischke', ' 08:55:4']\n",
      "['League of legends', 'xdrackey627', ' 08:55:4']\n",
      "['<3 <3 <3 <3 <3 <3', 'hobby_loster', ' 08:55:4']\n",
      "['Topf der Gier wird gespielt', 'cozyydrop', ' 08:55:4']\n",
      "['wichtig', 'sunnycreme99', ' 08:55:4']\n",
      "['xtheGier xtheGier xtheGier xtheGier', 'dequiall0', ' 08:55:5']\n",
      "['GG Maschine', 'nicemuffintv', ' 08:55:5']\n",
      "['xtheGier xtheGier xtheGier xtheGier', 'mahjong92', ' 08:55:5']\n",
      "['@xderfranz', 'roberto_i0', ' 08:55:5']\n",
      "['derkel1Pog', 'bachtel', ' 08:55:5']\n",
      "['Ehre', 'alpherbetus88', ' 08:55:5']\n",
      "['xtheGier xtheGier xtheGier xtheGier', 'kyuuibii', ' 08:55:5']\n",
      "['@maurice1310 du bist morgen weg vom fenster mehdidGood', 'xthesolutiontv', ' 08:55:5']\n",
      "['Bonusrunde', 'sunnycreme99', ' 08:55:5']\n",
      "['mit repaz?', 'pumaidiace', ' 08:55:5']\n",
      "['@xthesolutiontv staiyF dergor1KEKW dergor1KEKW dergor1KEKW dergor1KEKW dergor1KEKW', 'saspirillaracoon', ' 08:55:5']\n",
      "['League of legends @mckytv', 'xdrackey627', ' 08:55:5']\n",
      "['Pepega', 'ennnoo1309', ' 08:55:5']\n",
      "['bonus zum nachtretten ! auf jetz', 'ckwien1312', ' 08:55:5']\n",
      "['geil noch länger mcky schauen', 'hoemaltv', ' 08:55:5']\n",
      "['@kyuuibii jaaaa so belastend', 'jenniifer_xxx', ' 08:55:5']\n",
      "['was hat man davon, wenn man die challenge schafft?', 'deuncledrew', ' 08:55:5']\n",
      "['Soo gut', 'trelie_', ' 08:55:5']\n",
      "['mailHeiko', 'eatmorebanana', ' 08:55:5']\n",
      "['xtheGier xtheGier xtheGier xtheGier xtheGier xtheGier xtheGier xtheGier xtheGier', 'koopf', ' 08:55:5']\n",
      "['Ehrenrunde MckyWENDIG', 'wienclown', ' 08:55:5']\n",
      "['xtheGier xtheGier xtheGier xtheGier xtheGier', 'arcan1810', ' 08:55:5']\n",
      "['EHRE', 'alpherbetus88', ' 08:56:0']\n",
      "['xtheGier xtheGier', 'heerdus', ' 08:56:0']\n",
      "['weil du der mastigste macher in deutschland bist', 'bananendieb2', ' 08:56:0']\n",
      "['@xTheSolutionTV OMEGALUL', 'maurice1310', ' 08:56:0']\n",
      "['Mit reapz', 'luxa_tt', ' 08:56:0']\n",
      "['mckyEnergie mckyEnergie mckyEnergie mckyEnergie mckyEnergie mckyEnergie', 'knechterus', ' 08:56:0']\n",
      "['hat danny aufgegeben?', 'ita_snipe', ' 08:56:0']\n",
      "['@chat was ist B2B?', 'alexwilhlm', ' 08:56:0']\n",
      "['lohnt eh nicht mehr zu schlafen KEKW', 'luciosxc', ' 08:56:0']\n",
      "['@maurice1310 OMEGALUL @xTheSolutionTV', 'sunnycreme99', ' 08:56:0']\n",
      "['xtheEnergie xtheEnergie', 'mahjong92', ' 08:56:0']\n",
      "['Einfach ein schöner Mann', 'nicemuffintv', ' 08:56:0']\n",
      "['Weil du es halt noch kannst währenddem andere schon aufgegeben haben', 'ganja44tv', ' 08:56:0']\n",
      "['@xthesolutiontv so gebrochen', 'detektivconan7', ' 08:56:0']\n",
      "['der Fels in der Brandung', 'whyyoucry123', ' 08:56:0']\n",
      "['An Eli alles ohne Pro!!! mckyRandall mckyRandall', 'ghost_dustinn', ' 08:56:1']\n",
      "['Ja ohne challenge auf ganz entspannt', 'cozyydrop', ' 08:56:1']\n",
      "['xtheGier xtheGier xtheGier', 'dark_siders1', ' 08:56:1']\n",
      "['This is over @xTheSolutionTV', 'maurice1310', ' 08:56:1']\n",
      "['Ehrenmann', 'karnimani29', ' 08:56:1']\n",
      "['Komm Warzone 1/2, das ging zu schnell', '89_tobi', ' 08:56:1']\n",
      "['@alexwilhlm back to back win', 'sunnycreme99', ' 08:56:1']\n",
      "['@xTheSolutionTV mckyHS', 'wienclown', ' 08:56:1']\n",
      "['ehre und ruhm', 'jonasgamer97', ' 08:56:1']\n",
      "['ruhm und ehre', 'bananendieb2', ' 08:56:1']\n",
      "['gz Clap', 'daenielsynnen', ' 08:56:1']\n",
      "['ihr zwei solche macher', 'oktagonfighter95', ' 08:56:2']\n",
      "['Geiler typ!!!!!!!!', 'fitnessbrother', ' 08:56:2']\n",
      "['hahahaha', 'hobby_loster', ' 08:56:2']\n",
      "['hahahahahhaha', 'k1zamu', ' 08:56:2']\n",
      "['@xthesolutiontv staiyKEK staiyKEK staiyKEK staiyKEK staiyKEK staiyKEK staiyKEK staiyKEK staiyKEK', 'itzruffy97', ' 08:56:2']\n",
      "['Solche Macher', 'cozyydrop', ' 08:56:2']\n",
      "['DansGame', 'hobby_loster', ' 08:56:2']\n",
      "['@maurice1310 hahahahhahah werde dich vermissen', 'jenniifer_xxx', ' 08:56:2']\n",
      "['a1kiiGG a1kiiGG a1kiiGG a1kiiGG a1kiiGG a1kiiGG a1kiiGG a1kiiGG bougeGG bougeGG bougeGG bougeGG bougeGG bougeGG shloHeart shloHeart shloHeart shloHeart', 'demonshadow_dsjr', ' 08:56:2']\n",
      "['Du bist so krank Micky heftig...', 'telekom8997', ' 08:56:3']\n",
      "['mckyGASM n Hörnchen bei den Zuschauern', 'wienclown', ' 08:56:3']\n",
      "['@alexwilhlm Wins in Folge', 'youngswaisy', ' 08:56:3']\n",
      "['Ohne Pro warzone bist ne Maschine', 'schmidt2297', ' 08:56:3']\n",
      "['So ein geiler typ', 'k1zamu', ' 08:56:3']\n",
      "['hast du One Piece geschaut?', 'iendenbruch', ' 08:56:3']\n",
      "['Lang lebe der KÖNIG !', 'ckwien1312', ' 08:56:3']\n",
      "['❤️👊❤️👊❤️👊❤️👊❤️👊❤️👊❤️👊❤️👊   G  MICKY  G', 'sonja_sun1', ' 08:56:3']\n",
      "['Reichtum Macht und Rum xtheEhre', 'kyuuibii', ' 08:56:3']\n",
      "['its a ekenis renegade', 'aaronl2705', ' 08:56:3']\n",
      "['Respekt', 'schmidt2297', ' 08:56:4']\n",
      "['Der Fels in der Brandung', 'whyyoucry123', ' 08:56:4']\n",
      "['OMEGALUL', 'sunnycreme99', ' 08:56:4']\n",
      "['DU hast Fallguys doch schon', 'lyyb', ' 08:56:5']\n",
      "['jennyd2Party Mcky jennyd2Party Mcky jennyd2Party', 'saspirillaracoon', ' 08:56:5']\n",
      "['ja', 'sunnycreme99', ' 08:56:5']\n",
      "['könntet ihr nicht daraus nh sub Wette irgendwann machen Zb wer in 24std mehr runden davon Schaft', 'lost_mudi', ' 08:56:5']\n",
      "['mckyRandall „Sehr gut, ohne Pro“', 'wienclown', ' 08:56:5']\n",
      "['bist halt nen geek', 'sunnycreme99', ' 08:56:5']\n",
      "['mckyRandall mckyRandall mckyRandall mckyRandall', 'moris998', ' 08:57:0']\n",
      "['@mckytv Danny hat die fall guys challange nicht geschafft?', 'xxmarciiroxx', ' 08:57:0']\n",
      "['Ohne pro so wichtig auch für den mckyRandall', 'dupermarioo', ' 08:57:0']\n",
      "['@xTheSolutionTV Du bist und bleibst tortzdem ein macher und einer meiner Lieblings streamer mckyL', 'maurice1310', ' 08:57:0']\n",
      "['mckyRandall mckyRandall mckyRandall mckyRandall mckyRandall', 'cozyydrop', ' 08:57:0']\n",
      "['Geek', 'dermalochertv', ' 08:57:1']\n",
      "['12kills sagen einiges aus', 'bachtel', ' 08:57:1']\n",
      "['das wars komplett', 'hobby_loster', ' 08:57:1']\n",
      "['mckyRandall ohne Pro', 'jonathan05_lu', ' 08:57:1']\n",
      "['mckyRandall mckyRandall mckyRandall mckyRandall', 'ghost_dustinn', ' 08:57:1']\n",
      "['mcky beim nächsten twitch turnier dann der pro im team', 'kevko90', ' 08:57:1']\n",
      "['guten morgen', 'mugenink', ' 08:57:1']\n",
      "['150€ KEKW', 'itzruffy97', ' 08:57:1']\n",
      "['man könnte doch daraus nh sub Wette machen', 'lost_mudi', ' 08:57:2']\n",
      "['@lost_mudi hab ich schon gehört, wer schafft mehr FallguysWin in 24h', 'sunnycreme99', ' 08:57:2']\n",
      "['mckyRandall mckyRandall', 'daenielsynnen', ' 08:57:2']\n",
      "['mit den earnings zählt man doch zum pro', 'pumpkineater106', ' 08:57:2']\n",
      "['@schmidt2297 brauch keiner Kappa Kappa', 'mahjong92', ' 08:57:2']\n",
      "['was genau läuft jetz', 'acameth01', ' 08:57:2']\n",
      "['aber seyyn hat ein foto mckyRandall mckyRandall mckyRandall mckyRandall', 'dequiall0', ' 08:57:2']\n",
      "['12 Kills + Win um 09:00 GG', 'hobby_loster', ' 08:57:3']\n",
      "['wieso leckt er gerade so?', 'lowlightsstudios', ' 08:57:3']\n",
      "['@MckyTV in letzter zeit wenig RP woran liegt es ?', 'd0mee_tv', ' 08:57:3']\n",
      "['finde es bei warzone okay weil nach einer bestimmten Zeit ist es zu asozial das Spiel 😂😂', 'schmidt2297', ' 08:57:3']\n",
      "['xmandy1Happy Mcky xmandy1Happy Mcky xmandy1Happy', 'saspirillaracoon', ' 08:57:3']\n",
      "['@lost_mudi dieses W... Wort ist auf blacklist', 'sunnycreme99', ' 08:57:3']\n",
      "['was kommt jetzt', 'alexwilhlm', ' 08:57:3']\n",
      "['mckyGASM', 'sunnycreme99', ' 08:57:3']\n",
      "['@alexwilhlm ne runde fallguys', 'sunnycreme99', ' 08:57:4']\n",
      "['wasn jetzt', 'aaronl2705', ' 08:57:4']\n",
      "['mcky????', 'dark_fa1m0inz', ' 08:57:5']\n",
      "['auaaaa', 'mahjong92', ' 08:57:5']\n",
      "['bro du streamst ja 24/7 was ist mit deiner frau und den kindern? ^^', 'u20p6', ' 08:57:5']\n",
      "['trotz langer Mühe den Safe geknackt, so muss das', 'youngswaisy', ' 08:57:5']\n",
      "['xtheGier xtheGier xtheGier xtheGier xtheGier', 'arcan1810', ' 08:57:5']\n",
      "['sunnycreme99 wir sehen uns jetzt Öfters hier mehdidGood', 'maurice1310', ' 08:57:5']\n",
      "['Der starke Mast', 'paci0611', ' 08:57:5']\n",
      "['gg', 'goodsnipz0502', ' 08:57:5']\n",
      "['Ich spiele den Nörgelnden Nerlich', 'cozyydrop', ' 08:58:0']\n",
      "['@alexwilhlm b2b win fall guys', 'itzruffy97', ' 08:58:0']\n",
      "['@aaronl2705 ne Runde fullguys', 'sunnycreme99', ' 08:58:0']\n",
      "['gtastyAuge gtastyAuge', 'dondegaztv', ' 08:58:0']\n",
      "['@schmidt2297 warzone ist halt ein schweres Spiel,  kann man nichts dagegen sagen', 'k1zamu', ' 08:58:0']\n",
      "['warum spielt er noch fall guys hahaha', 'mahmoud_lbn_', ' 08:58:0']\n",
      "['Rein in die Wette? Oder lieber nicht', 'adicross22', ' 08:58:0']\n",
      "['Hast du noch mit mois kontakt', 'blattrop', ' 08:58:0']\n",
      "['Muss Respekt geben', 'xthesolutiontv', ' 08:58:0']\n",
      "['als wenn er win geholt hat', 'mehmet_memo09', ' 08:58:0']\n",
      "['Bonuswin in Fallguys?', 'a1exus_', ' 08:58:0']\n",
      "['der wird doch nicht versuchen b2b', 'aaronl2705', ' 08:58:0']\n",
      "['VIBE', 'wienclown', ' 08:58:0']\n",
      "['Gg', 'karroganz', ' 08:58:0']\n",
      "['y, je 8aaqa1aqaq1Q3aq1qaq1 8aaqa1aqaq1', 'shaka48', ' 08:58:1']\n",
      "['was geht jetzt ab?????', 'koethster', ' 08:58:1']\n",
      "['xtheMelone', 'xdrackey627', ' 08:58:1']\n",
      "['10500 abos Clap Clap Clap', 'ckwien1312', ' 08:58:1']\n",
      "['b2b challengen? 2 mal die gleiche challengen hintereinander schaffen ?', 'solosolid', ' 08:58:1']\n",
      "['hallo', 'nathan1272009', ' 08:58:1']\n",
      "['@Maurice1310 bei xTheSolutionTV ist es jetzt ja vorbei mckyHelp OMEGALUL', 'sunnycreme99', ' 08:58:1']\n",
      "['Als er hingerichtet wurde waren seine letzten Worte Ihr wollt meinen lendenwirbel sucht ihn doch irgendwo hab ich den größten bruch der Welt versteckt. Dieser Schatz wahr das Trümmepiece und er liegt irgendwo auf der Bruchline', 'jiraiya_the_goat', ' 08:58:1']\n",
      "['Aber was krass wäre ist wenn mcky noch apex mit reinnimmt', 'k1zamu', ' 08:58:2']\n",
      "['@xthesolutiontv fairer Sportsmann xtheEhre', 'kyuuibii', ' 08:58:2']\n",
      "['xmandy1Dance Er ist der König, der Meister, der Chef xmandy1Dance', 'saspirillaracoon', ' 08:58:2']\n",
      "['Sehr geil man wird wach und Stream ist noch immer an', 'ruii_arvw', ' 08:58:2']\n",
      "['junge bist du nicht langsam müde 😂', 'gg_pampino', ' 08:58:2']\n",
      "['Hat er schon win geholt in warzone war kurz weg 😔', 'christoph_r9', ' 08:58:3']\n",
      "['@MckyTV in letzter Zeit wenig RP woran liegt es ?', 'd0mee_tv', ' 08:58:3']\n",
      "['versuche back to back mit repaz', 'bauerherrrmann', ' 08:58:3']\n",
      "['sunnycreme99 also wenn ich morgen wirklich weg bin dann soll es so ein', 'maurice1310', ' 08:58:4']\n",
      "['Als team juckt nicht', 'xthesolutiontv', ' 08:58:4']\n",
      "['@Maurice1310 OMEGALUL', 'sunnycreme99', ' 08:58:4']\n",
      "['mckyZusammen1 mckyZusammen2', 'wienclown', ' 08:58:4']\n",
      "['ich aktiviere schaufler mckyDigda', 'mahjong92', ' 08:58:5']\n",
      "['Also bricht mich nicht', 'xthesolutiontv', ' 08:58:5']\n",
      "['ist das die Zugabe?', 'mampfzw3rg', ' 08:58:5']\n",
      "['mckyRandall mckyRandall mckyRandall mckyRandall', 'fitnessbrother', ' 08:58:5']\n",
      "['mckyZusammen1 mckyZusammen2 mckyZusammen1 mckyZusammen2', 'wienclown', ' 08:58:5']\n",
      "['geiel', 'willipilllli2', ' 08:58:5']\n",
      "['was bedeutet back to back', 'lawconnorr', ' 08:59:0']\n",
      "['keine Vorhersage?', 'goodsnipz0502', ' 08:59:0']\n",
      "['Repaz is einfach schummeln :D', 'youngswaisy', ' 08:59:0']\n",
      "['@xthesolutiontv Respekt zollen mit paar Naschis xtheBomb', 'koopf', ' 08:59:0']\n",
      "['@maurice1310 danny wird dich für ne woche auf die stille Treppe setzen hahah', 'jenniifer_xxx', ' 08:59:0']\n",
      "['worin ist der nicht gut', 'i_raffa_i', ' 08:59:0']\n",
      "['Wo ikst Repaz nciht gut? :D', 'littleghostiiiiii', ' 08:59:0']\n",
      "['haha keiner will mit repaz zocken hhaha', 'pumaidiace', ' 08:59:1']\n",
      "['@alle hat danmnyn de back2back in fall guys noch geschafft ?', 'invokedtontour', ' 08:59:1']\n",
      "['@Maurice1310 muss dir keine angst machen, xTheSolutionTV vergisst das sofort LULW', 'sunnycreme99', ' 08:59:1']\n",
      "['Danny hast du nicht langsam sendepause? mckyHS', 'justyfool', ' 08:59:2']\n",
      "['sagt er das ist schummeln aber holt sich fuzzn in warzone squad', 'cpaket11', ' 08:59:2']\n",
      "['Moinsen mehdidGood', 'xgogo33_', ' 08:59:2']\n",
      "['@sunnycreme99 achso danke bro', 'lost_mudi', ' 08:59:2']\n",
      "['@littleghostiiiiii repaz ist zu gut 😂', 'k1zamu', ' 08:59:3']\n",
      "['@chat er hat doch 6 wins wieso geht er nochmals rein?', 'leroy9412', ' 08:59:3']\n",
      "['@xthesolutiontv wann beginnt der stream ?', '2xendiumm', ' 08:59:3']\n",
      "['@lost_mudi 🤝', 'sunnycreme99', ' 08:59:3']\n",
      "['ez großer', 'jonasgamer97', ' 08:59:3']\n",
      "['Jenniifer_xxx ja dann ist das so kanns nicht ändern aber für was weil ich mich gefreut habe das er wieder die b2b challenge machen muss mckyHS', 'maurice1310', ' 08:59:3']\n",
      "['@leroy9412 weil er bock hat', 'k1zamu', ' 08:59:4']\n",
      "['@k1zamu so wahr xD', 'littleghostiiiiii', ' 08:59:5']\n",
      "['@sunnycreme99 Glaub mir sowas vergisst er leider nicht kenne meine Mast doch', 'maurice1310', ' 08:59:5']\n",
      "['Der nörgelnde nerlich wird wieder n grund finden', 'fitnessbrother', ' 08:59:5']\n",
      "['@xthesolutiontv der Trümmerbruch kommt für dich 😂😂😂😂', 'broarmybroski', ' 08:59:5']\n",
      "['@justyfool jiaaahhh mckyTry mckyTry', 'mahjong92', ' 08:59:5']\n",
      "['@chat was ist PUBG?', 'llots315', ' 09:00:0']\n",
      "['jennyd2Aura unser Held jennyd2Aura', 'saspirillaracoon', ' 09:00:0']\n",
      "['@Maurice1310 mckyLaugh', 'sunnycreme99', ' 09:00:0']\n",
      "['Hahaha der Mann ist ja immer noch da', 'fcspkofi', ' 09:00:1']\n",
      "['@MckyTV can sagt er ist unfassbar stolz auf dich <3', 'ziluki', ' 09:00:1']\n",
      "['@xthesolutiontv CaitlynS', '7773nvy', ' 09:00:1']\n",
      "['So n macher', 'alexberg999', ' 09:00:1']\n",
      "['ja moin', 'mueckehmf', ' 09:00:1']\n",
      "['Moinsen NaDu', 'buffbahn', ' 09:00:1']\n",
      "['was feht dir noch an wins?', 'flotschiauer155', ' 09:00:2']\n",
      "['@maurice1310', 'jenniifer_xxx', ' 09:00:2']\n",
      "['Ich wette in Fall Guys holen sie first try den win', 'moritz_w01', ' 09:00:2']\n",
      "['@MueckeHMF MLADY', 'sunnycreme99', ' 09:00:2']\n",
      "['Ist Mcky nicht schon durch mit Challenge, warum spielt er noch ?', 'x_ramteid', ' 09:00:2']\n",
      "['KEKW', 'jenniifer_xxx', ' 09:00:2']\n",
      "['Jenniifer_xxx', 'maurice1310', ' 09:00:3']\n",
      "['mcky erinnerst du dich an deinen ersten muskelkater nach dem sport', 'ita_snipe', ' 09:00:3']\n",
      "['gabs schon nen trümmerbruch?', 'hoodiestevo', ' 09:00:3']\n",
      "['Guten Morgen ✋', 'erdnuss_58', ' 09:00:3']\n",
      "['mckyNashorn mckyNashorn mckyNashorn', 'cozyydrop', ' 09:00:3']\n",
      "['Wie lange insgesamt für warzone', 'schmidt2297', ' 09:00:3']\n",
      "['9h 9 Wins', 'timxbkr', ' 09:00:3']\n",
      "['FortOne 2', 'erhardteiermann', ' 09:00:4']\n",
      "['@maurice1310 fettfinger hahahha', 'jenniifer_xxx', ' 09:00:4']\n",
      "['@x_ramteid weil er es kann mckyTry', 'sunnycreme99', ' 09:00:4']\n",
      "['@MckyTV in letzter zeit wenig RP woran liegt es ?', 'd0mee_tv', ' 09:00:4']\n",
      "['er weiß Bescheid, ist stolz', 'pascal_1705', ' 09:00:4']\n",
      "['b2b win warzone nächste challenge', 'itzruffy97', ' 09:00:4']\n",
      "['Jenniifer_xxx mckyTry', 'maurice1310', ' 09:00:4']\n",
      "['@MckyTV weiß er und er sagt er ist unfassbar stolz auf dich <3', 'ziluki', ' 09:00:4']\n",
      "['er ist sehr stolz auf dich <3', 'xxdenjiixx', ' 09:00:5']\n",
      "['Respekt mcky ehrlich', 'valentinpauli', ' 09:01:0']\n",
      "['mckyChamping GuitarTime', 'wienclown', ' 09:01:0']\n",
      "['In ner 0.6 KD Lobby lul @mckytv', 'd3adsilence1', ' 09:01:0']\n",
      "['Ja bot Lobby zählt nicht', 'einmannarmee92', ' 09:01:1']\n",
      "['mckyLiebe', 'justyfool', ' 09:01:1']\n",
      "['BlargNaut er hat nen warzone win geholt', 'saspirillaracoon', ' 09:01:1']\n",
      "['mckyLiebe', 'sunnycreme99', ' 09:01:1']\n",
      "['mckyL', 'sunnycreme99', ' 09:01:1']\n",
      "['mckyL', 'maurice1310', ' 09:01:2']\n",
      "['wieso hat Eli nicht mitgemacht', 'heyschwammkopf', ' 09:01:2']\n",
      "['mckyLiebe mckyLiebe mckyLiebe mckyLiebe', 'wienclown', ' 09:01:2']\n",
      "['Gehst du erst offline wenn du den B2B Hast?', 'pechvogel1197', ' 09:01:2']\n",
      "['er sagt du bist ein macher', 'xxdenjiixx', ' 09:01:3']\n",
      "['eliasn1Richi eliasn1Richi eliasn1Richi eliasn1Richi', 'arcan1810', ' 09:01:3']\n",
      "['so früh schon online? oder immer noch?', 'tm2k', ' 09:01:3']\n",
      "['der Meister peepoWow', 'sunnycreme99', ' 09:01:3']\n",
      "['er sagt du bist ein Macher', 'martl24', ' 09:01:3']\n",
      "['mckyL', 'jonathan05_lu', ' 09:01:3']\n",
      "['@pechvogel1197 ja', 'lost_mudi', ' 09:01:3']\n",
      "['Einfach der Gewinnerblues', 'youngswaisy', ' 09:01:4']\n",
      "['@heyschwammkopf  weil er heute termine hat', 'xxparadigmaxx', ' 09:01:4']\n",
      "['@xthesolutiontv auf einmal so still :DD', 'mahjong92', ' 09:01:4']\n",
      "['@fossabot xrohatLost', '7773nvy', ' 09:01:4']\n",
      "['er sagt du bist ein Macher @MckyTV', 'zventrixx', ' 09:01:4']\n",
      "['Warzone schon geschafft?', 'dopeez', ' 09:01:5']\n",
      "['sunnycreme99 Kurze frage wer ist nochmal Can bitte beleidige mich nicht', 'maurice1310', ' 09:01:5']\n",
      "['OMEGALUL', 'sunnycreme99', ' 09:01:5']\n",
      "['KEKW', 'back2kill', ' 09:01:5']\n",
      "['monteOpa monteOpa monteOpa monteOpa monteOpa monteOpa monteOpa', 'dequiall0', ' 09:01:5']\n",
      "['D:', 'sunnycreme99', ' 09:01:5']\n",
      "['danke dir @sunnycreme99', 'tm2k', ' 09:01:5']\n",
      "['wie lange hast du für warzone gebraucht ?', 'plex79', ' 09:01:5']\n",
      "['OMEGALUL', 't0ucher', ' 09:01:5']\n",
      "['faridb3Haha faridb3Haha faridb3Haha faridb3Haha faridb3Haha faridb3Haha faridb3Haha faridb3Haha faridb3Haha faridb3Haha faridb3Haha', 'mrjacky795', ' 09:01:5']\n",
      "['D:', 'snoozeykitty', ' 09:01:5']\n"
     ]
    }
   ],
   "source": [
    "import csv\n",
    "import re\n",
    "import matplotlib.pyplot as plt\n",
    "import datetime\n",
    "\n",
    "\n",
    "#Enter the name of the streamer from the URL\n",
    "streamer = 'mckytv'\n",
    "\n",
    "\n",
    "laughs = []\n",
    "timestamps = []\n",
    "all_messages = []\n",
    "authors = []\n",
    "\n",
    "\n",
    "\n",
    "def remove_time(string):\n",
    "    return string[:8]\n",
    "\n",
    "\n",
    "today = datetime.datetime.now().strftime(\"%Y-%m-%d\")\n",
    "\n",
    "\n",
    "with open(f'{streamer}.csv') as f:\n",
    "    reader = csv.reader(f)\n",
    "    for row in reader:\n",
    "        \n",
    "        try:\n",
    "            #filter messages\n",
    "            if row[0].startswith('!') or 'https://' in row[0] or 'http://' in row[0] or row[1].startswith('Streamlabs') or row[1].startswith('streamlabs') or 'bot' in row[1]:\n",
    "                continue\n",
    "\n",
    "            #only add unique authors\n",
    "            if row[1] not in authors:\n",
    "                authors.append(row[1])\n",
    "                \n",
    "                \n",
    "            #replace 2022-05-31 with a space to extract timestamp\n",
    "            if today in row[2]:\n",
    "                row[2] = row[2].replace(today, '')\n",
    "                row[2] = remove_time(row[2])\n",
    "                timestamps.append(row[2])\n",
    "\n",
    "\n",
    "                #extract laughs\n",
    "                if \"haha\" in row[0] or \"HAHA\" in row[0] or \"LUL\" in row[0] or \"LULW\" in row[0] or \":D\" in row[0].lower() or \"LMAO\" in row[0] or \"Lmfao\" in row[0] or \"xd\" in row[0] or \"xD\" in row[0] or \"OMEGALUL\" in row[0]:\n",
    "                    laughs.append(row[2])\n",
    "            \n",
    "            \n",
    "        except:\n",
    "            pass\n",
    "            \n",
    "        all_messages.append(row[0])\n",
    "\n",
    "        print(row)\n",
    "        \n",
    "\n",
    "\n",
    "  \n",
    "\n",
    "            \n",
    "\n"
   ]
  },
  {
   "cell_type": "code",
   "execution_count": null,
   "metadata": {},
   "outputs": [],
   "source": []
  },
  {
   "cell_type": "code",
   "execution_count": 11,
   "metadata": {},
   "outputs": [
    {
     "name": "stdout",
     "output_type": "stream",
     "text": [
      "Es wurden 292 Nachrichten bei ...mckytv... geschrieben\n",
      "Es haben 142 User bei ...mckytv...im chat geschrieben\n",
      "48.63% ...engagement Rate. (100% = Jeder user hat eine Nachricht geschrieben)\n"
     ]
    },
    {
     "data": {
      "application/vnd.plotly.v1+json": {
       "config": {
        "plotlyServerURL": "https://plot.ly"
       },
       "data": [
        {
         "alignmentgroup": "True",
         "hovertemplate": "x=%{x}<br>y=%{y}<extra></extra>",
         "legendgroup": "",
         "marker": {
          "color": "#636efa",
          "pattern": {
           "shape": ""
          }
         },
         "name": "",
         "offsetgroup": "",
         "orientation": "v",
         "showlegend": false,
         "textposition": "auto",
         "type": "bar",
         "x": [
          "xtheGier xtheGier xtheGier xtheGier",
          "xtheGier xtheGier xtheGier xtheGier xtheGier",
          "B2B",
          "xtheGier xtheGier xtheGier",
          "OMEGALUL",
          "mckyRandall mckyRandall mckyRandall mckyRandall",
          "mckyL",
          "gg",
          "<3 <3 <3 <3 <3 <3",
          "xtheGier",
          "@MckyTV in letzter zeit wenig RP woran liegt es ?",
          "KEKW",
          "mckyLiebe",
          "D:",
          "text",
          "GG",
          "B2b",
          "mckyLiebe mckyLiebe mckyLiebe mckyLiebe mckyLiebe mckyLiebe mckyLiebe mckyLiebe mckyLiebe mckyLiebe mckyLiebe mckyLiebe mckyLiebe mckyLiebe mckyLiebe mckyLiebe mckyLiebe mckyLiebe mckyLiebe mckyLiebe mckyLiebe",
          "seyyn mckyLiebe",
          "pro"
         ],
         "xaxis": "x",
         "y": [
          4,
          4,
          3,
          3,
          3,
          3,
          3,
          2,
          2,
          2,
          2,
          2,
          2,
          2,
          1,
          1,
          1,
          1,
          1,
          1
         ],
         "yaxis": "y"
        }
       ],
       "layout": {
        "barmode": "relative",
        "legend": {
         "tracegroupgap": 0
        },
        "margin": {
         "t": 60
        },
        "template": {
         "data": {
          "bar": [
           {
            "error_x": {
             "color": "#2a3f5f"
            },
            "error_y": {
             "color": "#2a3f5f"
            },
            "marker": {
             "line": {
              "color": "#E5ECF6",
              "width": 0.5
             },
             "pattern": {
              "fillmode": "overlay",
              "size": 10,
              "solidity": 0.2
             }
            },
            "type": "bar"
           }
          ],
          "barpolar": [
           {
            "marker": {
             "line": {
              "color": "#E5ECF6",
              "width": 0.5
             },
             "pattern": {
              "fillmode": "overlay",
              "size": 10,
              "solidity": 0.2
             }
            },
            "type": "barpolar"
           }
          ],
          "carpet": [
           {
            "aaxis": {
             "endlinecolor": "#2a3f5f",
             "gridcolor": "white",
             "linecolor": "white",
             "minorgridcolor": "white",
             "startlinecolor": "#2a3f5f"
            },
            "baxis": {
             "endlinecolor": "#2a3f5f",
             "gridcolor": "white",
             "linecolor": "white",
             "minorgridcolor": "white",
             "startlinecolor": "#2a3f5f"
            },
            "type": "carpet"
           }
          ],
          "choropleth": [
           {
            "colorbar": {
             "outlinewidth": 0,
             "ticks": ""
            },
            "type": "choropleth"
           }
          ],
          "contour": [
           {
            "colorbar": {
             "outlinewidth": 0,
             "ticks": ""
            },
            "colorscale": [
             [
              0,
              "#0d0887"
             ],
             [
              0.1111111111111111,
              "#46039f"
             ],
             [
              0.2222222222222222,
              "#7201a8"
             ],
             [
              0.3333333333333333,
              "#9c179e"
             ],
             [
              0.4444444444444444,
              "#bd3786"
             ],
             [
              0.5555555555555556,
              "#d8576b"
             ],
             [
              0.6666666666666666,
              "#ed7953"
             ],
             [
              0.7777777777777778,
              "#fb9f3a"
             ],
             [
              0.8888888888888888,
              "#fdca26"
             ],
             [
              1,
              "#f0f921"
             ]
            ],
            "type": "contour"
           }
          ],
          "contourcarpet": [
           {
            "colorbar": {
             "outlinewidth": 0,
             "ticks": ""
            },
            "type": "contourcarpet"
           }
          ],
          "heatmap": [
           {
            "colorbar": {
             "outlinewidth": 0,
             "ticks": ""
            },
            "colorscale": [
             [
              0,
              "#0d0887"
             ],
             [
              0.1111111111111111,
              "#46039f"
             ],
             [
              0.2222222222222222,
              "#7201a8"
             ],
             [
              0.3333333333333333,
              "#9c179e"
             ],
             [
              0.4444444444444444,
              "#bd3786"
             ],
             [
              0.5555555555555556,
              "#d8576b"
             ],
             [
              0.6666666666666666,
              "#ed7953"
             ],
             [
              0.7777777777777778,
              "#fb9f3a"
             ],
             [
              0.8888888888888888,
              "#fdca26"
             ],
             [
              1,
              "#f0f921"
             ]
            ],
            "type": "heatmap"
           }
          ],
          "heatmapgl": [
           {
            "colorbar": {
             "outlinewidth": 0,
             "ticks": ""
            },
            "colorscale": [
             [
              0,
              "#0d0887"
             ],
             [
              0.1111111111111111,
              "#46039f"
             ],
             [
              0.2222222222222222,
              "#7201a8"
             ],
             [
              0.3333333333333333,
              "#9c179e"
             ],
             [
              0.4444444444444444,
              "#bd3786"
             ],
             [
              0.5555555555555556,
              "#d8576b"
             ],
             [
              0.6666666666666666,
              "#ed7953"
             ],
             [
              0.7777777777777778,
              "#fb9f3a"
             ],
             [
              0.8888888888888888,
              "#fdca26"
             ],
             [
              1,
              "#f0f921"
             ]
            ],
            "type": "heatmapgl"
           }
          ],
          "histogram": [
           {
            "marker": {
             "pattern": {
              "fillmode": "overlay",
              "size": 10,
              "solidity": 0.2
             }
            },
            "type": "histogram"
           }
          ],
          "histogram2d": [
           {
            "colorbar": {
             "outlinewidth": 0,
             "ticks": ""
            },
            "colorscale": [
             [
              0,
              "#0d0887"
             ],
             [
              0.1111111111111111,
              "#46039f"
             ],
             [
              0.2222222222222222,
              "#7201a8"
             ],
             [
              0.3333333333333333,
              "#9c179e"
             ],
             [
              0.4444444444444444,
              "#bd3786"
             ],
             [
              0.5555555555555556,
              "#d8576b"
             ],
             [
              0.6666666666666666,
              "#ed7953"
             ],
             [
              0.7777777777777778,
              "#fb9f3a"
             ],
             [
              0.8888888888888888,
              "#fdca26"
             ],
             [
              1,
              "#f0f921"
             ]
            ],
            "type": "histogram2d"
           }
          ],
          "histogram2dcontour": [
           {
            "colorbar": {
             "outlinewidth": 0,
             "ticks": ""
            },
            "colorscale": [
             [
              0,
              "#0d0887"
             ],
             [
              0.1111111111111111,
              "#46039f"
             ],
             [
              0.2222222222222222,
              "#7201a8"
             ],
             [
              0.3333333333333333,
              "#9c179e"
             ],
             [
              0.4444444444444444,
              "#bd3786"
             ],
             [
              0.5555555555555556,
              "#d8576b"
             ],
             [
              0.6666666666666666,
              "#ed7953"
             ],
             [
              0.7777777777777778,
              "#fb9f3a"
             ],
             [
              0.8888888888888888,
              "#fdca26"
             ],
             [
              1,
              "#f0f921"
             ]
            ],
            "type": "histogram2dcontour"
           }
          ],
          "mesh3d": [
           {
            "colorbar": {
             "outlinewidth": 0,
             "ticks": ""
            },
            "type": "mesh3d"
           }
          ],
          "parcoords": [
           {
            "line": {
             "colorbar": {
              "outlinewidth": 0,
              "ticks": ""
             }
            },
            "type": "parcoords"
           }
          ],
          "pie": [
           {
            "automargin": true,
            "type": "pie"
           }
          ],
          "scatter": [
           {
            "marker": {
             "colorbar": {
              "outlinewidth": 0,
              "ticks": ""
             }
            },
            "type": "scatter"
           }
          ],
          "scatter3d": [
           {
            "line": {
             "colorbar": {
              "outlinewidth": 0,
              "ticks": ""
             }
            },
            "marker": {
             "colorbar": {
              "outlinewidth": 0,
              "ticks": ""
             }
            },
            "type": "scatter3d"
           }
          ],
          "scattercarpet": [
           {
            "marker": {
             "colorbar": {
              "outlinewidth": 0,
              "ticks": ""
             }
            },
            "type": "scattercarpet"
           }
          ],
          "scattergeo": [
           {
            "marker": {
             "colorbar": {
              "outlinewidth": 0,
              "ticks": ""
             }
            },
            "type": "scattergeo"
           }
          ],
          "scattergl": [
           {
            "marker": {
             "colorbar": {
              "outlinewidth": 0,
              "ticks": ""
             }
            },
            "type": "scattergl"
           }
          ],
          "scattermapbox": [
           {
            "marker": {
             "colorbar": {
              "outlinewidth": 0,
              "ticks": ""
             }
            },
            "type": "scattermapbox"
           }
          ],
          "scatterpolar": [
           {
            "marker": {
             "colorbar": {
              "outlinewidth": 0,
              "ticks": ""
             }
            },
            "type": "scatterpolar"
           }
          ],
          "scatterpolargl": [
           {
            "marker": {
             "colorbar": {
              "outlinewidth": 0,
              "ticks": ""
             }
            },
            "type": "scatterpolargl"
           }
          ],
          "scatterternary": [
           {
            "marker": {
             "colorbar": {
              "outlinewidth": 0,
              "ticks": ""
             }
            },
            "type": "scatterternary"
           }
          ],
          "surface": [
           {
            "colorbar": {
             "outlinewidth": 0,
             "ticks": ""
            },
            "colorscale": [
             [
              0,
              "#0d0887"
             ],
             [
              0.1111111111111111,
              "#46039f"
             ],
             [
              0.2222222222222222,
              "#7201a8"
             ],
             [
              0.3333333333333333,
              "#9c179e"
             ],
             [
              0.4444444444444444,
              "#bd3786"
             ],
             [
              0.5555555555555556,
              "#d8576b"
             ],
             [
              0.6666666666666666,
              "#ed7953"
             ],
             [
              0.7777777777777778,
              "#fb9f3a"
             ],
             [
              0.8888888888888888,
              "#fdca26"
             ],
             [
              1,
              "#f0f921"
             ]
            ],
            "type": "surface"
           }
          ],
          "table": [
           {
            "cells": {
             "fill": {
              "color": "#EBF0F8"
             },
             "line": {
              "color": "white"
             }
            },
            "header": {
             "fill": {
              "color": "#C8D4E3"
             },
             "line": {
              "color": "white"
             }
            },
            "type": "table"
           }
          ]
         },
         "layout": {
          "annotationdefaults": {
           "arrowcolor": "#2a3f5f",
           "arrowhead": 0,
           "arrowwidth": 1
          },
          "autotypenumbers": "strict",
          "coloraxis": {
           "colorbar": {
            "outlinewidth": 0,
            "ticks": ""
           }
          },
          "colorscale": {
           "diverging": [
            [
             0,
             "#8e0152"
            ],
            [
             0.1,
             "#c51b7d"
            ],
            [
             0.2,
             "#de77ae"
            ],
            [
             0.3,
             "#f1b6da"
            ],
            [
             0.4,
             "#fde0ef"
            ],
            [
             0.5,
             "#f7f7f7"
            ],
            [
             0.6,
             "#e6f5d0"
            ],
            [
             0.7,
             "#b8e186"
            ],
            [
             0.8,
             "#7fbc41"
            ],
            [
             0.9,
             "#4d9221"
            ],
            [
             1,
             "#276419"
            ]
           ],
           "sequential": [
            [
             0,
             "#0d0887"
            ],
            [
             0.1111111111111111,
             "#46039f"
            ],
            [
             0.2222222222222222,
             "#7201a8"
            ],
            [
             0.3333333333333333,
             "#9c179e"
            ],
            [
             0.4444444444444444,
             "#bd3786"
            ],
            [
             0.5555555555555556,
             "#d8576b"
            ],
            [
             0.6666666666666666,
             "#ed7953"
            ],
            [
             0.7777777777777778,
             "#fb9f3a"
            ],
            [
             0.8888888888888888,
             "#fdca26"
            ],
            [
             1,
             "#f0f921"
            ]
           ],
           "sequentialminus": [
            [
             0,
             "#0d0887"
            ],
            [
             0.1111111111111111,
             "#46039f"
            ],
            [
             0.2222222222222222,
             "#7201a8"
            ],
            [
             0.3333333333333333,
             "#9c179e"
            ],
            [
             0.4444444444444444,
             "#bd3786"
            ],
            [
             0.5555555555555556,
             "#d8576b"
            ],
            [
             0.6666666666666666,
             "#ed7953"
            ],
            [
             0.7777777777777778,
             "#fb9f3a"
            ],
            [
             0.8888888888888888,
             "#fdca26"
            ],
            [
             1,
             "#f0f921"
            ]
           ]
          },
          "colorway": [
           "#636efa",
           "#EF553B",
           "#00cc96",
           "#ab63fa",
           "#FFA15A",
           "#19d3f3",
           "#FF6692",
           "#B6E880",
           "#FF97FF",
           "#FECB52"
          ],
          "font": {
           "color": "#2a3f5f"
          },
          "geo": {
           "bgcolor": "white",
           "lakecolor": "white",
           "landcolor": "#E5ECF6",
           "showlakes": true,
           "showland": true,
           "subunitcolor": "white"
          },
          "hoverlabel": {
           "align": "left"
          },
          "hovermode": "closest",
          "mapbox": {
           "style": "light"
          },
          "paper_bgcolor": "white",
          "plot_bgcolor": "#E5ECF6",
          "polar": {
           "angularaxis": {
            "gridcolor": "white",
            "linecolor": "white",
            "ticks": ""
           },
           "bgcolor": "#E5ECF6",
           "radialaxis": {
            "gridcolor": "white",
            "linecolor": "white",
            "ticks": ""
           }
          },
          "scene": {
           "xaxis": {
            "backgroundcolor": "#E5ECF6",
            "gridcolor": "white",
            "gridwidth": 2,
            "linecolor": "white",
            "showbackground": true,
            "ticks": "",
            "zerolinecolor": "white"
           },
           "yaxis": {
            "backgroundcolor": "#E5ECF6",
            "gridcolor": "white",
            "gridwidth": 2,
            "linecolor": "white",
            "showbackground": true,
            "ticks": "",
            "zerolinecolor": "white"
           },
           "zaxis": {
            "backgroundcolor": "#E5ECF6",
            "gridcolor": "white",
            "gridwidth": 2,
            "linecolor": "white",
            "showbackground": true,
            "ticks": "",
            "zerolinecolor": "white"
           }
          },
          "shapedefaults": {
           "line": {
            "color": "#2a3f5f"
           }
          },
          "ternary": {
           "aaxis": {
            "gridcolor": "white",
            "linecolor": "white",
            "ticks": ""
           },
           "baxis": {
            "gridcolor": "white",
            "linecolor": "white",
            "ticks": ""
           },
           "bgcolor": "#E5ECF6",
           "caxis": {
            "gridcolor": "white",
            "linecolor": "white",
            "ticks": ""
           }
          },
          "title": {
           "x": 0.05
          },
          "xaxis": {
           "automargin": true,
           "gridcolor": "white",
           "linecolor": "white",
           "ticks": "",
           "title": {
            "standoff": 15
           },
           "zerolinecolor": "white",
           "zerolinewidth": 2
          },
          "yaxis": {
           "automargin": true,
           "gridcolor": "white",
           "linecolor": "white",
           "ticks": "",
           "title": {
            "standoff": 15
           },
           "zerolinecolor": "white",
           "zerolinewidth": 2
          }
         }
        },
        "xaxis": {
         "anchor": "y",
         "domain": [
          0,
          1
         ],
         "title": {
          "text": "x"
         }
        },
        "yaxis": {
         "anchor": "x",
         "domain": [
          0,
          1
         ],
         "title": {
          "text": "y"
         }
        }
       }
      }
     },
     "metadata": {},
     "output_type": "display_data"
    }
   ],
   "source": [
    "import itertools\n",
    "from collections import Counter\n",
    "from wordcloud import WordCloud\n",
    "import plotly.express as px\n",
    "\n",
    "\n",
    "print(f'Es wurden {len(all_messages)} Nachrichten bei ...{streamer}... geschrieben')  \n",
    "print(f'Es haben {len(authors)} User bei ...{streamer}...im chat geschrieben')\n",
    "#print(f'{round(len(all_messages) / len(authors), 3)} ...ist der Lurker Index.')\n",
    "print(f'{round( len(authors) / len(all_messages) * 100, 2)}' + '%' + ' ...engagement Rate. (100% = Jeder user hat eine Nachricht geschrieben)')\n",
    "\n",
    "\n",
    "\n",
    "#MOST WORDS COUNTER\n",
    "most_common_words = Counter(all_messages).most_common(20)\n",
    "#PLOT\n",
    "fig = px.bar(x=[word[0] for word in most_common_words], y=[word[1] for word in most_common_words])\n",
    "fig.show()\n",
    "\n",
    "\n",
    "\n",
    "\n"
   ]
  },
  {
   "cell_type": "code",
   "execution_count": null,
   "metadata": {},
   "outputs": [],
   "source": []
  },
  {
   "cell_type": "code",
   "execution_count": null,
   "metadata": {},
   "outputs": [],
   "source": []
  },
  {
   "cell_type": "code",
   "execution_count": 12,
   "metadata": {},
   "outputs": [
    {
     "data": {
      "application/vnd.plotly.v1+json": {
       "config": {
        "plotlyServerURL": "https://plot.ly"
       },
       "data": [
        {
         "type": "histogram",
         "x": [
          " 08:55:2",
          " 08:55:2",
          " 08:55:2",
          " 08:55:2",
          " 08:55:2",
          " 08:55:2",
          " 08:55:2",
          " 08:55:2",
          " 08:55:2",
          " 08:55:2",
          " 08:55:2",
          " 08:55:2",
          " 08:55:2",
          " 08:55:2",
          " 08:55:3",
          " 08:55:3",
          " 08:55:3",
          " 08:55:3",
          " 08:55:3",
          " 08:55:3",
          " 08:55:3",
          " 08:55:3",
          " 08:55:3",
          " 08:55:3",
          " 08:55:3",
          " 08:55:3",
          " 08:55:3",
          " 08:55:4",
          " 08:55:4",
          " 08:55:4",
          " 08:55:4",
          " 08:55:4",
          " 08:55:4",
          " 08:55:4",
          " 08:55:4",
          " 08:55:4",
          " 08:55:4",
          " 08:55:4",
          " 08:55:4",
          " 08:55:4",
          " 08:55:4",
          " 08:55:4",
          " 08:55:4",
          " 08:55:4",
          " 08:55:4",
          " 08:55:5",
          " 08:55:5",
          " 08:55:5",
          " 08:55:5",
          " 08:55:5",
          " 08:55:5",
          " 08:55:5",
          " 08:55:5",
          " 08:55:5",
          " 08:55:5",
          " 08:55:5",
          " 08:55:5",
          " 08:55:5",
          " 08:55:5",
          " 08:55:5",
          " 08:55:5",
          " 08:55:5",
          " 08:55:5",
          " 08:55:5",
          " 08:55:5",
          " 08:55:5",
          " 08:55:5",
          " 08:56:0",
          " 08:56:0",
          " 08:56:0",
          " 08:56:0",
          " 08:56:0",
          " 08:56:0",
          " 08:56:0",
          " 08:56:0",
          " 08:56:0",
          " 08:56:0",
          " 08:56:0",
          " 08:56:0",
          " 08:56:0",
          " 08:56:0",
          " 08:56:0",
          " 08:56:1",
          " 08:56:1",
          " 08:56:1",
          " 08:56:1",
          " 08:56:1",
          " 08:56:1",
          " 08:56:1",
          " 08:56:1",
          " 08:56:1",
          " 08:56:1",
          " 08:56:1",
          " 08:56:2",
          " 08:56:2",
          " 08:56:2",
          " 08:56:2",
          " 08:56:2",
          " 08:56:2",
          " 08:56:2",
          " 08:56:2",
          " 08:56:2",
          " 08:56:3",
          " 08:56:3",
          " 08:56:3",
          " 08:56:3",
          " 08:56:3",
          " 08:56:3",
          " 08:56:3",
          " 08:56:3",
          " 08:56:3",
          " 08:56:3",
          " 08:56:4",
          " 08:56:4",
          " 08:56:4",
          " 08:56:5",
          " 08:56:5",
          " 08:56:5",
          " 08:56:5",
          " 08:56:5",
          " 08:56:5",
          " 08:57:0",
          " 08:57:0",
          " 08:57:0",
          " 08:57:0",
          " 08:57:0",
          " 08:57:1",
          " 08:57:1",
          " 08:57:1",
          " 08:57:1",
          " 08:57:1",
          " 08:57:1",
          " 08:57:1",
          " 08:57:1",
          " 08:57:2",
          " 08:57:2",
          " 08:57:2",
          " 08:57:2",
          " 08:57:2",
          " 08:57:2",
          " 08:57:2",
          " 08:57:3",
          " 08:57:3",
          " 08:57:3",
          " 08:57:3",
          " 08:57:3",
          " 08:57:3",
          " 08:57:3",
          " 08:57:3",
          " 08:57:4",
          " 08:57:4",
          " 08:57:5",
          " 08:57:5",
          " 08:57:5",
          " 08:57:5",
          " 08:57:5",
          " 08:57:5",
          " 08:57:5",
          " 08:57:5",
          " 08:58:0",
          " 08:58:0",
          " 08:58:0",
          " 08:58:0",
          " 08:58:0",
          " 08:58:0",
          " 08:58:0",
          " 08:58:0",
          " 08:58:0",
          " 08:58:0",
          " 08:58:0",
          " 08:58:0",
          " 08:58:0",
          " 08:58:0",
          " 08:58:1",
          " 08:58:1",
          " 08:58:1",
          " 08:58:1",
          " 08:58:1",
          " 08:58:1",
          " 08:58:1",
          " 08:58:1",
          " 08:58:2",
          " 08:58:2",
          " 08:58:2",
          " 08:58:2",
          " 08:58:2",
          " 08:58:3",
          " 08:58:3",
          " 08:58:3",
          " 08:58:4",
          " 08:58:4",
          " 08:58:4",
          " 08:58:4",
          " 08:58:5",
          " 08:58:5",
          " 08:58:5",
          " 08:58:5",
          " 08:58:5",
          " 08:58:5",
          " 08:59:0",
          " 08:59:0",
          " 08:59:0",
          " 08:59:0",
          " 08:59:0",
          " 08:59:0",
          " 08:59:0",
          " 08:59:1",
          " 08:59:1",
          " 08:59:1",
          " 08:59:2",
          " 08:59:2",
          " 08:59:2",
          " 08:59:2",
          " 08:59:3",
          " 08:59:3",
          " 08:59:3",
          " 08:59:3",
          " 08:59:3",
          " 08:59:3",
          " 08:59:4",
          " 08:59:5",
          " 08:59:5",
          " 08:59:5",
          " 08:59:5",
          " 08:59:5",
          " 09:00:0",
          " 09:00:0",
          " 09:00:0",
          " 09:00:1",
          " 09:00:1",
          " 09:00:1",
          " 09:00:1",
          " 09:00:1",
          " 09:00:1",
          " 09:00:2",
          " 09:00:2",
          " 09:00:2",
          " 09:00:2",
          " 09:00:2",
          " 09:00:2",
          " 09:00:3",
          " 09:00:3",
          " 09:00:3",
          " 09:00:3",
          " 09:00:3",
          " 09:00:3",
          " 09:00:3",
          " 09:00:4",
          " 09:00:4",
          " 09:00:4",
          " 09:00:4",
          " 09:00:4",
          " 09:00:4",
          " 09:00:4",
          " 09:00:4",
          " 09:00:5",
          " 09:01:0",
          " 09:01:0",
          " 09:01:0",
          " 09:01:1",
          " 09:01:1",
          " 09:01:1",
          " 09:01:1",
          " 09:01:1",
          " 09:01:2",
          " 09:01:2",
          " 09:01:2",
          " 09:01:2",
          " 09:01:3",
          " 09:01:3",
          " 09:01:3",
          " 09:01:3",
          " 09:01:3",
          " 09:01:3",
          " 09:01:3",
          " 09:01:4",
          " 09:01:4",
          " 09:01:4",
          " 09:01:4",
          " 09:01:4",
          " 09:01:5",
          " 09:01:5",
          " 09:01:5",
          " 09:01:5",
          " 09:01:5",
          " 09:01:5",
          " 09:01:5",
          " 09:01:5",
          " 09:01:5",
          " 09:01:5",
          " 09:01:5"
         ]
        }
       ],
       "layout": {
        "template": {
         "data": {
          "bar": [
           {
            "error_x": {
             "color": "#2a3f5f"
            },
            "error_y": {
             "color": "#2a3f5f"
            },
            "marker": {
             "line": {
              "color": "#E5ECF6",
              "width": 0.5
             },
             "pattern": {
              "fillmode": "overlay",
              "size": 10,
              "solidity": 0.2
             }
            },
            "type": "bar"
           }
          ],
          "barpolar": [
           {
            "marker": {
             "line": {
              "color": "#E5ECF6",
              "width": 0.5
             },
             "pattern": {
              "fillmode": "overlay",
              "size": 10,
              "solidity": 0.2
             }
            },
            "type": "barpolar"
           }
          ],
          "carpet": [
           {
            "aaxis": {
             "endlinecolor": "#2a3f5f",
             "gridcolor": "white",
             "linecolor": "white",
             "minorgridcolor": "white",
             "startlinecolor": "#2a3f5f"
            },
            "baxis": {
             "endlinecolor": "#2a3f5f",
             "gridcolor": "white",
             "linecolor": "white",
             "minorgridcolor": "white",
             "startlinecolor": "#2a3f5f"
            },
            "type": "carpet"
           }
          ],
          "choropleth": [
           {
            "colorbar": {
             "outlinewidth": 0,
             "ticks": ""
            },
            "type": "choropleth"
           }
          ],
          "contour": [
           {
            "colorbar": {
             "outlinewidth": 0,
             "ticks": ""
            },
            "colorscale": [
             [
              0,
              "#0d0887"
             ],
             [
              0.1111111111111111,
              "#46039f"
             ],
             [
              0.2222222222222222,
              "#7201a8"
             ],
             [
              0.3333333333333333,
              "#9c179e"
             ],
             [
              0.4444444444444444,
              "#bd3786"
             ],
             [
              0.5555555555555556,
              "#d8576b"
             ],
             [
              0.6666666666666666,
              "#ed7953"
             ],
             [
              0.7777777777777778,
              "#fb9f3a"
             ],
             [
              0.8888888888888888,
              "#fdca26"
             ],
             [
              1,
              "#f0f921"
             ]
            ],
            "type": "contour"
           }
          ],
          "contourcarpet": [
           {
            "colorbar": {
             "outlinewidth": 0,
             "ticks": ""
            },
            "type": "contourcarpet"
           }
          ],
          "heatmap": [
           {
            "colorbar": {
             "outlinewidth": 0,
             "ticks": ""
            },
            "colorscale": [
             [
              0,
              "#0d0887"
             ],
             [
              0.1111111111111111,
              "#46039f"
             ],
             [
              0.2222222222222222,
              "#7201a8"
             ],
             [
              0.3333333333333333,
              "#9c179e"
             ],
             [
              0.4444444444444444,
              "#bd3786"
             ],
             [
              0.5555555555555556,
              "#d8576b"
             ],
             [
              0.6666666666666666,
              "#ed7953"
             ],
             [
              0.7777777777777778,
              "#fb9f3a"
             ],
             [
              0.8888888888888888,
              "#fdca26"
             ],
             [
              1,
              "#f0f921"
             ]
            ],
            "type": "heatmap"
           }
          ],
          "heatmapgl": [
           {
            "colorbar": {
             "outlinewidth": 0,
             "ticks": ""
            },
            "colorscale": [
             [
              0,
              "#0d0887"
             ],
             [
              0.1111111111111111,
              "#46039f"
             ],
             [
              0.2222222222222222,
              "#7201a8"
             ],
             [
              0.3333333333333333,
              "#9c179e"
             ],
             [
              0.4444444444444444,
              "#bd3786"
             ],
             [
              0.5555555555555556,
              "#d8576b"
             ],
             [
              0.6666666666666666,
              "#ed7953"
             ],
             [
              0.7777777777777778,
              "#fb9f3a"
             ],
             [
              0.8888888888888888,
              "#fdca26"
             ],
             [
              1,
              "#f0f921"
             ]
            ],
            "type": "heatmapgl"
           }
          ],
          "histogram": [
           {
            "marker": {
             "pattern": {
              "fillmode": "overlay",
              "size": 10,
              "solidity": 0.2
             }
            },
            "type": "histogram"
           }
          ],
          "histogram2d": [
           {
            "colorbar": {
             "outlinewidth": 0,
             "ticks": ""
            },
            "colorscale": [
             [
              0,
              "#0d0887"
             ],
             [
              0.1111111111111111,
              "#46039f"
             ],
             [
              0.2222222222222222,
              "#7201a8"
             ],
             [
              0.3333333333333333,
              "#9c179e"
             ],
             [
              0.4444444444444444,
              "#bd3786"
             ],
             [
              0.5555555555555556,
              "#d8576b"
             ],
             [
              0.6666666666666666,
              "#ed7953"
             ],
             [
              0.7777777777777778,
              "#fb9f3a"
             ],
             [
              0.8888888888888888,
              "#fdca26"
             ],
             [
              1,
              "#f0f921"
             ]
            ],
            "type": "histogram2d"
           }
          ],
          "histogram2dcontour": [
           {
            "colorbar": {
             "outlinewidth": 0,
             "ticks": ""
            },
            "colorscale": [
             [
              0,
              "#0d0887"
             ],
             [
              0.1111111111111111,
              "#46039f"
             ],
             [
              0.2222222222222222,
              "#7201a8"
             ],
             [
              0.3333333333333333,
              "#9c179e"
             ],
             [
              0.4444444444444444,
              "#bd3786"
             ],
             [
              0.5555555555555556,
              "#d8576b"
             ],
             [
              0.6666666666666666,
              "#ed7953"
             ],
             [
              0.7777777777777778,
              "#fb9f3a"
             ],
             [
              0.8888888888888888,
              "#fdca26"
             ],
             [
              1,
              "#f0f921"
             ]
            ],
            "type": "histogram2dcontour"
           }
          ],
          "mesh3d": [
           {
            "colorbar": {
             "outlinewidth": 0,
             "ticks": ""
            },
            "type": "mesh3d"
           }
          ],
          "parcoords": [
           {
            "line": {
             "colorbar": {
              "outlinewidth": 0,
              "ticks": ""
             }
            },
            "type": "parcoords"
           }
          ],
          "pie": [
           {
            "automargin": true,
            "type": "pie"
           }
          ],
          "scatter": [
           {
            "marker": {
             "colorbar": {
              "outlinewidth": 0,
              "ticks": ""
             }
            },
            "type": "scatter"
           }
          ],
          "scatter3d": [
           {
            "line": {
             "colorbar": {
              "outlinewidth": 0,
              "ticks": ""
             }
            },
            "marker": {
             "colorbar": {
              "outlinewidth": 0,
              "ticks": ""
             }
            },
            "type": "scatter3d"
           }
          ],
          "scattercarpet": [
           {
            "marker": {
             "colorbar": {
              "outlinewidth": 0,
              "ticks": ""
             }
            },
            "type": "scattercarpet"
           }
          ],
          "scattergeo": [
           {
            "marker": {
             "colorbar": {
              "outlinewidth": 0,
              "ticks": ""
             }
            },
            "type": "scattergeo"
           }
          ],
          "scattergl": [
           {
            "marker": {
             "colorbar": {
              "outlinewidth": 0,
              "ticks": ""
             }
            },
            "type": "scattergl"
           }
          ],
          "scattermapbox": [
           {
            "marker": {
             "colorbar": {
              "outlinewidth": 0,
              "ticks": ""
             }
            },
            "type": "scattermapbox"
           }
          ],
          "scatterpolar": [
           {
            "marker": {
             "colorbar": {
              "outlinewidth": 0,
              "ticks": ""
             }
            },
            "type": "scatterpolar"
           }
          ],
          "scatterpolargl": [
           {
            "marker": {
             "colorbar": {
              "outlinewidth": 0,
              "ticks": ""
             }
            },
            "type": "scatterpolargl"
           }
          ],
          "scatterternary": [
           {
            "marker": {
             "colorbar": {
              "outlinewidth": 0,
              "ticks": ""
             }
            },
            "type": "scatterternary"
           }
          ],
          "surface": [
           {
            "colorbar": {
             "outlinewidth": 0,
             "ticks": ""
            },
            "colorscale": [
             [
              0,
              "#0d0887"
             ],
             [
              0.1111111111111111,
              "#46039f"
             ],
             [
              0.2222222222222222,
              "#7201a8"
             ],
             [
              0.3333333333333333,
              "#9c179e"
             ],
             [
              0.4444444444444444,
              "#bd3786"
             ],
             [
              0.5555555555555556,
              "#d8576b"
             ],
             [
              0.6666666666666666,
              "#ed7953"
             ],
             [
              0.7777777777777778,
              "#fb9f3a"
             ],
             [
              0.8888888888888888,
              "#fdca26"
             ],
             [
              1,
              "#f0f921"
             ]
            ],
            "type": "surface"
           }
          ],
          "table": [
           {
            "cells": {
             "fill": {
              "color": "#EBF0F8"
             },
             "line": {
              "color": "white"
             }
            },
            "header": {
             "fill": {
              "color": "#C8D4E3"
             },
             "line": {
              "color": "white"
             }
            },
            "type": "table"
           }
          ]
         },
         "layout": {
          "annotationdefaults": {
           "arrowcolor": "#2a3f5f",
           "arrowhead": 0,
           "arrowwidth": 1
          },
          "autotypenumbers": "strict",
          "coloraxis": {
           "colorbar": {
            "outlinewidth": 0,
            "ticks": ""
           }
          },
          "colorscale": {
           "diverging": [
            [
             0,
             "#8e0152"
            ],
            [
             0.1,
             "#c51b7d"
            ],
            [
             0.2,
             "#de77ae"
            ],
            [
             0.3,
             "#f1b6da"
            ],
            [
             0.4,
             "#fde0ef"
            ],
            [
             0.5,
             "#f7f7f7"
            ],
            [
             0.6,
             "#e6f5d0"
            ],
            [
             0.7,
             "#b8e186"
            ],
            [
             0.8,
             "#7fbc41"
            ],
            [
             0.9,
             "#4d9221"
            ],
            [
             1,
             "#276419"
            ]
           ],
           "sequential": [
            [
             0,
             "#0d0887"
            ],
            [
             0.1111111111111111,
             "#46039f"
            ],
            [
             0.2222222222222222,
             "#7201a8"
            ],
            [
             0.3333333333333333,
             "#9c179e"
            ],
            [
             0.4444444444444444,
             "#bd3786"
            ],
            [
             0.5555555555555556,
             "#d8576b"
            ],
            [
             0.6666666666666666,
             "#ed7953"
            ],
            [
             0.7777777777777778,
             "#fb9f3a"
            ],
            [
             0.8888888888888888,
             "#fdca26"
            ],
            [
             1,
             "#f0f921"
            ]
           ],
           "sequentialminus": [
            [
             0,
             "#0d0887"
            ],
            [
             0.1111111111111111,
             "#46039f"
            ],
            [
             0.2222222222222222,
             "#7201a8"
            ],
            [
             0.3333333333333333,
             "#9c179e"
            ],
            [
             0.4444444444444444,
             "#bd3786"
            ],
            [
             0.5555555555555556,
             "#d8576b"
            ],
            [
             0.6666666666666666,
             "#ed7953"
            ],
            [
             0.7777777777777778,
             "#fb9f3a"
            ],
            [
             0.8888888888888888,
             "#fdca26"
            ],
            [
             1,
             "#f0f921"
            ]
           ]
          },
          "colorway": [
           "#636efa",
           "#EF553B",
           "#00cc96",
           "#ab63fa",
           "#FFA15A",
           "#19d3f3",
           "#FF6692",
           "#B6E880",
           "#FF97FF",
           "#FECB52"
          ],
          "font": {
           "color": "#2a3f5f"
          },
          "geo": {
           "bgcolor": "white",
           "lakecolor": "white",
           "landcolor": "#E5ECF6",
           "showlakes": true,
           "showland": true,
           "subunitcolor": "white"
          },
          "hoverlabel": {
           "align": "left"
          },
          "hovermode": "closest",
          "mapbox": {
           "style": "light"
          },
          "paper_bgcolor": "white",
          "plot_bgcolor": "#E5ECF6",
          "polar": {
           "angularaxis": {
            "gridcolor": "white",
            "linecolor": "white",
            "ticks": ""
           },
           "bgcolor": "#E5ECF6",
           "radialaxis": {
            "gridcolor": "white",
            "linecolor": "white",
            "ticks": ""
           }
          },
          "scene": {
           "xaxis": {
            "backgroundcolor": "#E5ECF6",
            "gridcolor": "white",
            "gridwidth": 2,
            "linecolor": "white",
            "showbackground": true,
            "ticks": "",
            "zerolinecolor": "white"
           },
           "yaxis": {
            "backgroundcolor": "#E5ECF6",
            "gridcolor": "white",
            "gridwidth": 2,
            "linecolor": "white",
            "showbackground": true,
            "ticks": "",
            "zerolinecolor": "white"
           },
           "zaxis": {
            "backgroundcolor": "#E5ECF6",
            "gridcolor": "white",
            "gridwidth": 2,
            "linecolor": "white",
            "showbackground": true,
            "ticks": "",
            "zerolinecolor": "white"
           }
          },
          "shapedefaults": {
           "line": {
            "color": "#2a3f5f"
           }
          },
          "ternary": {
           "aaxis": {
            "gridcolor": "white",
            "linecolor": "white",
            "ticks": ""
           },
           "baxis": {
            "gridcolor": "white",
            "linecolor": "white",
            "ticks": ""
           },
           "bgcolor": "#E5ECF6",
           "caxis": {
            "gridcolor": "white",
            "linecolor": "white",
            "ticks": ""
           }
          },
          "title": {
           "x": 0.05
          },
          "xaxis": {
           "automargin": true,
           "gridcolor": "white",
           "linecolor": "white",
           "ticks": "",
           "title": {
            "standoff": 15
           },
           "zerolinecolor": "white",
           "zerolinewidth": 2
          },
          "yaxis": {
           "automargin": true,
           "gridcolor": "white",
           "linecolor": "white",
           "ticks": "",
           "title": {
            "standoff": 15
           },
           "zerolinecolor": "white",
           "zerolinewidth": 2
          }
         }
        }
       }
      }
     },
     "metadata": {},
     "output_type": "display_data"
    },
    {
     "data": {
      "application/vnd.plotly.v1+json": {
       "config": {
        "plotlyServerURL": "https://plot.ly"
       },
       "data": [
        {
         "type": "histogram",
         "x": [
          " 08:55:2",
          " 08:55:3",
          " 08:55:4",
          " 08:55:5",
          " 08:56:0",
          " 08:56:0",
          " 08:56:2",
          " 08:56:2",
          " 08:56:2",
          " 08:56:4",
          " 08:58:0",
          " 08:58:1",
          " 08:58:4",
          " 08:59:0",
          " 08:59:1",
          " 08:59:1",
          " 08:59:5",
          " 09:00:1",
          " 09:00:4",
          " 09:01:5",
          " 09:01:5"
         ]
        }
       ],
       "layout": {
        "template": {
         "data": {
          "bar": [
           {
            "error_x": {
             "color": "#2a3f5f"
            },
            "error_y": {
             "color": "#2a3f5f"
            },
            "marker": {
             "line": {
              "color": "#E5ECF6",
              "width": 0.5
             },
             "pattern": {
              "fillmode": "overlay",
              "size": 10,
              "solidity": 0.2
             }
            },
            "type": "bar"
           }
          ],
          "barpolar": [
           {
            "marker": {
             "line": {
              "color": "#E5ECF6",
              "width": 0.5
             },
             "pattern": {
              "fillmode": "overlay",
              "size": 10,
              "solidity": 0.2
             }
            },
            "type": "barpolar"
           }
          ],
          "carpet": [
           {
            "aaxis": {
             "endlinecolor": "#2a3f5f",
             "gridcolor": "white",
             "linecolor": "white",
             "minorgridcolor": "white",
             "startlinecolor": "#2a3f5f"
            },
            "baxis": {
             "endlinecolor": "#2a3f5f",
             "gridcolor": "white",
             "linecolor": "white",
             "minorgridcolor": "white",
             "startlinecolor": "#2a3f5f"
            },
            "type": "carpet"
           }
          ],
          "choropleth": [
           {
            "colorbar": {
             "outlinewidth": 0,
             "ticks": ""
            },
            "type": "choropleth"
           }
          ],
          "contour": [
           {
            "colorbar": {
             "outlinewidth": 0,
             "ticks": ""
            },
            "colorscale": [
             [
              0,
              "#0d0887"
             ],
             [
              0.1111111111111111,
              "#46039f"
             ],
             [
              0.2222222222222222,
              "#7201a8"
             ],
             [
              0.3333333333333333,
              "#9c179e"
             ],
             [
              0.4444444444444444,
              "#bd3786"
             ],
             [
              0.5555555555555556,
              "#d8576b"
             ],
             [
              0.6666666666666666,
              "#ed7953"
             ],
             [
              0.7777777777777778,
              "#fb9f3a"
             ],
             [
              0.8888888888888888,
              "#fdca26"
             ],
             [
              1,
              "#f0f921"
             ]
            ],
            "type": "contour"
           }
          ],
          "contourcarpet": [
           {
            "colorbar": {
             "outlinewidth": 0,
             "ticks": ""
            },
            "type": "contourcarpet"
           }
          ],
          "heatmap": [
           {
            "colorbar": {
             "outlinewidth": 0,
             "ticks": ""
            },
            "colorscale": [
             [
              0,
              "#0d0887"
             ],
             [
              0.1111111111111111,
              "#46039f"
             ],
             [
              0.2222222222222222,
              "#7201a8"
             ],
             [
              0.3333333333333333,
              "#9c179e"
             ],
             [
              0.4444444444444444,
              "#bd3786"
             ],
             [
              0.5555555555555556,
              "#d8576b"
             ],
             [
              0.6666666666666666,
              "#ed7953"
             ],
             [
              0.7777777777777778,
              "#fb9f3a"
             ],
             [
              0.8888888888888888,
              "#fdca26"
             ],
             [
              1,
              "#f0f921"
             ]
            ],
            "type": "heatmap"
           }
          ],
          "heatmapgl": [
           {
            "colorbar": {
             "outlinewidth": 0,
             "ticks": ""
            },
            "colorscale": [
             [
              0,
              "#0d0887"
             ],
             [
              0.1111111111111111,
              "#46039f"
             ],
             [
              0.2222222222222222,
              "#7201a8"
             ],
             [
              0.3333333333333333,
              "#9c179e"
             ],
             [
              0.4444444444444444,
              "#bd3786"
             ],
             [
              0.5555555555555556,
              "#d8576b"
             ],
             [
              0.6666666666666666,
              "#ed7953"
             ],
             [
              0.7777777777777778,
              "#fb9f3a"
             ],
             [
              0.8888888888888888,
              "#fdca26"
             ],
             [
              1,
              "#f0f921"
             ]
            ],
            "type": "heatmapgl"
           }
          ],
          "histogram": [
           {
            "marker": {
             "pattern": {
              "fillmode": "overlay",
              "size": 10,
              "solidity": 0.2
             }
            },
            "type": "histogram"
           }
          ],
          "histogram2d": [
           {
            "colorbar": {
             "outlinewidth": 0,
             "ticks": ""
            },
            "colorscale": [
             [
              0,
              "#0d0887"
             ],
             [
              0.1111111111111111,
              "#46039f"
             ],
             [
              0.2222222222222222,
              "#7201a8"
             ],
             [
              0.3333333333333333,
              "#9c179e"
             ],
             [
              0.4444444444444444,
              "#bd3786"
             ],
             [
              0.5555555555555556,
              "#d8576b"
             ],
             [
              0.6666666666666666,
              "#ed7953"
             ],
             [
              0.7777777777777778,
              "#fb9f3a"
             ],
             [
              0.8888888888888888,
              "#fdca26"
             ],
             [
              1,
              "#f0f921"
             ]
            ],
            "type": "histogram2d"
           }
          ],
          "histogram2dcontour": [
           {
            "colorbar": {
             "outlinewidth": 0,
             "ticks": ""
            },
            "colorscale": [
             [
              0,
              "#0d0887"
             ],
             [
              0.1111111111111111,
              "#46039f"
             ],
             [
              0.2222222222222222,
              "#7201a8"
             ],
             [
              0.3333333333333333,
              "#9c179e"
             ],
             [
              0.4444444444444444,
              "#bd3786"
             ],
             [
              0.5555555555555556,
              "#d8576b"
             ],
             [
              0.6666666666666666,
              "#ed7953"
             ],
             [
              0.7777777777777778,
              "#fb9f3a"
             ],
             [
              0.8888888888888888,
              "#fdca26"
             ],
             [
              1,
              "#f0f921"
             ]
            ],
            "type": "histogram2dcontour"
           }
          ],
          "mesh3d": [
           {
            "colorbar": {
             "outlinewidth": 0,
             "ticks": ""
            },
            "type": "mesh3d"
           }
          ],
          "parcoords": [
           {
            "line": {
             "colorbar": {
              "outlinewidth": 0,
              "ticks": ""
             }
            },
            "type": "parcoords"
           }
          ],
          "pie": [
           {
            "automargin": true,
            "type": "pie"
           }
          ],
          "scatter": [
           {
            "marker": {
             "colorbar": {
              "outlinewidth": 0,
              "ticks": ""
             }
            },
            "type": "scatter"
           }
          ],
          "scatter3d": [
           {
            "line": {
             "colorbar": {
              "outlinewidth": 0,
              "ticks": ""
             }
            },
            "marker": {
             "colorbar": {
              "outlinewidth": 0,
              "ticks": ""
             }
            },
            "type": "scatter3d"
           }
          ],
          "scattercarpet": [
           {
            "marker": {
             "colorbar": {
              "outlinewidth": 0,
              "ticks": ""
             }
            },
            "type": "scattercarpet"
           }
          ],
          "scattergeo": [
           {
            "marker": {
             "colorbar": {
              "outlinewidth": 0,
              "ticks": ""
             }
            },
            "type": "scattergeo"
           }
          ],
          "scattergl": [
           {
            "marker": {
             "colorbar": {
              "outlinewidth": 0,
              "ticks": ""
             }
            },
            "type": "scattergl"
           }
          ],
          "scattermapbox": [
           {
            "marker": {
             "colorbar": {
              "outlinewidth": 0,
              "ticks": ""
             }
            },
            "type": "scattermapbox"
           }
          ],
          "scatterpolar": [
           {
            "marker": {
             "colorbar": {
              "outlinewidth": 0,
              "ticks": ""
             }
            },
            "type": "scatterpolar"
           }
          ],
          "scatterpolargl": [
           {
            "marker": {
             "colorbar": {
              "outlinewidth": 0,
              "ticks": ""
             }
            },
            "type": "scatterpolargl"
           }
          ],
          "scatterternary": [
           {
            "marker": {
             "colorbar": {
              "outlinewidth": 0,
              "ticks": ""
             }
            },
            "type": "scatterternary"
           }
          ],
          "surface": [
           {
            "colorbar": {
             "outlinewidth": 0,
             "ticks": ""
            },
            "colorscale": [
             [
              0,
              "#0d0887"
             ],
             [
              0.1111111111111111,
              "#46039f"
             ],
             [
              0.2222222222222222,
              "#7201a8"
             ],
             [
              0.3333333333333333,
              "#9c179e"
             ],
             [
              0.4444444444444444,
              "#bd3786"
             ],
             [
              0.5555555555555556,
              "#d8576b"
             ],
             [
              0.6666666666666666,
              "#ed7953"
             ],
             [
              0.7777777777777778,
              "#fb9f3a"
             ],
             [
              0.8888888888888888,
              "#fdca26"
             ],
             [
              1,
              "#f0f921"
             ]
            ],
            "type": "surface"
           }
          ],
          "table": [
           {
            "cells": {
             "fill": {
              "color": "#EBF0F8"
             },
             "line": {
              "color": "white"
             }
            },
            "header": {
             "fill": {
              "color": "#C8D4E3"
             },
             "line": {
              "color": "white"
             }
            },
            "type": "table"
           }
          ]
         },
         "layout": {
          "annotationdefaults": {
           "arrowcolor": "#2a3f5f",
           "arrowhead": 0,
           "arrowwidth": 1
          },
          "autotypenumbers": "strict",
          "coloraxis": {
           "colorbar": {
            "outlinewidth": 0,
            "ticks": ""
           }
          },
          "colorscale": {
           "diverging": [
            [
             0,
             "#8e0152"
            ],
            [
             0.1,
             "#c51b7d"
            ],
            [
             0.2,
             "#de77ae"
            ],
            [
             0.3,
             "#f1b6da"
            ],
            [
             0.4,
             "#fde0ef"
            ],
            [
             0.5,
             "#f7f7f7"
            ],
            [
             0.6,
             "#e6f5d0"
            ],
            [
             0.7,
             "#b8e186"
            ],
            [
             0.8,
             "#7fbc41"
            ],
            [
             0.9,
             "#4d9221"
            ],
            [
             1,
             "#276419"
            ]
           ],
           "sequential": [
            [
             0,
             "#0d0887"
            ],
            [
             0.1111111111111111,
             "#46039f"
            ],
            [
             0.2222222222222222,
             "#7201a8"
            ],
            [
             0.3333333333333333,
             "#9c179e"
            ],
            [
             0.4444444444444444,
             "#bd3786"
            ],
            [
             0.5555555555555556,
             "#d8576b"
            ],
            [
             0.6666666666666666,
             "#ed7953"
            ],
            [
             0.7777777777777778,
             "#fb9f3a"
            ],
            [
             0.8888888888888888,
             "#fdca26"
            ],
            [
             1,
             "#f0f921"
            ]
           ],
           "sequentialminus": [
            [
             0,
             "#0d0887"
            ],
            [
             0.1111111111111111,
             "#46039f"
            ],
            [
             0.2222222222222222,
             "#7201a8"
            ],
            [
             0.3333333333333333,
             "#9c179e"
            ],
            [
             0.4444444444444444,
             "#bd3786"
            ],
            [
             0.5555555555555556,
             "#d8576b"
            ],
            [
             0.6666666666666666,
             "#ed7953"
            ],
            [
             0.7777777777777778,
             "#fb9f3a"
            ],
            [
             0.8888888888888888,
             "#fdca26"
            ],
            [
             1,
             "#f0f921"
            ]
           ]
          },
          "colorway": [
           "#636efa",
           "#EF553B",
           "#00cc96",
           "#ab63fa",
           "#FFA15A",
           "#19d3f3",
           "#FF6692",
           "#B6E880",
           "#FF97FF",
           "#FECB52"
          ],
          "font": {
           "color": "#2a3f5f"
          },
          "geo": {
           "bgcolor": "white",
           "lakecolor": "white",
           "landcolor": "#E5ECF6",
           "showlakes": true,
           "showland": true,
           "subunitcolor": "white"
          },
          "hoverlabel": {
           "align": "left"
          },
          "hovermode": "closest",
          "mapbox": {
           "style": "light"
          },
          "paper_bgcolor": "white",
          "plot_bgcolor": "#E5ECF6",
          "polar": {
           "angularaxis": {
            "gridcolor": "white",
            "linecolor": "white",
            "ticks": ""
           },
           "bgcolor": "#E5ECF6",
           "radialaxis": {
            "gridcolor": "white",
            "linecolor": "white",
            "ticks": ""
           }
          },
          "scene": {
           "xaxis": {
            "backgroundcolor": "#E5ECF6",
            "gridcolor": "white",
            "gridwidth": 2,
            "linecolor": "white",
            "showbackground": true,
            "ticks": "",
            "zerolinecolor": "white"
           },
           "yaxis": {
            "backgroundcolor": "#E5ECF6",
            "gridcolor": "white",
            "gridwidth": 2,
            "linecolor": "white",
            "showbackground": true,
            "ticks": "",
            "zerolinecolor": "white"
           },
           "zaxis": {
            "backgroundcolor": "#E5ECF6",
            "gridcolor": "white",
            "gridwidth": 2,
            "linecolor": "white",
            "showbackground": true,
            "ticks": "",
            "zerolinecolor": "white"
           }
          },
          "shapedefaults": {
           "line": {
            "color": "#2a3f5f"
           }
          },
          "ternary": {
           "aaxis": {
            "gridcolor": "white",
            "linecolor": "white",
            "ticks": ""
           },
           "baxis": {
            "gridcolor": "white",
            "linecolor": "white",
            "ticks": ""
           },
           "bgcolor": "#E5ECF6",
           "caxis": {
            "gridcolor": "white",
            "linecolor": "white",
            "ticks": ""
           }
          },
          "title": {
           "x": 0.05
          },
          "xaxis": {
           "automargin": true,
           "gridcolor": "white",
           "linecolor": "white",
           "ticks": "",
           "title": {
            "standoff": 15
           },
           "zerolinecolor": "white",
           "zerolinewidth": 2
          },
          "yaxis": {
           "automargin": true,
           "gridcolor": "white",
           "linecolor": "white",
           "ticks": "",
           "title": {
            "standoff": 15
           },
           "zerolinecolor": "white",
           "zerolinewidth": 2
          }
         }
        }
       }
      }
     },
     "metadata": {},
     "output_type": "display_data"
    }
   ],
   "source": [
    "#plot the timestamps\n",
    "import plotly.graph_objects as go\n",
    "\n",
    "#use the histogram to plot the timestamps\n",
    "fig = go.Figure(data=[go.Histogram(x=timestamps)])\n",
    "fig.show()\n",
    "\n",
    "\n",
    "fig2 = go.Figure(data=[go.Histogram(x=laughs)])\n",
    "fig2.show()\n",
    "\n",
    "\n",
    "#10:47:3 means, the message occured between 10:47:30 and 10:47:39, (10 seconds intervall)"
   ]
  },
  {
   "cell_type": "code",
   "execution_count": null,
   "metadata": {},
   "outputs": [],
   "source": []
  },
  {
   "cell_type": "code",
   "execution_count": null,
   "metadata": {},
   "outputs": [],
   "source": []
  },
  {
   "cell_type": "code",
   "execution_count": null,
   "metadata": {},
   "outputs": [],
   "source": []
  },
  {
   "cell_type": "code",
   "execution_count": 14,
   "metadata": {},
   "outputs": [
    {
     "name": "stderr",
     "output_type": "stream",
     "text": [
      "/var/folders/85/w6695fhx3ds_csvkj21k04zm0000gn/T/ipykernel_1196/4178609563.py:19: UserWarning:\n",
      "\n",
      "To copy construct from a tensor, it is recommended to use sourceTensor.clone().detach() or sourceTensor.clone().detach().requires_grad_(True), rather than torch.tensor(sourceTensor).\n",
      "\n"
     ]
    },
    {
     "data": {
      "image/png": "[encoded data removed]",
      "text/plain": [
       "<Figure size 432x288 with 1 Axes>"
      ]
     },
     "metadata": {
      "needs_background": "light"
     },
     "output_type": "display_data"
    }
   ],
   "source": [
    "import torch\n",
    "import torch.nn.functional as F\n",
    "import numpy as np\n",
    "import matplotlib.pyplot as plt\n",
    "from collections import Counter\n",
    "import time\n",
    "from transformers import AutoTokenizer, AutoModelForSequenceClassification\n",
    "\n",
    "\n",
    "#SENTIMENT ANALYSE\n",
    "\n",
    "model_name = 'oliverguhr/german-sentiment-bert'\n",
    "\n",
    "tokenizer = AutoTokenizer.from_pretrained(model_name)\n",
    "model = AutoModelForSequenceClassification.from_pretrained(model_name)\n",
    "\n",
    "X_train_german= all_messages\n",
    "\n",
    "\n",
    "batch = tokenizer(X_train_german, padding=True, truncation=True, max_length = 512, return_tensors='pt')\n",
    "batch = torch.tensor(batch['input_ids'])\n",
    "#print(batch)\n",
    "\n",
    "with torch.no_grad():\n",
    "    outputs = model(batch)\n",
    "    label_ids = torch.argmax(outputs.logits, dim=1)\n",
    "    #print(label_ids)\n",
    "    labels = [model.config.id2label[label_id] for label_id in label_ids.tolist()]\n",
    "    #print(labels)\n",
    "\n",
    "\n",
    "#Count the labels\n",
    "count = Counter(labels)\n",
    "\n",
    "\n",
    "#plot the number of times each sentiment occurs in a bar chart\n",
    "def plot_counts(count):\n",
    "    \"\"\"\n",
    "    Plot the number of times each sentiment occurs in a bar chart.\n",
    "    \"\"\"\n",
    "    plt.bar(count.keys(), count.values(), width=0.5, color='blue')\n",
    "    #make the graph look nicer\n",
    "    plt.title('Overall sentiment of the livestream')\n",
    "    \n",
    "    plt.ylabel('Number of occurrences')\n",
    "    \n",
    "    #make the text bigger\n",
    "    plt.show()\n",
    "\n",
    "\n",
    "\n",
    "plot_counts(count)    "
   ]
  },
  {
   "cell_type": "code",
   "execution_count": null,
   "metadata": {},
   "outputs": [],
   "source": []
  }
 ],
 "metadata": {
  "interpreter": {
   "hash": "b0fa6594d8f4cbf19f97940f81e996739fb7646882a419484c72d19e05852a7e"
  },
  "kernelspec": {
   "display_name": "Python 3.9.13 64-bit",
   "language": "python",
   "name": "python3"
  },
  "language_info": {
   "codemirror_mode": {
    "name": "ipython",
    "version": 3
   },
   "file_extension": ".py",
   "mimetype": "text/x-python",
   "name": "python",
   "nbconvert_exporter": "python",
   "pygments_lexer": "ipython3",
   "version": "3.9.13"
  },
  "orig_nbformat": 4
 },
 "nbformat": 4,
 "nbformat_minor": 2
}
