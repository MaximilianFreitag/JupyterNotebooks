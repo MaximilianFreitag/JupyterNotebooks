{
 "cells": [
  {
   "cell_type": "code",
   "execution_count": 4,
   "id": "0347d9e8-f38f-436c-8681-6b25b4131ddf",
   "metadata": {},
   "outputs": [
    {
     "name": "stdin",
     "output_type": "stream",
     "text": [
      "How much money was spent?:  2000\n",
      "How many transactions?:  15\n"
     ]
    },
    {
     "name": "stdout",
     "output_type": "stream",
     "text": [
      "The average value per day is 133.33333333333334$\n"
     ]
    }
   ],
   "source": [
    "import math\n",
    "\n",
    "while True:\n",
    "    try:\n",
    "        money_spent = int(input('How much money was spent?: '))\n",
    "        num_transactions = int(input('How many transactions?: '))\n",
    "\n",
    "        average_value = money_spent / num_transactions\n",
    "\n",
    "        print(\"The average value per day is \" + str(average_value) + '$')\n",
    "\n",
    "        break\n",
    "\n",
    "    except:\n",
    "        ValueError\n",
    "        print('Type in a number')"
   ]
  },
  {
   "cell_type": "code",
   "execution_count": 6,
   "id": "748e4ac7-30f7-48fd-b315-f1f87c32b97b",
   "metadata": {},
   "outputs": [],
   "source": [
    "def mulai(update, context):\n",
    "    update.message.reply_text('Absen Start!')\n",
    "    while True:\n",
    "        if pycron.is_now('*/1 * * * *'):\n",
    "            absen()\n",
    "        time.sleep(5)"
   ]
  },
  {
   "cell_type": "code",
   "execution_count": null,
   "id": "d0a2e856-d4e3-4ae5-b262-66c241445015",
   "metadata": {},
   "outputs": [],
   "source": [
    "import math\n",
    "\n",
    "while True:\n",
    "    try:\n",
    "        number_of_kids = int(input('How much money was spent?: '))\n",
    "        num_transactions = int(input('How many transactions?: '))\n",
    "\n",
    "        average_value = money_spent / num_transactions\n",
    "\n",
    "        print(\"The average value per day is \" + str(average_value) + '$')\n",
    "\n",
    "        break\n",
    "\n",
    "    except:\n",
    "        ValueError\n",
    "        print('Type in a number')"
   ]
  },
  {
   "cell_type": "code",
   "execution_count": null,
   "id": "23f5af31-107d-4528-9eaf-938a63f64be0",
   "metadata": {},
   "outputs": [],
   "source": []
  },
  {
   "cell_type": "code",
   "execution_count": 15,
   "id": "f9752b67-bd5b-418e-ac12-82fddbdfc57c",
   "metadata": {},
   "outputs": [
    {
     "ename": "IndentationError",
     "evalue": "unexpected indent (<ipython-input-15-5529abd56bad>, line 17)",
     "output_type": "error",
     "traceback": [
      "\u001b[0;36m  File \u001b[0;32m\"<ipython-input-15-5529abd56bad>\"\u001b[0;36m, line \u001b[0;32m17\u001b[0m\n\u001b[0;31m    break\u001b[0m\n\u001b[0m    ^\u001b[0m\n\u001b[0;31mIndentationError\u001b[0m\u001b[0;31m:\u001b[0m unexpected indent\n"
     ]
    }
   ],
   "source": [
    "from time import sleep\n",
    "\n",
    "def counting_to_ten(self):\n",
    "\n",
    "    #Counting up to 10\n",
    "    for i in range(20):\n",
    "        print(i+1)\n",
    "        sleep(1)\n",
    "    \n",
    "        #stop counting at 5\n",
    "        if i == 10:\n",
    "            break\n",
    "            \n",
    "            \n",
    "def close_function(self): \n",
    "    counting_to_ten()\n",
    "            "
   ]
  },
  {
   "cell_type": "code",
   "execution_count": 18,
   "id": "1c57f454-8f48-4698-980d-a47ca99c12a1",
   "metadata": {},
   "outputs": [
    {
     "data": {
      "text/plain": [
       "Counter({(1, 2): 1, (1, 3): 1, (1, 4): 1, (1, 10): 1})"
      ]
     },
     "execution_count": 18,
     "metadata": {},
     "output_type": "execute_result"
    }
   ],
   "source": [
    "from collections import Counter\n",
    "\n",
    "z = ['blue', 'red', 'blue', 'yellow', 'blue', 'red']\n",
    "\n",
    "l = [(1, 2), (1, 3), (1, 4), (1, 10)]\n",
    "\n",
    "Counter(l)\n",
    "\n"
   ]
  },
  {
   "cell_type": "code",
   "execution_count": null,
   "id": "1f1ad1f0-d298-4a99-98ff-6263705fa5bd",
   "metadata": {},
   "outputs": [],
   "source": []
  },
  {
   "cell_type": "code",
   "execution_count": null,
   "id": "58de912b-a3d1-4ef1-ab1d-b11db27839b0",
   "metadata": {},
   "outputs": [],
   "source": []
  }
 ],
 "metadata": {
  "kernelspec": {
   "display_name": "Python 3",
   "language": "python",
   "name": "python3"
  },
  "language_info": {
   "codemirror_mode": {
    "name": "ipython",
    "version": 3
   },
   "file_extension": ".py",
   "mimetype": "text/x-python",
   "name": "python",
   "nbconvert_exporter": "python",
   "pygments_lexer": "ipython3",
   "version": "3.8.8"
  }
 },
 "nbformat": 4,
 "nbformat_minor": 5
}
