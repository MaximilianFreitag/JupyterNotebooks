{
 "cells": [
  {
   "cell_type": "code",
   "execution_count": 5,
   "metadata": {},
   "outputs": [
    {
     "name": "stdout",
     "output_type": "stream",
     "text": [
      "red 1\n",
      "blue 2\n",
      "green 3\n"
     ]
    }
   ],
   "source": [
    "d = [('red', 1), ('blue', 2), ('green', 3)]\n",
    "\n",
    "for value in d: \n",
    "    word = value[0]\n",
    "    value = value[1]\n",
    "    print(word, value)"
   ]
  },
  {
   "cell_type": "code",
   "execution_count": null,
   "metadata": {},
   "outputs": [],
   "source": []
  },
  {
   "cell_type": "code",
   "execution_count": null,
   "metadata": {},
   "outputs": [],
   "source": []
  },
  {
   "cell_type": "code",
   "execution_count": null,
   "metadata": {},
   "outputs": [],
   "source": []
  },
  {
   "cell_type": "markdown",
   "metadata": {},
   "source": [
    "### Task given to student XY"
   ]
  },
  {
   "cell_type": "markdown",
   "metadata": {},
   "source": [
    "#### StackOverflow Comment:\n",
    "\n",
    "We had a task given by our professor:\n",
    "\n",
    "The task is to ask for an input from the user \n",
    "(specifically the number of times the word will be printed out) \n",
    "and then print out the word with repetitions according to the inputed number. \n",
    "The code should use for-loop and a while-loop.\n",
    "\n",
    "I am looking for a short and simple code."
   ]
  },
  {
   "cell_type": "markdown",
   "metadata": {},
   "source": [
    "##### For-Loop"
   ]
  },
  {
   "cell_type": "code",
   "execution_count": 4,
   "metadata": {
    "scrolled": true
   },
   "outputs": [
    {
     "name": "stdout",
     "output_type": "stream",
     "text": [
      "How many times would you like to output the word MNEMO?:2\n",
      "MNEMO\n",
      "MNEMO\n"
     ]
    }
   ],
   "source": [
    "first_task = input('How many times would you like to output the word MNEMO?:')\n",
    "\n",
    "for i in range(int(first_task)):\n",
    "    print('MNEMO')"
   ]
  },
  {
   "cell_type": "markdown",
   "metadata": {},
   "source": [
    "##### While-Loop"
   ]
  },
  {
   "cell_type": "code",
   "execution_count": 8,
   "metadata": {},
   "outputs": [
    {
     "name": "stdout",
     "output_type": "stream",
     "text": [
      "How many times would you like to output the word MNEMO?2\n",
      "MNEMO\n",
      "MNEMO\n"
     ]
    }
   ],
   "source": [
    "second_task = int(input('How many times would you like to output the word MNEMO?'))\n",
    "\n",
    "i = 0 \n",
    "\n",
    "while i< second_task:\n",
    "    \n",
    "    print('MNEMO')\n",
    "    i += 1\n",
    "    \n",
    "    "
   ]
  },
  {
   "cell_type": "markdown",
   "metadata": {},
   "source": [
    "##### Of course I didn't post the solution but rather giving him/her tips on how to achieve this output."
   ]
  },
  {
   "cell_type": "code",
   "execution_count": null,
   "metadata": {},
   "outputs": [],
   "source": [
    ":) "
   ]
  },
  {
   "cell_type": "code",
   "execution_count": null,
   "metadata": {},
   "outputs": [],
   "source": []
  },
  {
   "cell_type": "code",
   "execution_count": null,
   "metadata": {},
   "outputs": [],
   "source": []
  },
  {
   "cell_type": "code",
   "execution_count": null,
   "metadata": {},
   "outputs": [],
   "source": []
  },
  {
   "cell_type": "code",
   "execution_count": null,
   "metadata": {},
   "outputs": [],
   "source": []
  },
  {
   "cell_type": "code",
   "execution_count": null,
   "metadata": {},
   "outputs": [],
   "source": []
  }
 ],
 "metadata": {
  "kernelspec": {
   "display_name": "Python 3",
   "language": "python",
   "name": "python3"
  },
  "language_info": {
   "codemirror_mode": {
    "name": "ipython",
    "version": 3
   },
   "file_extension": ".py",
   "mimetype": "text/x-python",
   "name": "python",
   "nbconvert_exporter": "python",
   "pygments_lexer": "ipython3",
   "version": "3.7.9"
  }
 },
 "nbformat": 4,
 "nbformat_minor": 2
}
