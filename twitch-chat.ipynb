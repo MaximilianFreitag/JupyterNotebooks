{
 "cells": [
  {
   "cell_type": "code",
   "execution_count": 1,
   "metadata": {},
   "outputs": [],
   "source": [
    "#Kernel 3.9.13\n",
    "\n",
    "#Message collector\n",
    "#files will be saved in the same directory as the script\n",
    "\n",
    "\n",
    "\n",
    "from twitch_listener import listener\n",
    "\n",
    "\n",
    "# Connect to Twitch\n",
    "bot = listener.connect_twitch('maxmnemo', \n",
    "                             'oauth:914673khkifvgq031khp99wumep388', \n",
    "                             '6wk5itntbput1tddde1lo7o1zuym20')\n",
    "\n",
    "\n",
    "# List of channels to connect to\n",
    "channels_to_listen_to = ['orangemorange']\n",
    "\n",
    "\n",
    "# Scrape live chat data into raw log files. (Duration is seconds)\n",
    "bot.listen(channels_to_listen_to, duration = 800) \n",
    "\n",
    "\n",
    "# Convert log files into .CSV format\n",
    "bot.parse_logs(timestamp = True)\n",
    "\n",
    "\n",
    "# Generate adjacency matrix\n",
    "bot.adj_matrix(weighted = False, matrix_name = \"orangeorange777.csv\")\n",
    "\n"
   ]
  },
  {
   "cell_type": "code",
   "execution_count": null,
   "metadata": {},
   "outputs": [],
   "source": []
  },
  {
   "cell_type": "code",
   "execution_count": 15,
   "metadata": {},
   "outputs": [
    {
     "name": "stdout",
     "output_type": "stream",
     "text": [
      "['text', 'username', 'timestamp']\n",
      "['@karomaro  gehst du mit ?', 'chrisco92_8i', '15:23:17']\n",
      "['1111', 'lunii_088', '15:23:17']\n",
      "['0800 1 37 27 00 HAHA', 'keksstlr', '15:23:18']\n",
      "['111', 'lunii_088', '15:23:18']\n",
      "['@orangemorange Kannst du das wenigstens Absetzen als Firm Ausgabe', 'miaxztv', '15:23:21']\n",
      "['11', 'lukeman424', '15:23:21']\n",
      "['10k', '631rafael', '15:23:22']\n",
      "['FIRE FIRE FIRE FIRE FIRE', 'pr0d3nnyz', '15:23:23']\n",
      "['Dann bist du in gemany', 'mrmoruk', '15:23:23']\n",
      "['111', 'lukeman424', '15:23:24']\n",
      "['sucht kickt', 'blitzmaker_49', '15:23:26']\n",
      "['PauseChamp', 'fl4tsch', '15:23:27']\n",
      "['Hmm', 'derpredar', '15:23:28']\n",
      "['1', 'lukeman424', '15:23:29']\n",
      "['peepoTalk', 'xjohn_356', '15:23:29']\n",
      "['11', 'lukeman424', '15:23:32']\n",
      "['pepeLaugh TeaTime', 'dryatty', '15:23:35']\n",
      "['1', 'lukeman424', '15:23:35']\n",
      "['11', 'lukeman424', '15:23:36']\n",
      "['chrisco92_8i yes amsterdam und tomorrowland', 'karomaro', '15:23:38']\n",
      "['111', 'lukeman424', '15:23:40']\n",
      "['1', 'lukeman424', '15:23:42']\n",
      "['@orangemorange kommt tasty mit jetzt tomorrowland?', 'skrevt', '15:23:54']\n",
      "['1', 'agrar_domi', '15:23:54']\n",
      "['\\x01ACTION 👤 Neue(r) Follow(s) ❤ xSkorga, rentnercoin, blumhardt, und 4 andere Follower. ❤, WILLKOMMEN (517547 Follower) (+43)\\x01', 'orangemorange', '15:23:54']\n",
      "['@karomaro  geil ey morangeHype', 'chrisco92_8i', '15:23:57']\n",
      "['Scam', 'sumbloy', '15:24:04']\n",
      "['m o i n', '1taplikechicken', '15:24:07']\n",
      "['Hallo', 'shine9n', '15:24:09']\n",
      "['wrm wir alle gelöscht?', 'itzz_dxrk_', '15:24:10']\n",
      "['pepeLaugh TeaTime  \\U000e0000', 'dryatty', '15:24:15']\n",
      "['morangeSchock morangeSchock morangeSchock morangeSchock morangeSchock morangeSchock', '631rafael', '15:24:23']\n",
      "['@omegafensa, Hier kannst du deine Flammen🔥 einlösen: https://streamelements.com/orangemorange/store', 'streamelements', '15:24:26']\n",
      "['Das sit 100% Scam', 'sumbloy', '15:24:37']\n",
      "['OMEGALUL', 'dryatty', '15:24:37']\n",
      "['Ohje nein nein das ist safe nen fake ja', 'keksstlr', '15:24:37']\n",
      "['OMEGADANCEBUTFAST', 'derpredar', '15:24:41']\n",
      "['*ist', 'sumbloy', '15:24:43']\n",
      "['dieses email 3Head Clap', 'fl4tsch', '15:24:48']\n",
      "['Scam', 'xzeroooq', '15:24:49']\n",
      "['das ist scam digga', '631rafael', '15:24:52']\n",
      "['\\x01ACTION 👤 Neue(r) Follow(s) ❤ amelyy55, leoma2020, karatteundcas ❤, WILLKOMMEN (517548 Follower) (+46)\\x01', 'orangemorange', '15:24:55']\n",
      "['Ist scam', 'keksstlr', '15:24:59']\n",
      "['German 3Head', 'hiiiveee', '15:24:59']\n",
      "['hi', 'cryst4lxzero', '15:25:02']\n",
      "['cryst4lxzero morangeHi', 'nightbot', '15:25:02']\n",
      "['OMEGALUL', 'crax_the_king', '15:25:03']\n",
      "['riecht wie scam', 'michelangolo1978', '15:25:14']\n",
      "['@631rafael Schönen Namen hast du da Bruder Kuss', 'rafaeeltv', '15:25:18']\n",
      "['Die Fragen dich nicht nach sowas. Das ist scam', 'keksstlr', '15:25:23']\n",
      "['danke du auch @RafaeelTV', '631rafael', '15:25:26']\n",
      "['danke danke :)', 'rafaeeltv', '15:25:34']\n",
      "['WAS', 'keksstlr', '15:25:36']\n",
      "['Das normal wegen der Summe…… 10k Euro die schützen dich damit vor SCAM', 'reetrox0', '15:25:37']\n",
      "['Wie unprofessionell', 'keksstlr', '15:25:46']\n",
      "['?', 'mxxtionn', '15:25:46']\n",
      "['\\x01ACTION 【 3228 zuschauer (+3228) ⏰ 20m 42s 】\\x01', 'orangemorange', '15:25:46']\n",
      "['OMEGALUL', 'miriikirii', '15:25:47']\n",
      "['Klar ist das Scam', 'sumbloy', '15:25:51']\n",
      "['StinkyGlitch', 'cryst4lxzero', '15:25:55']\n",
      "['JA ok bei 10.000 € kann ich es verstehen stell dir vor jemand würde dir sonst 10k laoptops mails bestellen', '631rafael', '15:25:56']\n",
      "['\\x01ACTION 👤 Neue(r) Follow(s) ❤ benitoabi ❤, WILLKOMMEN (517547 Follower) (+47)\\x01', 'orangemorange', '15:26:05']\n",
      "['@bongo147, Hier kannst du deine Flammen🔥 einlösen: https://streamelements.com/orangemorange/store', 'streamelements', '15:26:10']\n",
      "['Ja aber lieber so nachfragen, als wenn jemand sie es einfach woanders hin schicken oder oder', 'zehnmille2021', '15:30:52']\n",
      "['heute kommt der big win', 'haptic_8i', '15:30:57']\n",
      "['Moin', 'dexjeti', '15:30:58']\n",
      "['Aber mit Taucherbrille Kappa', 'cracki29', '15:30:58']\n",
      "['OMEGALUL', 'derpredar', '15:31:01']\n",
      "['hahahahah', 'mariobrother1234', '15:31:04']\n",
      "['\\x01ACTION 👤 Neue(r) Follow(s) ❤ cloudiusofficial, stroki1896, oooLECRAMooo ❤, WILLKOMMEN (517554 Follower) (+60)\\x01', 'orangemorange', '15:31:09']\n",
      "['OMEGADANCEBUTFAST', 'fl4tsch', '15:31:17']\n",
      "['i can', 'dommeger', '15:31:22']\n",
      "['pepeD', 'fl4tsch', '15:31:25']\n",
      "['FL4TSCH ja gut LULW aber wenn du als Handwerker oder sowas arbeitest hast du doch keine eigene? Kenne das nur aus Betrieben wie bei dir z.b. Oder die bei uns leben noch hinterm Mond.. kann auch sein LULW', 'dryatty', '15:31:27']\n",
      "['i can', 'johndark', '15:31:28']\n",
      "['Helo', 'acaass', '15:31:29']\n",
      "['sir what are you saying?', 'darthdrabu', '15:31:29']\n",
      "['tats rite', 'keule_jannik', '15:31:31']\n",
      "['BOOBA', 'haptic_8i', '15:31:31']\n",
      "['auf jeden fall kannst du englisch', 'kurdigx', '15:31:32']\n",
      "['i have no ahnung', 'eddie_8i', '15:31:32']\n",
      "['i kann englisch', 'fabs_8i', '15:31:33']\n",
      "['i can of course', 'soschkadlr', '15:31:34']\n",
      "['honeymoon Kreygasm', 'dommeger', '15:31:34']\n",
      "['the door is left', 'kurdigx', '15:31:35']\n",
      "['Du wirst in dem Video hops genommen', 'limette008', '15:31:35']\n",
      "['Ouhja, ich erinnere mich an das H1 Interview OMEGALUL', 'onlydnl', '15:31:35']\n",
      "['Jetzt nur noch greenscreen ?', 'xtim0', '15:31:36']\n",
      "['i can speak english please help Kappa', 'mariobrother1234', '15:31:37']\n",
      "['honeymoon  Kreygasm', 'dommeger', '15:31:37']\n",
      "['sicher dass du englisch kannst? dann stream die nächsten 10 minuten englisch', '631rafael', '15:31:41']\n",
      "['morangeDoor', 'krasseronkel', '15:31:46']\n",
      "['BOOBA', 'kurdigx', '15:31:49']\n",
      "['Hello Kevin, how are you today?', 'keksstlr', '15:31:49']\n",
      "['BOOBA', 'fabs_8i', '15:31:50']\n",
      "['not the yellow from the egg', 'andi_hash_tager', '15:31:51']\n",
      "['YEP', 'derpredar', '15:31:53']\n",
      "['BOOBA', 'derpredar', '15:31:56']\n",
      "['BOOBA', 'krasseronkel', '15:31:56']\n",
      "['BOOBA', 'derpredar', '15:31:56']\n",
      "['stimmt Abi gabs geschenkt no Englisch needed', 'michelangolo1978', '15:31:57']\n",
      "['gachiGASM', 'fl4tsch', '15:31:58']\n",
      "['OMEGALUL', 'elpatron_8i', '15:31:59']\n",
      "['OMEGALUL', 'dameritas', '15:32:01']\n",
      "['BOOBA', 'muhammed27', '15:32:01']\n",
      "['uiiii', 'haptic_8i', '15:32:01']\n",
      "['OMEGADANCEBUTFAST', 'miro1337_', '15:32:02']\n",
      "['honeymoon Kreygasm', 'dommeger', '15:32:02']\n",
      "['hahaha', 'kurdigx', '15:32:02']\n",
      "['smash', 'fabs_8i', '15:32:04']\n",
      "['honeymoon  Kreygasm', 'dommeger', '15:32:04']\n",
      "['Kreygasm Kreygasm', 'slotrigger', '15:32:04']\n",
      "['NotLikeThis', 'lbotrexl', '15:32:04']\n",
      "['hallo HUGO', 'anthraxx47', '15:32:05']\n",
      "['honeymoon Kreygasm', 'dommeger', '15:32:05']\n",
      "['sp thicc', 'maze_03', '15:32:06']\n",
      "['er kann es halt', 'hamsterbacke03', '15:32:06']\n",
      "['BOOBA', 'elpatron_8i', '15:32:07']\n",
      "['Moin mein aller bester morangeFLAMME morangeFLAMME morangeFLAMME', 'buschturbine1', '15:32:07']\n",
      "['save smash', 'fabs_8i', '15:32:08']\n",
      "['der sogenannte Bitch streamer LULW', 'kurdigx', '15:32:09']\n",
      "['\\x01ACTION 👤 Neue(r) Follow(s) ❤ TsNixk*, michael_peintner, jens_elferich, bxkflx ❤, WILLKOMMEN (517556 Follower) (+64)\\x01', 'orangemorange', '15:32:10']\n",
      "['hahahaha', 'jojo__359', '15:32:10']\n",
      "['moin', 'sanndale777', '15:32:11']\n",
      "['teschnik xD', 'cryst4lxzero', '15:32:12']\n",
      "['FIRE FIRE', 'jojo__359', '15:32:15']\n",
      "['LUL', 'cracki29', '15:32:19']\n",
      "['1', 'fabs_8i', '15:32:20']\n",
      "['1', 'dommeger', '15:32:20']\n",
      "['1', 'acaass', '15:32:20']\n",
      "['1', 'muhammed27', '15:32:21']\n",
      "['1', 'keksstlr', '15:32:21']\n",
      "['LUL', 'nightbot', '15:32:21']\n",
      "['1', 'skky54', '15:32:21']\n",
      "['1', 'kurdigx', '15:32:21']\n",
      "['1', '631rafael', '15:32:21']\n",
      "['1', 'hamsterbacke03', '15:32:21']\n",
      "['ich', 'derpredar', '15:32:22']\n",
      "['@KURDiGX selber', 'pingi', '15:32:22']\n",
      "['11', 'battleangle2', '15:32:22']\n",
      "['1', 'mister_tj', '15:32:22']\n",
      "['1', 'krasseronkel', '15:32:22']\n",
      "['1', 'daniel_vero', '15:32:22']\n",
      "['ich', 'maze_03', '15:32:22']\n",
      "['1', 'apeman1337', '15:32:22']\n",
      "['^1', 'live_jason_', '15:32:22']\n",
      "['Ich', 'eixonix', '15:32:22']\n",
      "['1', 'mileyblvck', '15:32:22']\n",
      "['1', 'ahmad_kr_', '15:32:22']\n",
      "['1', 'kaan_8i', '15:32:22']\n",
      "['LUL', 'derbeobachter5', '15:32:23']\n",
      "['ich', 'esportlerlxjos', '15:32:23']\n",
      "['ich', 'knopperfrischundknusprich', '15:32:23']\n",
      "['1', 'd0pexyz', '15:32:23']\n",
      "['1', 'h0pe_j', '15:32:23']\n",
      "['1', 'tayfun_67', '15:32:23']\n",
      "['ich', 'zaayy1234', '15:32:23']\n",
      "['111', 'dommeger', '15:32:23']\n",
      "['Ich', 'thetyrox_', '15:32:23']\n",
      "['2', 'anthraxx47', '15:32:23']\n",
      "['hierrrrrr', 'haptic_8i', '15:32:23']\n",
      "['1', 'onlydnl', '15:32:23']\n",
      "['1', 'fl4tsch', '15:32:23']\n",
      "['1', 'bychris_350', '15:32:23']\n",
      "['1', 'derpredar', '15:32:23']\n",
      "['1', 'iamn0tapsycho', '15:32:24']\n",
      "['1', 'miro1337_', '15:32:24']\n",
      "['1', 'crax_the_king', '15:32:24']\n",
      "['1', 'frutitv', '15:32:24']\n",
      "['1', 'till_312', '15:32:24']\n",
      "['1', 'dark_8ii', '15:32:24']\n",
      "['icke', 'dingsderda', '15:32:24']\n",
      "['1', 'eric8052', '15:32:24']\n",
      "['1', 'strahlenabb', '15:32:24']\n",
      "['1', 'oneautumnleaf1902', '15:32:24']\n",
      "['1', 'eddie_8i', '15:32:24']\n",
      "['1', 'alpa0_', '15:32:24']\n",
      "['ICH', 'zmartixx', '15:32:25']\n",
      "['1', 'x_fat_x', '15:32:25']\n",
      "['1', 'miriikirii', '15:32:25']\n",
      "['1 haha', 'speckidiefettsau', '15:32:25']\n",
      "['ist auch bisschen Hart geworden', 'kurdigx', '15:32:25']\n",
      "['1', 'collin__999', '15:32:25']\n",
      "['1', 'luucaa_8i', '15:32:26']\n",
      "['1', 'extrem_hasee', '15:32:26']\n",
      "['1', 'wuff1244', '15:32:26']\n",
      "['1', 'marvinioo_', '15:32:26']\n",
      "['jwswe', 'schwarzer_beef_', '15:32:26']\n",
      "['1', 'darkorealone', '15:32:26']\n",
      "['monkaH', 'elpatron_8i', '15:32:26']\n",
      "['1', 'erikman04', '15:32:26']\n",
      "['1', 'eagle9393', '15:32:26']\n",
      "['1', '0nxs0', '15:32:26']\n",
      "['1', 'spiele_bro', '15:32:27']\n",
      "['1', 'jmyze', '15:32:27']\n",
      "['1', 'drgromby', '15:32:27']\n",
      "['1111111111', 'dealwithlucifer', '15:32:27']\n",
      "['erwischt', 'keule_jannik', '15:32:27']\n",
      "['1', 'mycrushisriot', '15:32:27']\n",
      "['1', 'esportlerlxjos', '15:32:27']\n",
      "['@orangemorange, 10 Flammen🔥 wurden erfolgreich zu 3369 Benutzern hinzugefügt.', 'streamelements', '15:32:27']\n",
      "['1', 'x_yoshi00', '15:32:27']\n",
      "['1', 'kevin_dnkl69', '15:32:27']\n",
      "['1', 'zimmyi', '15:32:27']\n",
      "['1', 'chuuckelias', '15:32:27']\n",
      "['1', 'zsnipzz_', '15:32:27']\n",
      "['morange1', 'xenon9_9_9', '15:32:28']\n",
      "['1', 'polarcrafter123', '15:32:28']\n",
      "['ICH aufjeden digga', 'zaayy1234', '15:32:28']\n",
      "['1', 'derfisch123', '15:32:28']\n",
      "['morange1', 'ahmad_kr_', '15:32:29']\n",
      "['1', 'ke817ks', '15:32:29']\n",
      "['1', 'seyoxx', '15:32:29']\n",
      "['1', 'chapoeldiablo', '15:32:29']\n",
      "['1', 'sirbarcodesire', '15:32:29']\n",
      "['1', 'lycks11', '15:32:29']\n",
      "['FIRE', 'derpredar', '15:32:29']\n",
      "['1', 'engind22', '15:32:29']\n",
      "['FIRE', 'derpredar', '15:32:30']\n",
      "['Flammen', 'rene642', '15:32:30']\n",
      "['FIRE', 'derpredar', '15:32:30']\n",
      "['FIRE FIRE FIRE FIRE FIRE FIRE FIRE', 'dryatty', '15:32:30']\n",
      "['1', 'maxi3090800', '15:32:30']\n",
      "['Musst aber bei Firmenlaptops aufpassen wegen Fremdsoftware die vorinstalliert ist nichts zu stimmen ohne es zu lesen.', 'sumbloy', '15:32:30']\n",
      "['1', 'tadmil', '15:32:30']\n",
      "['1', 't33boy', '15:32:31']\n",
      "['knackig', 'mister_tj', '15:32:31']\n",
      "['1', 'jojo__359', '15:32:31']\n",
      "['FIRE', 'seyoxx', '15:32:31']\n",
      "['1111', 'mycrushisriot', '15:32:32']\n",
      "['FIRE', 'xfabian_07x', '15:32:32']\n",
      "['DrYatty im handwerk machts nur sinn wenn ihr darüber halt die termin koordinieren würdet. ansonsten ist das usless. die linzenz kosten ja auch geld', 'fl4tsch', '15:32:32']\n",
      "['nice', 'h0pe_j', '15:32:32']\n",
      "['1', 'kokosnussskopf', '15:32:32']\n",
      "['LUL', 'ehrenmannderechte', '15:32:33']\n",
      "['LUL', 'martymcfly237', '15:32:33']\n",
      "['1', 'zzzockerzockt', '15:32:33']\n",
      "['ok', 'tobycryz', '15:32:33']\n",
      "['yey', 'paul2oo', '15:32:33']\n",
      "['Pog', 'krasseronkel', '15:32:33']\n",
      "['deekay4MoinMoin', 'brolowk3y187', '15:32:33']\n",
      "['FIRE', 'hamsterbacke03', '15:32:35']\n",
      "['Pog', 'voliaco', '15:32:35']\n",
      "['ist auch bisschen Hart geworden um ehrlich zu sein', 'kurdigx', '15:32:35']\n",
      "['1', 'mycrushisriot', '15:32:35']\n",
      "['tisisc1 tisisc1 tisisc1 tisisc1', '999cluub', '15:32:35']\n",
      "['Danke!', 'rafaeeltv', '15:32:35']\n",
      "['Pog', 'acaass', '15:32:35']\n",
      "['1', 'mostdope372', '15:32:35']\n",
      "['Pog', 'onlydnl', '15:32:35']\n",
      "['cordul3SWALTYYY cordul3SWALTYYY cordul3SWALTYYY', 'cordula_gruen_', '15:32:35']\n",
      "['FIRE FIRE FIRE', 'dryatty', '15:32:35']\n",
      "['morangeFLAMME morangeFLAMME morangeFLAMME morangeFLAMME', 'marvinotf', '15:32:35']\n",
      "['FIRE FIRE', 'kennyxtr', '15:32:35']\n",
      "['1', 'nico8666', '15:32:35']\n",
      "['FIRE', 'chuuckelias', '15:32:36']\n",
      "['morangeHOT morangeHOT', 'secret_ichthys', '15:32:36']\n",
      "['FIRE', 'singennberg', '15:32:36']\n",
      "['FIRE', 'eddie_8i', '15:32:36']\n",
      "['FIRE', 'badomendaniel', '15:32:38']\n",
      "['lets go', 'mariobrother1234', '15:32:38']\n",
      "['DAMKE', 'live_jason_', '15:32:38']\n",
      "['FIREFIRE', 'seyoxx', '15:32:38']\n",
      "['1', 'ehrenmannderechte', '15:32:38']\n",
      "['morangeFLAMME morangeFLAMME morangeFLAMME morangeFLAMME morangeFLAMME', 'mr_fusion', '15:32:38']\n",
      "['danke <3', 'tadmil', '15:32:38']\n",
      "['1', 'ng_2006', '15:32:38']\n",
      "['FIRE FIRE FIRE', 'siilaas', '15:32:38']\n",
      "['FIRE', 'xzeroooq', '15:32:38']\n",
      "['FIRE', 'lolo5016', '15:32:38']\n",
      "['FIRE', 'dasbaumtier', '15:32:38']\n",
      "['kuss', 'flixx2109', '15:32:38']\n",
      "['morangeFLAMME morangeFLAMME morangeFLAMME', '999cluub', '15:32:38']\n",
      "[\"PRIVMSG #orangemorange '\\n\", 'streamelements', '15:32:38']\n",
      "['FIRE', '@Crax_the_King, Hier kannst du deine Flammen\\\\xf0\\\\x9f\\\\x94\\\\xa5 einl\\\\xc3\\\\xb6sen: https://streamelements.com/orangemorange/store\\\\r\\\\n:popokuschler', '15:32:38']\n",
      "['FIRE FIRE FIRE FIRE FIRE FIRE', '0nxs0', '15:32:38']\n",
      "['FIRE', 'byeliman', '15:32:38']\n",
      "['FIRE', 'miguel_l17', '15:32:39']\n",
      "['Pog', 'jamiro997', '15:32:39']\n",
      "['morangeFLAMME morangeFLAMME morangeFLAMME morangeFLAMME morangeFLAMME morangeFLAMME morangeFLAMME', 'ahmad_kr_', '15:32:39']\n",
      "['1', 'dejgii', '15:32:39']\n",
      "['FIRE', 'michaelle2003', '15:32:39']\n",
      "['FIRE', 'ezmac435', '15:32:39']\n",
      "['FIRE', 'zmartixx', '15:32:39']\n",
      "['FIRE', 'michelangolo1978', '15:32:39']\n",
      "['FIRE', 'oneautumnleaf1902', '15:32:39']\n",
      "['FIRE', 'nox_1337', '15:32:40']\n",
      "['FIRE FIRE', 'hamsterbacke03', '15:32:40']\n",
      "['1', 'nikofnb', '15:32:40']\n",
      "['7x FIRE combo', 'streamelements', '15:32:40']\n",
      "['1', 'lbaljozov', '15:32:40']\n",
      "['FIRE', 'mariobrother1234', '15:32:41']\n",
      "['morangeFLAMME morangeFLAMME', 'textrooo', '15:32:41']\n",
      "['FIRE', 'willboy__8i', '15:32:41']\n",
      "['FIRE FIRE FIRE FIRE FIRE FIRE FIRE FIRE', 'jojo__359', '15:32:41']\n",
      "['1', 'cracki29', '15:32:41']\n",
      "['FIRE FIRE', 'seyoxx', '15:32:41']\n",
      "['Fire', 'ng_2006', '15:32:42']\n",
      "['1', 'shootordie8', '15:32:42']\n",
      "['<3', 'maxglane', '15:32:42']\n",
      "['Ich', 'kordexio', '15:32:42']\n",
      "['sorry aber da kann man nicht wiederstehen', 'knopperfrischundknusprich', '15:32:42']\n",
      "['FIRE', 'einfachnurniklas', '15:32:42']\n",
      "['yeahhh', 'mrpilot_', '15:32:43']\n",
      "['schöne kurven hast du no cap', 'adxim_gxd', '15:32:43']\n",
      "['FIRE', 'staayt', '15:32:43']\n",
      "['pog', 'schwarzer_beef_', '15:32:43']\n",
      "['FIRE FIRE FIRE FIRE', 'jojo__359', '15:32:44']\n",
      "['Flamme', 'luisinho_333', '15:32:44']\n",
      "['Fire', 'mahalkiller', '15:32:44']\n",
      "['FIRE', 'larsmars_', '15:32:44']\n",
      "['morangeFLAMME morangeFLAMME', 'rene642', '15:32:44']\n",
      "['FIRE', 'jureaxyt', '15:32:44']\n",
      "['morange10 morange10', 'xisnap_', '15:32:44']\n",
      "['FBPass anastasiaHeart2 anastasiaHeart2 anastasiaHeart2 anastasiaHeart2 anastasiaHeart2 anastasiaHeart2 anastasiaHeart2 anastasiaHeart2 anastasiaHeart2', 'jtfrj', '15:32:44']\n",
      "['FIRE', 'voliaco', '15:32:44']\n",
      "['FIRE', 'slotrigger', '15:32:45']\n",
      "['FIRE', 'cracki29', '15:32:45']\n",
      "['FIRE FIRE', 'lolo5016', '15:32:45']\n",
      "['Fire', 'andi_hash_tager', '15:32:45']\n",
      "['FIRE', 'miriikirii', '15:32:45']\n",
      "['morangeSONNE', 'wavejanisz', '15:32:45']\n",
      "['gg', 'h0pe_j', '15:32:45']\n",
      "['morangeFLAMME morangeFLAMME morangeFLAMME morangeFLAMME morangeFLAMME morangeFLAMME morangeFLAMME morangeFLAMME', '1mannarmee1', '15:32:46']\n",
      "['FIRE FIRE', 'jojo__359', '15:32:46']\n",
      "['Fire', 'louisjena', '15:32:46']\n",
      "['Fire', 'tittytwister00', '15:32:46']\n",
      "['Fire', 'xxxtentaeschon', '15:32:47']\n",
      "['1', 'neverbeold', '15:32:47']\n",
      "['Fire', 'purqe_', '15:32:47']\n",
      "['FIRE', 'tbrx52', '15:32:47']\n",
      "['morangeFLAMME morangeFLAMME morangeFLAMME morangeFLAMME morangeFLAMME morangeFLAMME', 'unreal_joel7', '15:32:48']\n",
      "['Fire', 'der_max__', '15:32:48']\n",
      "['morangeDRACHE morangeDRACHE morangeDRACHE morangeDRACHE morangeFLAMME morangeFLAMME morangeFLAMME morangeFLAMME', 'xmalx', '15:32:48']\n",
      "['1', 'lunii_088', '15:32:48']\n",
      "['FIRE', 'ehrenmannderechte', '15:32:48']\n",
      "['FIRE', 'm00ng0ld', '15:32:49']\n",
      "['FIRE', 'thegodwithj', '15:32:49']\n",
      "['FIRE', 'luisinho_333', '15:32:49']\n",
      "['FIRE', 'spiele_bro', '15:32:50']\n",
      "['FIRE', 'lukas18_04', '15:32:50']\n",
      "['111', 'lunii_088', '15:32:50']\n",
      "['morangeFLAMME morangeFLAMME morangeFLAMME morangeFLAMME', 'h0lysteffn', '15:32:51']\n",
      "['VapeNation', 'fl4tsch', '15:32:51']\n",
      "['FIRE', 'music_is_my_lifee', '15:32:51']\n",
      "['FIRE FIRE', 'larsmars_', '15:32:51']\n",
      "['fire', 'discgov2', '15:32:51']\n",
      "['Fire', 'cihat1312', '15:32:51']\n",
      "['morangeFLAMME', 'keule_jannik', '15:32:51']\n",
      "['FIRE', 'yoda_0606', '15:32:51']\n",
      "['FIRE', 'daniel_vero', '15:32:51']\n",
      "['wo kann man sehen wie viele man jetzt hat?', 'mrpilot_', '15:32:52']\n",
      "['morangeSONNE morangeSONNE morangeSONNE morangeSONNE', 'bruudii_', '15:32:52']\n",
      "['CurseLit CurseLit CurseLit', 'till_312', '15:32:53']\n",
      "['Fire', 'paul__616', '15:32:53']\n",
      "['FIRE', 'hamsterbacke03', '15:32:53']\n",
      "['FIRE', 'leon_30070', '15:32:53']\n",
      "['Fire', 'boeckelman', '15:32:53']\n",
      "['morangeFLAMME morangeFLAMME morangeFLAMME morangeFLAMME', 'dennismdc', '15:32:53']\n",
      "['morangeFLAMME morangeFLAMME morangeFLAMME', 'soldaten_respekt', '15:32:53']\n",
      "['FIRE', 'spinolo', '15:32:53']\n",
      "['FIRE', 'justin1_8i', '15:32:53']\n",
      "['FIRE FIRE FIRE FIRE FIRE FIRE FIRE FIRE FIRE FIRE FIRE FIRE', 'jojo__359', '15:32:54']\n",
      "['FIRE', 'dejgii', '15:32:55']\n",
      "['FIRE', 'silvan_p1', '15:32:55']\n",
      "['Fire', 'shootordie8', '15:32:56']\n",
      "['morangeFollower', 'itsmer0', '15:32:57']\n",
      "['morangeFLAMME morangeFLAMME', 'doggamer8i', '15:32:57']\n",
      "['FIRE', 'togo_inumaki_', '15:32:58']\n",
      "['Fire', 'floisness', '15:32:58']\n",
      "['morangeFLAMME morangeFLAMME morangeFLAMME morangeFLAMME', 'peterausmonaco', '15:32:58']\n",
      "['FIRE', 'jannisdng', '15:32:58']\n",
      "['Fire', 'flow2x2', '15:32:58']\n",
      "['FIRE', 'madara__akatsuki', '15:32:59']\n",
      "['FIRE', 'beefcakemax', '15:33:00']\n",
      "['FLAMME', 'keule_jannik', '15:33:01']\n",
      "['morangeFLAMME morangeFLAMME morangeFLAMME', 'dennismdc', '15:33:01']\n",
      "['wo ist taucher Anzug', 'balint1307', '15:33:01']\n",
      "['morangeFLAMME morangeFLAMME morangeFLAMME morangeFLAMME morangeFLAMME morangeFLAMME morangeFLAMME SeemsGood', 'xmalx', '15:33:01']\n",
      "['morangeSONNE morangeSONNE morangeSONNE morangeSONNE', 'x_fat_x', '15:33:01']\n",
      "['Fire', 'derbrotmaschien', '15:33:01']\n",
      "['@MrPilot_ https://streamelements.com/orangemorange/store', '0nxs0', '15:33:01']\n",
      "['FIRE FIRE FIRE', 'jureaxyt', '15:33:02']\n",
      "['FIRE FIRE FIRE FIRE FIRE FIRE FIRE FIRE FIRE', 'rudiiibrudiii', '15:33:02']\n",
      "['King', 'rayza030', '15:33:02']\n",
      "['wie bekommt man die', 'anycrytv', '15:33:03']\n",
      "['morangeSONNE morangeSONNE morangeSONNE morangeSONNE morangeSONNE morangeSONNE', 'cihat1312', '15:33:03']\n",
      "['FIRE', 'serenzar', '15:33:04']\n",
      "['FIRE', 'poweredbythedarkside', '15:33:04']\n",
      "['FIRE FIRE FIRE FIRE FIRE', 'rudiiibrudiii', '15:33:04']\n",
      "['1', 'ivoryone', '15:33:04']\n",
      "['Fir', 'wumic89', '15:33:05']\n",
      "['Fire', 'xtim0', '15:33:06']\n",
      "['Fire', 'peterausmonaco', '15:33:06']\n",
      "['Fire', 'wumic89', '15:33:07']\n",
      "['FIRE FIRE FIRE FIRE', 'rudiiibrudiii', '15:33:07']\n",
      "['morangeFLAMME morangeFLAMME morangeFLAMME morangeFLAMME morangeFLAMME morangeFLAMME', 'zn1klxs', '15:33:07']\n",
      "['Fire', 'cabron92', '15:33:07']\n",
      "['Fire', 'keule_jannik', '15:33:08']\n",
      "['FIRE FIRE FIRE Fire', 'beefcakemax', '15:33:08']\n",
      "['morangeBRILLE morangeSONNE', 'andi_hash_tager', '15:33:08']\n",
      "['bro wie viele cuts FeelsGoodMan', 'fl4tsch', '15:33:09']\n",
      "['FIRE', 'derbrotmaschien', '15:33:09']\n",
      "['\\x01ACTION 👤 Neue(r) Follow(s) ❤ xImUnStOppAbLe, ytmaggi, TBtheWolf, und 7 andere Follower. ❤, WILLKOMMEN (517563 Follower) (+74)\\x01', 'orangemorange', '15:33:11']\n",
      "['CurseLit CurseLit CurseLit CurseLit CurseLit', 'pesolauch007', '15:33:12']\n",
      "['Fire', 'niplay_', '15:33:14']\n",
      "['morangeBRILLE', 'zleraizze', '15:33:16']\n",
      "['morangeFLAMME', 'larsmars_', '15:33:16']\n",
      "['ist deine freundin nicht porno Darstellerin', 'luis8338', '15:33:17']\n",
      "['morangeFLAMME', 'spiele_bro', '15:33:17']\n",
      "['morangeFLAMME morangeFLAMME morangeFLAMME morangeFLAMME morangeFLAMME morangeFLAMME morangeFLAMME morangeFLAMME morangeFLAMME morangeFLAMME morangeFLAMME morangeFLAMME', 'larsmars_', '15:33:19']\n",
      "['HypeScream HypeScream HypeScream', 'ivoryone', '15:33:19']\n",
      "['PogU ich seh mich im chat', 'dommeger', '15:33:21']\n",
      "['morangeSONNE morangeSONNE morangeSONNE morangeSONNE', 'france_9011', '15:33:22']\n",
      "['Fire', '4claps', '15:33:22']\n",
      "['im stream war der streamsniper 6-7 mal bei micky', 'abydeex', '15:33:24']\n",
      "['OMEGALUL', 'kurdigx', '15:33:25']\n",
      "['HAHAHAHA', 'mariobrother1234', '15:33:28']\n",
      "['ich', 'agrar_domi', '15:33:29']\n",
      "['WrapItUp', 'derpredar', '15:33:32']\n",
      "['morangeSONNE', 'segelbaron', '15:33:37']\n",
      "['wowo die grade war ja mega hübsch', '631rafael', '15:33:46']\n",
      "['lebronJAM', 'fl4tsch', '15:33:46']\n",
      "['lebronJAM \\U000e0000', 'fl4tsch', '15:33:54']\n",
      "['\\x01ACTION ⭐️ RE-SUB ⭐️ miglo29 (+8) ⭐️\\x01', 'orangemorange', '15:33:57']\n",
      "['OMEGADANCEBUTFAST', 'derpredar', '15:34:04']\n",
      "['HAHAHAHAHA', 'kurdigx', '15:34:07']\n",
      "['jute besserung geht mir genau so', 'erikman04', '15:34:08']\n",
      "['gibt es schon länger', 'keule_jannik', '15:34:09']\n",
      "['Fire', 'purqe_', '15:34:12']\n",
      "['\\x01ACTION 👤 Neue(r) Follow(s) ❤ IMrBadI, petko199*, simso343*, und 2 andere Follower. ❤, WILLKOMMEN (517563 Follower) (+79)\\x01', 'orangemorange', '15:34:12']\n",
      "['RENTNER TREFF OMEGALUL', 'kurdigx', '15:34:12']\n",
      "['HAHAHHAA', 'muhammed27', '15:34:13']\n",
      "['Verfolge mich auch auf meinen anderen Plattformen: Instagram https://www.instagram.com/orangemorange | Twitter https://www.twitter.com/orangemorangee | YouTube https://www.youtube.com/c/orangemorangetv | Tiktok https://www.tiktok.com/@orangemorange?lang=de-DE', 'streamelements', '15:34:14']\n",
      "['kurdi murd @KURDiGX', 'muhammed27', '15:34:18']\n",
      "['@unlockedhaiti, Hier kannst du deine Flammen🔥 einlösen: https://streamelements.com/orangemorange/store', 'streamelements', '15:34:20']\n",
      "['pullover ausziehen ?', 'knopperfrischundknusprich', '15:34:21']\n",
      "['was geht', 'muhammed27', '15:34:24']\n",
      "['Wann kommt eigentlich eine roomtour?', 'schm1kol4s', '15:34:24']\n",
      "['Die Roomtour kommt, wenn alles fertig eingerichtet ist.', 'streamelements', '15:34:24']\n",
      "['pullover aus tshirt an', 'chapoeldiablo', '15:34:26']\n",
      "['@muhammed27 selam <3', 'kurdigx', '15:34:28']\n",
      "['\\x01ACTION ⭐️ RE-SUB ⭐️ SLEYBE8i (+9) ⭐️\\x01', 'orangemorange', '15:34:28']\n",
      "['wie läuft gym', 'phrazeoriginal', '15:34:29']\n",
      "['morangeSchock', 'xmalx', '15:34:29']\n",
      "['isso hoodie aus :D', 'dingsderda', '15:34:29']\n",
      "['aber Pollluver', 'derschraeder', '15:34:36']\n",
      "['🥶 drip', 'fl4tsch', '15:34:40']\n",
      "['Iceberg', 'eddie_8i', '15:34:42']\n",
      "['OMEGALUL', 'elpatron_8i', '15:34:43']\n",
      "['monkaS', 'fl4tsch', '15:34:45']\n",
      "['zensus ja', 'dommeger', '15:34:51']\n",
      "['Vielleicht Pullover ausziehen.?', 'bigearltv', '15:34:52']\n",
      "['OMEGADANCEBUTFAST', 'derpredar', '15:35:02']\n",
      "['peepoSmash', 'krasseronkel', '15:35:04']\n",
      "['vermiss valorant', 'muhammed27', '15:35:05']\n",
      "['Zensus wird das sein. Haben wir nen Brief bekommen', 'dryatty', '15:35:06']\n",
      "['bald wieder valo? Pause', 'derpredar', '15:35:13']\n",
      "['\\x01ACTION 👤 Neue(r) Follow(s) ❤ julsder31er ❤, WILLKOMMEN (517564 Follower) (+80)\\x01', 'orangemorange', '15:35:13']\n",
      "['OMEGALUL', 'soldaten_respekt', '15:35:17']\n",
      "['aufjedenfall besser als Kevin Kappa', 'fabs_8i', '15:35:26']\n",
      "['Oha geiler Mix', 'elpatron_8i', '15:35:28']\n",
      "['cmonBruh', 'tobycryz', '15:35:29']\n",
      "['tanzi alter', 'iamn0tapsycho', '15:35:31']\n",
      "['OMEGALUL', 'acaass', '15:35:31']\n",
      "['also casino ist familienfreundlicher', 'dommeger', '15:35:39']\n",
      "['yumibaLUL', 'slotrigger', '15:35:40']\n",
      "['Tanzi nimmt dich hops in dem video', 'limette008', '15:35:48']\n",
      "['@DommeGER true', 'iamn0tapsycho', '15:35:48']\n",
      "['Die hat er sich machen lassen', 'eixonix', '15:36:02']\n",
      "['LUL', 'anthraxx47', '15:36:06']\n",
      "['die kriegen gute streamer @orangemorange', '631rafael', '15:36:07']\n",
      "['LUL', 'nightbot', '15:36:07']\n",
      "['beste kopie', 'eddie_8i', '15:36:08']\n",
      "['Sun is Shining', 'skky54', '15:36:09']\n",
      "['Sag niemals niw', 'keksstlr', '15:36:11']\n",
      "['fibi monteFoto', 'dommeger', '15:36:11']\n",
      "['ich glaube vom managment', 'battleangle2', '15:36:12']\n",
      "['Du willst den Stream werbefrei genießen, auch im SubOnly-Chat mitschreiben können, coole Channel-Emotes auf ganz Twitch benutzen und den Stream supporten? Dann kannst du hier den Channel subscriben: https://goo.gl/irqL9k | Mit Twitch Prime (in Verbindung mit Amazon Prime) steht dir außerdem 1 kostenloser Sub im Monat zur Verfügung (siehe !prime).', 'streamelements', '15:36:13']\n",
      "['nie*', 'keksstlr', '15:36:14']\n",
      "['\\x01ACTION 👤 Neue(r) Follow(s) ❤ xdaaviii, theDOCTORest, Janek1904 ❤, WILLKOMMEN (517567 Follower) (+83)\\x01', 'orangemorange', '15:36:14']\n",
      "['Glückwunsch Sie sind jetzt reich OMEGALUL', 'untouchable09', '15:36:14']\n",
      "['@limette008 hä?', 'daniel_vero', '15:36:16']\n",
      "['Frag Stake ob du sowas bekommst pepeLaugh', 'dryatty', '15:36:16']\n",
      "['jaaa', 'haptic_8i', '15:36:17']\n",
      "['1', 'soschkadlr', '15:36:17']\n",
      "['hatte gekauft', 'fabs_8i', '15:36:18']\n",
      "['1', 'schm1kol4s', '15:36:19']\n",
      "['Mal ne Frage, warum kommt eigentlich \"so wenig\" Content auf Youtube im Vergleich zu anderen? @orangemorange', 'frnkwhte', '15:36:19']\n",
      "['111', 'muhammed27', '15:36:20']\n",
      "['nur kurz', 'tracktec', '15:36:20']\n",
      "['fürn projekt', 'ccr4nk', '15:36:20']\n",
      "['ja', 'maxi3090800', '15:36:21']\n",
      "['OMEGALUL', 'derpredar', '15:36:21']\n",
      "['@justin1_8i, Hier kannst du deine Flammen🔥 einlösen: https://streamelements.com/orangemorange/store', 'streamelements', '15:36:22']\n",
      "['1', 'haptic_8i', '15:36:22']\n",
      "['1', 'xcalypse', '15:36:22']\n",
      "['jaaa', 'zsnipzz_', '15:36:23']\n",
      "['mach wider', 'jojo__359', '15:36:24']\n",
      "['1', 'jureaxyt', '15:36:25']\n",
      "['1', 'its_jona__', '15:36:25']\n",
      "['Hahahaha ja man', 'tbrx52', '15:36:27']\n",
      "['@DommeGER die ist 17 oder 16', 'bychris_350', '15:36:31']\n",
      "['@ByChris_350 und? denkst ich bin 50 oder was?', 'dommeger', '15:36:46']\n",
      "['cringe', 'jojo__359', '15:36:49']\n",
      "['of für gute zwecke Kappa faridb3Haha', 'lbotrexl', '15:36:52']\n",
      "['RED', 'fl4tsch', '15:36:55']\n",
      "['DommeGER ja', 'dryatty', '15:36:56']\n",
      "['huhu 😊', 'juliislife', '15:37:00']\n",
      "['AFK', 'z3r80', '15:37:03']\n",
      "['@DommeGER ne bisschen mehr', 'bychris_350', '15:37:05']\n",
      "['OMEGALUL', 'acaass', '15:37:07']\n",
      "['OMEGADANCEBUTFAST', 'fl4tsch', '15:37:10']\n",
      "['@ByChris_350 WEEBSDETECTED', 'dommeger', '15:37:10']\n",
      "['kimcelUwu kimcelUwu', 'slotrigger', '15:37:10']\n",
      "['ey sowas muss net sein', '631rafael', '15:37:12']\n",
      "['\\x01ACTION 👤 Neue(r) Follow(s) ❤ B4lik, schmidtii13 ❤, WILLKOMMEN (517568 Follower) (+85)\\x01', 'orangemorange', '15:37:15']\n",
      "['@DrYatty WeirdChamp', 'dommeger', '15:37:16']\n",
      "['YEP', 'derpredar', '15:37:18']\n",
      "['Wann slots', 'besofenebananee', '15:37:20']\n",
      "['DommeGER YEP', 'dryatty', '15:37:25']\n",
      "['2', 'dommeger', '15:37:26']\n",
      "['1', 'skky54', '15:37:27']\n",
      "['1', 'tracktec', '15:37:28']\n",
      "['1', 'suntadge', '15:37:28']\n",
      "['1', 'fabs_8i', '15:37:28']\n",
      "['Ne#', 'keksstlr', '15:37:28']\n",
      "['yes', 'kaltqetoasted', '15:37:28']\n",
      "['nice😂', 'closepalme', '15:37:28']\n",
      "['2', 'daniel_vero', '15:37:28']\n",
      "['2', 'spritzbeutel69', '15:37:28']\n",
      "['ja', 'miro1337_', '15:37:28']\n",
      "['ich', 'crax_the_king', '15:37:28']\n",
      "['1', 'tekuru__', '15:37:28']\n",
      "['11', 'live_jason_', '15:37:29']\n",
      "['1', 'furkiistream', '15:37:29']\n",
      "['1', 'd0pexyz', '15:37:29']\n",
      "['1', 'niplay_', '15:37:29']\n",
      "['1', 'volvogames', '15:37:29']\n",
      "['1', 'iamn0tapsycho', '15:37:29']\n",
      "['1', 'esportlerlxjos', '15:37:29']\n",
      "['2', 'cmastolo', '15:37:29']\n",
      "['ja', 'derpredar', '15:37:29']\n",
      "['2', 'anthraxx47', '15:37:29']\n",
      "['ICH', 'felixaim', '15:37:29']\n",
      "['zu oft', 'xcalypse', '15:37:29']\n",
      "['1', 'schm1kol4s', '15:37:29']\n",
      "['1', 'mariobrother1234', '15:37:29']\n",
      "['1', 'sirbarcodesire', '15:37:29']\n",
      "['1', 'michelangolo1978', '15:37:29']\n",
      "['2', 'patmoe', '15:37:30']\n",
      "['1', 'quexx7s', '15:37:30']\n",
      "['@DommeGER morangeRaus', 'bychris_350', '15:37:30']\n",
      "['12', 'dingsderda', '15:37:30']\n",
      "['noch nie', 'muhammed27', '15:37:30']\n",
      "['1111', 'kaan_8i', '15:37:30']\n",
      "['2', 'battleangle2', '15:37:30']\n",
      "['1', 'derapfelbaum13', '15:37:30']\n",
      "['ich', 'noturmumlolol', '15:37:30']\n",
      "['1', 'tapetenattacke', '15:37:30']\n",
      "['ja', 'extrem_hasee', '15:37:30']\n",
      "['1', 'bimsimimsi', '15:37:30']\n",
      "['ich', 'z3r80', '15:37:30']\n",
      "['1', 'blitzmaker_49', '15:37:30']\n",
      "['1', 'michael_maa_', '15:37:30']\n",
      "['1', 'eric8052', '15:37:30']\n",
      "['1', 'oliver8853', '15:37:30']\n",
      "['1', 'crax_the_king', '15:37:30']\n",
      "['ja ich', 'quixy95', '15:37:30']\n",
      "['1', 'derpredar', '15:37:31']\n",
      "['1', 'im0erik', '15:37:32']\n",
      "['1', 'ppaassccaalll', '15:37:32']\n",
      "['1', 'eagle9393', '15:37:32']\n",
      "['1', 'frieeo', '15:37:32']\n",
      "['yep 1', 'schwarzer_beef_', '15:37:32']\n",
      "['1', 'fibexe', '15:37:32']\n",
      "['ja', 'jojo__359', '15:37:32']\n",
      "['1', 'marlon_babyface', '15:37:32']\n",
      "['2', 'xzeroooq', '15:37:32']\n",
      "['1111', 'dingsderda', '15:37:32']\n",
      "['11111', 'eric8052', '15:37:32']\n",
      "['1', 'vollblldforscher', '15:37:32']\n",
      "['Ich', 'kaan_8i', '15:37:32']\n",
      "['1', 'emil_aktiv', '15:37:32']\n",
      "['1', 'xtimi_', '15:37:33']\n",
      "['1', 'doile_one', '15:37:33']\n",
      "['11', 'blitzmaker_49', '15:37:33']\n",
      "['1', 'dieserrapha', '15:37:33']\n",
      "['tisiscMinus1 tisiscMinus1 tisiscMinus1 tisiscMinus1', '999cluub', '15:37:33']\n",
      "['ich', 'extrem_hasee', '15:37:33']\n",
      "['ja', 'secret0ne', '15:37:33']\n",
      "['1', 'iyi_sasori_iyi', '15:37:33']\n",
      "['1', 'neumi_deluxe', '15:37:33']\n",
      "['11', 'fibexe', '15:37:33']\n",
      "['ich', 'chickeidon', '15:37:33']\n",
      "['1', 'fffffeelliixx', '15:37:33']\n",
      "['1', 'zimmyi', '15:37:33']\n",
      "['Hier', 'schm1kol4s', '15:37:33']\n",
      "['1', 'psyyyko', '15:37:34']\n",
      "['111111', 'eric8052', '15:37:34']\n",
      "['ich auch nooch nie', 'muhammed27', '15:37:34']\n",
      "['1', 'richy_raketa', '15:37:34']\n",
      "['2', 'derfisch123', '15:37:34']\n",
      "['2', 'dryatty', '15:37:34']\n",
      "['1', 'tbrx52', '15:37:34']\n",
      "['1', 'bxtmanlol', '15:37:34']\n",
      "['1', 'clinrr', '15:37:34']\n",
      "['1', 'dark_8ii', '15:37:34']\n",
      "['noch nie', 'maxi3090800', '15:37:34']\n",
      "['1', 'hoizinga', '15:37:34']\n",
      "['1', 'staatsoberhauptkanzler', '15:37:34']\n",
      "['1', 'mrpilot_', '15:37:34']\n",
      "['2 mein bildschirm', 'dommeger', '15:37:34']\n",
      "['1', 'lux_g_g', '15:37:34']\n",
      "['2', 'zsnipzz_', '15:37:34']\n",
      "['1', 'calmjules', '15:37:34']\n",
      "['2', 'jureaxyt', '15:37:34']\n",
      "['1', 'fibexe', '15:37:34']\n",
      "['Du bist kein echter Gamer', 'kurdigx', '15:37:35']\n",
      "['1', 'sadg203', '15:37:36']\n",
      "['1', 'handkantenharald', '15:37:36']\n",
      "['1', 'labererds', '15:37:36']\n",
      "['2', 'xfabian_07x', '15:37:36']\n",
      "['1', 'jasper123456742', '15:37:36']\n",
      "['1', 'xbaits', '15:37:36']\n",
      "['1', 'chickeidon', '15:37:36']\n",
      "['1', 'der_daxter', '15:37:36']\n",
      "['1', 'kevin_dnkl69', '15:37:37']\n",
      "['2', 'fishy_tame', '15:37:37']\n",
      "['1', 'caner_mardin', '15:37:37']\n",
      "['1', 'janniks1', '15:37:37']\n",
      "['11', 'fibexe', '15:37:37']\n",
      "['2222', 'herbertgroenemeier999', '15:37:37']\n",
      "['1', 'saufvogal', '15:37:37']\n",
      "['morange1', 'xenon9_9_9', '15:37:37']\n",
      "['1', 'till_312', '15:37:37']\n",
      "['1', 'r4pnix', '15:37:38']\n",
      "['1', 'chrussotv', '15:37:38']\n",
      "['1', 'lassedittmer', '15:37:38']\n",
      "['11', 'beterusus', '15:37:38']\n",
      "['1', 'battleangle2', '15:37:39']\n",
      "['1', 'sin_cos_tan_log', '15:37:39']\n",
      "['11111', 'blitzmaker_49', '15:37:39']\n",
      "['1', 'hamza_06022002', '15:37:39']\n",
      "['dumm wenn man das kaputt macht', 'fabs_8i', '15:37:39']\n",
      "['Blööööööfffff', 'keksstlr', '15:37:39']\n",
      "['1', 'alectro1', '15:37:39']\n",
      "['ja ich', 'jojo__359', '15:37:39']\n",
      "['111', 'fibexe', '15:37:39']\n",
      "['2', 'slotrigger', '15:37:39']\n",
      "['1', 'tammo_124', '15:37:39']\n",
      "['nie', 'lonts', '15:37:39']\n",
      "['1', 'agentbaul_', '15:37:40']\n",
      "['Same', 'tbrx52', '15:37:40']\n",
      "['1', 'sian_0910', '15:37:40']\n",
      "['ne', 'eptic_vfb', '15:37:40']\n",
      "['sCHON !== STÜCK ZERSTÖRT', 'oneautumnleaf1902', '15:37:40']\n",
      "['jo', 'cems_bettlarken', '15:37:40']\n",
      "['2', 'alfaa90', '15:37:40']\n",
      "['1', 'bazooneo', '15:37:41']\n",
      "['1111', 'blitzmaker_49', '15:37:41']\n",
      "['1', 'ke817ks', '15:37:41']\n",
      "['111', 'beterusus', '15:37:41']\n",
      "['1', 'therealstraniero92', '15:37:41']\n",
      "['same! @orangemorange einfach unnötig', 'crax_the_king', '15:37:41']\n",
      "['1', 'blitzmaker_49', '15:37:42']\n",
      "['1', 'beterusus', '15:37:42']\n",
      "['2', 'ezmac435', '15:37:42']\n",
      "['1', 'dieschwesta_', '15:37:42']\n",
      "['1', 'its_jona__', '15:37:42']\n",
      "['2', 'luucaa_8i', '15:37:42']\n",
      "['locker 20 seit ps3', 'eddie_8i', '15:37:43']\n",
      "['headset an schrank geworfen', 'yotutel', '15:37:43']\n",
      "['1', 'engind22', '15:37:43']\n",
      "['11', 'handkantenharald', '15:37:43']\n",
      "['1', 'ng_2006', '15:37:43']\n",
      "['digga hab meinen gaming monitor kaputt gemacht', 'dommeger', '15:37:43']\n",
      "['111', 'beterusus', '15:37:43']\n",
      "['11', 'blitzmaker_49', '15:37:43']\n",
      "['1', 'nrwmrj', '15:37:44']\n",
      "['jo hier auch noch nie', 'soxx1804', '15:37:44']\n",
      "['1', 'rumble_rambo', '15:37:44']\n",
      "['1', 'simdalu', '15:37:44']\n",
      "['1', 'handkantenharald', '15:37:44']\n",
      "['1', 'fibexe', '15:37:44']\n",
      "['11', 'beterusus', '15:37:46']\n",
      "['1', 'kayon_187', '15:37:46']\n",
      "['Bin lieber raus Holz hacken', 'michelangolo1978', '15:37:46']\n",
      "['1', 'tjor_ven', '15:37:46']\n",
      "['nur tisch', 'z3usiiii', '15:37:46']\n",
      "['2', 'suchtberatung', '15:37:46']\n",
      "['1', 'dejgii', '15:37:46']\n",
      "['1', 'maxxi0707', '15:37:46']\n",
      "['2 ein Headset', 'x_yoshi00', '15:37:46']\n",
      "['111', 'blitzmaker_49', '15:37:46']\n",
      "['Maus ausersehen', 'purqe_', '15:37:46']\n",
      "['habe 3 Tastaturen Kappe gemacht', 'closepalme', '15:37:46']\n",
      "['ps4', 'kuscheliqer', '15:37:46']\n",
      "['Nein', 'acaass', '15:37:46']\n",
      "['1', 'itsmer0', '15:37:46']\n",
      "['letzte sekunde hat gerettet', 'bummsgewitter65', '15:37:46']\n",
      "['1', 'bruudii_', '15:37:46']\n",
      "['1', 'MSG #orangemorange :', '15:37:46']\n",
      "['111', 'handkantenharald', '15:37:46']\n",
      "['hab 200euro tastatur', 'maxi3090800', '15:37:46']\n",
      "['1', 'fabs_8i', '15:37:46']\n",
      "['BLÖÖÖFFF', 'keksstlr', '15:37:46']\n",
      "['moinsen', 'akitooooooooooo', '15:37:46']\n",
      "['1111', 'blitzmaker_49', '15:37:47']\n",
      "['2', 'haloforbes98', '15:37:47']\n",
      "['1', 'boeckelman', '15:37:47']\n",
      "['1', 'beterusus', '15:37:47']\n",
      "['1', 'handkantenharald', '15:37:47']\n",
      "['3 monitore', 'breeks_', '15:37:47']\n",
      "['2', 'gamermicha2019', '15:37:47']\n",
      "['hab immer auf Bein gehauen', 'marlon_babyface', '15:37:48']\n",
      "['11', 'handkantenharald', '15:37:48']\n",
      "['broke', 'michelangolo1978', '15:37:48']\n",
      "['11', 'blitzmaker_49', '15:37:48']\n",
      "['2', 'maxi3090800', '15:37:48']\n",
      "['Display und Bildschirm', 'lolo5016', '15:37:49']\n",
      "['ne auch nicht, gar kein bock zu zahlen :D', 'floh1909', '15:37:49']\n",
      "['1', 'derbeobachter5', '15:37:49']\n",
      "['Schreien reischt', 'secret0ne', '15:37:49']\n",
      "['Monitor', 'ericsrmn', '15:37:49']\n",
      "['Ja', 'eriraaaa', '15:37:49']\n",
      "['1111', 'blitzmaker_49', '15:37:49']\n",
      "['2', 'cracki29', '15:37:50']\n",
      "['was sind schon 80ig euro', 'mister_tj', '15:37:50']\n",
      "['morange1 morange1', 'xmalx', '15:37:50']\n",
      "['mei9n 10 euro tastatur', 'tadmil', '15:37:50']\n",
      "['11', 'fibexe', '15:37:50']\n",
      "['11111', 'blitzmaker_49', '15:37:51']\n",
      "['1', 'miyuxx3', '15:37:51']\n",
      "['Ich hab mal mein bett kaputt geschlagen LUL', 'herbertgroenemeier999', '15:37:51']\n",
      "['50 mark', 'lonts', '15:37:51']\n",
      "['Ich schon ^^', 'hannibal4cannibal', '15:37:51']\n",
      "['2 controller kaputt gemacht bereue es unnormal @orangemorange', 'xfabian_07x', '15:37:51']\n",
      "['true', 'neumi_deluxe', '15:37:51']\n",
      "['bildschirm tastatur maus alles schon', 'spritzbeutel69', '15:37:51']\n",
      "['Ich auch nicht', 'feli_1860', '15:37:51']\n",
      "['fühl ich', 'bazooneo', '15:37:51']\n",
      "['1', 'ayleks_98', '15:37:51']\n",
      "['OHHHH', 'tobycryz', '15:37:51']\n",
      "['fühl ich', 'shorepeter_', '15:37:51']\n",
      "['ist noch nicht kaputt gegangen aber war schon mal sauer YEP', 'fl4tsch', '15:37:52']\n",
      "['1111', 'blitzmaker_49', '15:37:52']\n",
      "['11', 'labererds', '15:37:52']\n",
      "['ist schon traurig wenn man sich nicht so unter Kontrolle hat', 'c0ub0t', '15:37:52']\n",
      "['als jugendlicher ständig...', 'mahatmaandy1337', '15:37:53']\n",
      "['safe schon 20', 'dealwithlucifer', '15:37:53']\n",
      "['Ja ich', 'luca4432_', '15:37:53']\n",
      "['11111', 'blitzmaker_49', '15:37:53']\n",
      "['ich nicht', 'beterusus', '15:37:53']\n",
      "['1', 'flow2x2', '15:37:54']\n",
      "['true', 'jojo__359', '15:37:54']\n",
      "['1', 'zleraizze', '15:37:54']\n",
      "['11', 'blitzmaker_49', '15:37:54']\n",
      "['1', 'labererds', '15:37:54']\n",
      "['SO EINE FETTE 2', 'marpatkur', '15:37:55']\n",
      "['schon 100 stück zerstört', 'oneautumnleaf1902', '15:37:55']\n",
      "['1', 'jaron_stp', '15:37:55']\n",
      "['3 tastaturen :)', 'tauschiii', '15:37:55']\n",
      "['Doch doch doch doch', 'keksstlr', '15:37:55']\n",
      "['ich hab bestimmt schon 20 stück zerschrottet @orangemorange', 'brolowk3y187', '15:37:56']\n",
      "['@orangemorange immer nur Trinken über die Tastatur gekippt, aber nie was absichtlich kaputt gemacht', 'dryatty', '15:37:56']\n",
      "['1', 'fibexe', '15:37:56']\n",
      "['111', 'blitzmaker_49', '15:37:56']\n",
      "['bei slots wirst du durchdrehen LUL', 'anthraxx47', '15:37:57']\n",
      "['1', 'luca4432_', '15:37:57']\n",
      "['ich mach ne deckenlampe kaputt', 'polarcrafter123', '15:37:57']\n",
      "['Hab mein Handy kaputt geschmissen', 'bigmatzel', '15:37:57']\n",
      "['nur tisch kapput gemacht', 'mycrushisriot', '15:37:57']\n",
      "['Habe gestern so hart auf mein Tisch geschlagen das mein PC einfach gefreezed ist und mein team hat die runde trz geholt also was soll ich sagen', '631rafael', '15:37:57']\n",
      "['hab nie das verlangen danach gehabt', 'robiniphoefer', '15:37:57']\n",
      "['wenn papa bezahlt kann man auch kaputt machen', 'iamn0tapsycho', '15:37:58']\n",
      "['Ps 4 gefetzt', 'tittytwister00', '15:37:59']\n",
      "['nein', 'maxi3090800', '15:37:59']\n",
      "['Wolltest du nicht den Taucheranzug anziehen?', 'thestrxnger2803', '15:37:59']\n",
      "['Controller aus 7.Stock geworfen von Kollegen', 'j4nn35_', '15:37:59']\n",
      "['das ist 1 Spin', 'kevze97', '15:38:01']\n",
      "['same', 'miyuxx3', '15:38:01']\n",
      "['ich hätte mir das nicht leisten können @ora', 'dark_8ii', '15:38:01']\n",
      "['und jetzt spinnt er auf 100 euro', 'jonny_ks', '15:38:01']\n",
      "['true', 'calmjules', '15:38:01']\n",
      "['immer auf bein gehauen', 'marlon_babyface', '15:38:01']\n",
      "['1', 'speckidiefettsau', '15:38:01']\n",
      "['noich nie was kaputt gemacht aus rage', 'bazooneo', '15:38:01']\n",
      "['Tastatur kostet 180€', 'itsmer0', '15:38:02']\n",
      "['1', 'dennisplatz69', '15:38:02']\n",
      "['kevin halt', 'tobycryz', '15:38:03']\n",
      "['11', 'fibexe', '15:38:03']\n",
      "['@AyzedTV, Hier kannst du deine Flammen🔥 einlösen: https://streamelements.com/orangemorange/store', 'streamelements', '15:38:04']\n",
      "['Gaming monitor gefetzt ✅', 'dommeger', '15:38:04']\n",
      "['ich auch nicht', 'lukeman424', '15:38:04']\n",
      "['ist schon traurig wenn man sich nicht so unter Kontrolle hat.', 'c0ub0t', '15:38:05']\n",
      "['du bist kein echter gamer', 'thefaceofthegame', '15:38:05']\n",
      "['nur Tastaturen', 'closepalme', '15:38:05']\n",
      "['ich nicht.', 'beterusus', '15:38:06']\n",
      "['2', 'auf_nach_malta', '15:38:06']\n",
      "['Absoluter Blödsinn😂 Safe hast du was kaputt gemacht', 'air_max45', '15:38:06']\n",
      "['nein habe nichts kaputt gemacht', 'akitooooooooooo', '15:38:06']\n",
      "['true selbstbeherrschung', 'knbrot', '15:38:08']\n",
      "['meine schwester hat ihr ipad einfach zerschlagen', 'nefas_8i', '15:38:09']\n",
      "['3 controller 1 tastatur und 2 mäuse schon OMEGALUL', 'cracki29', '15:38:09']\n",
      "['Und ja es ist unnötig', 'bigmatzel', '15:38:10']\n",
      "['unge hat doch auch ein baseball schläger :)', 'mariobrother1234', '15:38:10']\n",
      "['3 Tastaturen, 2 Bildschirme ,4 Mouse, 3 Controller BibleThump', 'adxim_gxd', '15:38:11']\n",
      "['dafür oft verloren aber nicht kaputt gemacht haha', 'furkiistream', '15:38:11']\n",
      "['Dann bist du einfach zu gut', 'floisness', '15:38:11']\n",
      "['bedürfnis, immer... aber nie gemacht', 'lonts', '15:38:12']\n",
      "['ich nicht', 'beterusus', '15:38:12']\n",
      "['versteh ich auch net', 'fabs_8i', '15:38:12']\n",
      "['Was läuft morangeHi morangeHi morangeHi', 'royalephilipp', '15:38:13']\n",
      "['ein warer gamer schätzt sein setup', 'tekuru__', '15:38:13']\n",
      "['und man müsste wieder auf neue lieferzeit warten! einfach unnötig und dumm! @orangemorange', 'crax_the_king', '15:38:13']\n",
      "['er sagt controller kostet 60€ aber jetzt spint er für 100€ NotLikeThis SeemsGood SeemsGood SeemsGood', 'oneshot_live_17', '15:38:14']\n",
      "['ein freund von mir 2 pcs', 'maxi3090800', '15:38:15']\n",
      "['Drucker flog aus dem zweiten stock................ und Dad fuhr grade in den hof', 'joesk1412', '15:38:15']\n",
      "['mein röhren fernseher damals hat viele controller ausgehalten^^', 'doremifasol1982', '15:38:16']\n",
      "['\\x01ACTION 👤 Neue(r) Follow(s) ❤ thepericulum, Troniixzombie, Layyth77, und 5 andere Follower. ❤, WILLKOMMEN (517576 Follower) (+93)\\x01', 'orangemorange', '15:38:16']\n",
      "['immer nur wasserflaschen geworfen', 'cems_bettlarken', '15:38:16']\n",
      "['ne noch nie', '1866pmw2', '15:38:17']\n",
      "['dei Stuhl beim lost legends cup', 'luckybest2010', '15:38:17']\n",
      "['wenn man raged verliert man und das heißt man ist schlecht', 'vollblldforscher', '15:38:19']\n",
      "['Hab sogar schon mal meinen tv geschrottet', 'oneautumnleaf1902', '15:38:19']\n",
      "['hab mal mit meinem controler auf mein handy display geschlagen', 'lycks11', '15:38:19']\n",
      "['handy monitor tisch fernseher controller tastatur bruder ich hör lieber auf sonst wirds zu viel haha', 'rorsky2k', '15:38:20']\n",
      "['nur tisch', 'ahmad_kr_', '15:38:20']\n",
      "['Kappa', 'eixonix', '15:38:21']\n",
      "['Tisch schlagen', 'agentbaul_', '15:38:22']\n",
      "['nur meine Tastatur', 'closepalme', '15:38:22']\n",
      "['ich habe noch nie ein Controller kaputt gemacht aber ne Flasche Rum geworfen', 'neverbeold', '15:38:23']\n",
      "['ist so ist echt teuer', 'akitooooooooooo', '15:38:24']\n",
      "['20 Stück 1400€', 'tbrx52', '15:38:26']\n",
      "['bro, tische kaputt gehauen, controller, CDs, Maus usw', 'xcalypse', '15:38:26']\n",
      "['Lieber Holz gehackt', 'michelangolo1978', '15:38:26']\n",
      "['imagine man hat nen scuf', 'quexx7s', '15:38:27']\n",
      "['@nefas_8i fühl ich auf display boxen wenn yt hängt', 'xfabian_07x', '15:38:27']\n",
      "['ich auch nicht viel zu teuer', 'agrar_domi', '15:38:27']\n",
      "['Habe gestern so hart auf mein Tisch geschlagen das mein PC einfach gefreezed ist und mein team hat die runde trz geholt also was soll ich sagen morangeSONNE', '631rafael', '15:38:28']\n",
      "['Doch, nen Elite Xbox Controller 180€ wasted', 'jimmymclaw', '15:38:28']\n",
      "['@joesk1412 hahahahahahahah', 'daniel_vero', '15:38:30']\n",
      "['RAGE', 'royalephilipp', '15:38:30']\n",
      "['wan spinst du', 'nicokillpro', '15:38:30']\n",
      "['@joesk1412 junge wtf LUL', 'iamn0tapsycho', '15:38:31']\n",
      "['spiel 1 jahr fifa dann wirst du es verstehen', 'marpatkur', '15:38:32']\n",
      "['moiin', 's1mon44', '15:38:32']\n",
      "['HAHAHHAAHA', 'keksstlr', '15:38:33']\n",
      "['vorhin noch gesagt 10k sind nix und jetzt 70euro zu viel xD', 'detox1496', '15:38:33']\n",
      "['OMEGADANCEBUTFAST', 'derpredar', '15:38:33']\n",
      "['4 controller 1 tastatur 1 monitor 2 ikea tische', 'scxfmxstxr25', '15:38:34']\n",
      "['erzähl das den 100 euro spins kappa', 'kbm2019', '15:38:34']\n",
      "['LUL', 'herbertgroenemeier999', '15:38:35']\n",
      "['Mario Kart?', 'seonex_', '15:38:35']\n",
      "['OMEGALUL', 'acaass', '15:38:35']\n",
      "['Nachdem Controller kaputt war mit dem von meinem bruder getauscht OMEGALUL', '0nxs0', '15:38:35']\n",
      "['aha', 'maxi3090800', '15:38:36']\n",
      "['OMEGADANCEBUTFAST', 'dryatty', '15:38:38']\n",
      "['hallo kevin liebe grüsse aus der Schweiz. kommst du grand casino zocken?', 'vankuuup', '15:38:38']\n",
      "['LUL', 'nightbot', '15:38:39']\n",
      "['Wie wtf', 'schm1kol4s', '15:38:40']\n",
      "['OMEGALUL', 'royalephilipp', '15:38:40']\n",
      "['hab denn Mal gegen die Wand Geschickkissen ja was ist der auch so instabile😅', 'nikofnb', '15:38:42']\n",
      "['ohaaa', 'flammenflolive', '15:38:43']\n",
      "['Kumpel von mir hatte immer nen kaputten controller neben sich liegen den er werfen kann im fall der fälle', 'xthefi4sh', '15:38:43']\n",
      "['deine VGAs fast', 'eddie_8i', '15:38:44']\n",
      "['OMEGALUL', 'dameritas', '15:38:45']\n",
      "['habe meine tür geschrotet', 'burakderweise', '15:38:45']\n",
      "['Caught4k', 'tobycryz', '15:38:46']\n",
      "['\"Ich habe noch nie aus rage was kaputt gemacht\" JAJAJA', 'keksstlr', '15:38:49']\n",
      "['eigentlich immer auf Coach geschlagen einmal nicht gesehen das der Laptop da stand mit Controller auf Laptop gehauen war belastend', 'ok_johnnyy', '15:38:49']\n",
      "['besser Tisch als Controller', 'der_daxter', '15:38:49']\n",
      "['spiel fifa. dann ändert sich alles', 'ben_bolika', '15:38:50']\n",
      "['Nur Tastaturen bis jetzt', 'closepalme', '15:38:51']\n",
      "['Tisch hahaha', 'hannibal4cannibal', '15:38:51']\n",
      "['OMEGADANCEBUTFAST', 'krasseronkel', '15:38:52']\n",
      "['HAAHAHAHHAHAA', 'vollblldforscher', '15:38:53']\n",
      "['Aaaaaahaaaaa da haben wir es doch😂😂', 'air_max45', '15:38:57']\n",
      "['800000', '631rafael', '15:38:59']\n",
      "['hahahahaha', 'flammenflolive', '15:39:00']\n",
      "['lol', 'agrar_domi', '15:39:01']\n",
      "['800 k', 'vollblldforscher', '15:39:02']\n",
      "['ahahaha', 'dommeger', '15:39:03']\n",
      "['WAYTOODANK', 'dryatty', '15:39:04']\n",
      "['OMEGALUL', 'dommeger', '15:39:04']\n",
      "['wtf', 'muhammed27', '15:39:05']\n",
      "['LUL', 'martymcfly237', '15:39:06']\n",
      "['LUL', 'nightbot', '15:39:06']\n",
      "['was AHAHHAHAH', 'derpredar', '15:39:08']\n",
      "['?????', 'dryatty', '15:39:09']\n",
      "['und wenn man weis das man so ausrastet einfach Boxsack kaufen', 'purqe_', '15:39:09']\n",
      "['KEKW', 'vollblldforscher', '15:39:09']\n",
      "['OMEGALUL', 'latitude420', '15:39:10']\n",
      "['KEKW', 'strahlenabb', '15:39:11']\n",
      "['knapp', 'tobycryz', '15:39:11']\n",
      "['OMEGALUL', 'muhammed27', '15:39:11']\n",
      "['OMEGALUL', 'derpredar', '15:39:11']\n",
      "['wtf', 'flammenflolive', '15:39:11']\n",
      "['????????????', 'schm1kol4s', '15:39:12']\n",
      "['@burakderweise Ich meine sparst dir dann das Tür öffnen', 'keksstlr', '15:39:12']\n",
      "['AHAHAHAHHA', 'derpredar', '15:39:13']\n",
      "['800k wtf', 'iamn0tapsycho', '15:39:15']\n",
      "['ist der dumm', 'flammenflolive', '15:39:15']\n",
      "['lol wie', 'der_daxter', '15:39:15']\n",
      "['eldenring könnte ichs aber nach vollziehen', 'michelangolo1978', '15:39:15']\n",
      "['90€', 'muhammed27', '15:39:16']\n",
      "['\\x01ACTION 👤 Neue(r) Follow(s) ❤ nicokoc183, dieschocko ❤, WILLKOMMEN (517577 Follower) (+95)\\x01', 'orangemorange', '15:39:17']\n",
      "['Bruh hahahaha', 'royalephilipp', '15:39:17']\n",
      "['165 sag ich', 'fabs_8i', '15:39:18']\n",
      "['ist der dumm, KEKW', 'crax_the_king', '15:39:19']\n",
      "['OMEGALUL', 'krasseronkel', '15:39:19']\n",
      "['hahahhaa', 'dryatty', '15:39:19']\n",
      "['oder dümmer', 'flammenflolive', '15:39:20']\n",
      "['hahahaha', 'crax_the_king', '15:39:20']\n",
      "['OMEGALUL', 'jojo__359', '15:39:22']\n",
      "['True', 'flammenflolive', '15:39:23']\n",
      "['shiroxFail', 'slotrigger', '15:39:24']\n",
      "['OMEGALUL', 'vollblldforscher', '15:39:24']\n",
      "['hhahahhahhhaha', 'aceclapez', '15:39:25']\n",
      "['177 € 100 &', '631rafael', '15:39:28']\n",
      "['wie viele hände wurden schon gebrochen durchs auf den tisch schlagen', 'vankuuup', '15:39:28']\n",
      "['800k Cent Kappa', 'der_daxter', '15:39:29']\n",
      "['doch', 'xfabian_07x', '15:39:31']\n",
      "['das sind ca 150 oder so', 'derpredar', '15:39:35']\n",
      "['das ist ein spin', 'soschkadlr', '15:39:37']\n",
      "['USB sticks mit bitcoin drauf', 'eddie_8i', '15:39:38']\n",
      "['@orangemorange vorallem sagt er er kann es behalten wenn er es richtig erst', 'schm1kol4s', '15:39:39']\n",
      "['wenn ich sub bin kriege ich dann doppelte Flammen?', 'creamypeaches08', '15:39:42']\n",
      "['erät', 'schm1kol4s', '15:39:42']\n",
      "['100€ vielleicht', 'neverbeold', '15:39:43']\n",
      "['@Der_Daxter ne, nicht mal 8k euro', 'crax_the_king', '15:39:44']\n",
      "['Mit 500er schon', 'caner_mardin', '15:39:49']\n",
      "['er meint das ernst ?', 'muhammed27', '15:39:49']\n",
      "['50€?', 'dameritas', '15:39:50']\n",
      "['in 5 cent stücken?', 'calmjules', '15:39:55']\n",
      "['200 maximal', 'dryatty', '15:39:56']\n",
      "['yo 8000 hunderter wird knapp', 'michelangolo1978', '15:39:57']\n",
      "['ca. 270€ wenn schon', 'schoki97', '15:40:01']\n",
      "['80€', 'daniel_vero', '15:40:03']\n",
      "['HUH', 'maze_03', '15:40:09']\n",
      "['OMEGADANCEBUTFAST', 'derpredar', '15:40:10']\n",
      "['Er denkt das die Bankkarte von Trymacs drin ist @orangemorange', 'communitytv', '15:40:10']\n",
      "['bruh wie viel war es den nun', 'dryatty', '15:40:14']\n",
      "['man kann nicht genau sehen ob da auch euro stücke sind. nur die münzen so 5er', 'dameritas', '15:40:19']\n",
      "['OMEGALUL \\U000e0000', 'dommeger', '15:40:20']\n",
      "['Die lache einfach gleich bei den beiden Stemmlers😂', 'air_max45', '15:40:21']\n",
      "['OMEGALUL so lost', 'dommeger', '15:40:21']\n",
      "['OMEGALUL', 'god___complex', '15:40:22']\n",
      "['hahahahhaha', 'flammenflolive', '15:40:24']\n",
      "['LUL LUL', 'slotrigger', '15:40:24']\n",
      "['switch sports würd ich bei dir fühlen kevin', 'fabs_8i', '15:40:24']\n",
      "['es sind 172', 'lenmontv', '15:40:25']\n",
      "['KEKW', 'jojo__359', '15:40:27']\n",
      "['OMEGADANCEBUTFAST', 'derpredar', '15:40:29']\n",
      "['bigPls', 'dommeger', '15:40:32']\n",
      "['\\x01ACTION 👤 Neue(r) Follow(s) ❤ l0rick ❤, WILLKOMMEN (517579 Follower) (+96)\\x01', 'orangemorange', '15:40:32']\n",
      "['bigPls \\U000e0000', 'dommeger', '15:40:33']\n",
      "['LUL', 'nightbot', '15:40:33']\n",
      "['bigPls', 'dommeger', '15:40:34']\n",
      "['und dann 20x', 'apeman1337', '15:40:38']\n",
      "['bigPls', 'dryatty', '15:40:38']\n",
      "['OMEGALUL', 'miriikirii', '15:40:39']\n",
      "['irgendwann wirft er sein aquarium um', '631rafael', '15:40:40']\n",
      "['WutFace', 'dryatty', '15:40:44']\n",
      "['sein cock hahaha', 'timimgym25', '15:40:45']\n",
      "['wenn toro endlich mal wieder gönnt', 'spritzbeutel69', '15:40:49']\n",
      "['Hallo Kevin könntest du morgen früher streamen, weil mein Hase wird morgen eingeschläfert ich und sie schauen deinen stream immer .Derwegen wollte ich fragen ob du morgen früher slotz streamen kannst?', 'the_lion_hd', '15:40:53']\n",
      "['hattest du gestern wirklich dein erstes mal die beiden freispiele auf 100er? @orangemorange', 'crax_the_king', '15:40:54']\n",
      "['LUL', 'herbertgroenemeier999', '15:40:54']\n",
      "['LUL', 'nightbot', '15:40:55']\n",
      "['OMEGALUL', 'derpredar', '15:40:58']\n",
      "['OMEGALUL', 'dommeger', '15:40:58']\n",
      "['Pog Tanzi', 'fabs_8i', '15:40:58']\n",
      "['jetzt kommt theo', 'anthraxx47', '15:40:58']\n",
      "['OMEGALUL OMEGALUL', 'xfabian_07x', '15:41:01']\n",
      "['So ekelhaft', 'flammenflolive', '15:41:02']\n",
      "['hahaah', 'strahlenabb', '15:41:03']\n",
      "['OMEGALUL \\U000e0000', 'dommeger', '15:41:04']\n",
      "['also wirklich tanzi thanhsWeirdDude', 'fl4tsch', '15:41:05']\n",
      "['Seele verkauf', 'pagiangaming', '15:41:05']\n",
      "['baaah Ekelhaft', 'flammenflolive', '15:41:07']\n",
      "['hahahah', 'johnnyabatiyo', '15:41:11']\n",
      "['Er hat doch immer gesagt er macht das nicht. Kein rücken der mann Kappa', 'keksstlr', '15:41:11']\n",
      "['Sadge', 'dommeger', '15:41:16']\n",
      "['Wie ist das, wenn die eigene Freundin auf Youporn ist? :D', 'cloudiusofficial', '15:41:17']\n",
      "['Sadge', 'dryatty', '15:41:18']\n",
      "['Sadge', 'elpatron_8i', '15:41:18']\n",
      "['Sadge', 'xcalypse', '15:41:18']\n",
      "['Ich schreib schon Tweet gegen tanzi', 'schm1kol4s', '15:41:21']\n",
      "['Sadge', 'derpredar', '15:41:22']\n",
      "['LUL LUL LUL LUL', 'brolowk3y187', '15:41:23']\n",
      "['slotz', 'flammenflolive', '15:41:23']\n",
      "['Sadge der arme', 'dommeger', '15:41:24']\n",
      "['Sadge', 'muhammed27', '15:41:24']\n",
      "['Sadge', 'giuse_8i', '15:41:24']\n",
      "['Sadge', 'fabs_8i', '15:41:24']\n",
      "['NOIDONTTHINKSO', 'dryatty', '15:41:24']\n",
      "['f', 'anthraxx47', '15:41:25']\n",
      "['wann kommt casiono?', 'smallguy279', '15:41:25']\n",
      "['tu es Sadge', 'xcalypse', '15:41:25']\n",
      "['f', 'esportlerlxjos', '15:41:26']\n",
      "['ne', 'knopperfrischundknusprich', '15:41:26']\n",
      "['F', 'knbrot', '15:41:26']\n",
      "['Sadge .', 'elpatron_8i', '15:41:27']\n",
      "['Sadge', 'aceclapez', '15:41:27']\n",
      "['Heute keine Slots ?', 'sevkan97', '15:41:28']\n",
      "['oha', 'battleangle2', '15:41:28']\n",
      "['Sadge', 'acaass', '15:41:29']\n",
      "['OMEGALUL', 'dieserrapha', '15:41:29']\n",
      "['f', 'wavejanisz', '15:41:30']\n",
      "['Sadge F', 'dryatty', '15:41:30']\n",
      "['F', 'keksstlr', '15:41:30']\n",
      "['Sadge', 'simdalu', '15:41:30']\n",
      "['Sadge hasi', 'suntadge', '15:41:31']\n",
      "['FeelsBadMan', 'purqe_', '15:41:31']\n",
      "['Clueless', 'tobycryz', '15:41:31']\n",
      "['Der echte Theo', 'miguel_l17', '15:41:31']\n",
      "['morgen ist doch stream frei', '631rafael', '15:41:31']\n",
      "['f', 'madmax241992', '15:41:33']\n",
      "['f', 'soschkadlr', '15:41:33']\n",
      "['jaha', 'paul2oo', '15:41:33']\n",
      "['Sadge rip', 'charles_winston', '15:41:33']\n",
      "['Sadge', 'royalephilipp', '15:41:33']\n",
      "['\\x01ACTION 👤 Neue(r) Follow(s) ❤ felipay6 ❤, WILLKOMMEN (517580 Follower) (+97)\\x01', 'orangemorange', '15:41:33']\n",
      "['Sadge', 'schmiddi114', '15:41:33']\n",
      "['einafch nein', 'eddie_8i', '15:41:33']\n",
      "['F', 'jojo__359', '15:41:33']\n",
      "['Sadge', 'miriikirii', '15:41:33']\n",
      "['F', 'keko_der_geko_', '15:41:33']\n",
      "['Sadge', 'chuuckelias', '15:41:34']\n",
      "['Sadge', 's1mon44', '15:41:34']\n",
      "['Sadge', 'kennyxtr', '15:41:34']\n",
      "['MAch ein video für sein hase', 'daniel_vero', '15:41:34']\n",
      "['Sadge', 'its_jona__', '15:41:34']\n",
      "['Jung', 'tracktec', '15:41:35']\n",
      "['F', 'flammenflolive', '15:41:35']\n",
      "['Sadge . F', 'elpatron_8i', '15:41:35']\n",
      "['uff vorallem glaub ich das der noch garnicht slots schauen darf.', 'nooxy1', '15:41:35']\n",
      "['shiroxCry', 'slotrigger', '15:41:36']\n",
      "['F', 'maur1cebtw', '15:41:36']\n",
      "['Sadge F', '0nxs0', '15:41:36']\n",
      "['f', 'eptic_vfb', '15:41:37']\n",
      "['f für den hasen', 'dingsderda', '15:41:37']\n",
      "['F', 'janipboy06', '15:41:38']\n",
      "['f', 'fabs_8i', '15:41:38']\n",
      "['F', 'muhammed27', '15:41:38']\n",
      "['F.', 'jojo__359', '15:41:38']\n",
      "['Sadge', 'elpatron_8i', '15:41:38']\n",
      "['):', 'jaklam655', '15:41:39']\n",
      "['Sadge rip an hasi', 'fl4tsch', '15:41:40']\n",
      "['F', 'larrydertaxifahrer', '15:41:41']\n",
      "['F', 'derpredar', '15:41:42']\n",
      "['Sadge FeelsRainMan', 'herbertgroenemeier999', '15:41:42']\n",
      "['Sadge .', 'elpatron_8i', '15:41:43']\n",
      "['F', 'mattiswe', '15:41:43']\n",
      "['f', 'mycrushisriot', '15:41:43']\n",
      "['F', 'bert0831', '15:41:44']\n",
      "['F', 'soldaten_respekt', '15:41:44']\n",
      "['F', 'wavejanisz', '15:41:44']\n",
      "['f', 'joni_on_xbox', '15:41:44']\n",
      "['D:', 'simdalu', '15:41:44']\n",
      "['Wie ist das, wenn die eigene Freundin auf Youporn ist?', 'cloudiusofficial', '15:41:45']\n",
      "['f', '2high4you__', '15:41:46']\n",
      "['Bitte nicht', 'flammenflolive', '15:41:46']\n",
      "['geh halt früher ins bett <3 auf ehre', 'mileyblvck', '15:41:46']\n",
      "['Dickes F', 'madmax241992', '15:41:46']\n",
      "['Der arme Hase', 'fahrradbang69', '15:41:46']\n",
      "['F.', 'larrydertaxifahrer', '15:41:48']\n",
      "[':/', 'shorepeter_', '15:41:48']\n",
      "['Sadge', 'elpatron_8i', '15:41:48']\n",
      "['\\x01ACTION ⭐️ RE-SUB ⭐️ shirizzlee (+10) ⭐️\\x01', 'orangemorange', '15:41:48']\n",
      "['oh no', 'fabs_8i', '15:41:49']\n",
      "['was kommt jetzt', 'dommeger', '15:41:49']\n",
      "['ich zeig dir mal ein richtigen hasen', 'herbertgroenemeier999', '15:41:50']\n",
      "['F', 'giuse_8i', '15:41:50']\n",
      "['F', 'mcnniak', '15:41:51']\n",
      "['D:', 'hiiiveee', '15:41:52']\n",
      "['Mein Hase kommt morgen in Ofen mit Rotwein', 'michelangolo1978', '15:41:52']\n",
      "['mach insta story für sein Hasen man!', 'kurdigx', '15:41:53']\n",
      "['f', 'wavejanisz', '15:41:53']\n",
      "['oh no', 'schmiddi114', '15:41:56']\n",
      "['wieso bist du so', 'kurdigx', '15:41:56']\n",
      "['F', 'gamerboy_german', '15:41:56']\n",
      "['LUL LUL LUL LUL LUL', 'bobby_gonzales_', '15:41:56']\n",
      "['LUL', 'nightbot', '15:41:57']\n",
      "['ehrenmann', 'keule_jannik', '15:41:57']\n",
      "['D:', 'rokaer', '15:41:57']\n",
      "['@shirizzlee du gewinnst mein herz Kappa', 'dommeger', '15:41:58']\n",
      "['Sadge', 'xfabian_07x', '15:41:59']\n",
      "['moin @orangemorange wollte morgen früher Mastubieren kannst du früher online kommen? :(', 'rudi_buttert', '15:42:00']\n",
      "['bann den der hase ist noch nicht 18 der darf den stream nicht schauen', 'technofreak', '15:42:02']\n",
      "['mein beileid bro', 'jayplayz4u', '15:42:03']\n",
      "['nowaySad nowaySad nowaySad nowaySad nowaySad nowaySad nowaySad nowaySad nowaySad', 'yotutel', '15:42:05']\n",
      "['jetzt kommts', 'anthraxx47', '15:42:05']\n",
      "['f', 'esportlerlxjos', '15:42:06']\n",
      "['Du bist einf ein ehrenmann', 'mcnniak', '15:42:08']\n",
      "['@kurdigx True', 'giuse_8i', '15:42:08']\n",
      "['@cloudiusofficial frag deinen vater', 'schm1kol4s', '15:42:08']\n",
      "['Modding', 'tobycryz', '15:42:10']\n",
      "['OMEGALUL', 'derpredar', '15:42:10']\n",
      "['D:', 'dryatty', '15:42:11']\n",
      "['OMEGADANCEBUTFAST', 'fl4tsch', '15:42:11']\n",
      "['????', 'tracktec', '15:42:12']\n",
      "['@NOOXY1 es geht doch jetzt gar nicht um die slots ??', 'nox_1337', '15:42:12']\n",
      "['OMEGALUL  JUNGE', 'spritzbeutel69', '15:42:12']\n",
      "['D:  \\U000e0000', 'dryatty', '15:42:12']\n",
      "['OMEGALUL', 'schmiddi114', '15:42:13']\n",
      "['HHhahahhahaa', 'fabs_8i', '15:42:14']\n",
      "['D:', 'dryatty', '15:42:14']\n",
      "['gottlos', 'quexx7s', '15:42:14']\n",
      "['pepeLaugh', 'fl4tsch', '15:42:15']\n",
      "['Jetz ist vorbei mit willst du mal ein richtigen Hase sehen', 'floisness', '15:42:15']\n",
      "['OMEGALUL', 'dieserrapha', '15:42:15']\n",
      "['@michelangolo1978 unangebracht und nicht lustig bro', 's1mon44', '15:42:15']\n",
      "['hahahahhahahaha', 'fabs_8i', '15:42:15']\n",
      "['xDDDDDDDD', 'xmoveee', '15:42:16']\n",
      "['Das ist echt nicht lustig', 'martymcfly237', '15:42:16']\n",
      "['digga du bist so ein ehrenloser', 'derapfelbaum13', '15:42:16']\n",
      "['D:', 'xcalypse', '15:42:16']\n",
      "['HAHAHHAHAHAHA', 'rorsky2k', '15:42:16']\n",
      "['OHAAA', 'eixonix', '15:42:16']\n",
      "['OH NO', 'mariobrother1234', '15:42:17']\n",
      "['NEIN', 'keule_jannik', '15:42:17']\n",
      "['omg', '810lukas', '15:42:17']\n",
      "['pepeLaugh ohnonono', 'fl4tsch', '15:42:17']\n",
      "['OMEGALUL gottlos', 'god___complex', '15:42:17']\n",
      "['Böse', 'kemratv', '15:42:17']\n",
      "['nein', 'thomas_8i', '15:42:17']\n",
      "['OHHH NOOO', 'varuce_', '15:42:17']\n",
      "['HAHAHAHHAHA', 'joni_on_xbox', '15:42:17']\n",
      "['Gottlos', 'michael_maa_', '15:42:17']\n",
      "['Broo', 'tracktec', '15:42:18']\n",
      "['BROOOOOOOOO', 'daniel_vero', '15:42:18']\n",
      "['HAAAHAHAHAH', 'derpredar', '15:42:18']\n",
      "['Valla Film heute, Saß mit Hasen am Tisch', 'engind22', '15:42:19']\n",
      "['HUH', 'maze_03', '15:42:19']\n",
      "['morangeS morangeS morangeS', 'marvinotf', '15:42:19']\n",
      "['OMEGALUL', 'soldaten_respekt', '15:42:19']\n",
      "['Digga hgahaha', 'apeman1337', '15:42:20']\n",
      "['hi', 'dennisstreamt_', '15:42:20']\n",
      "['HAHAHAHAHAHAAHAA', 'varuce_', '15:42:20']\n",
      "[':D', 'chuuckelias', '15:42:20']\n",
      "['D:', '0nxs0', '15:42:20']\n",
      "['dennisstreamt_ morangeHi', 'nightbot', '15:42:20']\n",
      "['omg', 'tabtaqz', '15:42:20']\n",
      "['BROOOOOOOOOOOOOOOOOOOOOOOOOOOO', 'mycrushisriot', '15:42:20']\n",
      "['? Sadge wieso.', 'elpatron_8i', '15:42:20']\n",
      "['D:', 'eikee11', '15:42:21']\n",
      "['Gottlos', 'eixonix', '15:42:21']\n",
      "['gottlos AHAHHAHAHAHA', 'derpredar', '15:42:21']\n",
      "['HUH ..', 'maze_03', '15:42:22']\n",
      "['monkaS', 'smokness_', '15:42:22']\n",
      "['BRUHHHHHHHHH', 'tobycryz', '15:42:22']\n",
      "['BODENLOS HAHAHHAHA', 'fabs_8i', '15:42:23']\n",
      "['haahahahahahahaahhahah', 'till_312', '15:42:23']\n",
      "['Brooooooo', 'keksstlr', '15:42:23']\n",
      "['so ehrenlos OMEGADANCEBUTFAST', 'ccr4nk', '15:42:23']\n",
      "['OMEGALUL DU EHRENLOSER', 'giuse_8i', '15:42:24']\n",
      "['HUH', 'maze_03', '15:42:24']\n",
      "['so ehrenlos xD', 'mauricebcw', '15:42:24']\n",
      "['SadChamp', 'derpredar', '15:42:25']\n",
      "['so ehrenlos OMEGADANCEBUTFAST', 'ccr4nk', '15:42:25']\n",
      "['DIGGAH', 'daniel_vero', '15:42:25']\n",
      "['AHAHA', 'dommeger', '15:42:25']\n",
      "['OMEGADANCEBUTFAST', 'fl4tsch', '15:42:25']\n",
      "['xDDDDDDDDD', 'skky54', '15:42:25']\n",
      "['Ehrenlos digga', 'kurdigx', '15:42:26']\n",
      "['????', 'tracktec', '15:42:26']\n",
      "['xD', 'adxim_gxd', '15:42:26']\n",
      "['BODENLOS WER DA LACHT HAHAHAHAA', 'tabtaqz', '15:42:26']\n",
      "['hhhahahahahhaha', 'flammenflolive', '15:42:27']\n",
      "['hahahahahahaah xD', 'hyro1993', '15:42:27']\n",
      "['OMEGADANCEBUTFAST \\U000e0000', 'fl4tsch', '15:42:27']\n",
      "['KEKW', 'dxyid_', '15:42:27']\n",
      "['lol', 'doremifasol1982', '15:42:27']\n",
      "['HAHAHA', 'frutitv', '15:42:27']\n",
      "['ehrenlos brooooo', 'xthefi4sh', '15:42:28']\n",
      "['KEKW', 'muhammed27', '15:42:28']\n",
      "['OMEGADANCEBUTFAST', 'ccr4nk', '15:42:28']\n",
      "['duuuu huuuund :D', 'dingsderda', '15:42:29']\n",
      "['du spast xD', 'shawn_honor', '15:42:29']\n",
      "['GOTTLOS', 'anthraxx47', '15:42:29']\n",
      "['HAHAHAHA', 'dxyid_', '15:42:31']\n",
      "['hahahhahahaha', 'thrusty36', '15:42:31']\n",
      "['gottlos', 'derpredar', '15:42:31']\n",
      "['so ehrenlos digga', 'dommeger', '15:42:31']\n",
      "['realtalk ehrenlos', 'kurdigx', '15:42:31']\n",
      "['Gottlos', 'hiiiveee', '15:42:31']\n",
      "['Junge', 'tracktec', '15:42:31']\n",
      "['hahahhahahaa', 'aceclapez', '15:42:31']\n",
      "['hahaha', 'purqe_', '15:42:31']\n",
      "['faridb3Haha faridb3Haha faridb3Haha faridb3Haha', 'lbotrexl', '15:42:31']\n",
      "['hahahahah', 'tayfun_67', '15:42:31']\n",
      "['Huh', 'keksstlr', '15:42:31']\n",
      "['Bodenlos', 'schmiddi114', '15:42:31']\n",
      "['Ehrenlos WeirdChamp', 'elpatron_8i', '15:42:31']\n",
      "['OMEGADANCEBUTFAST', 'fl4tsch', '15:42:31']\n",
      "['uuuiu', 'vankuuup', '15:42:31']\n",
      "['uff', 'mattiswe', '15:42:31']\n",
      "['omg', 'neverbeold', '15:42:32']\n",
      "['Gottlos', 'muhammed27', '15:42:32']\n",
      "['hahahah', 'eddie_8i', '15:42:32']\n",
      "['ehrenlos', 'jayplayz4u', '15:42:32']\n",
      "['so ehrenlos OMEGADANCEBUTFAST', 'ccr4nk', '15:42:32']\n",
      "['LUL', 'ppaassccaalll', '15:42:33']\n",
      "['hahaaaaahaahhaha', 'varuce_', '15:42:33']\n",
      "['LUL', 'nightbot', '15:42:33']\n",
      "['Bro', 'soldaten_respekt', '15:42:33']\n",
      "['\\x01ACTION 👤 Neue(r) Follow(s) ❤ rePhiiL, hand_of_creck, akytheking, und 2 andere Follower. ❤, WILLKOMMEN (517585 Follower) (+102)\\x01', 'orangemorange', '15:42:33']\n",
      "['hahhahahhaahhahaah', 'vollblldforscher', '15:42:33']\n",
      "['du ehrenloser', 'maxi3090800', '15:42:33']\n",
      "['JUNGE HAHAHA DU EHRENLOSER OMEGALUL', 'eikee11', '15:42:34']\n",
      "['Gott los', 'nikofnb', '15:42:34']\n",
      "['ahahahahahah du ehrenloser', 'soschkadlr', '15:42:34']\n",
      "['rlly?', 'neumi_deluxe', '15:42:34']\n",
      "['GIGACHAD', 'marvinotf', '15:42:34']\n",
      "['Ehrenlos', 'keksstlr', '15:42:34']\n",
      "['gottlos', 'krasseronkel', '15:42:34']\n",
      "['bodenlos', 'clinrr', '15:42:34']\n",
      "['schon bischen hahaha', 'apeman1337', '15:42:34']\n",
      "['AHHH GOTTLOS', 'mariobrother1234', '15:42:35']\n",
      "['hahahahahahahahahahahahahahahaha', 'brate_was_los', '15:42:35']\n",
      "['LUL LUL LUL', 'janipboy06', '15:42:35']\n",
      "['Bodenlos', 'royalephilipp', '15:42:36']\n",
      "['Gottlos LUL', 'nitrotherapy92', '15:42:36']\n",
      "['mit dem hasen ehrenlos', 'razzzerr', '15:42:36']\n",
      "['D:', 'chuuckelias', '15:42:36']\n",
      "['HUH wtf', 'maze_03', '15:42:36']\n",
      "['hahaha', 'mileyblvck', '15:42:36']\n",
      "['HAHAHAHHAHA', 'rorsky2k', '15:42:36']\n",
      "['das ist gottlos', 'keule_jannik', '15:42:37']\n",
      "['HHAHHAHAHAHHAHAHAAH', 'lycks11', '15:42:37']\n",
      "['HAHAHAHAHAHAHAHAHAHA', 'varuce_', '15:42:37']\n",
      "['gottlos', 'eptic_vfb', '15:42:37']\n",
      "['so Eckelhaft LUL', 'bobby_gonzales_', '15:42:37']\n",
      "['untermensch', 'postbotemitbrief', '15:42:37']\n",
      "['Du kommst in die Hölle! @orangemorange KEKW', 'crax_the_king', '15:42:38']\n",
      "['ABSOLUT GOTTLOS HAHAHAHAH', 'fl4tsch', '15:42:38']\n",
      "['D: Bodenlos', '0nxs0', '15:42:38']\n",
      "['bodenlos', 'neverbeold', '15:42:38']\n",
      "['du bastard hahahaha', 'larrydertaxifahrer', '15:42:38']\n",
      "['gottlos', 'bistegeilsven', '15:42:39']\n",
      "['junge du bist so gott los', 'battleangle2', '15:42:39']\n",
      "['OMEGALUL', 'cracki29', '15:42:39']\n",
      "['gottlos', 'schwarzer_beef_', '15:42:39']\n",
      "['gottlos', 'derpredar', '15:42:39']\n",
      "['oha digga gottlos', 'zsnipzz_', '15:42:39']\n",
      "['@Mods bitte Kontext einer Nachricht beachte und nicht wild sperren, Danke!', 'pagiangaming', '15:42:39']\n",
      "['Wie kann man so sein xD', 'michael_maa_', '15:42:39']\n",
      "['bodenlos', 'maxi3090800', '15:42:39']\n",
      "['LUL LUL LUL LUL LUL', 'brolowk3y187', '15:42:40']\n",
      "['BRUH', 'potatorick_', '15:42:40']\n",
      "['Ok richtig ehrenlos', 'hannibal4cannibal', '15:42:40']\n",
      "['LUL', 'crax_the_king', '15:42:40']\n",
      "['WeirdChamp', 'latitude420', '15:42:40']\n",
      "[',aber selbst', 'flammenflolive', '15:42:41']\n",
      "['Hä', 'bayyari98', '15:42:41']\n",
      "['Hahahah du peco', 'engind22', '15:42:42']\n",
      "['HAHAHHAHAHAHAHA', 'jojo__359', '15:42:42']\n",
      "['frech', 'fahrradbang69', '15:42:43']\n",
      "['Wenn nicht?', 'keksstlr', '15:42:43']\n",
      "['Gottlos', 'whyaura', '15:42:43']\n",
      "['EHRLICH NICHT KORREKT', 'mycrushisriot', '15:42:44']\n",
      "['Gottlos', 'janipboy06', '15:42:44']\n",
      "['D: 👎', 'xfabian_07x', '15:42:45']\n",
      "['hahahaahahah', 'xskyy9x', '15:42:45']\n",
      "['ist realtalk nicht cool du musst dir das vorstellen mit deinen Katzen', 'kurdigx', '15:42:46']\n",
      "['HHAHAHAH', 'dennisstreamt_', '15:42:47']\n",
      "['AHAHAHA', 'dommeger', '15:42:48']\n",
      "['jo übertreib was wenn nicht', 'jayplayz4u', '15:42:48']\n",
      "['was ist mit dir?', 'mnop12', '15:42:48']\n",
      "['was wenn nicht ?', 'bobby_gonzales_', '15:42:48']\n",
      "['oh gott  wie gottlos xD', 'bazooneo', '15:42:49']\n",
      "['was wenn nicht', 'maxi3090800', '15:42:49']\n",
      "['das war echt einer zu viel', 'bayyari98', '15:42:49']\n",
      "['des ist schon EVIL', 'ytmaggi', '15:42:50']\n",
      "['morangeEhrenlos morangeEhrenlos morangeEhrenlos morangeEhrenlos', 'kevze97', '15:42:50']\n",
      "['der Arme hha', 'ke817ks', '15:42:50']\n",
      "['Gottlos', 'clay8353', '15:42:50']\n",
      "['Bodenlos', 'mcnniak', '15:42:50']\n",
      "['Gottlos', 'xtim0', '15:42:51']\n",
      "['hey Feier dich Bor  wann fángst du an mit Spots LG :)', 'donpromillo420_', '15:42:51']\n",
      "['LUL LUL', 'janipboy06', '15:42:52']\n",
      "['jennyanNo jennyanNo jennyanNo', 'cleanfreshaircanada88', '15:42:52']\n",
      "['der wurde auch gerade eingschläfert^^', 'doremifasol1982', '15:42:52']\n",
      "['ja obvious', 'maze_03', '15:42:52']\n",
      "['hahha', 'tabtaqz', '15:42:54']\n",
      "['KARMA kommt heute in den slots @orangemorange', 'anthraxx47', '15:42:55']\n",
      "['Gottlos', '0nxs0', '15:42:56']\n",
      "['@s1mon44 ich hiet', 'michelangolo1978', '15:42:56']\n",
      "['larrydertaxifahrer MODS', 'derpredar', '15:42:56']\n",
      "['Diiga du pic', 'zzkliozz', '15:42:57']\n",
      "['gottlos bodenlos', 'dommeger', '15:42:57']\n",
      "['hä kann schon sein', 's1mon44', '15:42:57']\n",
      "['gottlos', 'wavejanisz', '15:42:57']\n",
      "['der arme', 'nativfnr', '15:42:57']\n",
      "['ja kann doch sein', 'martymcfly237', '15:42:58']\n",
      "['junge D: OMEGALUL', 'eikee11', '15:42:58']\n",
      "['die hasen werden am ende der jagd gezählt', 'eddie_8i', '15:42:58']\n",
      "['Hasen lieben Slots', 'fahrradbang69', '15:42:58']\n",
      "['Moin zusammen', 'joma8i', '15:42:59']\n",
      "['Gottlos', 'suchtberatung', '15:43:00']\n",
      "['beste hahahaha', 'justin05r', '15:43:00']\n",
      "['hahaha', 'wavejanisz', '15:43:00']\n",
      "['der arme', 'miriikirii', '15:43:02']\n",
      "['@orangemorange nein glaub nicht, er hat gesagt er guckt mit seiner freundin', 'aquuna', '15:43:02']\n",
      "['bodenlos', 'suntadge', '15:43:03']\n",
      "['Kann doch sein Bro', 'royalephilipp', '15:43:03']\n",
      "['wenn nicht Schäme dich LUL', 'bobby_gonzales_', '15:43:04']\n",
      "['einer zu viel Sadge', 'giuse_8i', '15:43:04']\n",
      "['ihr seid so ekelhaft vielleicht hatte er wirklich eine emotionale bindung zu seinem hasen', 'shirizzlee', '15:43:05']\n",
      "['D:', 'schmiddi114', '15:43:05']\n",
      "['hielt es für troll', 'michelangolo1978', '15:43:06']\n",
      "['Hallo Kevin könntest du morgen früher streamen, weil mein Hase wird morgen eingeschläfert ich und sie schauen deinen stream immer .Derwegen wollte ich fragen ob du morgen früher slotz streamen kannst?', 'fl4tsch', '15:43:06']\n",
      "['morgen schickt er dir proof', 'lbotrexl', '15:43:06']\n",
      "['jetzt weint er', 'x_fat_x', '15:43:07']\n",
      "['ey, meine katze sitzt auch vor dem TV wenn ich stream gucke. schwöre kein troll? :D', 'dameritas', '15:43:07']\n",
      "['echt was wenn kein troll', 'hemse2009', '15:43:08']\n",
      "['ich bin gestorben', 'till_312', '15:43:09']\n",
      "['der junge war 11...', 'lonts', '15:43:10']\n",
      "['Ja', 'keksstlr', '15:43:10']\n",
      "['HARAM', 'tobycryz', '15:43:10']\n",
      "['Ich kenn ihn er lügt nicht', 'herbertgroenemeier999', '15:43:11']\n",
      "['stell mal vor das wäre kein troll', 'mariobrother1234', '15:43:11']\n",
      "['BRUDER DU BIST DER BESTE MAN HAHAHA', 'rorsky2k', '15:43:12']\n",
      "['stell dir vor du schaust mit dein bebis tv D:', 'ccr4nk', '15:43:12']\n",
      "['ja', 'dommeger', '15:43:14']\n",
      "['imagine kein troll OMEGALUL', 'spritzbeutel69', '15:43:15']\n",
      "['klar', 'tobycryz', '15:43:15']\n",
      "['machstn wenn deine katze angeschossen wird?', 'dingsderda', '15:43:16']\n",
      "['HAHAHAHAHAHHA', 'untouchable09', '15:43:16']\n",
      "['bruder kann halt echt sein', 'xcalypse', '15:43:16']\n",
      "['ja', 'krasseronkel', '15:43:17']\n",
      "['ja warum nicht', 'derpredar', '15:43:17']\n",
      "['er meints ernst', 'bayyari98', '15:43:17']\n",
      "['Der Hase schaut Stream bei Einschläferung', 'quixy95', '15:43:17']\n",
      "['hahaha ja safr', 'x_fat_x', '15:43:18']\n",
      "['JA', 'varuce_', '15:43:18']\n",
      "['der Junge ist 11', 'flammenflolive', '15:43:19']\n",
      "['ja', 'wavejanisz', '15:43:19']\n",
      "['Ja', 'its_jona__', '15:43:19']\n",
      "['warum denn nicht', 'noawake_', '15:43:19']\n",
      "['ja', 'x2lobadu', '15:43:19']\n",
      "['gibt auch Hunde die fernseh süchtig sind', 'lurumble', '15:43:19']\n",
      "['ja', 'miriikirii', '15:43:20']\n",
      "['Und wenn nicht', 'suchtberatung', '15:43:20']\n",
      "['Bruder heute kannst du in den slots nichts erwarten LUL', 'daniel_vero', '15:43:21']\n",
      "['haha', 'kp_rules', '15:43:21']\n",
      "['why not', 'neumi_deluxe', '15:43:21']\n",
      "['kan sein', 'jayplayz4u', '15:43:21']\n",
      "['Ohaaa', 'sumbloy', '15:43:22']\n",
      "['Was geht', 'vallahhund', '15:43:22']\n",
      "['NoAwake_ Darum!', 'nightbot', '15:43:22']\n",
      "['SAFE', 'wavejanisz', '15:43:22']\n",
      "['wenn nicht ehrenlos 😂', '2high4you__', '15:43:23']\n",
      "['tja', 'tobycryz', '15:43:23']\n",
      "['@orangemorange vlt meint er freundin', 'maxi3090800', '15:43:23']\n",
      "['hahah', 'miro1337_', '15:43:23']\n",
      "['😂😂😂😂😂😂', 'furkiistream', '15:43:24']\n",
      "['los Chat macht ihm ein schlechtes Gewissen LUL', 'bobby_gonzales_', '15:43:25']\n",
      "['@orangemorange der darf noch keine Slots schauen.', 'nooxy1', '15:43:25']\n",
      "['klar', 'mister_tj', '15:43:26']\n",
      "['Inschallah wirst du heute nur verlieren', 'whyaura', '15:43:26']\n",
      "['Normal', 'anonymousax', '15:43:29']\n",
      "['Bro', 'sumbloy', '15:43:29']\n",
      "['karama kommt in denn slots', 'beterusus', '15:43:29']\n",
      "['ehrenlos bruder das macht man ehrlich nicht', 'soschkadlr', '15:43:29']\n",
      "['haha, twitch ist ab 13', 'crax_the_king', '15:43:29']\n",
      "['Ja kp Bro', 'royalephilipp', '15:43:29']\n",
      "['Moin Kevin alles gut bei dir? morangeL', 'pokerruffy_8i', '15:43:29']\n",
      "['ich guck immer mit meinem goldfisch', 'apeman1337', '15:43:29']\n",
      "['Na klar...', 'fahrradbang69', '15:43:29']\n",
      "['Natürlich ich schau auch auf der couch mit menem Hund manchmal', 'martymcfly237', '15:43:29']\n",
      "['Wir züchten Kaninchen und schlachten diese', 'juliislife', '15:43:29']\n",
      "['mur bei white rabbit', 'martnofficial', '15:43:30']\n",
      "['nein ich bin sein Hase kann es bestätigen wir kucken deine Streams', 'derschraeder', '15:43:30']\n",
      "['prnhub ist auch ab 18', 'tobycryz', '15:43:30']\n",
      "['hoppel hat die freispiele geliebt', 'lonts', '15:43:30']\n",
      "['noch nicht ab 18', 'eddie_8i', '15:43:31']\n",
      "['4Shrug', 'ccr4nk', '15:43:31']\n",
      "['Kannst du morgen später streamen, weil ich früher aufstehe? @orangemorange', 'xfabian_07x', '15:43:31']\n",
      "['Klar', 'suchtberatung', '15:43:31']\n",
      "['ka', 'maxi3090800', '15:43:31']\n",
      "['Ja nein ja nein vielleicht PrideShrug skylinetvDenkenderAdam skylinetvDenkenderAdam', 'schoki97', '15:43:32']\n",
      "['moin Kevin wie gehts', 'vyoo7', '15:43:33']\n",
      "['\\x01ACTION 👤 Neue(r) Follow(s) ❤ moinjohnnyhh, philipp171202, dannynator1994, und 4 andere Follower. ❤, WILLKOMMEN (517592 Follower) (+109)\\x01', 'orangemorange', '15:43:34']\n",
      "['Der Hase ist Abo sogar schäm dich', 'engind22', '15:43:34']\n",
      "['der schläfert sich morgen mit seinem hasen ein...', 'rudi_buttert', '15:43:35']\n",
      "['Hase ist spielsüchtig', 'kp_rules', '15:43:35']\n",
      "['mach ich auch mit meinen salzstangen hääää @orangemorange', 'diekammler_og', '15:43:35']\n",
      "['der ist safe 11', 'jojo__359', '15:43:36']\n",
      "['bin 4', 'memify', '15:43:36']\n",
      "['und wenns kein troll ist? Sadge', 'miriikirii', '15:43:36']\n",
      "['kann schon', 'bazooneo', '15:43:37']\n",
      "['@the_lion_hd', 'xtimi_', '15:43:38']\n",
      "['HOL IHN DC @orangemorange', 'varuce_', '15:43:39']\n",
      "['wieder bisschen in die slots ahahaahahh', 'loemmne94', '15:43:39']\n",
      "['@the_lion_hd', 'dommeger', '15:43:39']\n",
      "['Vielleicht war das ein Kuscheltier Hase', 'patejoker_tv', '15:43:41']\n",
      "['inshallah karma bei slots !', 'anthraxx47', '15:43:41']\n",
      "['@the_lion_hd war das', 'dommeger', '15:43:41']\n",
      "['@the_lion_hd', 'fl4tsch', '15:43:42']\n",
      "['komm in mein Keller ich zeige dir einen richtigen Hasen', 'purqe_', '15:43:44']\n",
      "['foto vom hasen oder lüge', 'tobycryz', '15:43:45']\n",
      "['Markus', 'mcnniak', '15:43:45']\n",
      "['@the_lion_hd', '631rafael', '15:43:45']\n",
      "['der hase is sub wtf', 'sleezyx', '15:43:46']\n",
      "['@the_lion_hd', 'lbotrexl', '15:43:47']\n",
      "['Der arme', 'fahrradbang69', '15:43:47']\n",
      "['Ich bin 27 und schaue mit meinen 2 Katzen streams und youtube videos', 'postbotemitbrief', '15:43:47']\n",
      "['Der hase hat sogar twitch prime bei dir', 'daniel_vero', '15:43:48']\n",
      "['the_lion_hd so', 'knbrot', '15:43:49']\n",
      "['Der Hype ist back morangeHype', 'mvf_toxic8i', '15:43:49']\n",
      "['@fl4tsch sein name', 'hemse2009', '15:43:49']\n",
      "['hä ich schaue grade auch mit meinen oktopus? WTF', 'kaan_8i', '15:43:50']\n",
      "['er sieht aus als hätte er gestern getrunken', 'shirizzlee', '15:43:50']\n",
      "['Kevin hat so reingeschmissen eben LUL', 'bobby_gonzales_', '15:43:51']\n",
      "['twtich is ab 13 ihr snitches', 'johnnyabatiyo', '15:43:51']\n",
      "['@the_lion_hd', 'kurdigx', '15:43:53']\n",
      "['@the_lion_hd  f', 'keksstlr', '15:43:53']\n",
      "['@the_lion_hd', 'wavejanisz', '15:43:58']\n",
      "['@the_lion_hd', 'lukasschauttwich', '15:43:58']\n",
      "['orangemorangeeeeeeee hypeeeeeeeeeeeeeeeee!!!! I HYPE U UP BRO LETS GO !!!', 'sonxaku', '15:43:59']\n",
      "['Wie ist das, wenn die eigene Freundin auf Youporn ist?', 'cloudiusofficial', '15:44:03']\n",
      "['\\x01ACTION ⭐️ NEUER SUB ⭐️ Apeman1337 (+11) ⭐️\\x01', 'orangemorange', '15:44:04']\n",
      "['er hieß ilovemyrabbit', 'kbm2019', '15:44:07']\n",
      "['Hasen können gar keine Leds sehen', 'jannik068', '15:44:07']\n",
      "['Warum ist der Stream ab 18 ist doch ein YouTube Video', 'vallahhund', '15:44:07']\n",
      "['Vallahhund Darum!', 'nightbot', '15:44:07']\n",
      "['@hemse2009 ich hab nur copy pasted man HUH', 'fl4tsch', '15:44:08']\n",
      "['orange bester mann das video übelstgut @orangemorange LUL LUL LUL', 'brolowk3y187', '15:44:09']\n",
      "['schon Sadge', 'fabs_8i', '15:44:10']\n"
     ]
    },
    {
     "data": {
      "text/plain": [
       "\"\\ndef remove_column(file_name, column_index):\\n    with open(file_name, 'r') as f:\\n        reader = csv.reader(f)\\n        data = list(reader)\\n    with open(file_name, 'w') as f:\\n        writer = csv.writer(f)\\n        for row in data:\\n            del row[column_index]\\n            writer.writerow(row)\\n\\n\\nremove_column('trainwreckstv.csv', 1)\\n\""
      ]
     },
     "execution_count": 15,
     "metadata": {},
     "output_type": "execute_result"
    }
   ],
   "source": [
    "import csv\n",
    "import re\n",
    "\n",
    "import matplotlib.pyplot as plt\n",
    "\n",
    "\n",
    "laughs = []\n",
    "timestamps = []\n",
    "\n",
    "\n",
    "def remove_time(string):\n",
    "    return string[:8]\n",
    "\n",
    "\n",
    "\n",
    "with open('orangemorange.csv') as f:\n",
    "    reader = csv.reader(f)\n",
    "    for row in reader:\n",
    "        \n",
    "        try:\n",
    "            #remove if messsage starts with !\n",
    "            if row[0].startswith('!') or row[0].startswith('https://'):\n",
    "                continue\n",
    "\n",
    "            \n",
    "            if row[1].startswith('Streamlabs') or row[1].startswith('streamlabs'):\n",
    "                continue\n",
    "\n",
    "            #replace 2022-05-31 with a space\n",
    "            if '2022-05-31' in row[2]:\n",
    "                row[2] = row[2].replace('2022-05-31 ', '')\n",
    "\n",
    "                row[2] = remove_time(row[2])\n",
    "\n",
    "                #append row to laughs\n",
    "                timestamps.append(row[2])\n",
    "\n",
    "                if \"haha\" in row[0].lower() or \"LUL\" in row[0].lower():\n",
    "                    laughs.append(row[2])\n",
    "            \n",
    "        \n",
    "        except:\n",
    "            pass\n",
    "\n",
    "        \n",
    "\n",
    "        print(row)\n",
    "\n",
    "        #plot the graph\n",
    "        \n",
    "\n",
    "\n",
    "\n",
    "\n",
    "\n",
    "\n",
    "#remove the column username\n",
    "'''\n",
    "def remove_column(file_name, column_index):\n",
    "    with open(file_name, 'r') as f:\n",
    "        reader = csv.reader(f)\n",
    "        data = list(reader)\n",
    "    with open(file_name, 'w') as f:\n",
    "        writer = csv.writer(f)\n",
    "        for row in data:\n",
    "            del row[column_index]\n",
    "            writer.writerow(row)\n",
    "\n",
    "\n",
    "remove_column('trainwreckstv.csv', 1)\n",
    "'''\n",
    "\n",
    "\n",
    "\n"
   ]
  },
  {
   "cell_type": "code",
   "execution_count": 17,
   "metadata": {},
   "outputs": [
    {
     "data": {
      "application/vnd.plotly.v1+json": {
       "config": {
        "plotlyServerURL": "https://plot.ly"
       },
       "data": [
        {
         "type": "histogram",
         "x": [
          "15:23:17",
          "15:23:17",
          "15:23:18",
          "15:23:18",
          "15:23:21",
          "15:23:21",
          "15:23:22",
          "15:23:23",
          "15:23:23",
          "15:23:24",
          "15:23:26",
          "15:23:27",
          "15:23:28",
          "15:23:29",
          "15:23:29",
          "15:23:32",
          "15:23:35",
          "15:23:35",
          "15:23:36",
          "15:23:38",
          "15:23:40",
          "15:23:42",
          "15:23:54",
          "15:23:54",
          "15:23:54",
          "15:23:57",
          "15:24:04",
          "15:24:07",
          "15:24:09",
          "15:24:10",
          "15:24:15",
          "15:24:23",
          "15:24:26",
          "15:24:37",
          "15:24:37",
          "15:24:37",
          "15:24:41",
          "15:24:43",
          "15:24:48",
          "15:24:49",
          "15:24:52",
          "15:24:55",
          "15:24:59",
          "15:24:59",
          "15:25:02",
          "15:25:02",
          "15:25:03",
          "15:25:14",
          "15:25:18",
          "15:25:23",
          "15:25:26",
          "15:25:34",
          "15:25:36",
          "15:25:37",
          "15:25:46",
          "15:25:46",
          "15:25:46",
          "15:25:47",
          "15:25:51",
          "15:25:55",
          "15:25:56",
          "15:26:05",
          "15:26:10",
          "15:30:52",
          "15:30:57",
          "15:30:58",
          "15:30:58",
          "15:31:01",
          "15:31:04",
          "15:31:09",
          "15:31:17",
          "15:31:22",
          "15:31:25",
          "15:31:27",
          "15:31:28",
          "15:31:29",
          "15:31:29",
          "15:31:31",
          "15:31:31",
          "15:31:32",
          "15:31:32",
          "15:31:33",
          "15:31:34",
          "15:31:34",
          "15:31:35",
          "15:31:35",
          "15:31:35",
          "15:31:36",
          "15:31:37",
          "15:31:37",
          "15:31:41",
          "15:31:46",
          "15:31:49",
          "15:31:49",
          "15:31:50",
          "15:31:51",
          "15:31:53",
          "15:31:56",
          "15:31:56",
          "15:31:56",
          "15:31:57",
          "15:31:58",
          "15:31:59",
          "15:32:01",
          "15:32:01",
          "15:32:01",
          "15:32:02",
          "15:32:02",
          "15:32:02",
          "15:32:04",
          "15:32:04",
          "15:32:04",
          "15:32:04",
          "15:32:05",
          "15:32:05",
          "15:32:06",
          "15:32:06",
          "15:32:07",
          "15:32:07",
          "15:32:08",
          "15:32:09",
          "15:32:10",
          "15:32:10",
          "15:32:11",
          "15:32:12",
          "15:32:15",
          "15:32:19",
          "15:32:20",
          "15:32:20",
          "15:32:20",
          "15:32:21",
          "15:32:21",
          "15:32:21",
          "15:32:21",
          "15:32:21",
          "15:32:21",
          "15:32:21",
          "15:32:22",
          "15:32:22",
          "15:32:22",
          "15:32:22",
          "15:32:22",
          "15:32:22",
          "15:32:22",
          "15:32:22",
          "15:32:22",
          "15:32:22",
          "15:32:22",
          "15:32:22",
          "15:32:22",
          "15:32:23",
          "15:32:23",
          "15:32:23",
          "15:32:23",
          "15:32:23",
          "15:32:23",
          "15:32:23",
          "15:32:23",
          "15:32:23",
          "15:32:23",
          "15:32:23",
          "15:32:23",
          "15:32:23",
          "15:32:23",
          "15:32:23",
          "15:32:24",
          "15:32:24",
          "15:32:24",
          "15:32:24",
          "15:32:24",
          "15:32:24",
          "15:32:24",
          "15:32:24",
          "15:32:24",
          "15:32:24",
          "15:32:24",
          "15:32:24",
          "15:32:25",
          "15:32:25",
          "15:32:25",
          "15:32:25",
          "15:32:25",
          "15:32:25",
          "15:32:26",
          "15:32:26",
          "15:32:26",
          "15:32:26",
          "15:32:26",
          "15:32:26",
          "15:32:26",
          "15:32:26",
          "15:32:26",
          "15:32:26",
          "15:32:27",
          "15:32:27",
          "15:32:27",
          "15:32:27",
          "15:32:27",
          "15:32:27",
          "15:32:27",
          "15:32:27",
          "15:32:27",
          "15:32:27",
          "15:32:27",
          "15:32:27",
          "15:32:27",
          "15:32:28",
          "15:32:28",
          "15:32:28",
          "15:32:28",
          "15:32:29",
          "15:32:29",
          "15:32:29",
          "15:32:29",
          "15:32:29",
          "15:32:29",
          "15:32:29",
          "15:32:29",
          "15:32:30",
          "15:32:30",
          "15:32:30",
          "15:32:30",
          "15:32:30",
          "15:32:30",
          "15:32:30",
          "15:32:31",
          "15:32:31",
          "15:32:31",
          "15:32:31",
          "15:32:32",
          "15:32:32",
          "15:32:32",
          "15:32:32",
          "15:32:32",
          "15:32:33",
          "15:32:33",
          "15:32:33",
          "15:32:33",
          "15:32:33",
          "15:32:33",
          "15:32:33",
          "15:32:35",
          "15:32:35",
          "15:32:35",
          "15:32:35",
          "15:32:35",
          "15:32:35",
          "15:32:35",
          "15:32:35",
          "15:32:35",
          "15:32:35",
          "15:32:35",
          "15:32:35",
          "15:32:35",
          "15:32:35",
          "15:32:36",
          "15:32:36",
          "15:32:36",
          "15:32:36",
          "15:32:38",
          "15:32:38",
          "15:32:38",
          "15:32:38",
          "15:32:38",
          "15:32:38",
          "15:32:38",
          "15:32:38",
          "15:32:38",
          "15:32:38",
          "15:32:38",
          "15:32:38",
          "15:32:38",
          "15:32:38",
          "15:32:38",
          "15:32:38",
          "15:32:38",
          "15:32:38",
          "15:32:39",
          "15:32:39",
          "15:32:39",
          "15:32:39",
          "15:32:39",
          "15:32:39",
          "15:32:39",
          "15:32:39",
          "15:32:39",
          "15:32:40",
          "15:32:40",
          "15:32:40",
          "15:32:40",
          "15:32:40",
          "15:32:41",
          "15:32:41",
          "15:32:41",
          "15:32:41",
          "15:32:41",
          "15:32:41",
          "15:32:42",
          "15:32:42",
          "15:32:42",
          "15:32:42",
          "15:32:42",
          "15:32:42",
          "15:32:43",
          "15:32:43",
          "15:32:43",
          "15:32:43",
          "15:32:44",
          "15:32:44",
          "15:32:44",
          "15:32:44",
          "15:32:44",
          "15:32:44",
          "15:32:44",
          "15:32:44",
          "15:32:44",
          "15:32:45",
          "15:32:45",
          "15:32:45",
          "15:32:45",
          "15:32:45",
          "15:32:45",
          "15:32:45",
          "15:32:46",
          "15:32:46",
          "15:32:46",
          "15:32:46",
          "15:32:47",
          "15:32:47",
          "15:32:47",
          "15:32:47",
          "15:32:48",
          "15:32:48",
          "15:32:48",
          "15:32:48",
          "15:32:48",
          "15:32:49",
          "15:32:49",
          "15:32:49",
          "15:32:50",
          "15:32:50",
          "15:32:50",
          "15:32:51",
          "15:32:51",
          "15:32:51",
          "15:32:51",
          "15:32:51",
          "15:32:51",
          "15:32:51",
          "15:32:51",
          "15:32:51",
          "15:32:52",
          "15:32:52",
          "15:32:53",
          "15:32:53",
          "15:32:53",
          "15:32:53",
          "15:32:53",
          "15:32:53",
          "15:32:53",
          "15:32:53",
          "15:32:53",
          "15:32:54",
          "15:32:55",
          "15:32:55",
          "15:32:56",
          "15:32:57",
          "15:32:57",
          "15:32:58",
          "15:32:58",
          "15:32:58",
          "15:32:58",
          "15:32:58",
          "15:32:59",
          "15:33:00",
          "15:33:01",
          "15:33:01",
          "15:33:01",
          "15:33:01",
          "15:33:01",
          "15:33:01",
          "15:33:01",
          "15:33:02",
          "15:33:02",
          "15:33:02",
          "15:33:03",
          "15:33:03",
          "15:33:04",
          "15:33:04",
          "15:33:04",
          "15:33:04",
          "15:33:05",
          "15:33:06",
          "15:33:06",
          "15:33:07",
          "15:33:07",
          "15:33:07",
          "15:33:07",
          "15:33:08",
          "15:33:08",
          "15:33:08",
          "15:33:09",
          "15:33:09",
          "15:33:11",
          "15:33:12",
          "15:33:14",
          "15:33:16",
          "15:33:16",
          "15:33:17",
          "15:33:17",
          "15:33:19",
          "15:33:19",
          "15:33:21",
          "15:33:22",
          "15:33:22",
          "15:33:24",
          "15:33:25",
          "15:33:28",
          "15:33:29",
          "15:33:32",
          "15:33:37",
          "15:33:46",
          "15:33:46",
          "15:33:54",
          "15:33:57",
          "15:34:04",
          "15:34:07",
          "15:34:08",
          "15:34:09",
          "15:34:12",
          "15:34:12",
          "15:34:12",
          "15:34:13",
          "15:34:14",
          "15:34:18",
          "15:34:20",
          "15:34:21",
          "15:34:24",
          "15:34:24",
          "15:34:24",
          "15:34:26",
          "15:34:28",
          "15:34:28",
          "15:34:29",
          "15:34:29",
          "15:34:29",
          "15:34:36",
          "15:34:40",
          "15:34:42",
          "15:34:43",
          "15:34:45",
          "15:34:51",
          "15:34:52",
          "15:35:02",
          "15:35:04",
          "15:35:05",
          "15:35:06",
          "15:35:13",
          "15:35:13",
          "15:35:17",
          "15:35:26",
          "15:35:28",
          "15:35:29",
          "15:35:31",
          "15:35:31",
          "15:35:39",
          "15:35:40",
          "15:35:48",
          "15:35:48",
          "15:36:02",
          "15:36:06",
          "15:36:07",
          "15:36:07",
          "15:36:08",
          "15:36:09",
          "15:36:11",
          "15:36:11",
          "15:36:12",
          "15:36:13",
          "15:36:14",
          "15:36:14",
          "15:36:14",
          "15:36:16",
          "15:36:16",
          "15:36:17",
          "15:36:17",
          "15:36:18",
          "15:36:19",
          "15:36:19",
          "15:36:20",
          "15:36:20",
          "15:36:20",
          "15:36:21",
          "15:36:21",
          "15:36:22",
          "15:36:22",
          "15:36:22",
          "15:36:23",
          "15:36:24",
          "15:36:25",
          "15:36:25",
          "15:36:27",
          "15:36:31",
          "15:36:46",
          "15:36:49",
          "15:36:52",
          "15:36:55",
          "15:36:56",
          "15:37:00",
          "15:37:03",
          "15:37:05",
          "15:37:07",
          "15:37:10",
          "15:37:10",
          "15:37:10",
          "15:37:12",
          "15:37:15",
          "15:37:16",
          "15:37:18",
          "15:37:20",
          "15:37:25",
          "15:37:26",
          "15:37:27",
          "15:37:28",
          "15:37:28",
          "15:37:28",
          "15:37:28",
          "15:37:28",
          "15:37:28",
          "15:37:28",
          "15:37:28",
          "15:37:28",
          "15:37:28",
          "15:37:28",
          "15:37:29",
          "15:37:29",
          "15:37:29",
          "15:37:29",
          "15:37:29",
          "15:37:29",
          "15:37:29",
          "15:37:29",
          "15:37:29",
          "15:37:29",
          "15:37:29",
          "15:37:29",
          "15:37:29",
          "15:37:29",
          "15:37:29",
          "15:37:29",
          "15:37:30",
          "15:37:30",
          "15:37:30",
          "15:37:30",
          "15:37:30",
          "15:37:30",
          "15:37:30",
          "15:37:30",
          "15:37:30",
          "15:37:30",
          "15:37:30",
          "15:37:30",
          "15:37:30",
          "15:37:30",
          "15:37:30",
          "15:37:30",
          "15:37:30",
          "15:37:30",
          "15:37:30",
          "15:37:31",
          "15:37:32",
          "15:37:32",
          "15:37:32",
          "15:37:32",
          "15:37:32",
          "15:37:32",
          "15:37:32",
          "15:37:32",
          "15:37:32",
          "15:37:32",
          "15:37:32",
          "15:37:32",
          "15:37:32",
          "15:37:32",
          "15:37:33",
          "15:37:33",
          "15:37:33",
          "15:37:33",
          "15:37:33",
          "15:37:33",
          "15:37:33",
          "15:37:33",
          "15:37:33",
          "15:37:33",
          "15:37:33",
          "15:37:33",
          "15:37:33",
          "15:37:33",
          "15:37:34",
          "15:37:34",
          "15:37:34",
          "15:37:34",
          "15:37:34",
          "15:37:34",
          "15:37:34",
          "15:37:34",
          "15:37:34",
          "15:37:34",
          "15:37:34",
          "15:37:34",
          "15:37:34",
          "15:37:34",
          "15:37:34",
          "15:37:34",
          "15:37:34",
          "15:37:34",
          "15:37:34",
          "15:37:34",
          "15:37:35",
          "15:37:36",
          "15:37:36",
          "15:37:36",
          "15:37:36",
          "15:37:36",
          "15:37:36",
          "15:37:36",
          "15:37:36",
          "15:37:37",
          "15:37:37",
          "15:37:37",
          "15:37:37",
          "15:37:37",
          "15:37:37",
          "15:37:37",
          "15:37:37",
          "15:37:37",
          "15:37:38",
          "15:37:38",
          "15:37:38",
          "15:37:38",
          "15:37:39",
          "15:37:39",
          "15:37:39",
          "15:37:39",
          "15:37:39",
          "15:37:39",
          "15:37:39",
          "15:37:39",
          "15:37:39",
          "15:37:39",
          "15:37:39",
          "15:37:39",
          "15:37:40",
          "15:37:40",
          "15:37:40",
          "15:37:40",
          "15:37:40",
          "15:37:40",
          "15:37:40",
          "15:37:41",
          "15:37:41",
          "15:37:41",
          "15:37:41",
          "15:37:41",
          "15:37:41",
          "15:37:42",
          "15:37:42",
          "15:37:42",
          "15:37:42",
          "15:37:42",
          "15:37:42",
          "15:37:43",
          "15:37:43",
          "15:37:43",
          "15:37:43",
          "15:37:43",
          "15:37:43",
          "15:37:43",
          "15:37:43",
          "15:37:44",
          "15:37:44",
          "15:37:44",
          "15:37:44",
          "15:37:44",
          "15:37:44",
          "15:37:46",
          "15:37:46",
          "15:37:46",
          "15:37:46",
          "15:37:46",
          "15:37:46",
          "15:37:46",
          "15:37:46",
          "15:37:46",
          "15:37:46",
          "15:37:46",
          "15:37:46",
          "15:37:46",
          "15:37:46",
          "15:37:46",
          "15:37:46",
          "15:37:46",
          "15:37:46",
          "15:37:46",
          "15:37:46",
          "15:37:46",
          "15:37:46",
          "15:37:46",
          "15:37:47",
          "15:37:47",
          "15:37:47",
          "15:37:47",
          "15:37:47",
          "15:37:47",
          "15:37:47",
          "15:37:48",
          "15:37:48",
          "15:37:48",
          "15:37:48",
          "15:37:48",
          "15:37:49",
          "15:37:49",
          "15:37:49",
          "15:37:49",
          "15:37:49",
          "15:37:49",
          "15:37:49",
          "15:37:50",
          "15:37:50",
          "15:37:50",
          "15:37:50",
          "15:37:50",
          "15:37:51",
          "15:37:51",
          "15:37:51",
          "15:37:51",
          "15:37:51",
          "15:37:51",
          "15:37:51",
          "15:37:51",
          "15:37:51",
          "15:37:51",
          "15:37:51",
          "15:37:51",
          "15:37:51",
          "15:37:52",
          "15:37:52",
          "15:37:52",
          "15:37:52",
          "15:37:53",
          "15:37:53",
          "15:37:53",
          "15:37:53",
          "15:37:53",
          "15:37:54",
          "15:37:54",
          "15:37:54",
          "15:37:54",
          "15:37:54",
          "15:37:55",
          "15:37:55",
          "15:37:55",
          "15:37:55",
          "15:37:55",
          "15:37:56",
          "15:37:56",
          "15:37:56",
          "15:37:56",
          "15:37:57",
          "15:37:57",
          "15:37:57",
          "15:37:57",
          "15:37:57",
          "15:37:57",
          "15:37:57",
          "15:37:58",
          "15:37:59",
          "15:37:59",
          "15:37:59",
          "15:37:59",
          "15:38:01",
          "15:38:01",
          "15:38:01",
          "15:38:01",
          "15:38:01",
          "15:38:01",
          "15:38:01",
          "15:38:01",
          "15:38:02",
          "15:38:02",
          "15:38:03",
          "15:38:03",
          "15:38:04",
          "15:38:04",
          "15:38:04",
          "15:38:05",
          "15:38:05",
          "15:38:05",
          "15:38:06",
          "15:38:06",
          "15:38:06",
          "15:38:06",
          "15:38:08",
          "15:38:09",
          "15:38:09",
          "15:38:10",
          "15:38:10",
          "15:38:11",
          "15:38:11",
          "15:38:11",
          "15:38:12",
          "15:38:12",
          "15:38:12",
          "15:38:13",
          "15:38:13",
          "15:38:13",
          "15:38:14",
          "15:38:15",
          "15:38:15",
          "15:38:16",
          "15:38:16",
          "15:38:16",
          "15:38:17",
          "15:38:17",
          "15:38:19",
          "15:38:19",
          "15:38:19",
          "15:38:20",
          "15:38:20",
          "15:38:21",
          "15:38:22",
          "15:38:22",
          "15:38:23",
          "15:38:24",
          "15:38:26",
          "15:38:26",
          "15:38:26",
          "15:38:27",
          "15:38:27",
          "15:38:27",
          "15:38:28",
          "15:38:28",
          "15:38:30",
          "15:38:30",
          "15:38:30",
          "15:38:31",
          "15:38:32",
          "15:38:32",
          "15:38:33",
          "15:38:33",
          "15:38:33",
          "15:38:34",
          "15:38:34",
          "15:38:35",
          "15:38:35",
          "15:38:35",
          "15:38:35",
          "15:38:36",
          "15:38:38",
          "15:38:38",
          "15:38:39",
          "15:38:40",
          "15:38:40",
          "15:38:42",
          "15:38:43",
          "15:38:43",
          "15:38:44",
          "15:38:45",
          "15:38:45",
          "15:38:46",
          "15:38:49",
          "15:38:49",
          "15:38:49",
          "15:38:50",
          "15:38:51",
          "15:38:51",
          "15:38:52",
          "15:38:53",
          "15:38:57",
          "15:38:59",
          "15:39:00",
          "15:39:01",
          "15:39:02",
          "15:39:03",
          "15:39:04",
          "15:39:04",
          "15:39:05",
          "15:39:06",
          "15:39:06",
          "15:39:08",
          "15:39:09",
          "15:39:09",
          "15:39:09",
          "15:39:10",
          "15:39:11",
          "15:39:11",
          "15:39:11",
          "15:39:11",
          "15:39:11",
          "15:39:12",
          "15:39:12",
          "15:39:13",
          "15:39:15",
          "15:39:15",
          "15:39:15",
          "15:39:15",
          "15:39:16",
          "15:39:17",
          "15:39:17",
          "15:39:18",
          "15:39:19",
          "15:39:19",
          "15:39:19",
          "15:39:20",
          "15:39:20",
          "15:39:22",
          "15:39:23",
          "15:39:24",
          "15:39:24",
          "15:39:25",
          "15:39:28",
          "15:39:28",
          "15:39:29",
          "15:39:31",
          "15:39:35",
          "15:39:37",
          "15:39:38",
          "15:39:39",
          "15:39:42",
          "15:39:42",
          "15:39:43",
          "15:39:44",
          "15:39:49",
          "15:39:49",
          "15:39:50",
          "15:39:55",
          "15:39:56",
          "15:39:57",
          "15:40:01",
          "15:40:03",
          "15:40:09",
          "15:40:10",
          "15:40:10",
          "15:40:14",
          "15:40:19",
          "15:40:20",
          "15:40:21",
          "15:40:21",
          "15:40:22",
          "15:40:24",
          "15:40:24",
          "15:40:24",
          "15:40:25",
          "15:40:27",
          "15:40:29",
          "15:40:32",
          "15:40:32",
          "15:40:33",
          "15:40:33",
          "15:40:34",
          "15:40:38",
          "15:40:38",
          "15:40:39",
          "15:40:40",
          "15:40:44",
          "15:40:45",
          "15:40:49",
          "15:40:53",
          "15:40:54",
          "15:40:54",
          "15:40:55",
          "15:40:58",
          "15:40:58",
          "15:40:58",
          "15:40:58",
          "15:41:01",
          "15:41:02",
          "15:41:03",
          "15:41:04",
          "15:41:05",
          "15:41:05",
          "15:41:07",
          "15:41:11",
          "15:41:11",
          "15:41:16",
          "15:41:17",
          "15:41:18",
          "15:41:18",
          "15:41:18",
          "15:41:21",
          "15:41:22",
          "15:41:23",
          "15:41:23",
          "15:41:24",
          "15:41:24",
          "15:41:24",
          "15:41:24",
          "15:41:24",
          "15:41:25",
          "15:41:25",
          "15:41:25",
          "15:41:26",
          "15:41:26",
          "15:41:26",
          "15:41:27",
          "15:41:27",
          "15:41:28",
          "15:41:28",
          "15:41:29",
          "15:41:29",
          "15:41:30",
          "15:41:30",
          "15:41:30",
          "15:41:30",
          "15:41:31",
          "15:41:31",
          "15:41:31",
          "15:41:31",
          "15:41:31",
          "15:41:33",
          "15:41:33",
          "15:41:33",
          "15:41:33",
          "15:41:33",
          "15:41:33",
          "15:41:33",
          "15:41:33",
          "15:41:33",
          "15:41:33",
          "15:41:33",
          "15:41:34",
          "15:41:34",
          "15:41:34",
          "15:41:34",
          "15:41:34",
          "15:41:35",
          "15:41:35",
          "15:41:35",
          "15:41:35",
          "15:41:36",
          "15:41:36",
          "15:41:36",
          "15:41:37",
          "15:41:37",
          "15:41:38",
          "15:41:38",
          "15:41:38",
          "15:41:38",
          "15:41:38",
          "15:41:39",
          "15:41:40",
          "15:41:41",
          "15:41:42",
          "15:41:42",
          "15:41:43",
          "15:41:43",
          "15:41:43",
          "15:41:44",
          "15:41:44",
          "15:41:44",
          "15:41:44",
          "15:41:44",
          "15:41:45",
          "15:41:46",
          "15:41:46",
          "15:41:46",
          "15:41:46",
          "15:41:46",
          "15:41:48",
          "15:41:48",
          "15:41:48",
          "15:41:48",
          "15:41:49",
          "15:41:49",
          "15:41:50",
          "15:41:50",
          "15:41:51",
          "15:41:52",
          "15:41:52",
          "15:41:53",
          "15:41:53",
          "15:41:56",
          "15:41:56",
          "15:41:56",
          "15:41:56",
          "15:41:57",
          "15:41:57",
          "15:41:57",
          "15:41:58",
          "15:41:59",
          "15:42:00",
          "15:42:02",
          "15:42:03",
          "15:42:05",
          "15:42:05",
          "15:42:06",
          "15:42:08",
          "15:42:08",
          "15:42:08",
          "15:42:10",
          "15:42:10",
          "15:42:11",
          "15:42:11",
          "15:42:12",
          "15:42:12",
          "15:42:12",
          "15:42:12",
          "15:42:13",
          "15:42:14",
          "15:42:14",
          "15:42:14",
          "15:42:15",
          "15:42:15",
          "15:42:15",
          "15:42:15",
          "15:42:15",
          "15:42:16",
          "15:42:16",
          "15:42:16",
          "15:42:16",
          "15:42:16",
          "15:42:16",
          "15:42:17",
          "15:42:17",
          "15:42:17",
          "15:42:17",
          "15:42:17",
          "15:42:17",
          "15:42:17",
          "15:42:17",
          "15:42:17",
          "15:42:17",
          "15:42:18",
          "15:42:18",
          "15:42:18",
          "15:42:19",
          "15:42:19",
          "15:42:19",
          "15:42:19",
          "15:42:20",
          "15:42:20",
          "15:42:20",
          "15:42:20",
          "15:42:20",
          "15:42:20",
          "15:42:20",
          "15:42:20",
          "15:42:20",
          "15:42:21",
          "15:42:21",
          "15:42:21",
          "15:42:22",
          "15:42:22",
          "15:42:22",
          "15:42:23",
          "15:42:23",
          "15:42:23",
          "15:42:23",
          "15:42:24",
          "15:42:24",
          "15:42:24",
          "15:42:25",
          "15:42:25",
          "15:42:25",
          "15:42:25",
          "15:42:25",
          "15:42:25",
          "15:42:26",
          "15:42:26",
          "15:42:26",
          "15:42:26",
          "15:42:27",
          "15:42:27",
          "15:42:27",
          "15:42:27",
          "15:42:27",
          "15:42:27",
          "15:42:28",
          "15:42:28",
          "15:42:28",
          "15:42:29",
          "15:42:29",
          "15:42:29",
          "15:42:31",
          "15:42:31",
          "15:42:31",
          "15:42:31",
          "15:42:31",
          "15:42:31",
          "15:42:31",
          "15:42:31",
          "15:42:31",
          "15:42:31",
          "15:42:31",
          "15:42:31",
          "15:42:31",
          "15:42:31",
          "15:42:31",
          "15:42:31",
          "15:42:31",
          "15:42:32",
          "15:42:32",
          "15:42:32",
          "15:42:32",
          "15:42:32",
          "15:42:33",
          "15:42:33",
          "15:42:33",
          "15:42:33",
          "15:42:33",
          "15:42:33",
          "15:42:33",
          "15:42:34",
          "15:42:34",
          "15:42:34",
          "15:42:34",
          "15:42:34",
          "15:42:34",
          "15:42:34",
          "15:42:34",
          "15:42:34",
          "15:42:35",
          "15:42:35",
          "15:42:35",
          "15:42:36",
          "15:42:36",
          "15:42:36",
          "15:42:36",
          "15:42:36",
          "15:42:36",
          "15:42:36",
          "15:42:37",
          "15:42:37",
          "15:42:37",
          "15:42:37",
          "15:42:37",
          "15:42:37",
          "15:42:38",
          "15:42:38",
          "15:42:38",
          "15:42:38",
          "15:42:38",
          "15:42:39",
          "15:42:39",
          "15:42:39",
          "15:42:39",
          "15:42:39",
          "15:42:39",
          "15:42:39",
          "15:42:39",
          "15:42:39",
          "15:42:40",
          "15:42:40",
          "15:42:40",
          "15:42:40",
          "15:42:40",
          "15:42:41",
          "15:42:41",
          "15:42:42",
          "15:42:42",
          "15:42:43",
          "15:42:43",
          "15:42:43",
          "15:42:44",
          "15:42:44",
          "15:42:45",
          "15:42:45",
          "15:42:46",
          "15:42:47",
          "15:42:48",
          "15:42:48",
          "15:42:48",
          "15:42:48",
          "15:42:49",
          "15:42:49",
          "15:42:49",
          "15:42:50",
          "15:42:50",
          "15:42:50",
          "15:42:50",
          "15:42:50",
          "15:42:51",
          "15:42:51",
          "15:42:52",
          "15:42:52",
          "15:42:52",
          "15:42:52",
          "15:42:54",
          "15:42:55",
          "15:42:56",
          "15:42:56",
          "15:42:56",
          "15:42:57",
          "15:42:57",
          "15:42:57",
          "15:42:57",
          "15:42:57",
          "15:42:58",
          "15:42:58",
          "15:42:58",
          "15:42:58",
          "15:42:59",
          "15:43:00",
          "15:43:00",
          "15:43:00",
          "15:43:02",
          "15:43:02",
          "15:43:03",
          "15:43:03",
          "15:43:04",
          "15:43:04",
          "15:43:05",
          "15:43:05",
          "15:43:06",
          "15:43:06",
          "15:43:06",
          "15:43:07",
          "15:43:07",
          "15:43:08",
          "15:43:09",
          "15:43:10",
          "15:43:10",
          "15:43:10",
          "15:43:11",
          "15:43:11",
          "15:43:12",
          "15:43:12",
          "15:43:14",
          "15:43:15",
          "15:43:15",
          "15:43:16",
          "15:43:16",
          "15:43:16",
          "15:43:17",
          "15:43:17",
          "15:43:17",
          "15:43:17",
          "15:43:18",
          "15:43:18",
          "15:43:19",
          "15:43:19",
          "15:43:19",
          "15:43:19",
          "15:43:19",
          "15:43:19",
          "15:43:20",
          "15:43:20",
          "15:43:21",
          "15:43:21",
          "15:43:21",
          "15:43:21",
          "15:43:22",
          "15:43:22",
          "15:43:22",
          "15:43:22",
          "15:43:23",
          "15:43:23",
          "15:43:23",
          "15:43:23",
          "15:43:24",
          "15:43:25",
          "15:43:25",
          "15:43:26",
          "15:43:26",
          "15:43:29",
          "15:43:29",
          "15:43:29",
          "15:43:29",
          "15:43:29",
          "15:43:29",
          "15:43:29",
          "15:43:29",
          "15:43:29",
          "15:43:29",
          "15:43:29",
          "15:43:30",
          "15:43:30",
          "15:43:30",
          "15:43:30",
          "15:43:31",
          "15:43:31",
          "15:43:31",
          "15:43:31",
          "15:43:31",
          "15:43:32",
          "15:43:33",
          "15:43:34",
          "15:43:34",
          "15:43:35",
          "15:43:35",
          "15:43:35",
          "15:43:36",
          "15:43:36",
          "15:43:36",
          "15:43:37",
          "15:43:38",
          "15:43:39",
          "15:43:39",
          "15:43:39",
          "15:43:41",
          "15:43:41",
          "15:43:41",
          "15:43:42",
          "15:43:44",
          "15:43:45",
          "15:43:45",
          "15:43:45",
          "15:43:46",
          "15:43:47",
          "15:43:47",
          "15:43:47",
          "15:43:48",
          "15:43:49",
          "15:43:49",
          "15:43:49",
          "15:43:50",
          "15:43:50",
          "15:43:51",
          "15:43:51",
          "15:43:53",
          "15:43:53",
          "15:43:58",
          "15:43:58",
          "15:43:59",
          "15:44:03",
          "15:44:04",
          "15:44:07",
          "15:44:07",
          "15:44:07",
          "15:44:07",
          "15:44:08",
          "15:44:09",
          "15:44:10"
         ]
        }
       ],
       "layout": {
        "template": {
         "data": {
          "bar": [
           {
            "error_x": {
             "color": "#2a3f5f"
            },
            "error_y": {
             "color": "#2a3f5f"
            },
            "marker": {
             "line": {
              "color": "#E5ECF6",
              "width": 0.5
             },
             "pattern": {
              "fillmode": "overlay",
              "size": 10,
              "solidity": 0.2
             }
            },
            "type": "bar"
           }
          ],
          "barpolar": [
           {
            "marker": {
             "line": {
              "color": "#E5ECF6",
              "width": 0.5
             },
             "pattern": {
              "fillmode": "overlay",
              "size": 10,
              "solidity": 0.2
             }
            },
            "type": "barpolar"
           }
          ],
          "carpet": [
           {
            "aaxis": {
             "endlinecolor": "#2a3f5f",
             "gridcolor": "white",
             "linecolor": "white",
             "minorgridcolor": "white",
             "startlinecolor": "#2a3f5f"
            },
            "baxis": {
             "endlinecolor": "#2a3f5f",
             "gridcolor": "white",
             "linecolor": "white",
             "minorgridcolor": "white",
             "startlinecolor": "#2a3f5f"
            },
            "type": "carpet"
           }
          ],
          "choropleth": [
           {
            "colorbar": {
             "outlinewidth": 0,
             "ticks": ""
            },
            "type": "choropleth"
           }
          ],
          "contour": [
           {
            "colorbar": {
             "outlinewidth": 0,
             "ticks": ""
            },
            "colorscale": [
             [
              0,
              "#0d0887"
             ],
             [
              0.1111111111111111,
              "#46039f"
             ],
             [
              0.2222222222222222,
              "#7201a8"
             ],
             [
              0.3333333333333333,
              "#9c179e"
             ],
             [
              0.4444444444444444,
              "#bd3786"
             ],
             [
              0.5555555555555556,
              "#d8576b"
             ],
             [
              0.6666666666666666,
              "#ed7953"
             ],
             [
              0.7777777777777778,
              "#fb9f3a"
             ],
             [
              0.8888888888888888,
              "#fdca26"
             ],
             [
              1,
              "#f0f921"
             ]
            ],
            "type": "contour"
           }
          ],
          "contourcarpet": [
           {
            "colorbar": {
             "outlinewidth": 0,
             "ticks": ""
            },
            "type": "contourcarpet"
           }
          ],
          "heatmap": [
           {
            "colorbar": {
             "outlinewidth": 0,
             "ticks": ""
            },
            "colorscale": [
             [
              0,
              "#0d0887"
             ],
             [
              0.1111111111111111,
              "#46039f"
             ],
             [
              0.2222222222222222,
              "#7201a8"
             ],
             [
              0.3333333333333333,
              "#9c179e"
             ],
             [
              0.4444444444444444,
              "#bd3786"
             ],
             [
              0.5555555555555556,
              "#d8576b"
             ],
             [
              0.6666666666666666,
              "#ed7953"
             ],
             [
              0.7777777777777778,
              "#fb9f3a"
             ],
             [
              0.8888888888888888,
              "#fdca26"
             ],
             [
              1,
              "#f0f921"
             ]
            ],
            "type": "heatmap"
           }
          ],
          "heatmapgl": [
           {
            "colorbar": {
             "outlinewidth": 0,
             "ticks": ""
            },
            "colorscale": [
             [
              0,
              "#0d0887"
             ],
             [
              0.1111111111111111,
              "#46039f"
             ],
             [
              0.2222222222222222,
              "#7201a8"
             ],
             [
              0.3333333333333333,
              "#9c179e"
             ],
             [
              0.4444444444444444,
              "#bd3786"
             ],
             [
              0.5555555555555556,
              "#d8576b"
             ],
             [
              0.6666666666666666,
              "#ed7953"
             ],
             [
              0.7777777777777778,
              "#fb9f3a"
             ],
             [
              0.8888888888888888,
              "#fdca26"
             ],
             [
              1,
              "#f0f921"
             ]
            ],
            "type": "heatmapgl"
           }
          ],
          "histogram": [
           {
            "marker": {
             "pattern": {
              "fillmode": "overlay",
              "size": 10,
              "solidity": 0.2
             }
            },
            "type": "histogram"
           }
          ],
          "histogram2d": [
           {
            "colorbar": {
             "outlinewidth": 0,
             "ticks": ""
            },
            "colorscale": [
             [
              0,
              "#0d0887"
             ],
             [
              0.1111111111111111,
              "#46039f"
             ],
             [
              0.2222222222222222,
              "#7201a8"
             ],
             [
              0.3333333333333333,
              "#9c179e"
             ],
             [
              0.4444444444444444,
              "#bd3786"
             ],
             [
              0.5555555555555556,
              "#d8576b"
             ],
             [
              0.6666666666666666,
              "#ed7953"
             ],
             [
              0.7777777777777778,
              "#fb9f3a"
             ],
             [
              0.8888888888888888,
              "#fdca26"
             ],
             [
              1,
              "#f0f921"
             ]
            ],
            "type": "histogram2d"
           }
          ],
          "histogram2dcontour": [
           {
            "colorbar": {
             "outlinewidth": 0,
             "ticks": ""
            },
            "colorscale": [
             [
              0,
              "#0d0887"
             ],
             [
              0.1111111111111111,
              "#46039f"
             ],
             [
              0.2222222222222222,
              "#7201a8"
             ],
             [
              0.3333333333333333,
              "#9c179e"
             ],
             [
              0.4444444444444444,
              "#bd3786"
             ],
             [
              0.5555555555555556,
              "#d8576b"
             ],
             [
              0.6666666666666666,
              "#ed7953"
             ],
             [
              0.7777777777777778,
              "#fb9f3a"
             ],
             [
              0.8888888888888888,
              "#fdca26"
             ],
             [
              1,
              "#f0f921"
             ]
            ],
            "type": "histogram2dcontour"
           }
          ],
          "mesh3d": [
           {
            "colorbar": {
             "outlinewidth": 0,
             "ticks": ""
            },
            "type": "mesh3d"
           }
          ],
          "parcoords": [
           {
            "line": {
             "colorbar": {
              "outlinewidth": 0,
              "ticks": ""
             }
            },
            "type": "parcoords"
           }
          ],
          "pie": [
           {
            "automargin": true,
            "type": "pie"
           }
          ],
          "scatter": [
           {
            "marker": {
             "colorbar": {
              "outlinewidth": 0,
              "ticks": ""
             }
            },
            "type": "scatter"
           }
          ],
          "scatter3d": [
           {
            "line": {
             "colorbar": {
              "outlinewidth": 0,
              "ticks": ""
             }
            },
            "marker": {
             "colorbar": {
              "outlinewidth": 0,
              "ticks": ""
             }
            },
            "type": "scatter3d"
           }
          ],
          "scattercarpet": [
           {
            "marker": {
             "colorbar": {
              "outlinewidth": 0,
              "ticks": ""
             }
            },
            "type": "scattercarpet"
           }
          ],
          "scattergeo": [
           {
            "marker": {
             "colorbar": {
              "outlinewidth": 0,
              "ticks": ""
             }
            },
            "type": "scattergeo"
           }
          ],
          "scattergl": [
           {
            "marker": {
             "colorbar": {
              "outlinewidth": 0,
              "ticks": ""
             }
            },
            "type": "scattergl"
           }
          ],
          "scattermapbox": [
           {
            "marker": {
             "colorbar": {
              "outlinewidth": 0,
              "ticks": ""
             }
            },
            "type": "scattermapbox"
           }
          ],
          "scatterpolar": [
           {
            "marker": {
             "colorbar": {
              "outlinewidth": 0,
              "ticks": ""
             }
            },
            "type": "scatterpolar"
           }
          ],
          "scatterpolargl": [
           {
            "marker": {
             "colorbar": {
              "outlinewidth": 0,
              "ticks": ""
             }
            },
            "type": "scatterpolargl"
           }
          ],
          "scatterternary": [
           {
            "marker": {
             "colorbar": {
              "outlinewidth": 0,
              "ticks": ""
             }
            },
            "type": "scatterternary"
           }
          ],
          "surface": [
           {
            "colorbar": {
             "outlinewidth": 0,
             "ticks": ""
            },
            "colorscale": [
             [
              0,
              "#0d0887"
             ],
             [
              0.1111111111111111,
              "#46039f"
             ],
             [
              0.2222222222222222,
              "#7201a8"
             ],
             [
              0.3333333333333333,
              "#9c179e"
             ],
             [
              0.4444444444444444,
              "#bd3786"
             ],
             [
              0.5555555555555556,
              "#d8576b"
             ],
             [
              0.6666666666666666,
              "#ed7953"
             ],
             [
              0.7777777777777778,
              "#fb9f3a"
             ],
             [
              0.8888888888888888,
              "#fdca26"
             ],
             [
              1,
              "#f0f921"
             ]
            ],
            "type": "surface"
           }
          ],
          "table": [
           {
            "cells": {
             "fill": {
              "color": "#EBF0F8"
             },
             "line": {
              "color": "white"
             }
            },
            "header": {
             "fill": {
              "color": "#C8D4E3"
             },
             "line": {
              "color": "white"
             }
            },
            "type": "table"
           }
          ]
         },
         "layout": {
          "annotationdefaults": {
           "arrowcolor": "#2a3f5f",
           "arrowhead": 0,
           "arrowwidth": 1
          },
          "autotypenumbers": "strict",
          "coloraxis": {
           "colorbar": {
            "outlinewidth": 0,
            "ticks": ""
           }
          },
          "colorscale": {
           "diverging": [
            [
             0,
             "#8e0152"
            ],
            [
             0.1,
             "#c51b7d"
            ],
            [
             0.2,
             "#de77ae"
            ],
            [
             0.3,
             "#f1b6da"
            ],
            [
             0.4,
             "#fde0ef"
            ],
            [
             0.5,
             "#f7f7f7"
            ],
            [
             0.6,
             "#e6f5d0"
            ],
            [
             0.7,
             "#b8e186"
            ],
            [
             0.8,
             "#7fbc41"
            ],
            [
             0.9,
             "#4d9221"
            ],
            [
             1,
             "#276419"
            ]
           ],
           "sequential": [
            [
             0,
             "#0d0887"
            ],
            [
             0.1111111111111111,
             "#46039f"
            ],
            [
             0.2222222222222222,
             "#7201a8"
            ],
            [
             0.3333333333333333,
             "#9c179e"
            ],
            [
             0.4444444444444444,
             "#bd3786"
            ],
            [
             0.5555555555555556,
             "#d8576b"
            ],
            [
             0.6666666666666666,
             "#ed7953"
            ],
            [
             0.7777777777777778,
             "#fb9f3a"
            ],
            [
             0.8888888888888888,
             "#fdca26"
            ],
            [
             1,
             "#f0f921"
            ]
           ],
           "sequentialminus": [
            [
             0,
             "#0d0887"
            ],
            [
             0.1111111111111111,
             "#46039f"
            ],
            [
             0.2222222222222222,
             "#7201a8"
            ],
            [
             0.3333333333333333,
             "#9c179e"
            ],
            [
             0.4444444444444444,
             "#bd3786"
            ],
            [
             0.5555555555555556,
             "#d8576b"
            ],
            [
             0.6666666666666666,
             "#ed7953"
            ],
            [
             0.7777777777777778,
             "#fb9f3a"
            ],
            [
             0.8888888888888888,
             "#fdca26"
            ],
            [
             1,
             "#f0f921"
            ]
           ]
          },
          "colorway": [
           "#636efa",
           "#EF553B",
           "#00cc96",
           "#ab63fa",
           "#FFA15A",
           "#19d3f3",
           "#FF6692",
           "#B6E880",
           "#FF97FF",
           "#FECB52"
          ],
          "font": {
           "color": "#2a3f5f"
          },
          "geo": {
           "bgcolor": "white",
           "lakecolor": "white",
           "landcolor": "#E5ECF6",
           "showlakes": true,
           "showland": true,
           "subunitcolor": "white"
          },
          "hoverlabel": {
           "align": "left"
          },
          "hovermode": "closest",
          "mapbox": {
           "style": "light"
          },
          "paper_bgcolor": "white",
          "plot_bgcolor": "#E5ECF6",
          "polar": {
           "angularaxis": {
            "gridcolor": "white",
            "linecolor": "white",
            "ticks": ""
           },
           "bgcolor": "#E5ECF6",
           "radialaxis": {
            "gridcolor": "white",
            "linecolor": "white",
            "ticks": ""
           }
          },
          "scene": {
           "xaxis": {
            "backgroundcolor": "#E5ECF6",
            "gridcolor": "white",
            "gridwidth": 2,
            "linecolor": "white",
            "showbackground": true,
            "ticks": "",
            "zerolinecolor": "white"
           },
           "yaxis": {
            "backgroundcolor": "#E5ECF6",
            "gridcolor": "white",
            "gridwidth": 2,
            "linecolor": "white",
            "showbackground": true,
            "ticks": "",
            "zerolinecolor": "white"
           },
           "zaxis": {
            "backgroundcolor": "#E5ECF6",
            "gridcolor": "white",
            "gridwidth": 2,
            "linecolor": "white",
            "showbackground": true,
            "ticks": "",
            "zerolinecolor": "white"
           }
          },
          "shapedefaults": {
           "line": {
            "color": "#2a3f5f"
           }
          },
          "ternary": {
           "aaxis": {
            "gridcolor": "white",
            "linecolor": "white",
            "ticks": ""
           },
           "baxis": {
            "gridcolor": "white",
            "linecolor": "white",
            "ticks": ""
           },
           "bgcolor": "#E5ECF6",
           "caxis": {
            "gridcolor": "white",
            "linecolor": "white",
            "ticks": ""
           }
          },
          "title": {
           "x": 0.05
          },
          "xaxis": {
           "automargin": true,
           "gridcolor": "white",
           "linecolor": "white",
           "ticks": "",
           "title": {
            "standoff": 15
           },
           "zerolinecolor": "white",
           "zerolinewidth": 2
          },
          "yaxis": {
           "automargin": true,
           "gridcolor": "white",
           "linecolor": "white",
           "ticks": "",
           "title": {
            "standoff": 15
           },
           "zerolinecolor": "white",
           "zerolinewidth": 2
          }
         }
        }
       }
      }
     },
     "metadata": {},
     "output_type": "display_data"
    },
    {
     "data": {
      "application/vnd.plotly.v1+json": {
       "config": {
        "plotlyServerURL": "https://plot.ly"
       },
       "data": [
        {
         "type": "histogram",
         "x": [
          "15:23:18",
          "15:31:04",
          "15:32:02",
          "15:32:10",
          "15:32:25",
          "15:33:28",
          "15:34:07",
          "15:34:13",
          "15:36:27",
          "15:36:52",
          "15:38:11",
          "15:38:20",
          "15:38:30",
          "15:38:33",
          "15:38:51",
          "15:38:53",
          "15:39:00",
          "15:39:03",
          "15:39:08",
          "15:39:13",
          "15:39:17",
          "15:39:19",
          "15:39:20",
          "15:39:25",
          "15:40:24",
          "15:40:45",
          "15:41:03",
          "15:41:11",
          "15:42:14",
          "15:42:15",
          "15:42:16",
          "15:42:17",
          "15:42:18",
          "15:42:20",
          "15:42:20",
          "15:42:21",
          "15:42:23",
          "15:42:23",
          "15:42:25",
          "15:42:26",
          "15:42:27",
          "15:42:27",
          "15:42:27",
          "15:42:31",
          "15:42:31",
          "15:42:31",
          "15:42:31",
          "15:42:31",
          "15:42:31",
          "15:42:32",
          "15:42:33",
          "15:42:33",
          "15:42:34",
          "15:42:34",
          "15:42:34",
          "15:42:35",
          "15:42:36",
          "15:42:36",
          "15:42:37",
          "15:42:37",
          "15:42:38",
          "15:42:38",
          "15:42:42",
          "15:42:42",
          "15:42:45",
          "15:42:47",
          "15:42:48",
          "15:43:00",
          "15:43:00",
          "15:43:12",
          "15:43:16",
          "15:43:18",
          "15:43:21",
          "15:43:23",
          "15:43:29",
          "15:43:39"
         ]
        }
       ],
       "layout": {
        "template": {
         "data": {
          "bar": [
           {
            "error_x": {
             "color": "#2a3f5f"
            },
            "error_y": {
             "color": "#2a3f5f"
            },
            "marker": {
             "line": {
              "color": "#E5ECF6",
              "width": 0.5
             },
             "pattern": {
              "fillmode": "overlay",
              "size": 10,
              "solidity": 0.2
             }
            },
            "type": "bar"
           }
          ],
          "barpolar": [
           {
            "marker": {
             "line": {
              "color": "#E5ECF6",
              "width": 0.5
             },
             "pattern": {
              "fillmode": "overlay",
              "size": 10,
              "solidity": 0.2
             }
            },
            "type": "barpolar"
           }
          ],
          "carpet": [
           {
            "aaxis": {
             "endlinecolor": "#2a3f5f",
             "gridcolor": "white",
             "linecolor": "white",
             "minorgridcolor": "white",
             "startlinecolor": "#2a3f5f"
            },
            "baxis": {
             "endlinecolor": "#2a3f5f",
             "gridcolor": "white",
             "linecolor": "white",
             "minorgridcolor": "white",
             "startlinecolor": "#2a3f5f"
            },
            "type": "carpet"
           }
          ],
          "choropleth": [
           {
            "colorbar": {
             "outlinewidth": 0,
             "ticks": ""
            },
            "type": "choropleth"
           }
          ],
          "contour": [
           {
            "colorbar": {
             "outlinewidth": 0,
             "ticks": ""
            },
            "colorscale": [
             [
              0,
              "#0d0887"
             ],
             [
              0.1111111111111111,
              "#46039f"
             ],
             [
              0.2222222222222222,
              "#7201a8"
             ],
             [
              0.3333333333333333,
              "#9c179e"
             ],
             [
              0.4444444444444444,
              "#bd3786"
             ],
             [
              0.5555555555555556,
              "#d8576b"
             ],
             [
              0.6666666666666666,
              "#ed7953"
             ],
             [
              0.7777777777777778,
              "#fb9f3a"
             ],
             [
              0.8888888888888888,
              "#fdca26"
             ],
             [
              1,
              "#f0f921"
             ]
            ],
            "type": "contour"
           }
          ],
          "contourcarpet": [
           {
            "colorbar": {
             "outlinewidth": 0,
             "ticks": ""
            },
            "type": "contourcarpet"
           }
          ],
          "heatmap": [
           {
            "colorbar": {
             "outlinewidth": 0,
             "ticks": ""
            },
            "colorscale": [
             [
              0,
              "#0d0887"
             ],
             [
              0.1111111111111111,
              "#46039f"
             ],
             [
              0.2222222222222222,
              "#7201a8"
             ],
             [
              0.3333333333333333,
              "#9c179e"
             ],
             [
              0.4444444444444444,
              "#bd3786"
             ],
             [
              0.5555555555555556,
              "#d8576b"
             ],
             [
              0.6666666666666666,
              "#ed7953"
             ],
             [
              0.7777777777777778,
              "#fb9f3a"
             ],
             [
              0.8888888888888888,
              "#fdca26"
             ],
             [
              1,
              "#f0f921"
             ]
            ],
            "type": "heatmap"
           }
          ],
          "heatmapgl": [
           {
            "colorbar": {
             "outlinewidth": 0,
             "ticks": ""
            },
            "colorscale": [
             [
              0,
              "#0d0887"
             ],
             [
              0.1111111111111111,
              "#46039f"
             ],
             [
              0.2222222222222222,
              "#7201a8"
             ],
             [
              0.3333333333333333,
              "#9c179e"
             ],
             [
              0.4444444444444444,
              "#bd3786"
             ],
             [
              0.5555555555555556,
              "#d8576b"
             ],
             [
              0.6666666666666666,
              "#ed7953"
             ],
             [
              0.7777777777777778,
              "#fb9f3a"
             ],
             [
              0.8888888888888888,
              "#fdca26"
             ],
             [
              1,
              "#f0f921"
             ]
            ],
            "type": "heatmapgl"
           }
          ],
          "histogram": [
           {
            "marker": {
             "pattern": {
              "fillmode": "overlay",
              "size": 10,
              "solidity": 0.2
             }
            },
            "type": "histogram"
           }
          ],
          "histogram2d": [
           {
            "colorbar": {
             "outlinewidth": 0,
             "ticks": ""
            },
            "colorscale": [
             [
              0,
              "#0d0887"
             ],
             [
              0.1111111111111111,
              "#46039f"
             ],
             [
              0.2222222222222222,
              "#7201a8"
             ],
             [
              0.3333333333333333,
              "#9c179e"
             ],
             [
              0.4444444444444444,
              "#bd3786"
             ],
             [
              0.5555555555555556,
              "#d8576b"
             ],
             [
              0.6666666666666666,
              "#ed7953"
             ],
             [
              0.7777777777777778,
              "#fb9f3a"
             ],
             [
              0.8888888888888888,
              "#fdca26"
             ],
             [
              1,
              "#f0f921"
             ]
            ],
            "type": "histogram2d"
           }
          ],
          "histogram2dcontour": [
           {
            "colorbar": {
             "outlinewidth": 0,
             "ticks": ""
            },
            "colorscale": [
             [
              0,
              "#0d0887"
             ],
             [
              0.1111111111111111,
              "#46039f"
             ],
             [
              0.2222222222222222,
              "#7201a8"
             ],
             [
              0.3333333333333333,
              "#9c179e"
             ],
             [
              0.4444444444444444,
              "#bd3786"
             ],
             [
              0.5555555555555556,
              "#d8576b"
             ],
             [
              0.6666666666666666,
              "#ed7953"
             ],
             [
              0.7777777777777778,
              "#fb9f3a"
             ],
             [
              0.8888888888888888,
              "#fdca26"
             ],
             [
              1,
              "#f0f921"
             ]
            ],
            "type": "histogram2dcontour"
           }
          ],
          "mesh3d": [
           {
            "colorbar": {
             "outlinewidth": 0,
             "ticks": ""
            },
            "type": "mesh3d"
           }
          ],
          "parcoords": [
           {
            "line": {
             "colorbar": {
              "outlinewidth": 0,
              "ticks": ""
             }
            },
            "type": "parcoords"
           }
          ],
          "pie": [
           {
            "automargin": true,
            "type": "pie"
           }
          ],
          "scatter": [
           {
            "marker": {
             "colorbar": {
              "outlinewidth": 0,
              "ticks": ""
             }
            },
            "type": "scatter"
           }
          ],
          "scatter3d": [
           {
            "line": {
             "colorbar": {
              "outlinewidth": 0,
              "ticks": ""
             }
            },
            "marker": {
             "colorbar": {
              "outlinewidth": 0,
              "ticks": ""
             }
            },
            "type": "scatter3d"
           }
          ],
          "scattercarpet": [
           {
            "marker": {
             "colorbar": {
              "outlinewidth": 0,
              "ticks": ""
             }
            },
            "type": "scattercarpet"
           }
          ],
          "scattergeo": [
           {
            "marker": {
             "colorbar": {
              "outlinewidth": 0,
              "ticks": ""
             }
            },
            "type": "scattergeo"
           }
          ],
          "scattergl": [
           {
            "marker": {
             "colorbar": {
              "outlinewidth": 0,
              "ticks": ""
             }
            },
            "type": "scattergl"
           }
          ],
          "scattermapbox": [
           {
            "marker": {
             "colorbar": {
              "outlinewidth": 0,
              "ticks": ""
             }
            },
            "type": "scattermapbox"
           }
          ],
          "scatterpolar": [
           {
            "marker": {
             "colorbar": {
              "outlinewidth": 0,
              "ticks": ""
             }
            },
            "type": "scatterpolar"
           }
          ],
          "scatterpolargl": [
           {
            "marker": {
             "colorbar": {
              "outlinewidth": 0,
              "ticks": ""
             }
            },
            "type": "scatterpolargl"
           }
          ],
          "scatterternary": [
           {
            "marker": {
             "colorbar": {
              "outlinewidth": 0,
              "ticks": ""
             }
            },
            "type": "scatterternary"
           }
          ],
          "surface": [
           {
            "colorbar": {
             "outlinewidth": 0,
             "ticks": ""
            },
            "colorscale": [
             [
              0,
              "#0d0887"
             ],
             [
              0.1111111111111111,
              "#46039f"
             ],
             [
              0.2222222222222222,
              "#7201a8"
             ],
             [
              0.3333333333333333,
              "#9c179e"
             ],
             [
              0.4444444444444444,
              "#bd3786"
             ],
             [
              0.5555555555555556,
              "#d8576b"
             ],
             [
              0.6666666666666666,
              "#ed7953"
             ],
             [
              0.7777777777777778,
              "#fb9f3a"
             ],
             [
              0.8888888888888888,
              "#fdca26"
             ],
             [
              1,
              "#f0f921"
             ]
            ],
            "type": "surface"
           }
          ],
          "table": [
           {
            "cells": {
             "fill": {
              "color": "#EBF0F8"
             },
             "line": {
              "color": "white"
             }
            },
            "header": {
             "fill": {
              "color": "#C8D4E3"
             },
             "line": {
              "color": "white"
             }
            },
            "type": "table"
           }
          ]
         },
         "layout": {
          "annotationdefaults": {
           "arrowcolor": "#2a3f5f",
           "arrowhead": 0,
           "arrowwidth": 1
          },
          "autotypenumbers": "strict",
          "coloraxis": {
           "colorbar": {
            "outlinewidth": 0,
            "ticks": ""
           }
          },
          "colorscale": {
           "diverging": [
            [
             0,
             "#8e0152"
            ],
            [
             0.1,
             "#c51b7d"
            ],
            [
             0.2,
             "#de77ae"
            ],
            [
             0.3,
             "#f1b6da"
            ],
            [
             0.4,
             "#fde0ef"
            ],
            [
             0.5,
             "#f7f7f7"
            ],
            [
             0.6,
             "#e6f5d0"
            ],
            [
             0.7,
             "#b8e186"
            ],
            [
             0.8,
             "#7fbc41"
            ],
            [
             0.9,
             "#4d9221"
            ],
            [
             1,
             "#276419"
            ]
           ],
           "sequential": [
            [
             0,
             "#0d0887"
            ],
            [
             0.1111111111111111,
             "#46039f"
            ],
            [
             0.2222222222222222,
             "#7201a8"
            ],
            [
             0.3333333333333333,
             "#9c179e"
            ],
            [
             0.4444444444444444,
             "#bd3786"
            ],
            [
             0.5555555555555556,
             "#d8576b"
            ],
            [
             0.6666666666666666,
             "#ed7953"
            ],
            [
             0.7777777777777778,
             "#fb9f3a"
            ],
            [
             0.8888888888888888,
             "#fdca26"
            ],
            [
             1,
             "#f0f921"
            ]
           ],
           "sequentialminus": [
            [
             0,
             "#0d0887"
            ],
            [
             0.1111111111111111,
             "#46039f"
            ],
            [
             0.2222222222222222,
             "#7201a8"
            ],
            [
             0.3333333333333333,
             "#9c179e"
            ],
            [
             0.4444444444444444,
             "#bd3786"
            ],
            [
             0.5555555555555556,
             "#d8576b"
            ],
            [
             0.6666666666666666,
             "#ed7953"
            ],
            [
             0.7777777777777778,
             "#fb9f3a"
            ],
            [
             0.8888888888888888,
             "#fdca26"
            ],
            [
             1,
             "#f0f921"
            ]
           ]
          },
          "colorway": [
           "#636efa",
           "#EF553B",
           "#00cc96",
           "#ab63fa",
           "#FFA15A",
           "#19d3f3",
           "#FF6692",
           "#B6E880",
           "#FF97FF",
           "#FECB52"
          ],
          "font": {
           "color": "#2a3f5f"
          },
          "geo": {
           "bgcolor": "white",
           "lakecolor": "white",
           "landcolor": "#E5ECF6",
           "showlakes": true,
           "showland": true,
           "subunitcolor": "white"
          },
          "hoverlabel": {
           "align": "left"
          },
          "hovermode": "closest",
          "mapbox": {
           "style": "light"
          },
          "paper_bgcolor": "white",
          "plot_bgcolor": "#E5ECF6",
          "polar": {
           "angularaxis": {
            "gridcolor": "white",
            "linecolor": "white",
            "ticks": ""
           },
           "bgcolor": "#E5ECF6",
           "radialaxis": {
            "gridcolor": "white",
            "linecolor": "white",
            "ticks": ""
           }
          },
          "scene": {
           "xaxis": {
            "backgroundcolor": "#E5ECF6",
            "gridcolor": "white",
            "gridwidth": 2,
            "linecolor": "white",
            "showbackground": true,
            "ticks": "",
            "zerolinecolor": "white"
           },
           "yaxis": {
            "backgroundcolor": "#E5ECF6",
            "gridcolor": "white",
            "gridwidth": 2,
            "linecolor": "white",
            "showbackground": true,
            "ticks": "",
            "zerolinecolor": "white"
           },
           "zaxis": {
            "backgroundcolor": "#E5ECF6",
            "gridcolor": "white",
            "gridwidth": 2,
            "linecolor": "white",
            "showbackground": true,
            "ticks": "",
            "zerolinecolor": "white"
           }
          },
          "shapedefaults": {
           "line": {
            "color": "#2a3f5f"
           }
          },
          "ternary": {
           "aaxis": {
            "gridcolor": "white",
            "linecolor": "white",
            "ticks": ""
           },
           "baxis": {
            "gridcolor": "white",
            "linecolor": "white",
            "ticks": ""
           },
           "bgcolor": "#E5ECF6",
           "caxis": {
            "gridcolor": "white",
            "linecolor": "white",
            "ticks": ""
           }
          },
          "title": {
           "x": 0.05
          },
          "xaxis": {
           "automargin": true,
           "gridcolor": "white",
           "linecolor": "white",
           "ticks": "",
           "title": {
            "standoff": 15
           },
           "zerolinecolor": "white",
           "zerolinewidth": 2
          },
          "yaxis": {
           "automargin": true,
           "gridcolor": "white",
           "linecolor": "white",
           "ticks": "",
           "title": {
            "standoff": 15
           },
           "zerolinecolor": "white",
           "zerolinewidth": 2
          }
         }
        }
       }
      }
     },
     "metadata": {},
     "output_type": "display_data"
    }
   ],
   "source": [
    "#print(timestamps)\n",
    "\n",
    "#plot the timestamps\n",
    "import plotly.graph_objects as go\n",
    "\n",
    "#use the histogram to plot the timestamps\n",
    "fig = go.Figure(data=[go.Histogram(x=timestamps)])\n",
    "fig.show()\n",
    "\n",
    "\n",
    "fig2 = go.Figure(data=[go.Histogram(x=laughs)])\n",
    "fig2.show()\n"
   ]
  },
  {
   "cell_type": "code",
   "execution_count": null,
   "metadata": {},
   "outputs": [],
   "source": []
  }
 ],
 "metadata": {
  "interpreter": {
   "hash": "b0fa6594d8f4cbf19f97940f81e996739fb7646882a419484c72d19e05852a7e"
  },
  "kernelspec": {
   "display_name": "Python 3.9.13 64-bit",
   "language": "python",
   "name": "python3"
  },
  "language_info": {
   "codemirror_mode": {
    "name": "ipython",
    "version": 3
   },
   "file_extension": ".py",
   "mimetype": "text/x-python",
   "name": "python",
   "nbconvert_exporter": "python",
   "pygments_lexer": "ipython3",
   "version": "3.9.13"
  },
  "orig_nbformat": 4
 },
 "nbformat": 4,
 "nbformat_minor": 2
}
