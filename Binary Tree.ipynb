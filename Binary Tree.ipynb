{
 "cells": [
  {
   "cell_type": "markdown",
   "metadata": {},
   "source": [
    "### Inverting Binary Tree (recursive)"
   ]
  },
  {
   "cell_type": "markdown",
   "metadata": {},
   "source": [
    "> **pip install binarytree (In your terminal)**"
   ]
  },
  {
   "cell_type": "code",
   "execution_count": 23,
   "metadata": {},
   "outputs": [
    {
     "name": "stdout",
     "output_type": "stream",
     "text": [
      "Binary tree from example :\n",
      "  \n",
      "    __4__\n",
      "   /     \\\n",
      "  2       7\n",
      " / \\     / \\\n",
      "1   3   6   9\n",
      "\n",
      "\n",
      "List from binary tree : [4, 2, 7, 1, 3, 6, 9]\n"
     ]
    }
   ],
   "source": [
    "#Creating the binary tree\n",
    "from binarytree import build\n",
    "from binarytree import tree\n",
    "   \n",
    "# List of nodes \n",
    "nodes =[4, 2, 7, 1, 3, 6, 9] \n",
    "  \n",
    "# Builidng the binary tree \n",
    "binary_tree = build(nodes) \n",
    "print('Binary tree from example :\\n ', \n",
    "      binary_tree) \n",
    "  \n",
    "# Getting list of nodes from \n",
    "# binarytree \n",
    "print('\\nList from binary tree :',  \n",
    "      binary_tree.values) "
   ]
  },
  {
   "cell_type": "markdown",
   "metadata": {},
   "source": [
    "#### Pseudo code"
   ]
  },
  {
   "cell_type": "code",
   "execution_count": null,
   "metadata": {},
   "outputs": [],
   "source": [
    "#def invert_tree(nodes, root)\n",
    "\n",
    "#Stopping recursion if tree is empty\n",
    "\n",
    "#swap left subtree with right subtree\n",
    "\n",
    "#invert left subtree\n",
    "\n",
    "#invert right subtree"
   ]
  },
  {
   "cell_type": "code",
   "execution_count": 45,
   "metadata": {},
   "outputs": [
    {
     "ename": "AttributeError",
     "evalue": "'int' object has no attribute 'left'",
     "output_type": "error",
     "traceback": [
      "\u001b[0;31m---------------------------------------------------------\u001b[0m",
      "\u001b[0;31mAttributeError\u001b[0m          Traceback (most recent call last)",
      "\u001b[0;32m<ipython-input-45-abb3ad3fb4a8>\u001b[0m in \u001b[0;36m<module>\u001b[0;34m\u001b[0m\n\u001b[1;32m     43\u001b[0m     \u001b[0minorder\u001b[0m\u001b[0;34m(\u001b[0m\u001b[0mroot\u001b[0m\u001b[0;34m.\u001b[0m\u001b[0mleft\u001b[0m\u001b[0;34m)\u001b[0m\u001b[0;34m\u001b[0m\u001b[0;34m\u001b[0m\u001b[0m\n\u001b[1;32m     44\u001b[0m \u001b[0;34m\u001b[0m\u001b[0m\n\u001b[0;32m---> 45\u001b[0;31m \u001b[0mprint\u001b[0m\u001b[0;34m(\u001b[0m\u001b[0mswapEveryKLevelUtil\u001b[0m\u001b[0;34m(\u001b[0m\u001b[0;36m0\u001b[0m\u001b[0;34m,\u001b[0m \u001b[0;36m0\u001b[0m\u001b[0;34m,\u001b[0m \u001b[0mnodes\u001b[0m\u001b[0;34m)\u001b[0m\u001b[0;34m)\u001b[0m\u001b[0;34m\u001b[0m\u001b[0;34m\u001b[0m\u001b[0m\n\u001b[0m",
      "\u001b[0;32m<ipython-input-45-abb3ad3fb4a8>\u001b[0m in \u001b[0;36mswapEveryKLevelUtil\u001b[0;34m(root, level, k)\u001b[0m\n\u001b[1;32m     13\u001b[0m \u001b[0;34m\u001b[0m\u001b[0m\n\u001b[1;32m     14\u001b[0m     \u001b[0;31m# Base Case\u001b[0m\u001b[0;34m\u001b[0m\u001b[0;34m\u001b[0m\u001b[0;34m\u001b[0m\u001b[0m\n\u001b[0;32m---> 15\u001b[0;31m     if (root is None or (root.left is None and\n\u001b[0m\u001b[1;32m     16\u001b[0m                         root.right is None ) ): \n\u001b[1;32m     17\u001b[0m         \u001b[0;32mreturn\u001b[0m\u001b[0;34m\u001b[0m\u001b[0;34m\u001b[0m\u001b[0m\n",
      "\u001b[0;31mAttributeError\u001b[0m: 'int' object has no attribute 'left'"
     ]
    }
   ],
   "source": [
    "\n",
    "class Node: \n",
    "  \n",
    "    # constructor to create a new node   \n",
    "    def __init__(self, nodes): \n",
    "        self.nodes = data \n",
    "        self.left = None\n",
    "        self.right = None\n",
    "  \n",
    "# A utility function swap left node and right node of tree \n",
    "# of every k'th level  \n",
    "def swapEveryKLevelUtil(root, level, k): \n",
    "      \n",
    "    # Base Case  \n",
    "    if (root is None or (root.left is None and\n",
    "                        root.right is None ) ): \n",
    "        return \n",
    "  \n",
    "    # If current level+1 is present in swap vector \n",
    "    # then we swap left and right node \n",
    "    if (level+1)%k == 0: \n",
    "        root.left, root.right = root.right, root.left \n",
    "      \n",
    "    # Recur for left and right subtree \n",
    "    swapEveryKLevelUtil(root.left, level+1, k) \n",
    "    swapEveryKLevelUtil(root.right, level+1, k) \n",
    "  \n",
    "      \n",
    "# This function mainly calls recursive function \n",
    "# swapEveryKLevelUtil \n",
    "def swapEveryKLevel(root, k): \n",
    "      \n",
    "    # Call swapEveryKLevelUtil function with  \n",
    "    # initial level as 1 \n",
    "    swapEveryKLevelUtil(root, 1, k) \n",
    "  \n",
    "# Method to find the inorder tree travesal \n",
    "def inorder(root): \n",
    "      \n",
    "    # Base Case \n",
    "    if root is None: \n",
    "        return \n",
    "    inorder(root.left) \n",
    "\n",
    "print(swapEveryKLevelUtil(0, 0, nodes))"
   ]
  },
  {
   "cell_type": "code",
   "execution_count": null,
   "metadata": {},
   "outputs": [],
   "source": []
  }
 ],
 "metadata": {
  "kernelspec": {
   "display_name": "Python 3",
   "language": "python",
   "name": "python3"
  },
  "language_info": {
   "codemirror_mode": {
    "name": "ipython",
    "version": 3
   },
   "file_extension": ".py",
   "mimetype": "text/x-python",
   "name": "python",
   "nbconvert_exporter": "python",
   "pygments_lexer": "ipython3",
   "version": "3.7.9"
  }
 },
 "nbformat": 4,
 "nbformat_minor": 2
}
