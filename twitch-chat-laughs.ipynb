{
 "cells": [
  {
   "cell_type": "code",
   "execution_count": null,
   "metadata": {},
   "outputs": [],
   "source": [
    "#get oauth token\n",
    "#https://twitchapps.com/tmi/\n",
    "\n",
    "#Dieses Skript gilt nur für LIVE Aufzeichnungen"
   ]
  },
  {
   "cell_type": "code",
   "execution_count": 58,
   "metadata": {},
   "outputs": [],
   "source": [
    "#Kernel 3.9.13\n",
    "\n",
    "from twitch_listener import listener\n",
    "\n",
    "\n",
    "# Connect to Twitch\n",
    "bot = listener.connect_twitch('maxmnemo', \n",
    "                             'oauth:sweozc63jm1l2wq6p1vltlx81gelo8', \n",
    "                             '6wk5itntbput1tddde1lo7o1zuym20')\n",
    "\n",
    "# List of channels to connect to\n",
    "channels_to_listen_to = ['xqc']\n",
    "\n",
    "# Scrape live chat data into raw log files. (Duration is seconds)\n",
    "bot.listen(channels_to_listen_to, duration = 30) \n",
    "\n",
    "# Convert log files into .CSV format\n",
    "bot.parse_logs(timestamp = True)\n",
    "\n",
    "# Generate adjacency matrix\n",
    "bot.adj_matrix(weighted = False, matrix_name = \"streamer_network.csv\")\n"
   ]
  },
  {
   "cell_type": "code",
   "execution_count": null,
   "metadata": {},
   "outputs": [],
   "source": [
    "#remove the column username\n",
    "'''\n",
    "def remove_column(file_name, column_index):\n",
    "    with open(file_name, 'r') as f:\n",
    "        reader = csv.reader(f)\n",
    "        data = list(reader)\n",
    "    with open(file_name, 'w') as f:\n",
    "        writer = csv.writer(f)\n",
    "        for row in data:\n",
    "            del row[column_index]\n",
    "            writer.writerow(row)\n",
    "\n",
    "\n",
    "remove_column('trainwreckstv.csv', 1)\n",
    "'''"
   ]
  },
  {
   "cell_type": "code",
   "execution_count": 59,
   "metadata": {},
   "outputs": [
    {
     "name": "stdout",
     "output_type": "stream",
     "text": [
      "['text', 'username', 'timestamp']\n",
      "['GIGACHAD', 'harioharima01', ' 23:57:4']\n",
      "['OMEGALUL', 'coopo', ' 23:57:4']\n",
      "['ppOverheat', 'realstargazer', ' 23:57:4']\n",
      "['HUH YO', 'mrjuicermcgooser', ' 23:57:4']\n",
      "['HUH WTF', 'sygglylne', ' 23:57:4']\n",
      "['HUH Wait what', 'op_mechanics', ' 23:57:4']\n",
      "['GIGACHAD ppOverheat', 'ghyul_', ' 23:57:4']\n",
      "['Sadge', 'dennisthemudkip', ' 23:57:4']\n",
      "['D;', 'r3xyoda', ' 23:57:4']\n",
      "['HUH WTF', 'thecrimsonsea', ' 23:57:4']\n",
      "['HUH WTF', 'sweatyronlin', ' 23:57:4']\n",
      "['HUH', 'aspectofdaze', ' 23:57:4']\n",
      "['HUH xqcSmash HUH xqcSmash HUH xqcSmash HUH xqcSmash HUH xqcSmash HUH xqcSmash HUH xqcSmash', 'akidnamedbrady', ' 23:57:4']\n",
      "['HUHG', 'lmaogotem69', ' 23:57:4']\n",
      "['GIGACHAD xqcTechno', 'dyskri1', ' 23:57:4']\n",
      "['HUH Y MENDO', 'mer_98', ' 23:57:4']\n",
      "['HUH DUDE WTF MAN', 'thundershot35', ' 23:57:4']\n",
      "['HUH WTF MY FAMILY', 'papii_cheff', ' 23:57:4']\n",
      "['GIGACHAD', 'picklerick016', ' 23:57:4']\n",
      "['peepoSad', 'evolvedmatrix', ' 23:57:4']\n",
      "['HUH RUN', 'tallglassofbrandy', ' 23:57:4']\n",
      "['HUH STOP', 'former_juicer', ' 23:57:4']\n",
      "['EZ', 'wizard_brandy', ' 23:57:4']\n",
      "['PepeHands turtle', 'mitchaltf4', ' 23:57:4']\n",
      "['HUH WTF', 'strin_0', ' 23:57:4']\n",
      "['GIGACHAD HOOOOLYYY', 'abs00lute', ' 23:57:4']\n",
      "['BASED HOLY', 'sg_west', ' 23:57:4']\n",
      "['xqcTechno ppOverheat xqcTechno ppOverheat xqcTechno ppOverheat xqcTechno ppOverheat xqcTechno ppOverheat', 'rynmc', ' 23:57:4']\n",
      "['GIGACHAD', 'johan_ww', ' 23:57:4']\n",
      "['HUH My brother', 'xvoitto', ' 23:57:4']\n",
      "['GIGACHAD ZYZZ', 'pepega________clap', ' 23:57:4']\n",
      "['GIGACHAD 🎶', 'nouzend', ' 23:57:4']\n",
      "['GIGACHAD', 'anooss_5000', ' 23:57:4']\n",
      "['HUH ME ?', 'elusive905', ' 23:57:4']\n",
      "['ppOverheat', 'sintrall', ' 23:57:4']\n",
      "['GIGACHAD', 'phallensoldier', ' 23:57:4']\n",
      "['GIGACHAD xqcTechno', 'viciousdoggo', ' 23:57:4']\n",
      "['GIGACHAD xqcTechno', 'potatox777', ' 23:57:4']\n",
      "['HUH WTF DUDE', 'hysterovr', ' 23:57:4']\n",
      "['GIGACHAD HOOOOOLY', 'granoleb', ' 23:57:4']\n",
      "['GIGACHAD ZYZZ HOLY', 'pcdank1', ' 23:57:4']\n",
      "['GIGACHAD \\U000e0000', 'victorleporc_', ' 23:57:4']\n",
      "['HUH norrr', 'hvyweightt', ' 23:57:4']\n",
      "['PeepoGlad', 'parrotsrewl', ' 23:57:4']\n",
      "['HUH WTH MAN', 'bubbieizcool', ' 23:57:4']\n",
      "['HUH 💢', 'techbenq', ' 23:57:4']\n",
      "['HUH', 'stetoskop', ' 23:57:4']\n",
      "['GIGACHAD CHILLS', '69budsmoker69', ' 23:57:4']\n",
      "['STRAW STRAT', 'lol_ripdylansaccount', ' 23:57:4']\n",
      "['EZ TURTLE DUB', 'mot2t', ' 23:57:4']\n",
      "['HUH wtf??', 'babygoatlol', ' 23:57:4']\n",
      "['🐢 AUUUUUUUUUUUGH', 'redacted_divinity', ' 23:57:4']\n",
      "['GIGACHAD', 'victorleporc_', ' 23:57:4']\n",
      "['GIGACHAD', 'xsefos', ' 23:57:4']\n",
      "['HUH', 'stealthspectrum', ' 23:57:4']\n",
      "['peepoSad', 'phelozity', ' 23:57:4']\n",
      "['GIGACHAD U Mirin? ZYZZ', 'xlifts', ' 23:57:4']\n",
      "['HUH', 'rarestsmeerkat', ' 23:57:4']\n",
      "['HUH WHY', 'gusfringesque', ' 23:57:4']\n",
      "['HUH', 'finiunn', ' 23:57:4']\n",
      "['zyzzPls', 'zzayy', ' 23:57:4']\n",
      "['GIGACHAD NICKS RINGTONE', 'illwithers', ' 23:57:4']\n",
      "['HUH', 'veddd_', ' 23:57:4']\n",
      "['GIGACHAD xqcTechno', 'black4lotus0', ' 23:57:4']\n",
      "['TURTLE RIPBOZO', '5trez', ' 23:57:4']\n",
      "['GIGACHAD \\U000e0000', 'victorleporc_', ' 23:57:4']\n",
      "['OMEGALUL THIS GUY IS FUNNY', 'poopyliker112', ' 23:57:4']\n",
      "['GIGACHAD sumSmash HUH', 'quiffew', ' 23:57:4']\n",
      "['GIGACHAD ZYZZ', 'pcdank1', ' 23:57:4']\n",
      "['RIPBOZO  🐢', 'solomon280', ' 23:57:4']\n",
      "['sinnaVIBIN', 'sonofstr', ' 23:57:4']\n",
      "['HUH D:', 'szczurin', ' 23:57:4']\n",
      "['GIGACHAD  xqcTechno', 'zaintew', ' 23:57:4']\n",
      "['xqcTechno ppOverheat xqcTechno ppOverheat xqcTechno ppOverheat xqcTechno ppOverheat xqcTechno ppOverheat xqcTechno ppOverheat xqcTechno ppOverheat xqcTechno ppOverheat xqcTechno ppOverheat xqcTechno ppOverheat xqcTechno ppOverheat xqcTechno ppOverheat', 'inseptro', ' 23:57:4']\n",
      "['D: MENDO D: MENDO D:', 'wombattmann', ' 23:57:4']\n",
      "['GIGACHAD KILLS TURTLE', 'axxonnshiet', ' 23:57:4']\n",
      "['Clueless', 'talonsix', ' 23:57:4']\n",
      "['GIGACHAD', 'victorleporc_', ' 23:57:4']\n",
      "['Clueless', 'dafuxas', ' 23:57:4']\n",
      "['SHELLANGE?', 'hughestw', ' 23:57:4']\n",
      "['HUH', 'xvoitto', ' 23:57:4']\n",
      "['GIGACHAD ZYZZ 🤝 NICK GIGACHAD ZYZZ 🤝 NICK GIGACHAD ZYZZ 🤝 NICK GIGACHAD ZYZZ 🤝 NICK GIGACHAD ZYZZ 🤝 NICK.', 'nyquil69420ggg', ' 23:57:4']\n",
      "['GIGACHAD DOESNT CARE', 'cystellic', ' 23:57:5']\n",
      "['HUH MY FAMILY', 'superkingbeann', ' 23:57:5']\n",
      "['GIGACHAD ZYZZ HOLY xqcLL CurseLit', 'pcdank1', ' 23:57:5']\n",
      "['HUH WTF', 'heartunderblade8', ' 23:57:5']\n",
      "['GIGACHAD CHILLS', 'biggfellau', ' 23:57:5']\n",
      "['taxi2gTT  \\U000e0000', 'ghriff', ' 23:57:5']\n",
      "['GIGACHAD xqcTechno', 'zaintew', ' 23:57:5']\n",
      "['GIGACHAD \\U000e0000', 'victorleporc_', ' 23:57:5']\n",
      "['RIPBOZO TURTLE PACK', 'justtheloaf', ' 23:57:5']\n",
      "['HUH WTF', 'fireworld345', ' 23:57:5']\n",
      "['HUH NOT COOL', 'bubbieizcool', ' 23:57:5']\n",
      "['GIGACHAD ZYZZ', 'itsmorty7', ' 23:57:5']\n",
      "['lmaooo', 'underlordhd', ' 23:57:5']\n",
      "['HUH 💢 wtf', 'markykaneki', ' 23:57:5']\n",
      "['GIGACHAD', 'christian_4u', ' 23:57:5']\n",
      "['GIGACHAD', 'frieze115', ' 23:57:5']\n",
      "[\"AlienPls3 AlienPls3 AlienPls3 AlienPls3 AlienPls3 AlienPls3 AlienPls3 AlienPls3 AlienPls3 AlienPls3 AlienPls3 AlienPls3 AlienPls3 AlienPls3 Alien'\\n\", 'mrinsignificantsuperpower', ' 23:57:5']\n",
      "['3', 'ls3 AlienPls3 AlienPls3 AlienPls3 AlienPls3 AlienPls3 AlienPls', ' 23:57:5']\n",
      "['HUH MY SPECIE', 'jaszeyy', ' 23:57:5']\n",
      "['GIGACHAD', 'victorleporc_', ' 23:57:5']\n",
      "['sinnaVIBIN sinnaSquirtledance', 'sonofstr', ' 23:57:5']\n",
      "['GIGACHAD', 'ispikek', ' 23:57:5']\n",
      "[':tf:', 'raoul_book', ' 23:57:5']\n",
      "['HUH', 'jonnow89', ' 23:57:5']\n",
      "['taxi2gTT', 'ghriff', ' 23:57:5']\n",
      "['HUH', 'ayyyoooo0', ' 23:57:5']\n",
      "['HUH MENDO WHAT', 'wombattmann', ' 23:57:5']\n",
      "['Thats psychotic', 'zee9996', ' 23:57:5']\n",
      "['AlienDance', 'lemonj0n', ' 23:57:5']\n",
      "['GIGACHAD ZYZZ HOLY CurseLit', 'pcdank1', ' 23:57:5']\n",
      "['HUH whyyyy', 'mrbilldipperly', ' 23:57:5']\n",
      "['GIGACHAD  xqcTechno', 'zaintew', ' 23:57:5']\n",
      "['GIGACHAD \\U000e0000', 'victorleporc_', ' 23:57:5']\n",
      "['WAYTOODANK THE MIC', 'kleenpillows', ' 23:57:5']\n",
      "['TRUE LULW', 'c0vertius', ' 23:57:5']\n",
      "['demondj', 'kleptodub', ' 23:57:5']\n",
      "['get shit on', '6zcc', ' 23:57:5']\n",
      "['xqcBased hoooly', 'kevinh2828', ' 23:57:5']\n",
      "['NO OMEGALUL', 'sygglylne', ' 23:57:5']\n",
      "['GIGACHAD', 'mg4golf', ' 23:57:5']\n",
      "['ZYZZ GIGACHAD', 'zhadrockyy', ' 23:57:5']\n",
      "['Aware', 'fahd_khan', ' 23:57:5']\n",
      "['@ozziefuxer sanest amber heard supporter WeirdChamp', 'liskydrop', ' 23:57:5']\n",
      "['are you winning?', 'hahahahahaahahhahahah', ' 23:57:5']\n",
      "['i am super juiced up xqcLL', 'popeyegreenz', ' 23:57:5']\n",
      "['PogU useless', 'skully_ow', ' 23:57:5']\n",
      "['xqcTechno ppOverheat xqcTechno ppOverheat xqcTechno ppOverheat xqcTechno ppOverheat xqcTechno ppOverheat', 'dyskri1', ' 23:57:5']\n",
      "['GIGACHAD', 'victorleporc_', ' 23:57:5']\n",
      "['🐢', 'murdockstar', ' 23:57:5']\n",
      "['GIGACHAD U MIRIN\\' BRAH? GIGACHAD U MIRIN\\' BRAH? GIGACHAD U MIRIN\\' BRAH? GIGACHAD U MIRIN\\' BRAH? GIGACHAD U MIRIN\\' BRAH? GIGACHAD U MIRIN\\' BRAH? GIGACHAD U MIRIN\\' BRAH? GIGACHAD U MIRIN\\' BRAH? GIGACHAD U MIRIN\\' BRAH? GIGACHAD U MIRIN\\' BRAH?\\n\"\\n', 'hfrrh', ' 23:57:5']\n",
      "['GIGACHAD \\U000e0000', 'victorleporc_', ' 23:57:5']\n",
      "['TRUE LULW', 'fireworld345', ' 23:57:5']\n",
      "['GIGACHAD', 'doctor__manhattan', ' 23:57:5']\n",
      "['HUH WTF', 'jaszeyy', ' 23:57:5']\n",
      "['🐢 PoroSad', 'prod1gyclb_', ' 23:57:5']\n",
      "['GIGACHAD', 'alocinmp4', ' 23:57:5']\n",
      "['GIGACHAD*USES PLASTIC STRAWS*', 'ignsalty', ' 23:57:5']\n",
      "['HUH THAT WAS MY DAD', 'former_juicer', ' 23:57:5']\n",
      "['HUH WHy Me ????', 'nzakaria', ' 23:57:5']\n",
      "['GIGACHAD ZYZZ', 'redacted_divinity', ' 23:57:5']\n",
      "['LULW', 'nouzend', ' 23:57:5']\n",
      "['taxi2gTT  \\U000e0000', 'ghriff', ' 23:57:5']\n",
      "['we know', 'skillpoint_', ' 23:57:5']\n",
      "['HUH AAAAAAAAAAAAAAAAAAAAUGH', 'clikplay', ' 23:57:5']\n",
      "['HUH WTF MENDO', 'wombattmann', ' 23:57:5']\n",
      "['GIGACHAD', 'victorleporc_', ' 23:57:5']\n",
      "['OMEGALUL', 'idiot_wolf1', ' 23:57:5']\n",
      "['GIGACHAD', 'bbigbobb', ' 23:57:5']\n",
      "['catJAM ppOverheat', 'sintrall', ' 23:57:5']\n",
      "['GIGACHAD', 'maxmonke', ' 23:57:5']\n",
      "['1 hour down xqc', 'ben_vincent', ' 23:57:5']\n",
      "['OMEGALUL', 'hysterovr', ' 23:57:5']\n",
      "['TRUE LULW', 'heartunderblade8', ' 23:57:5']\n",
      "['GIGACHAD 👉 HUH', 'ltwitching', ' 23:57:5']\n",
      "['LIKE SUPER MARIO BatChest', 're_somar', ' 23:57:5']\n",
      "['USELESS OMEGALUL', 'zar___', ' 23:57:5']\n",
      "['ppOverheat ppOverheat  ppOverheat  ppOverheat  ppOverheat  ppOverheat  ppOverheat  ppOverheat', 'raging_blades0', ' 23:57:5']\n",
      "['OMEGACHAD', 'enzoeg1', ' 23:57:5']\n",
      "['LULW', 'edrrix', ' 23:57:5']\n",
      "['GIGACHAD \\U000e0000', 'victorleporc_', ' 23:57:5']\n",
      "['LULW \\U000e0000', 'nouzend', ' 23:57:5']\n",
      "['WE LOVE GTA RP 💙', 'mangarell1', ' 23:57:5']\n",
      "['true', 'davpod1', ' 23:57:5']\n",
      "['TRUE LULW', 'pepolaugh', ' 23:57:5']\n",
      "['Clueless', '16orangeboat', ' 23:57:5']\n",
      "['HUH', 'kirito1243_vg', ' 23:57:5']\n",
      "['Clueless surely', 'bencepentek', ' 23:57:5']\n",
      "['GIGACHAD ZYZZ HOLY  ! CurseLit', 'pcdank1', ' 23:57:5']\n",
      "['HUH HUH', 'finiunn', ' 23:57:5']\n",
      "['TRUE LULW TRUE LULW TRUE LULW TRUE LULW TRUE LULW', 'fireworld345', ' 23:57:5']\n",
      "['TRUE LULW', 'talonsix', ' 23:57:5']\n",
      "['HUH', 'herbertgubins', ' 23:57:5']\n",
      "['GIGACHAD', 'victorleporc_', ' 23:57:5']\n",
      "['Oh shit he’s doing the farm', 'simpsincombat', ' 23:57:5']\n",
      "['LULW true', 'ekinuu', ' 23:57:5']\n",
      "['GIGACHAD', 'kapee', ' 23:57:5']\n",
      "['TRUE', 'urhighness1221', ' 23:57:5']\n",
      "['WAYTOODANK', 'whiteeleven', ' 23:57:5']\n",
      "['taxi2gTT', 'ghriff', ' 23:57:5']\n",
      "['xqc GIGACHAD 0 achievements', 'the_golden_spider', ' 23:57:5']\n",
      "['OMEGALUL', 'sphaceful', ' 23:57:5']\n",
      "['OMEGALUL', 'mrh0micide', ' 23:57:5']\n",
      "['GIGACHAD \\U000e0000', 'victorleporc_', ' 23:57:5']\n",
      "['Kapp', 'dontbesadge', ' 23:57:5']\n",
      "['GIGACHAD', 'xvoitto', ' 23:57:5']\n",
      "['OMEGALUL YES', 'hysterovr', ' 23:57:5']\n",
      "['Copege', 'anooss_5000', ' 23:57:5']\n",
      "['GIGACHAD NOT YOU', 'swacq', ' 23:57:5']\n",
      "['Aware', 'swaggy66', ' 23:57:5']\n",
      "['GIGACHAD ZYZZ', 'potatox777', ' 23:57:5']\n",
      "['HUH WHY ME', 'phelozity', ' 23:57:5']\n",
      "['that’s a huh moment 😂😂', 'noshlne', ' 23:57:5']\n",
      "['Kappa', 'gilbuss', ' 23:57:5']\n",
      "['usless pov LULW', 'skillpoint_', ' 23:57:5']\n",
      "['LULW', 'sphaceful', ' 23:57:5']\n",
      "['widepeepoSad', 'estebankum', ' 23:57:5']\n",
      "['OMEGALUL TRUE', 'ok4y1', ' 23:57:5']\n",
      "['Clueless', 'epicly_', ' 23:58:0']\n",
      "['\\x01ACTION lol\\x01', 'challduffer', ' 23:58:0']\n",
      "['xqcMom gachiHYPER ppOverheat', '0ximo', ' 23:58:0']\n",
      "['HUH THAT WAS MY DAD', 'bubbieizcool', ' 23:58:0']\n",
      "['forsenPls', 'glizzygoblin8', ' 23:58:0']\n",
      "['OMEGALUL', 'peepoglad69', ' 23:58:0']\n",
      "['ppOverheat GIGACHAD', 'baryleaf', ' 23:58:0']\n",
      "['PogU useless', 'itsd4nn', ' 23:58:0']\n",
      "['Kapp', 'notshreddn', ' 23:58:0']\n",
      "['Copege', 'prod1gyclb_', ' 23:58:0']\n",
      "['HUH come on man', 'reynske', ' 23:58:0']\n",
      "['OMEGALUL', 'jaszeyy', ' 23:58:0']\n",
      "['GIGACHAD', 'peetcake', ' 23:58:0']\n",
      "['GIGACHAD IS USELESS', 'pepethepains', ' 23:58:0']\n",
      "['GIGACHAD USELESS', 'xjtxd0notpan1c', ' 23:58:0']\n",
      "['JuiceCheck JuiceCheck', 'apparentlykhaled', ' 23:58:0']\n",
      "['GIGACHAD ZYZZ BRAHS FUARK GIGACHAD ZYZZ BRAHS FUARK GIGACHAD ZYZZ BRAHS FUARK GIGACHAD ZYZZ BRAHS FUARK GIGACHAD ZYZZ BRAHS FUARK GIGACHAD ZYZZ BRAHS FUARK GIGACHAD ZYZZ BRAHS FUARK', 'redonfm', ' 23:58:0']\n",
      "['Aware', 'pepolaugh', ' 23:58:0']\n",
      "['LULW TRUE', 'realstargazer', ' 23:58:0']\n",
      "['SAME 1 SONG LULW', 'zaklol', ' 23:58:0']\n",
      "['GIGACHAD ZYZZ GIGACHAD ZYZZ I HEAR', 'dhruvinnn', ' 23:58:0']\n",
      "[':( turtle', 'sifias', ' 23:58:0']\n",
      "['OMEGALUL SAKURA POV', 'tallglassofbrandy', ' 23:58:0']\n",
      "['HUH', 'lithiumlover', ' 23:58:0']\n",
      "['Copege', 'belckan', ' 23:58:0']\n",
      "['Zyyyyyzzzzzzzzz', 'cezzarkaveli', ' 23:58:0']\n",
      "['HUH', 'ebrrsa', ' 23:58:0']\n",
      "['Copege', 'bogghs', ' 23:58:0']\n",
      "['AlienPls3', 'lemonj0n', ' 23:58:0']\n",
      "['TRUE LULW', 'petmart', ' 23:58:0']\n",
      "['Aware', 'zarkexe', ' 23:58:0']\n",
      "['who asked', 'shastee', ' 23:58:0']\n",
      "['Clueless', 'raoul_book', ' 23:58:0']\n",
      "['@ozziefuxer GIGACHAD HOLY', 'nyquil69420ggg', ' 23:58:0']\n",
      "['LULW TRUE', 'doctor__manhattan', ' 23:58:0']\n",
      "['taxi2gTT', 'pieropluz', ' 23:58:0']\n",
      "['basically', 'sandfir1', ' 23:58:0']\n",
      "['PLAY BRING ME THE HORIZON CAN YOU FEEL MY HEART', 'szubix404', ' 23:58:0']\n",
      "['pspZyzzpls', 'rvtrix', ' 23:58:0']\n",
      "['GIGACHAD ZYZZ PepegaPls GIGACHAD ZYZZ PepegaPls GIGACHAD ZYZZ PepegaPls GIGACHAD ZYZZ PepegaPls GIGACHAD ZYZZ PepegaPls', 'redacted_divinity', ' 23:58:0']\n",
      "['u killed a dragon @xQc', 'dragorap', ' 23:58:0']\n",
      "['TRUE OMEGALUL', 'khyonox', ' 23:58:0']\n",
      "['w legacy', 'di6o6go6', ' 23:58:0']\n",
      "['LULW TRUE', 'sphaceful', ' 23:58:0']\n",
      "['🔱🔱🔱🔱🔱🔱🔱🔱🔱', 'ispikek', ' 23:58:0']\n",
      "['There\\'s a better and faster way to farm runes\\n\"\\n', 'bob825', ' 23:58:0']\n",
      "['ok', 'extasy1337', ' 23:58:0']\n",
      "['GIGACHAD KNOWS BUT STILL DOES IT', 'iizeti', ' 23:58:0']\n",
      "['YEP', 'rosharlol', ' 23:58:0']\n",
      "['@ozziefuxer Chatting', 'rimiro', ' 23:58:0']\n",
      "['LULW', 'sphaceful', ' 23:58:0']\n",
      "['GIGACHAD', 'victorleporc_', ' 23:58:0']\n",
      "['lebronJAM', 'prod1gyclb_', ' 23:58:1']\n",
      "['i subbeed yesterday and it just said my sub expired ?', 'apollodiddat', ' 23:58:1']\n",
      "['GIGACHAD \\U000e0000', 'victorleporc_', ' 23:58:1']\n"
     ]
    }
   ],
   "source": [
    "import csv\n",
    "import re\n",
    "import matplotlib.pyplot as plt\n",
    "import datetime\n",
    "\n",
    "\n",
    "#Enter the name of the streamer from the URL\n",
    "streamer = 'xqc'\n",
    "\n",
    "\n",
    "laughs = []\n",
    "timestamps = []\n",
    "all_messages = []\n",
    "authors = []\n",
    "\n",
    "\n",
    "def remove_time(string):\n",
    "    return string[:8]\n",
    "\n",
    "\n",
    "today = datetime.datetime.now().strftime(\"%Y-%m-%d\")\n",
    "\n",
    "\n",
    "with open(f'{streamer}.csv') as f:\n",
    "    reader = csv.reader(f)\n",
    "    for row in reader:\n",
    "        \n",
    "        try:\n",
    "            #filter messages\n",
    "            if row[0].startswith('!') or 'https://' in row[0] or 'http://' in row[0] or row[1].startswith('Streamlabs') or row[1].startswith('streamlabs') or 'bot' in row[1]:\n",
    "                continue\n",
    "\n",
    "            #only add unique authors\n",
    "            if row[1] not in authors:\n",
    "                authors.append(row[1])\n",
    "                \n",
    "                \n",
    "            #replace 2022-05-31 with a space to extract timestamp\n",
    "            if today in row[2]:\n",
    "                row[2] = row[2].replace(today, '')\n",
    "                row[2] = remove_time(row[2])\n",
    "                timestamps.append(row[2])\n",
    "\n",
    "\n",
    "                #extract laughs\n",
    "                if \"haha\" in row[0] or \"HAHA\" in row[0] or \"LUL\" in row[0] or \"LULW\" in row[0] or \":D\" in row[0].lower() or \"LMAO\" in row[0] or \"Lmfao\" in row[0] or \"xd\" in row[0] or \"xD\" in row[0] or \"OMEGALUL\" in row[0]:\n",
    "                    laughs.append(row[2])\n",
    "            \n",
    "            \n",
    "        except:\n",
    "            pass\n",
    "            \n",
    "        all_messages.append(row[0])\n",
    "\n",
    "        print(row)\n",
    "        \n",
    "\n",
    "\n",
    "  \n",
    "\n",
    "            \n",
    "\n"
   ]
  },
  {
   "cell_type": "code",
   "execution_count": null,
   "metadata": {},
   "outputs": [],
   "source": []
  },
  {
   "cell_type": "code",
   "execution_count": 60,
   "metadata": {},
   "outputs": [
    {
     "name": "stdout",
     "output_type": "stream",
     "text": [
      "Es wurden 255 Nachrichten bei ...xqc... geschrieben\n",
      "Es haben 191 User bei ...xqc...im chat geschrieben\n",
      "74.9% ...engagement Rate. (100% = Jeder user hat eine Nachricht geschrieben)\n"
     ]
    },
    {
     "data": {
      "application/vnd.plotly.v1+json": {
       "config": {
        "plotlyServerURL": "https://plot.ly"
       },
       "data": [
        {
         "alignmentgroup": "True",
         "hovertemplate": "x=%{x}<br>y=%{y}<extra></extra>",
         "legendgroup": "",
         "marker": {
          "color": "#636efa",
          "pattern": {
           "shape": ""
          }
         },
         "name": "",
         "offsetgroup": "",
         "orientation": "v",
         "showlegend": false,
         "textposition": "auto",
         "type": "bar",
         "x": [
          "GIGACHAD",
          "HUH",
          "GIGACHAD 󠀀",
          "OMEGALUL",
          "HUH WTF",
          "TRUE LULW",
          "GIGACHAD xqcTechno",
          "GIGACHAD ZYZZ",
          "Clueless",
          "Aware",
          "LULW",
          "Copege",
          "taxi2gTT",
          "LULW TRUE",
          "ppOverheat",
          "peepoSad",
          "xqcTechno ppOverheat xqcTechno ppOverheat xqcTechno ppOverheat xqcTechno ppOverheat xqcTechno ppOverheat",
          "GIGACHAD CHILLS",
          "GIGACHAD  xqcTechno",
          "taxi2gTT  󠀀"
         ],
         "xaxis": "x",
         "y": [
          24,
          13,
          8,
          7,
          7,
          6,
          5,
          5,
          5,
          4,
          4,
          4,
          3,
          3,
          2,
          2,
          2,
          2,
          2,
          2
         ],
         "yaxis": "y"
        }
       ],
       "layout": {
        "barmode": "relative",
        "legend": {
         "tracegroupgap": 0
        },
        "margin": {
         "t": 60
        },
        "template": {
         "data": {
          "bar": [
           {
            "error_x": {
             "color": "#2a3f5f"
            },
            "error_y": {
             "color": "#2a3f5f"
            },
            "marker": {
             "line": {
              "color": "#E5ECF6",
              "width": 0.5
             },
             "pattern": {
              "fillmode": "overlay",
              "size": 10,
              "solidity": 0.2
             }
            },
            "type": "bar"
           }
          ],
          "barpolar": [
           {
            "marker": {
             "line": {
              "color": "#E5ECF6",
              "width": 0.5
             },
             "pattern": {
              "fillmode": "overlay",
              "size": 10,
              "solidity": 0.2
             }
            },
            "type": "barpolar"
           }
          ],
          "carpet": [
           {
            "aaxis": {
             "endlinecolor": "#2a3f5f",
             "gridcolor": "white",
             "linecolor": "white",
             "minorgridcolor": "white",
             "startlinecolor": "#2a3f5f"
            },
            "baxis": {
             "endlinecolor": "#2a3f5f",
             "gridcolor": "white",
             "linecolor": "white",
             "minorgridcolor": "white",
             "startlinecolor": "#2a3f5f"
            },
            "type": "carpet"
           }
          ],
          "choropleth": [
           {
            "colorbar": {
             "outlinewidth": 0,
             "ticks": ""
            },
            "type": "choropleth"
           }
          ],
          "contour": [
           {
            "colorbar": {
             "outlinewidth": 0,
             "ticks": ""
            },
            "colorscale": [
             [
              0,
              "#0d0887"
             ],
             [
              0.1111111111111111,
              "#46039f"
             ],
             [
              0.2222222222222222,
              "#7201a8"
             ],
             [
              0.3333333333333333,
              "#9c179e"
             ],
             [
              0.4444444444444444,
              "#bd3786"
             ],
             [
              0.5555555555555556,
              "#d8576b"
             ],
             [
              0.6666666666666666,
              "#ed7953"
             ],
             [
              0.7777777777777778,
              "#fb9f3a"
             ],
             [
              0.8888888888888888,
              "#fdca26"
             ],
             [
              1,
              "#f0f921"
             ]
            ],
            "type": "contour"
           }
          ],
          "contourcarpet": [
           {
            "colorbar": {
             "outlinewidth": 0,
             "ticks": ""
            },
            "type": "contourcarpet"
           }
          ],
          "heatmap": [
           {
            "colorbar": {
             "outlinewidth": 0,
             "ticks": ""
            },
            "colorscale": [
             [
              0,
              "#0d0887"
             ],
             [
              0.1111111111111111,
              "#46039f"
             ],
             [
              0.2222222222222222,
              "#7201a8"
             ],
             [
              0.3333333333333333,
              "#9c179e"
             ],
             [
              0.4444444444444444,
              "#bd3786"
             ],
             [
              0.5555555555555556,
              "#d8576b"
             ],
             [
              0.6666666666666666,
              "#ed7953"
             ],
             [
              0.7777777777777778,
              "#fb9f3a"
             ],
             [
              0.8888888888888888,
              "#fdca26"
             ],
             [
              1,
              "#f0f921"
             ]
            ],
            "type": "heatmap"
           }
          ],
          "heatmapgl": [
           {
            "colorbar": {
             "outlinewidth": 0,
             "ticks": ""
            },
            "colorscale": [
             [
              0,
              "#0d0887"
             ],
             [
              0.1111111111111111,
              "#46039f"
             ],
             [
              0.2222222222222222,
              "#7201a8"
             ],
             [
              0.3333333333333333,
              "#9c179e"
             ],
             [
              0.4444444444444444,
              "#bd3786"
             ],
             [
              0.5555555555555556,
              "#d8576b"
             ],
             [
              0.6666666666666666,
              "#ed7953"
             ],
             [
              0.7777777777777778,
              "#fb9f3a"
             ],
             [
              0.8888888888888888,
              "#fdca26"
             ],
             [
              1,
              "#f0f921"
             ]
            ],
            "type": "heatmapgl"
           }
          ],
          "histogram": [
           {
            "marker": {
             "pattern": {
              "fillmode": "overlay",
              "size": 10,
              "solidity": 0.2
             }
            },
            "type": "histogram"
           }
          ],
          "histogram2d": [
           {
            "colorbar": {
             "outlinewidth": 0,
             "ticks": ""
            },
            "colorscale": [
             [
              0,
              "#0d0887"
             ],
             [
              0.1111111111111111,
              "#46039f"
             ],
             [
              0.2222222222222222,
              "#7201a8"
             ],
             [
              0.3333333333333333,
              "#9c179e"
             ],
             [
              0.4444444444444444,
              "#bd3786"
             ],
             [
              0.5555555555555556,
              "#d8576b"
             ],
             [
              0.6666666666666666,
              "#ed7953"
             ],
             [
              0.7777777777777778,
              "#fb9f3a"
             ],
             [
              0.8888888888888888,
              "#fdca26"
             ],
             [
              1,
              "#f0f921"
             ]
            ],
            "type": "histogram2d"
           }
          ],
          "histogram2dcontour": [
           {
            "colorbar": {
             "outlinewidth": 0,
             "ticks": ""
            },
            "colorscale": [
             [
              0,
              "#0d0887"
             ],
             [
              0.1111111111111111,
              "#46039f"
             ],
             [
              0.2222222222222222,
              "#7201a8"
             ],
             [
              0.3333333333333333,
              "#9c179e"
             ],
             [
              0.4444444444444444,
              "#bd3786"
             ],
             [
              0.5555555555555556,
              "#d8576b"
             ],
             [
              0.6666666666666666,
              "#ed7953"
             ],
             [
              0.7777777777777778,
              "#fb9f3a"
             ],
             [
              0.8888888888888888,
              "#fdca26"
             ],
             [
              1,
              "#f0f921"
             ]
            ],
            "type": "histogram2dcontour"
           }
          ],
          "mesh3d": [
           {
            "colorbar": {
             "outlinewidth": 0,
             "ticks": ""
            },
            "type": "mesh3d"
           }
          ],
          "parcoords": [
           {
            "line": {
             "colorbar": {
              "outlinewidth": 0,
              "ticks": ""
             }
            },
            "type": "parcoords"
           }
          ],
          "pie": [
           {
            "automargin": true,
            "type": "pie"
           }
          ],
          "scatter": [
           {
            "marker": {
             "colorbar": {
              "outlinewidth": 0,
              "ticks": ""
             }
            },
            "type": "scatter"
           }
          ],
          "scatter3d": [
           {
            "line": {
             "colorbar": {
              "outlinewidth": 0,
              "ticks": ""
             }
            },
            "marker": {
             "colorbar": {
              "outlinewidth": 0,
              "ticks": ""
             }
            },
            "type": "scatter3d"
           }
          ],
          "scattercarpet": [
           {
            "marker": {
             "colorbar": {
              "outlinewidth": 0,
              "ticks": ""
             }
            },
            "type": "scattercarpet"
           }
          ],
          "scattergeo": [
           {
            "marker": {
             "colorbar": {
              "outlinewidth": 0,
              "ticks": ""
             }
            },
            "type": "scattergeo"
           }
          ],
          "scattergl": [
           {
            "marker": {
             "colorbar": {
              "outlinewidth": 0,
              "ticks": ""
             }
            },
            "type": "scattergl"
           }
          ],
          "scattermapbox": [
           {
            "marker": {
             "colorbar": {
              "outlinewidth": 0,
              "ticks": ""
             }
            },
            "type": "scattermapbox"
           }
          ],
          "scatterpolar": [
           {
            "marker": {
             "colorbar": {
              "outlinewidth": 0,
              "ticks": ""
             }
            },
            "type": "scatterpolar"
           }
          ],
          "scatterpolargl": [
           {
            "marker": {
             "colorbar": {
              "outlinewidth": 0,
              "ticks": ""
             }
            },
            "type": "scatterpolargl"
           }
          ],
          "scatterternary": [
           {
            "marker": {
             "colorbar": {
              "outlinewidth": 0,
              "ticks": ""
             }
            },
            "type": "scatterternary"
           }
          ],
          "surface": [
           {
            "colorbar": {
             "outlinewidth": 0,
             "ticks": ""
            },
            "colorscale": [
             [
              0,
              "#0d0887"
             ],
             [
              0.1111111111111111,
              "#46039f"
             ],
             [
              0.2222222222222222,
              "#7201a8"
             ],
             [
              0.3333333333333333,
              "#9c179e"
             ],
             [
              0.4444444444444444,
              "#bd3786"
             ],
             [
              0.5555555555555556,
              "#d8576b"
             ],
             [
              0.6666666666666666,
              "#ed7953"
             ],
             [
              0.7777777777777778,
              "#fb9f3a"
             ],
             [
              0.8888888888888888,
              "#fdca26"
             ],
             [
              1,
              "#f0f921"
             ]
            ],
            "type": "surface"
           }
          ],
          "table": [
           {
            "cells": {
             "fill": {
              "color": "#EBF0F8"
             },
             "line": {
              "color": "white"
             }
            },
            "header": {
             "fill": {
              "color": "#C8D4E3"
             },
             "line": {
              "color": "white"
             }
            },
            "type": "table"
           }
          ]
         },
         "layout": {
          "annotationdefaults": {
           "arrowcolor": "#2a3f5f",
           "arrowhead": 0,
           "arrowwidth": 1
          },
          "autotypenumbers": "strict",
          "coloraxis": {
           "colorbar": {
            "outlinewidth": 0,
            "ticks": ""
           }
          },
          "colorscale": {
           "diverging": [
            [
             0,
             "#8e0152"
            ],
            [
             0.1,
             "#c51b7d"
            ],
            [
             0.2,
             "#de77ae"
            ],
            [
             0.3,
             "#f1b6da"
            ],
            [
             0.4,
             "#fde0ef"
            ],
            [
             0.5,
             "#f7f7f7"
            ],
            [
             0.6,
             "#e6f5d0"
            ],
            [
             0.7,
             "#b8e186"
            ],
            [
             0.8,
             "#7fbc41"
            ],
            [
             0.9,
             "#4d9221"
            ],
            [
             1,
             "#276419"
            ]
           ],
           "sequential": [
            [
             0,
             "#0d0887"
            ],
            [
             0.1111111111111111,
             "#46039f"
            ],
            [
             0.2222222222222222,
             "#7201a8"
            ],
            [
             0.3333333333333333,
             "#9c179e"
            ],
            [
             0.4444444444444444,
             "#bd3786"
            ],
            [
             0.5555555555555556,
             "#d8576b"
            ],
            [
             0.6666666666666666,
             "#ed7953"
            ],
            [
             0.7777777777777778,
             "#fb9f3a"
            ],
            [
             0.8888888888888888,
             "#fdca26"
            ],
            [
             1,
             "#f0f921"
            ]
           ],
           "sequentialminus": [
            [
             0,
             "#0d0887"
            ],
            [
             0.1111111111111111,
             "#46039f"
            ],
            [
             0.2222222222222222,
             "#7201a8"
            ],
            [
             0.3333333333333333,
             "#9c179e"
            ],
            [
             0.4444444444444444,
             "#bd3786"
            ],
            [
             0.5555555555555556,
             "#d8576b"
            ],
            [
             0.6666666666666666,
             "#ed7953"
            ],
            [
             0.7777777777777778,
             "#fb9f3a"
            ],
            [
             0.8888888888888888,
             "#fdca26"
            ],
            [
             1,
             "#f0f921"
            ]
           ]
          },
          "colorway": [
           "#636efa",
           "#EF553B",
           "#00cc96",
           "#ab63fa",
           "#FFA15A",
           "#19d3f3",
           "#FF6692",
           "#B6E880",
           "#FF97FF",
           "#FECB52"
          ],
          "font": {
           "color": "#2a3f5f"
          },
          "geo": {
           "bgcolor": "white",
           "lakecolor": "white",
           "landcolor": "#E5ECF6",
           "showlakes": true,
           "showland": true,
           "subunitcolor": "white"
          },
          "hoverlabel": {
           "align": "left"
          },
          "hovermode": "closest",
          "mapbox": {
           "style": "light"
          },
          "paper_bgcolor": "white",
          "plot_bgcolor": "#E5ECF6",
          "polar": {
           "angularaxis": {
            "gridcolor": "white",
            "linecolor": "white",
            "ticks": ""
           },
           "bgcolor": "#E5ECF6",
           "radialaxis": {
            "gridcolor": "white",
            "linecolor": "white",
            "ticks": ""
           }
          },
          "scene": {
           "xaxis": {
            "backgroundcolor": "#E5ECF6",
            "gridcolor": "white",
            "gridwidth": 2,
            "linecolor": "white",
            "showbackground": true,
            "ticks": "",
            "zerolinecolor": "white"
           },
           "yaxis": {
            "backgroundcolor": "#E5ECF6",
            "gridcolor": "white",
            "gridwidth": 2,
            "linecolor": "white",
            "showbackground": true,
            "ticks": "",
            "zerolinecolor": "white"
           },
           "zaxis": {
            "backgroundcolor": "#E5ECF6",
            "gridcolor": "white",
            "gridwidth": 2,
            "linecolor": "white",
            "showbackground": true,
            "ticks": "",
            "zerolinecolor": "white"
           }
          },
          "shapedefaults": {
           "line": {
            "color": "#2a3f5f"
           }
          },
          "ternary": {
           "aaxis": {
            "gridcolor": "white",
            "linecolor": "white",
            "ticks": ""
           },
           "baxis": {
            "gridcolor": "white",
            "linecolor": "white",
            "ticks": ""
           },
           "bgcolor": "#E5ECF6",
           "caxis": {
            "gridcolor": "white",
            "linecolor": "white",
            "ticks": ""
           }
          },
          "title": {
           "x": 0.05
          },
          "xaxis": {
           "automargin": true,
           "gridcolor": "white",
           "linecolor": "white",
           "ticks": "",
           "title": {
            "standoff": 15
           },
           "zerolinecolor": "white",
           "zerolinewidth": 2
          },
          "yaxis": {
           "automargin": true,
           "gridcolor": "white",
           "linecolor": "white",
           "ticks": "",
           "title": {
            "standoff": 15
           },
           "zerolinecolor": "white",
           "zerolinewidth": 2
          }
         }
        },
        "xaxis": {
         "anchor": "y",
         "domain": [
          0,
          1
         ],
         "title": {
          "text": "x"
         }
        },
        "yaxis": {
         "anchor": "x",
         "domain": [
          0,
          1
         ],
         "title": {
          "text": "y"
         }
        }
       }
      }
     },
     "metadata": {},
     "output_type": "display_data"
    }
   ],
   "source": [
    "import itertools\n",
    "from collections import Counter\n",
    "from wordcloud import WordCloud\n",
    "import plotly.express as px\n",
    "\n",
    "\n",
    "print(f'Es wurden {len(all_messages)} Nachrichten bei ...{streamer}... geschrieben')  \n",
    "print(f'Es haben {len(authors)} User bei ...{streamer}...im chat geschrieben')\n",
    "#print(f'{round(len(all_messages) / len(authors), 3)} ...ist der Lurker Index.')\n",
    "print(f'{round( len(authors) / len(all_messages) * 100, 2)}' + '%' + ' ...engagement Rate. (100% = Jeder user hat eine Nachricht geschrieben)')\n",
    "\n",
    "\n",
    "\n",
    "#MOST WORDS COUNTER\n",
    "most_common_words = Counter(all_messages).most_common(20)\n",
    "#PLOT\n",
    "fig = px.bar(x=[word[0] for word in most_common_words], y=[word[1] for word in most_common_words])\n",
    "fig.show()\n",
    "\n",
    "\n",
    "\n",
    "\n"
   ]
  },
  {
   "cell_type": "code",
   "execution_count": null,
   "metadata": {},
   "outputs": [],
   "source": []
  },
  {
   "cell_type": "code",
   "execution_count": null,
   "metadata": {},
   "outputs": [],
   "source": []
  },
  {
   "cell_type": "code",
   "execution_count": 61,
   "metadata": {},
   "outputs": [
    {
     "data": {
      "application/vnd.plotly.v1+json": {
       "config": {
        "plotlyServerURL": "https://plot.ly"
       },
       "data": [
        {
         "type": "histogram",
         "x": [
          " 23:57:4",
          " 23:57:4",
          " 23:57:4",
          " 23:57:4",
          " 23:57:4",
          " 23:57:4",
          " 23:57:4",
          " 23:57:4",
          " 23:57:4",
          " 23:57:4",
          " 23:57:4",
          " 23:57:4",
          " 23:57:4",
          " 23:57:4",
          " 23:57:4",
          " 23:57:4",
          " 23:57:4",
          " 23:57:4",
          " 23:57:4",
          " 23:57:4",
          " 23:57:4",
          " 23:57:4",
          " 23:57:4",
          " 23:57:4",
          " 23:57:4",
          " 23:57:4",
          " 23:57:4",
          " 23:57:4",
          " 23:57:4",
          " 23:57:4",
          " 23:57:4",
          " 23:57:4",
          " 23:57:4",
          " 23:57:4",
          " 23:57:4",
          " 23:57:4",
          " 23:57:4",
          " 23:57:4",
          " 23:57:4",
          " 23:57:4",
          " 23:57:4",
          " 23:57:4",
          " 23:57:4",
          " 23:57:4",
          " 23:57:4",
          " 23:57:4",
          " 23:57:4",
          " 23:57:4",
          " 23:57:4",
          " 23:57:4",
          " 23:57:4",
          " 23:57:4",
          " 23:57:4",
          " 23:57:4",
          " 23:57:4",
          " 23:57:4",
          " 23:57:4",
          " 23:57:4",
          " 23:57:4",
          " 23:57:4",
          " 23:57:4",
          " 23:57:4",
          " 23:57:4",
          " 23:57:4",
          " 23:57:4",
          " 23:57:4",
          " 23:57:4",
          " 23:57:4",
          " 23:57:4",
          " 23:57:4",
          " 23:57:4",
          " 23:57:4",
          " 23:57:4",
          " 23:57:4",
          " 23:57:4",
          " 23:57:4",
          " 23:57:4",
          " 23:57:4",
          " 23:57:4",
          " 23:57:4",
          " 23:57:4",
          " 23:57:4",
          " 23:57:5",
          " 23:57:5",
          " 23:57:5",
          " 23:57:5",
          " 23:57:5",
          " 23:57:5",
          " 23:57:5",
          " 23:57:5",
          " 23:57:5",
          " 23:57:5",
          " 23:57:5",
          " 23:57:5",
          " 23:57:5",
          " 23:57:5",
          " 23:57:5",
          " 23:57:5",
          " 23:57:5",
          " 23:57:5",
          " 23:57:5",
          " 23:57:5",
          " 23:57:5",
          " 23:57:5",
          " 23:57:5",
          " 23:57:5",
          " 23:57:5",
          " 23:57:5",
          " 23:57:5",
          " 23:57:5",
          " 23:57:5",
          " 23:57:5",
          " 23:57:5",
          " 23:57:5",
          " 23:57:5",
          " 23:57:5",
          " 23:57:5",
          " 23:57:5",
          " 23:57:5",
          " 23:57:5",
          " 23:57:5",
          " 23:57:5",
          " 23:57:5",
          " 23:57:5",
          " 23:57:5",
          " 23:57:5",
          " 23:57:5",
          " 23:57:5",
          " 23:57:5",
          " 23:57:5",
          " 23:57:5",
          " 23:57:5",
          " 23:57:5",
          " 23:57:5",
          " 23:57:5",
          " 23:57:5",
          " 23:57:5",
          " 23:57:5",
          " 23:57:5",
          " 23:57:5",
          " 23:57:5",
          " 23:57:5",
          " 23:57:5",
          " 23:57:5",
          " 23:57:5",
          " 23:57:5",
          " 23:57:5",
          " 23:57:5",
          " 23:57:5",
          " 23:57:5",
          " 23:57:5",
          " 23:57:5",
          " 23:57:5",
          " 23:57:5",
          " 23:57:5",
          " 23:57:5",
          " 23:57:5",
          " 23:57:5",
          " 23:57:5",
          " 23:57:5",
          " 23:57:5",
          " 23:57:5",
          " 23:57:5",
          " 23:57:5",
          " 23:57:5",
          " 23:57:5",
          " 23:57:5",
          " 23:57:5",
          " 23:57:5",
          " 23:57:5",
          " 23:57:5",
          " 23:57:5",
          " 23:57:5",
          " 23:57:5",
          " 23:57:5",
          " 23:57:5",
          " 23:57:5",
          " 23:57:5",
          " 23:57:5",
          " 23:57:5",
          " 23:57:5",
          " 23:57:5",
          " 23:57:5",
          " 23:57:5",
          " 23:57:5",
          " 23:57:5",
          " 23:57:5",
          " 23:57:5",
          " 23:57:5",
          " 23:57:5",
          " 23:57:5",
          " 23:57:5",
          " 23:57:5",
          " 23:57:5",
          " 23:57:5",
          " 23:57:5",
          " 23:57:5",
          " 23:57:5",
          " 23:57:5",
          " 23:58:0",
          " 23:58:0",
          " 23:58:0",
          " 23:58:0",
          " 23:58:0",
          " 23:58:0",
          " 23:58:0",
          " 23:58:0",
          " 23:58:0",
          " 23:58:0",
          " 23:58:0",
          " 23:58:0",
          " 23:58:0",
          " 23:58:0",
          " 23:58:0",
          " 23:58:0",
          " 23:58:0",
          " 23:58:0",
          " 23:58:0",
          " 23:58:0",
          " 23:58:0",
          " 23:58:0",
          " 23:58:0",
          " 23:58:0",
          " 23:58:0",
          " 23:58:0",
          " 23:58:0",
          " 23:58:0",
          " 23:58:0",
          " 23:58:0",
          " 23:58:0",
          " 23:58:0",
          " 23:58:0",
          " 23:58:0",
          " 23:58:0",
          " 23:58:0",
          " 23:58:0",
          " 23:58:0",
          " 23:58:0",
          " 23:58:0",
          " 23:58:0",
          " 23:58:0",
          " 23:58:0",
          " 23:58:0",
          " 23:58:0",
          " 23:58:0",
          " 23:58:0",
          " 23:58:0",
          " 23:58:0",
          " 23:58:0",
          " 23:58:0",
          " 23:58:0",
          " 23:58:1",
          " 23:58:1",
          " 23:58:1"
         ]
        }
       ],
       "layout": {
        "template": {
         "data": {
          "bar": [
           {
            "error_x": {
             "color": "#2a3f5f"
            },
            "error_y": {
             "color": "#2a3f5f"
            },
            "marker": {
             "line": {
              "color": "#E5ECF6",
              "width": 0.5
             },
             "pattern": {
              "fillmode": "overlay",
              "size": 10,
              "solidity": 0.2
             }
            },
            "type": "bar"
           }
          ],
          "barpolar": [
           {
            "marker": {
             "line": {
              "color": "#E5ECF6",
              "width": 0.5
             },
             "pattern": {
              "fillmode": "overlay",
              "size": 10,
              "solidity": 0.2
             }
            },
            "type": "barpolar"
           }
          ],
          "carpet": [
           {
            "aaxis": {
             "endlinecolor": "#2a3f5f",
             "gridcolor": "white",
             "linecolor": "white",
             "minorgridcolor": "white",
             "startlinecolor": "#2a3f5f"
            },
            "baxis": {
             "endlinecolor": "#2a3f5f",
             "gridcolor": "white",
             "linecolor": "white",
             "minorgridcolor": "white",
             "startlinecolor": "#2a3f5f"
            },
            "type": "carpet"
           }
          ],
          "choropleth": [
           {
            "colorbar": {
             "outlinewidth": 0,
             "ticks": ""
            },
            "type": "choropleth"
           }
          ],
          "contour": [
           {
            "colorbar": {
             "outlinewidth": 0,
             "ticks": ""
            },
            "colorscale": [
             [
              0,
              "#0d0887"
             ],
             [
              0.1111111111111111,
              "#46039f"
             ],
             [
              0.2222222222222222,
              "#7201a8"
             ],
             [
              0.3333333333333333,
              "#9c179e"
             ],
             [
              0.4444444444444444,
              "#bd3786"
             ],
             [
              0.5555555555555556,
              "#d8576b"
             ],
             [
              0.6666666666666666,
              "#ed7953"
             ],
             [
              0.7777777777777778,
              "#fb9f3a"
             ],
             [
              0.8888888888888888,
              "#fdca26"
             ],
             [
              1,
              "#f0f921"
             ]
            ],
            "type": "contour"
           }
          ],
          "contourcarpet": [
           {
            "colorbar": {
             "outlinewidth": 0,
             "ticks": ""
            },
            "type": "contourcarpet"
           }
          ],
          "heatmap": [
           {
            "colorbar": {
             "outlinewidth": 0,
             "ticks": ""
            },
            "colorscale": [
             [
              0,
              "#0d0887"
             ],
             [
              0.1111111111111111,
              "#46039f"
             ],
             [
              0.2222222222222222,
              "#7201a8"
             ],
             [
              0.3333333333333333,
              "#9c179e"
             ],
             [
              0.4444444444444444,
              "#bd3786"
             ],
             [
              0.5555555555555556,
              "#d8576b"
             ],
             [
              0.6666666666666666,
              "#ed7953"
             ],
             [
              0.7777777777777778,
              "#fb9f3a"
             ],
             [
              0.8888888888888888,
              "#fdca26"
             ],
             [
              1,
              "#f0f921"
             ]
            ],
            "type": "heatmap"
           }
          ],
          "heatmapgl": [
           {
            "colorbar": {
             "outlinewidth": 0,
             "ticks": ""
            },
            "colorscale": [
             [
              0,
              "#0d0887"
             ],
             [
              0.1111111111111111,
              "#46039f"
             ],
             [
              0.2222222222222222,
              "#7201a8"
             ],
             [
              0.3333333333333333,
              "#9c179e"
             ],
             [
              0.4444444444444444,
              "#bd3786"
             ],
             [
              0.5555555555555556,
              "#d8576b"
             ],
             [
              0.6666666666666666,
              "#ed7953"
             ],
             [
              0.7777777777777778,
              "#fb9f3a"
             ],
             [
              0.8888888888888888,
              "#fdca26"
             ],
             [
              1,
              "#f0f921"
             ]
            ],
            "type": "heatmapgl"
           }
          ],
          "histogram": [
           {
            "marker": {
             "pattern": {
              "fillmode": "overlay",
              "size": 10,
              "solidity": 0.2
             }
            },
            "type": "histogram"
           }
          ],
          "histogram2d": [
           {
            "colorbar": {
             "outlinewidth": 0,
             "ticks": ""
            },
            "colorscale": [
             [
              0,
              "#0d0887"
             ],
             [
              0.1111111111111111,
              "#46039f"
             ],
             [
              0.2222222222222222,
              "#7201a8"
             ],
             [
              0.3333333333333333,
              "#9c179e"
             ],
             [
              0.4444444444444444,
              "#bd3786"
             ],
             [
              0.5555555555555556,
              "#d8576b"
             ],
             [
              0.6666666666666666,
              "#ed7953"
             ],
             [
              0.7777777777777778,
              "#fb9f3a"
             ],
             [
              0.8888888888888888,
              "#fdca26"
             ],
             [
              1,
              "#f0f921"
             ]
            ],
            "type": "histogram2d"
           }
          ],
          "histogram2dcontour": [
           {
            "colorbar": {
             "outlinewidth": 0,
             "ticks": ""
            },
            "colorscale": [
             [
              0,
              "#0d0887"
             ],
             [
              0.1111111111111111,
              "#46039f"
             ],
             [
              0.2222222222222222,
              "#7201a8"
             ],
             [
              0.3333333333333333,
              "#9c179e"
             ],
             [
              0.4444444444444444,
              "#bd3786"
             ],
             [
              0.5555555555555556,
              "#d8576b"
             ],
             [
              0.6666666666666666,
              "#ed7953"
             ],
             [
              0.7777777777777778,
              "#fb9f3a"
             ],
             [
              0.8888888888888888,
              "#fdca26"
             ],
             [
              1,
              "#f0f921"
             ]
            ],
            "type": "histogram2dcontour"
           }
          ],
          "mesh3d": [
           {
            "colorbar": {
             "outlinewidth": 0,
             "ticks": ""
            },
            "type": "mesh3d"
           }
          ],
          "parcoords": [
           {
            "line": {
             "colorbar": {
              "outlinewidth": 0,
              "ticks": ""
             }
            },
            "type": "parcoords"
           }
          ],
          "pie": [
           {
            "automargin": true,
            "type": "pie"
           }
          ],
          "scatter": [
           {
            "marker": {
             "colorbar": {
              "outlinewidth": 0,
              "ticks": ""
             }
            },
            "type": "scatter"
           }
          ],
          "scatter3d": [
           {
            "line": {
             "colorbar": {
              "outlinewidth": 0,
              "ticks": ""
             }
            },
            "marker": {
             "colorbar": {
              "outlinewidth": 0,
              "ticks": ""
             }
            },
            "type": "scatter3d"
           }
          ],
          "scattercarpet": [
           {
            "marker": {
             "colorbar": {
              "outlinewidth": 0,
              "ticks": ""
             }
            },
            "type": "scattercarpet"
           }
          ],
          "scattergeo": [
           {
            "marker": {
             "colorbar": {
              "outlinewidth": 0,
              "ticks": ""
             }
            },
            "type": "scattergeo"
           }
          ],
          "scattergl": [
           {
            "marker": {
             "colorbar": {
              "outlinewidth": 0,
              "ticks": ""
             }
            },
            "type": "scattergl"
           }
          ],
          "scattermapbox": [
           {
            "marker": {
             "colorbar": {
              "outlinewidth": 0,
              "ticks": ""
             }
            },
            "type": "scattermapbox"
           }
          ],
          "scatterpolar": [
           {
            "marker": {
             "colorbar": {
              "outlinewidth": 0,
              "ticks": ""
             }
            },
            "type": "scatterpolar"
           }
          ],
          "scatterpolargl": [
           {
            "marker": {
             "colorbar": {
              "outlinewidth": 0,
              "ticks": ""
             }
            },
            "type": "scatterpolargl"
           }
          ],
          "scatterternary": [
           {
            "marker": {
             "colorbar": {
              "outlinewidth": 0,
              "ticks": ""
             }
            },
            "type": "scatterternary"
           }
          ],
          "surface": [
           {
            "colorbar": {
             "outlinewidth": 0,
             "ticks": ""
            },
            "colorscale": [
             [
              0,
              "#0d0887"
             ],
             [
              0.1111111111111111,
              "#46039f"
             ],
             [
              0.2222222222222222,
              "#7201a8"
             ],
             [
              0.3333333333333333,
              "#9c179e"
             ],
             [
              0.4444444444444444,
              "#bd3786"
             ],
             [
              0.5555555555555556,
              "#d8576b"
             ],
             [
              0.6666666666666666,
              "#ed7953"
             ],
             [
              0.7777777777777778,
              "#fb9f3a"
             ],
             [
              0.8888888888888888,
              "#fdca26"
             ],
             [
              1,
              "#f0f921"
             ]
            ],
            "type": "surface"
           }
          ],
          "table": [
           {
            "cells": {
             "fill": {
              "color": "#EBF0F8"
             },
             "line": {
              "color": "white"
             }
            },
            "header": {
             "fill": {
              "color": "#C8D4E3"
             },
             "line": {
              "color": "white"
             }
            },
            "type": "table"
           }
          ]
         },
         "layout": {
          "annotationdefaults": {
           "arrowcolor": "#2a3f5f",
           "arrowhead": 0,
           "arrowwidth": 1
          },
          "autotypenumbers": "strict",
          "coloraxis": {
           "colorbar": {
            "outlinewidth": 0,
            "ticks": ""
           }
          },
          "colorscale": {
           "diverging": [
            [
             0,
             "#8e0152"
            ],
            [
             0.1,
             "#c51b7d"
            ],
            [
             0.2,
             "#de77ae"
            ],
            [
             0.3,
             "#f1b6da"
            ],
            [
             0.4,
             "#fde0ef"
            ],
            [
             0.5,
             "#f7f7f7"
            ],
            [
             0.6,
             "#e6f5d0"
            ],
            [
             0.7,
             "#b8e186"
            ],
            [
             0.8,
             "#7fbc41"
            ],
            [
             0.9,
             "#4d9221"
            ],
            [
             1,
             "#276419"
            ]
           ],
           "sequential": [
            [
             0,
             "#0d0887"
            ],
            [
             0.1111111111111111,
             "#46039f"
            ],
            [
             0.2222222222222222,
             "#7201a8"
            ],
            [
             0.3333333333333333,
             "#9c179e"
            ],
            [
             0.4444444444444444,
             "#bd3786"
            ],
            [
             0.5555555555555556,
             "#d8576b"
            ],
            [
             0.6666666666666666,
             "#ed7953"
            ],
            [
             0.7777777777777778,
             "#fb9f3a"
            ],
            [
             0.8888888888888888,
             "#fdca26"
            ],
            [
             1,
             "#f0f921"
            ]
           ],
           "sequentialminus": [
            [
             0,
             "#0d0887"
            ],
            [
             0.1111111111111111,
             "#46039f"
            ],
            [
             0.2222222222222222,
             "#7201a8"
            ],
            [
             0.3333333333333333,
             "#9c179e"
            ],
            [
             0.4444444444444444,
             "#bd3786"
            ],
            [
             0.5555555555555556,
             "#d8576b"
            ],
            [
             0.6666666666666666,
             "#ed7953"
            ],
            [
             0.7777777777777778,
             "#fb9f3a"
            ],
            [
             0.8888888888888888,
             "#fdca26"
            ],
            [
             1,
             "#f0f921"
            ]
           ]
          },
          "colorway": [
           "#636efa",
           "#EF553B",
           "#00cc96",
           "#ab63fa",
           "#FFA15A",
           "#19d3f3",
           "#FF6692",
           "#B6E880",
           "#FF97FF",
           "#FECB52"
          ],
          "font": {
           "color": "#2a3f5f"
          },
          "geo": {
           "bgcolor": "white",
           "lakecolor": "white",
           "landcolor": "#E5ECF6",
           "showlakes": true,
           "showland": true,
           "subunitcolor": "white"
          },
          "hoverlabel": {
           "align": "left"
          },
          "hovermode": "closest",
          "mapbox": {
           "style": "light"
          },
          "paper_bgcolor": "white",
          "plot_bgcolor": "#E5ECF6",
          "polar": {
           "angularaxis": {
            "gridcolor": "white",
            "linecolor": "white",
            "ticks": ""
           },
           "bgcolor": "#E5ECF6",
           "radialaxis": {
            "gridcolor": "white",
            "linecolor": "white",
            "ticks": ""
           }
          },
          "scene": {
           "xaxis": {
            "backgroundcolor": "#E5ECF6",
            "gridcolor": "white",
            "gridwidth": 2,
            "linecolor": "white",
            "showbackground": true,
            "ticks": "",
            "zerolinecolor": "white"
           },
           "yaxis": {
            "backgroundcolor": "#E5ECF6",
            "gridcolor": "white",
            "gridwidth": 2,
            "linecolor": "white",
            "showbackground": true,
            "ticks": "",
            "zerolinecolor": "white"
           },
           "zaxis": {
            "backgroundcolor": "#E5ECF6",
            "gridcolor": "white",
            "gridwidth": 2,
            "linecolor": "white",
            "showbackground": true,
            "ticks": "",
            "zerolinecolor": "white"
           }
          },
          "shapedefaults": {
           "line": {
            "color": "#2a3f5f"
           }
          },
          "ternary": {
           "aaxis": {
            "gridcolor": "white",
            "linecolor": "white",
            "ticks": ""
           },
           "baxis": {
            "gridcolor": "white",
            "linecolor": "white",
            "ticks": ""
           },
           "bgcolor": "#E5ECF6",
           "caxis": {
            "gridcolor": "white",
            "linecolor": "white",
            "ticks": ""
           }
          },
          "title": {
           "x": 0.05
          },
          "xaxis": {
           "automargin": true,
           "gridcolor": "white",
           "linecolor": "white",
           "ticks": "",
           "title": {
            "standoff": 15
           },
           "zerolinecolor": "white",
           "zerolinewidth": 2
          },
          "yaxis": {
           "automargin": true,
           "gridcolor": "white",
           "linecolor": "white",
           "ticks": "",
           "title": {
            "standoff": 15
           },
           "zerolinecolor": "white",
           "zerolinewidth": 2
          }
         }
        }
       }
      }
     },
     "metadata": {},
     "output_type": "display_data"
    },
    {
     "data": {
      "application/vnd.plotly.v1+json": {
       "config": {
        "plotlyServerURL": "https://plot.ly"
       },
       "data": [
        {
         "type": "histogram",
         "x": [
          " 23:57:4",
          " 23:57:4",
          " 23:57:5",
          " 23:57:5",
          " 23:57:5",
          " 23:57:5",
          " 23:57:5",
          " 23:57:5",
          " 23:57:5",
          " 23:57:5",
          " 23:57:5",
          " 23:57:5",
          " 23:57:5",
          " 23:57:5",
          " 23:57:5",
          " 23:57:5",
          " 23:57:5",
          " 23:57:5",
          " 23:57:5",
          " 23:57:5",
          " 23:57:5",
          " 23:57:5",
          " 23:58:0",
          " 23:58:0",
          " 23:58:0",
          " 23:58:0",
          " 23:58:0",
          " 23:58:0",
          " 23:58:0",
          " 23:58:0",
          " 23:58:0",
          " 23:58:0"
         ]
        }
       ],
       "layout": {
        "template": {
         "data": {
          "bar": [
           {
            "error_x": {
             "color": "#2a3f5f"
            },
            "error_y": {
             "color": "#2a3f5f"
            },
            "marker": {
             "line": {
              "color": "#E5ECF6",
              "width": 0.5
             },
             "pattern": {
              "fillmode": "overlay",
              "size": 10,
              "solidity": 0.2
             }
            },
            "type": "bar"
           }
          ],
          "barpolar": [
           {
            "marker": {
             "line": {
              "color": "#E5ECF6",
              "width": 0.5
             },
             "pattern": {
              "fillmode": "overlay",
              "size": 10,
              "solidity": 0.2
             }
            },
            "type": "barpolar"
           }
          ],
          "carpet": [
           {
            "aaxis": {
             "endlinecolor": "#2a3f5f",
             "gridcolor": "white",
             "linecolor": "white",
             "minorgridcolor": "white",
             "startlinecolor": "#2a3f5f"
            },
            "baxis": {
             "endlinecolor": "#2a3f5f",
             "gridcolor": "white",
             "linecolor": "white",
             "minorgridcolor": "white",
             "startlinecolor": "#2a3f5f"
            },
            "type": "carpet"
           }
          ],
          "choropleth": [
           {
            "colorbar": {
             "outlinewidth": 0,
             "ticks": ""
            },
            "type": "choropleth"
           }
          ],
          "contour": [
           {
            "colorbar": {
             "outlinewidth": 0,
             "ticks": ""
            },
            "colorscale": [
             [
              0,
              "#0d0887"
             ],
             [
              0.1111111111111111,
              "#46039f"
             ],
             [
              0.2222222222222222,
              "#7201a8"
             ],
             [
              0.3333333333333333,
              "#9c179e"
             ],
             [
              0.4444444444444444,
              "#bd3786"
             ],
             [
              0.5555555555555556,
              "#d8576b"
             ],
             [
              0.6666666666666666,
              "#ed7953"
             ],
             [
              0.7777777777777778,
              "#fb9f3a"
             ],
             [
              0.8888888888888888,
              "#fdca26"
             ],
             [
              1,
              "#f0f921"
             ]
            ],
            "type": "contour"
           }
          ],
          "contourcarpet": [
           {
            "colorbar": {
             "outlinewidth": 0,
             "ticks": ""
            },
            "type": "contourcarpet"
           }
          ],
          "heatmap": [
           {
            "colorbar": {
             "outlinewidth": 0,
             "ticks": ""
            },
            "colorscale": [
             [
              0,
              "#0d0887"
             ],
             [
              0.1111111111111111,
              "#46039f"
             ],
             [
              0.2222222222222222,
              "#7201a8"
             ],
             [
              0.3333333333333333,
              "#9c179e"
             ],
             [
              0.4444444444444444,
              "#bd3786"
             ],
             [
              0.5555555555555556,
              "#d8576b"
             ],
             [
              0.6666666666666666,
              "#ed7953"
             ],
             [
              0.7777777777777778,
              "#fb9f3a"
             ],
             [
              0.8888888888888888,
              "#fdca26"
             ],
             [
              1,
              "#f0f921"
             ]
            ],
            "type": "heatmap"
           }
          ],
          "heatmapgl": [
           {
            "colorbar": {
             "outlinewidth": 0,
             "ticks": ""
            },
            "colorscale": [
             [
              0,
              "#0d0887"
             ],
             [
              0.1111111111111111,
              "#46039f"
             ],
             [
              0.2222222222222222,
              "#7201a8"
             ],
             [
              0.3333333333333333,
              "#9c179e"
             ],
             [
              0.4444444444444444,
              "#bd3786"
             ],
             [
              0.5555555555555556,
              "#d8576b"
             ],
             [
              0.6666666666666666,
              "#ed7953"
             ],
             [
              0.7777777777777778,
              "#fb9f3a"
             ],
             [
              0.8888888888888888,
              "#fdca26"
             ],
             [
              1,
              "#f0f921"
             ]
            ],
            "type": "heatmapgl"
           }
          ],
          "histogram": [
           {
            "marker": {
             "pattern": {
              "fillmode": "overlay",
              "size": 10,
              "solidity": 0.2
             }
            },
            "type": "histogram"
           }
          ],
          "histogram2d": [
           {
            "colorbar": {
             "outlinewidth": 0,
             "ticks": ""
            },
            "colorscale": [
             [
              0,
              "#0d0887"
             ],
             [
              0.1111111111111111,
              "#46039f"
             ],
             [
              0.2222222222222222,
              "#7201a8"
             ],
             [
              0.3333333333333333,
              "#9c179e"
             ],
             [
              0.4444444444444444,
              "#bd3786"
             ],
             [
              0.5555555555555556,
              "#d8576b"
             ],
             [
              0.6666666666666666,
              "#ed7953"
             ],
             [
              0.7777777777777778,
              "#fb9f3a"
             ],
             [
              0.8888888888888888,
              "#fdca26"
             ],
             [
              1,
              "#f0f921"
             ]
            ],
            "type": "histogram2d"
           }
          ],
          "histogram2dcontour": [
           {
            "colorbar": {
             "outlinewidth": 0,
             "ticks": ""
            },
            "colorscale": [
             [
              0,
              "#0d0887"
             ],
             [
              0.1111111111111111,
              "#46039f"
             ],
             [
              0.2222222222222222,
              "#7201a8"
             ],
             [
              0.3333333333333333,
              "#9c179e"
             ],
             [
              0.4444444444444444,
              "#bd3786"
             ],
             [
              0.5555555555555556,
              "#d8576b"
             ],
             [
              0.6666666666666666,
              "#ed7953"
             ],
             [
              0.7777777777777778,
              "#fb9f3a"
             ],
             [
              0.8888888888888888,
              "#fdca26"
             ],
             [
              1,
              "#f0f921"
             ]
            ],
            "type": "histogram2dcontour"
           }
          ],
          "mesh3d": [
           {
            "colorbar": {
             "outlinewidth": 0,
             "ticks": ""
            },
            "type": "mesh3d"
           }
          ],
          "parcoords": [
           {
            "line": {
             "colorbar": {
              "outlinewidth": 0,
              "ticks": ""
             }
            },
            "type": "parcoords"
           }
          ],
          "pie": [
           {
            "automargin": true,
            "type": "pie"
           }
          ],
          "scatter": [
           {
            "marker": {
             "colorbar": {
              "outlinewidth": 0,
              "ticks": ""
             }
            },
            "type": "scatter"
           }
          ],
          "scatter3d": [
           {
            "line": {
             "colorbar": {
              "outlinewidth": 0,
              "ticks": ""
             }
            },
            "marker": {
             "colorbar": {
              "outlinewidth": 0,
              "ticks": ""
             }
            },
            "type": "scatter3d"
           }
          ],
          "scattercarpet": [
           {
            "marker": {
             "colorbar": {
              "outlinewidth": 0,
              "ticks": ""
             }
            },
            "type": "scattercarpet"
           }
          ],
          "scattergeo": [
           {
            "marker": {
             "colorbar": {
              "outlinewidth": 0,
              "ticks": ""
             }
            },
            "type": "scattergeo"
           }
          ],
          "scattergl": [
           {
            "marker": {
             "colorbar": {
              "outlinewidth": 0,
              "ticks": ""
             }
            },
            "type": "scattergl"
           }
          ],
          "scattermapbox": [
           {
            "marker": {
             "colorbar": {
              "outlinewidth": 0,
              "ticks": ""
             }
            },
            "type": "scattermapbox"
           }
          ],
          "scatterpolar": [
           {
            "marker": {
             "colorbar": {
              "outlinewidth": 0,
              "ticks": ""
             }
            },
            "type": "scatterpolar"
           }
          ],
          "scatterpolargl": [
           {
            "marker": {
             "colorbar": {
              "outlinewidth": 0,
              "ticks": ""
             }
            },
            "type": "scatterpolargl"
           }
          ],
          "scatterternary": [
           {
            "marker": {
             "colorbar": {
              "outlinewidth": 0,
              "ticks": ""
             }
            },
            "type": "scatterternary"
           }
          ],
          "surface": [
           {
            "colorbar": {
             "outlinewidth": 0,
             "ticks": ""
            },
            "colorscale": [
             [
              0,
              "#0d0887"
             ],
             [
              0.1111111111111111,
              "#46039f"
             ],
             [
              0.2222222222222222,
              "#7201a8"
             ],
             [
              0.3333333333333333,
              "#9c179e"
             ],
             [
              0.4444444444444444,
              "#bd3786"
             ],
             [
              0.5555555555555556,
              "#d8576b"
             ],
             [
              0.6666666666666666,
              "#ed7953"
             ],
             [
              0.7777777777777778,
              "#fb9f3a"
             ],
             [
              0.8888888888888888,
              "#fdca26"
             ],
             [
              1,
              "#f0f921"
             ]
            ],
            "type": "surface"
           }
          ],
          "table": [
           {
            "cells": {
             "fill": {
              "color": "#EBF0F8"
             },
             "line": {
              "color": "white"
             }
            },
            "header": {
             "fill": {
              "color": "#C8D4E3"
             },
             "line": {
              "color": "white"
             }
            },
            "type": "table"
           }
          ]
         },
         "layout": {
          "annotationdefaults": {
           "arrowcolor": "#2a3f5f",
           "arrowhead": 0,
           "arrowwidth": 1
          },
          "autotypenumbers": "strict",
          "coloraxis": {
           "colorbar": {
            "outlinewidth": 0,
            "ticks": ""
           }
          },
          "colorscale": {
           "diverging": [
            [
             0,
             "#8e0152"
            ],
            [
             0.1,
             "#c51b7d"
            ],
            [
             0.2,
             "#de77ae"
            ],
            [
             0.3,
             "#f1b6da"
            ],
            [
             0.4,
             "#fde0ef"
            ],
            [
             0.5,
             "#f7f7f7"
            ],
            [
             0.6,
             "#e6f5d0"
            ],
            [
             0.7,
             "#b8e186"
            ],
            [
             0.8,
             "#7fbc41"
            ],
            [
             0.9,
             "#4d9221"
            ],
            [
             1,
             "#276419"
            ]
           ],
           "sequential": [
            [
             0,
             "#0d0887"
            ],
            [
             0.1111111111111111,
             "#46039f"
            ],
            [
             0.2222222222222222,
             "#7201a8"
            ],
            [
             0.3333333333333333,
             "#9c179e"
            ],
            [
             0.4444444444444444,
             "#bd3786"
            ],
            [
             0.5555555555555556,
             "#d8576b"
            ],
            [
             0.6666666666666666,
             "#ed7953"
            ],
            [
             0.7777777777777778,
             "#fb9f3a"
            ],
            [
             0.8888888888888888,
             "#fdca26"
            ],
            [
             1,
             "#f0f921"
            ]
           ],
           "sequentialminus": [
            [
             0,
             "#0d0887"
            ],
            [
             0.1111111111111111,
             "#46039f"
            ],
            [
             0.2222222222222222,
             "#7201a8"
            ],
            [
             0.3333333333333333,
             "#9c179e"
            ],
            [
             0.4444444444444444,
             "#bd3786"
            ],
            [
             0.5555555555555556,
             "#d8576b"
            ],
            [
             0.6666666666666666,
             "#ed7953"
            ],
            [
             0.7777777777777778,
             "#fb9f3a"
            ],
            [
             0.8888888888888888,
             "#fdca26"
            ],
            [
             1,
             "#f0f921"
            ]
           ]
          },
          "colorway": [
           "#636efa",
           "#EF553B",
           "#00cc96",
           "#ab63fa",
           "#FFA15A",
           "#19d3f3",
           "#FF6692",
           "#B6E880",
           "#FF97FF",
           "#FECB52"
          ],
          "font": {
           "color": "#2a3f5f"
          },
          "geo": {
           "bgcolor": "white",
           "lakecolor": "white",
           "landcolor": "#E5ECF6",
           "showlakes": true,
           "showland": true,
           "subunitcolor": "white"
          },
          "hoverlabel": {
           "align": "left"
          },
          "hovermode": "closest",
          "mapbox": {
           "style": "light"
          },
          "paper_bgcolor": "white",
          "plot_bgcolor": "#E5ECF6",
          "polar": {
           "angularaxis": {
            "gridcolor": "white",
            "linecolor": "white",
            "ticks": ""
           },
           "bgcolor": "#E5ECF6",
           "radialaxis": {
            "gridcolor": "white",
            "linecolor": "white",
            "ticks": ""
           }
          },
          "scene": {
           "xaxis": {
            "backgroundcolor": "#E5ECF6",
            "gridcolor": "white",
            "gridwidth": 2,
            "linecolor": "white",
            "showbackground": true,
            "ticks": "",
            "zerolinecolor": "white"
           },
           "yaxis": {
            "backgroundcolor": "#E5ECF6",
            "gridcolor": "white",
            "gridwidth": 2,
            "linecolor": "white",
            "showbackground": true,
            "ticks": "",
            "zerolinecolor": "white"
           },
           "zaxis": {
            "backgroundcolor": "#E5ECF6",
            "gridcolor": "white",
            "gridwidth": 2,
            "linecolor": "white",
            "showbackground": true,
            "ticks": "",
            "zerolinecolor": "white"
           }
          },
          "shapedefaults": {
           "line": {
            "color": "#2a3f5f"
           }
          },
          "ternary": {
           "aaxis": {
            "gridcolor": "white",
            "linecolor": "white",
            "ticks": ""
           },
           "baxis": {
            "gridcolor": "white",
            "linecolor": "white",
            "ticks": ""
           },
           "bgcolor": "#E5ECF6",
           "caxis": {
            "gridcolor": "white",
            "linecolor": "white",
            "ticks": ""
           }
          },
          "title": {
           "x": 0.05
          },
          "xaxis": {
           "automargin": true,
           "gridcolor": "white",
           "linecolor": "white",
           "ticks": "",
           "title": {
            "standoff": 15
           },
           "zerolinecolor": "white",
           "zerolinewidth": 2
          },
          "yaxis": {
           "automargin": true,
           "gridcolor": "white",
           "linecolor": "white",
           "ticks": "",
           "title": {
            "standoff": 15
           },
           "zerolinecolor": "white",
           "zerolinewidth": 2
          }
         }
        }
       }
      }
     },
     "metadata": {},
     "output_type": "display_data"
    }
   ],
   "source": [
    "#plot the timestamps\n",
    "import plotly.graph_objects as go\n",
    "\n",
    "#use the histogram to plot the timestamps\n",
    "fig = go.Figure(data=[go.Histogram(x=timestamps)])\n",
    "fig.show()\n",
    "\n",
    "\n",
    "fig2 = go.Figure(data=[go.Histogram(x=laughs)])\n",
    "fig2.show()\n",
    "\n",
    "\n",
    "#10:47:3 means, the message occured between 10:47:30 and 10:47:39, (10 seconds intervall)"
   ]
  },
  {
   "cell_type": "code",
   "execution_count": null,
   "metadata": {},
   "outputs": [],
   "source": []
  },
  {
   "cell_type": "code",
   "execution_count": null,
   "metadata": {},
   "outputs": [],
   "source": []
  }
 ],
 "metadata": {
  "interpreter": {
   "hash": "b0fa6594d8f4cbf19f97940f81e996739fb7646882a419484c72d19e05852a7e"
  },
  "kernelspec": {
   "display_name": "Python 3.9.13 64-bit",
   "language": "python",
   "name": "python3"
  },
  "language_info": {
   "codemirror_mode": {
    "name": "ipython",
    "version": 3
   },
   "file_extension": ".py",
   "mimetype": "text/x-python",
   "name": "python",
   "nbconvert_exporter": "python",
   "pygments_lexer": "ipython3",
   "version": "3.9.13"
  },
  "orig_nbformat": 4
 },
 "nbformat": 4,
 "nbformat_minor": 2
}
