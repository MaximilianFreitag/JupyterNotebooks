{
 "cells": [
  {
   "cell_type": "code",
   "execution_count": 1,
   "id": "55aa8bea-4aea-4778-8c88-78dbf3e70aa2",
   "metadata": {},
   "outputs": [],
   "source": [
    "import numpy as np"
   ]
  },
  {
   "cell_type": "code",
   "execution_count": 11,
   "id": "cbe15f42-7743-4603-bab0-2e08b8cd687c",
   "metadata": {},
   "outputs": [
    {
     "name": "stdout",
     "output_type": "stream",
     "text": [
      "2min 9s ± 1.82 s per loop (mean ± std. dev. of 7 runs, 1 loop each)\n"
     ]
    }
   ],
   "source": [
    "#Python code\n",
    "\n",
    "def python_fib(n):\n",
    "    a, b = 0.0, 1.0\n",
    "\n",
    "    for i in range(n):\n",
    "        tmp = a\n",
    "        a += b\n",
    "        b = tmp\n",
    "    return a\n",
    "\n",
    "%timeit python_fib(2000000000)"
   ]
  },
  {
   "cell_type": "code",
   "execution_count": 18,
   "id": "9f2ebe65-0c39-4b26-bc20-aeccb1a299f5",
   "metadata": {},
   "outputs": [
    {
     "name": "stdout",
     "output_type": "stream",
     "text": [
      "The cython extension is already loaded. To reload it, use:\n",
      "  %reload_ext cython\n"
     ]
    }
   ],
   "source": [
    "%load_ext cython"
   ]
  },
  {
   "cell_type": "code",
   "execution_count": 19,
   "id": "42b8a858-3964-4b8c-a00c-f0723363faf5",
   "metadata": {},
   "outputs": [],
   "source": [
    "%%cython\n",
    "\n",
    "#Cypthon code\n",
    "\n",
    "def cython_fib(int n):\n",
    "    cdef double a = 0.0\n",
    "    cdef double b = 1.0\n",
    "    cdef double tmp\n",
    "    for i in range(n):\n",
    "        tmp = a\n",
    "        a = a + b\n",
    "        b = tmp\n",
    "    return a\n"
   ]
  },
  {
   "cell_type": "code",
   "execution_count": 10,
   "id": "1759c709-0b0a-41f2-9811-1f646e4759db",
   "metadata": {},
   "outputs": [
    {
     "name": "stdout",
     "output_type": "stream",
     "text": [
      "1.67 s ± 15.2 ms per loop (mean ± std. dev. of 7 runs, 1 loop each)\n"
     ]
    }
   ],
   "source": [
    "%timeit cython_fib(2000000000)"
   ]
  },
  {
   "cell_type": "code",
   "execution_count": 20,
   "id": "34e047a9-a633-414c-b7af-5fec5c191739",
   "metadata": {},
   "outputs": [
    {
     "name": "stdout",
     "output_type": "stream",
     "text": [
      "Cypthon is 77.0 times faster than python\n"
     ]
    }
   ],
   "source": [
    "%%cython\n",
    "\n",
    "cdef float a = 129  #in seconds\n",
    "cdef float b = 1.67        \n",
    "\n",
    "#how much faster is cypthon?\n",
    "\n",
    "cdef float c = a // b\n",
    "\n",
    "print(f'Cypthon is {c} times faster than python')"
   ]
  },
  {
   "cell_type": "code",
   "execution_count": 22,
   "id": "bf6ee592-394a-4b12-9f4e-fef00ea9e041",
   "metadata": {},
   "outputs": [
    {
     "name": "stdout",
     "output_type": "stream",
     "text": [
      "Cypthon is fast\n"
     ]
    }
   ],
   "source": [
    "print('Cypthon is fast')"
   ]
  },
  {
   "cell_type": "code",
   "execution_count": null,
   "id": "829f6863-11fb-4078-a0df-bdb3cde6b2fb",
   "metadata": {},
   "outputs": [],
   "source": []
  },
  {
   "cell_type": "code",
   "execution_count": null,
   "id": "0a7d35a6-9670-42e9-bb00-f5c400f8befe",
   "metadata": {},
   "outputs": [],
   "source": []
  },
  {
   "cell_type": "code",
   "execution_count": null,
   "id": "62455c93-6b9d-4264-9bfe-81ab9a3d09e6",
   "metadata": {},
   "outputs": [],
   "source": []
  },
  {
   "cell_type": "code",
   "execution_count": 1,
   "id": "b539f23d-7104-4a86-bfaf-7c87dabb1019",
   "metadata": {},
   "outputs": [
    {
     "name": "stdout",
     "output_type": "stream",
     "text": [
      "25.1 ns ± 0.346 ns per loop (mean ± std. dev. of 7 runs, 10000000 loops each)\n"
     ]
    }
   ],
   "source": [
    "def say_hello ():\n",
    "    print('Hello World')\n",
    "    \n",
    "%timeit say_hello   "
   ]
  },
  {
   "cell_type": "code",
   "execution_count": null,
   "id": "b33bedf1-0ce0-464b-a88a-4c1f0db24380",
   "metadata": {},
   "outputs": [],
   "source": []
  }
 ],
 "metadata": {
  "kernelspec": {
   "display_name": "Python 3",
   "language": "python",
   "name": "python3"
  },
  "language_info": {
   "codemirror_mode": {
    "name": "ipython",
    "version": 3
   },
   "file_extension": ".py",
   "mimetype": "text/x-python",
   "name": "python",
   "nbconvert_exporter": "python",
   "pygments_lexer": "ipython3",
   "version": "3.8.8"
  }
 },
 "nbformat": 4,
 "nbformat_minor": 5
}
