{
 "cells": [
  {
   "cell_type": "code",
   "execution_count": 11,
   "id": "abdbf20b-5552-41ea-b839-ebb8f337d83a",
   "metadata": {},
   "outputs": [
    {
     "name": "stdout",
     "output_type": "stream",
     "text": [
      "Requirement already satisfied: selenium in ./opt/anaconda3/lib/python3.9/site-packages (4.1.0)\n",
      "Requirement already satisfied: trio-websocket~=0.9 in ./opt/anaconda3/lib/python3.9/site-packages (from selenium) (0.9.2)\n",
      "Requirement already satisfied: trio~=0.17 in ./opt/anaconda3/lib/python3.9/site-packages (from selenium) (0.19.0)\n",
      "Requirement already satisfied: urllib3[secure]~=1.26 in ./opt/anaconda3/lib/python3.9/site-packages (from selenium) (1.26.7)\n",
      "Requirement already satisfied: outcome in ./opt/anaconda3/lib/python3.9/site-packages (from trio~=0.17->selenium) (1.1.0)\n",
      "Requirement already satisfied: attrs>=19.2.0 in ./opt/anaconda3/lib/python3.9/site-packages (from trio~=0.17->selenium) (21.2.0)\n",
      "Requirement already satisfied: sniffio in ./opt/anaconda3/lib/python3.9/site-packages (from trio~=0.17->selenium) (1.2.0)\n",
      "Requirement already satisfied: sortedcontainers in ./opt/anaconda3/lib/python3.9/site-packages (from trio~=0.17->selenium) (2.4.0)\n",
      "Requirement already satisfied: idna in ./opt/anaconda3/lib/python3.9/site-packages (from trio~=0.17->selenium) (3.2)\n",
      "Requirement already satisfied: async-generator>=1.9 in ./opt/anaconda3/lib/python3.9/site-packages (from trio~=0.17->selenium) (1.10)\n",
      "Requirement already satisfied: wsproto>=0.14 in ./opt/anaconda3/lib/python3.9/site-packages (from trio-websocket~=0.9->selenium) (1.0.0)\n",
      "Requirement already satisfied: pyOpenSSL>=0.14 in ./opt/anaconda3/lib/python3.9/site-packages (from urllib3[secure]~=1.26->selenium) (21.0.0)\n",
      "Requirement already satisfied: cryptography>=1.3.4 in ./opt/anaconda3/lib/python3.9/site-packages (from urllib3[secure]~=1.26->selenium) (3.4.8)\n",
      "Requirement already satisfied: certifi in ./opt/anaconda3/lib/python3.9/site-packages (from urllib3[secure]~=1.26->selenium) (2021.10.8)\n",
      "Requirement already satisfied: cffi>=1.12 in ./opt/anaconda3/lib/python3.9/site-packages (from cryptography>=1.3.4->urllib3[secure]~=1.26->selenium) (1.14.6)\n",
      "Requirement already satisfied: pycparser in ./opt/anaconda3/lib/python3.9/site-packages (from cffi>=1.12->cryptography>=1.3.4->urllib3[secure]~=1.26->selenium) (2.20)\n",
      "Requirement already satisfied: six>=1.5.2 in ./opt/anaconda3/lib/python3.9/site-packages (from pyOpenSSL>=0.14->urllib3[secure]~=1.26->selenium) (1.16.0)\n",
      "Requirement already satisfied: h11<1,>=0.9.0 in ./opt/anaconda3/lib/python3.9/site-packages (from wsproto>=0.14->trio-websocket~=0.9->selenium) (0.12.0)\n",
      "Process started...\n",
      "\n"
     ]
    },
    {
     "name": "stderr",
     "output_type": "stream",
     "text": [
      "/var/folders/85/w6695fhx3ds_csvkj21k04zm0000gn/T/ipykernel_1038/762292965.py:18: DeprecationWarning: executable_path has been deprecated, please pass in a Service object\n",
      "  driver = webdriver.Chrome(executable_path=path)\n"
     ]
    },
    {
     "ename": "SessionNotCreatedException",
     "evalue": "Message: session not created: This version of ChromeDriver only supports Chrome version 96\nCurrent browser version is 98.0.4758.80 with binary path /Applications/Google Chrome.app/Contents/MacOS/Google Chrome\nStacktrace:\n0   chromedriver                        0x0000000101279408 __gxx_personality_v0 + 543364\n1   chromedriver                        0x000000010120f138 __gxx_personality_v0 + 108468\n2   chromedriver                        0x0000000100e0e7d8 chromedriver + 157656\n3   chromedriver                        0x0000000100e30b88 chromedriver + 297864\n4   chromedriver                        0x0000000100e2d608 chromedriver + 284168\n5   chromedriver                        0x0000000100e2a624 chromedriver + 271908\n6   chromedriver                        0x0000000100e5be24 chromedriver + 474660\n7   chromedriver                        0x0000000100e33238 chromedriver + 307768\n8   chromedriver                        0x000000010123cc7c __gxx_personality_v0 + 295672\n9   chromedriver                        0x0000000101250bd8 __gxx_personality_v0 + 377428\n10  chromedriver                        0x00000001012552b0 __gxx_personality_v0 + 395564\n11  chromedriver                        0x00000001012519f8 __gxx_personality_v0 + 381044\n12  chromedriver                        0x0000000101232754 __gxx_personality_v0 + 253392\n13  chromedriver                        0x000000010126aa38 __gxx_personality_v0 + 483508\n14  chromedriver                        0x000000010126abac __gxx_personality_v0 + 483880\n15  chromedriver                        0x000000010127ffec __gxx_personality_v0 + 570984\n16  libsystem_pthread.dylib             0x00000001c132d4ec _pthread_start + 148\n17  libsystem_pthread.dylib             0x00000001c13282d0 thread_start + 8\n",
     "output_type": "error",
     "traceback": [
      "\u001b[0;31m---------------------------------------------------------------------------\u001b[0m",
      "\u001b[0;31mSessionNotCreatedException\u001b[0m                Traceback (most recent call last)",
      "\u001b[0;32m/var/folders/85/w6695fhx3ds_csvkj21k04zm0000gn/T/ipykernel_1038/762292965.py\u001b[0m in \u001b[0;36m<module>\u001b[0;34m\u001b[0m\n\u001b[1;32m     80\u001b[0m \u001b[0;34m\u001b[0m\u001b[0m\n\u001b[1;32m     81\u001b[0m \u001b[0;32mif\u001b[0m \u001b[0m__name__\u001b[0m \u001b[0;34m==\u001b[0m \u001b[0;34m'__main__'\u001b[0m\u001b[0;34m:\u001b[0m\u001b[0;34m\u001b[0m\u001b[0;34m\u001b[0m\u001b[0m\n\u001b[0;32m---> 82\u001b[0;31m     \u001b[0mget_video_urls\u001b[0m\u001b[0;34m(\u001b[0m\u001b[0murl\u001b[0m\u001b[0;34m)\u001b[0m\u001b[0;34m\u001b[0m\u001b[0;34m\u001b[0m\u001b[0m\n\u001b[0m\u001b[1;32m     83\u001b[0m \u001b[0;34m\u001b[0m\u001b[0m\n\u001b[1;32m     84\u001b[0m \u001b[0mprint\u001b[0m\u001b[0;34m(\u001b[0m\u001b[0mvideo_urls\u001b[0m\u001b[0;34m)\u001b[0m\u001b[0;34m\u001b[0m\u001b[0;34m\u001b[0m\u001b[0m\n",
      "\u001b[0;32m/var/folders/85/w6695fhx3ds_csvkj21k04zm0000gn/T/ipykernel_1038/762292965.py\u001b[0m in \u001b[0;36mget_video_urls\u001b[0;34m(url)\u001b[0m\n\u001b[1;32m     16\u001b[0m     \u001b[0;31m# initializing selenium driver\u001b[0m\u001b[0;34m\u001b[0m\u001b[0;34m\u001b[0m\u001b[0m\n\u001b[1;32m     17\u001b[0m     \u001b[0mprint\u001b[0m\u001b[0;34m(\u001b[0m\u001b[0;34m'Process started...\\n'\u001b[0m\u001b[0;34m)\u001b[0m\u001b[0;34m\u001b[0m\u001b[0;34m\u001b[0m\u001b[0m\n\u001b[0;32m---> 18\u001b[0;31m     \u001b[0mdriver\u001b[0m \u001b[0;34m=\u001b[0m \u001b[0mwebdriver\u001b[0m\u001b[0;34m.\u001b[0m\u001b[0mChrome\u001b[0m\u001b[0;34m(\u001b[0m\u001b[0mexecutable_path\u001b[0m\u001b[0;34m=\u001b[0m\u001b[0mpath\u001b[0m\u001b[0;34m)\u001b[0m\u001b[0;34m\u001b[0m\u001b[0;34m\u001b[0m\u001b[0m\n\u001b[0m\u001b[1;32m     19\u001b[0m     \u001b[0mdriver\u001b[0m\u001b[0;34m.\u001b[0m\u001b[0mget\u001b[0m\u001b[0;34m(\u001b[0m\u001b[0murl\u001b[0m\u001b[0;34m)\u001b[0m\u001b[0;34m\u001b[0m\u001b[0;34m\u001b[0m\u001b[0m\n\u001b[1;32m     20\u001b[0m \u001b[0;34m\u001b[0m\u001b[0m\n",
      "\u001b[0;32m~/opt/anaconda3/lib/python3.9/site-packages/selenium/webdriver/chrome/webdriver.py\u001b[0m in \u001b[0;36m__init__\u001b[0;34m(self, executable_path, port, options, service_args, desired_capabilities, service_log_path, chrome_options, service, keep_alive)\u001b[0m\n\u001b[1;32m     68\u001b[0m             \u001b[0mservice\u001b[0m \u001b[0;34m=\u001b[0m \u001b[0mService\u001b[0m\u001b[0;34m(\u001b[0m\u001b[0mexecutable_path\u001b[0m\u001b[0;34m,\u001b[0m \u001b[0mport\u001b[0m\u001b[0;34m,\u001b[0m \u001b[0mservice_args\u001b[0m\u001b[0;34m,\u001b[0m \u001b[0mservice_log_path\u001b[0m\u001b[0;34m)\u001b[0m\u001b[0;34m\u001b[0m\u001b[0;34m\u001b[0m\u001b[0m\n\u001b[1;32m     69\u001b[0m \u001b[0;34m\u001b[0m\u001b[0m\n\u001b[0;32m---> 70\u001b[0;31m         super(WebDriver, self).__init__(DesiredCapabilities.CHROME['browserName'], \"goog\",\n\u001b[0m\u001b[1;32m     71\u001b[0m                                         \u001b[0mport\u001b[0m\u001b[0;34m,\u001b[0m \u001b[0moptions\u001b[0m\u001b[0;34m,\u001b[0m\u001b[0;34m\u001b[0m\u001b[0;34m\u001b[0m\u001b[0m\n\u001b[1;32m     72\u001b[0m                                         \u001b[0mservice_args\u001b[0m\u001b[0;34m,\u001b[0m \u001b[0mdesired_capabilities\u001b[0m\u001b[0;34m,\u001b[0m\u001b[0;34m\u001b[0m\u001b[0;34m\u001b[0m\u001b[0m\n",
      "\u001b[0;32m~/opt/anaconda3/lib/python3.9/site-packages/selenium/webdriver/chromium/webdriver.py\u001b[0m in \u001b[0;36m__init__\u001b[0;34m(self, browser_name, vendor_prefix, port, options, service_args, desired_capabilities, service_log_path, service, keep_alive)\u001b[0m\n\u001b[1;32m     91\u001b[0m \u001b[0;34m\u001b[0m\u001b[0m\n\u001b[1;32m     92\u001b[0m         \u001b[0;32mtry\u001b[0m\u001b[0;34m:\u001b[0m\u001b[0;34m\u001b[0m\u001b[0;34m\u001b[0m\u001b[0m\n\u001b[0;32m---> 93\u001b[0;31m             RemoteWebDriver.__init__(\n\u001b[0m\u001b[1;32m     94\u001b[0m                 \u001b[0mself\u001b[0m\u001b[0;34m,\u001b[0m\u001b[0;34m\u001b[0m\u001b[0;34m\u001b[0m\u001b[0m\n\u001b[1;32m     95\u001b[0m                 command_executor=ChromiumRemoteConnection(\n",
      "\u001b[0;32m~/opt/anaconda3/lib/python3.9/site-packages/selenium/webdriver/remote/webdriver.py\u001b[0m in \u001b[0;36m__init__\u001b[0;34m(self, command_executor, desired_capabilities, browser_profile, proxy, keep_alive, file_detector, options)\u001b[0m\n\u001b[1;32m    266\u001b[0m         \u001b[0mself\u001b[0m\u001b[0;34m.\u001b[0m\u001b[0mfile_detector\u001b[0m \u001b[0;34m=\u001b[0m \u001b[0mfile_detector\u001b[0m \u001b[0;32mor\u001b[0m \u001b[0mLocalFileDetector\u001b[0m\u001b[0;34m(\u001b[0m\u001b[0;34m)\u001b[0m\u001b[0;34m\u001b[0m\u001b[0;34m\u001b[0m\u001b[0m\n\u001b[1;32m    267\u001b[0m         \u001b[0mself\u001b[0m\u001b[0;34m.\u001b[0m\u001b[0mstart_client\u001b[0m\u001b[0;34m(\u001b[0m\u001b[0;34m)\u001b[0m\u001b[0;34m\u001b[0m\u001b[0;34m\u001b[0m\u001b[0m\n\u001b[0;32m--> 268\u001b[0;31m         \u001b[0mself\u001b[0m\u001b[0;34m.\u001b[0m\u001b[0mstart_session\u001b[0m\u001b[0;34m(\u001b[0m\u001b[0mcapabilities\u001b[0m\u001b[0;34m,\u001b[0m \u001b[0mbrowser_profile\u001b[0m\u001b[0;34m)\u001b[0m\u001b[0;34m\u001b[0m\u001b[0;34m\u001b[0m\u001b[0m\n\u001b[0m\u001b[1;32m    269\u001b[0m \u001b[0;34m\u001b[0m\u001b[0m\n\u001b[1;32m    270\u001b[0m     \u001b[0;32mdef\u001b[0m \u001b[0m__repr__\u001b[0m\u001b[0;34m(\u001b[0m\u001b[0mself\u001b[0m\u001b[0;34m)\u001b[0m\u001b[0;34m:\u001b[0m\u001b[0;34m\u001b[0m\u001b[0;34m\u001b[0m\u001b[0m\n",
      "\u001b[0;32m~/opt/anaconda3/lib/python3.9/site-packages/selenium/webdriver/remote/webdriver.py\u001b[0m in \u001b[0;36mstart_session\u001b[0;34m(self, capabilities, browser_profile)\u001b[0m\n\u001b[1;32m    357\u001b[0m         parameters = {\"capabilities\": w3c_caps,\n\u001b[1;32m    358\u001b[0m                       \"desiredCapabilities\": capabilities}\n\u001b[0;32m--> 359\u001b[0;31m         \u001b[0mresponse\u001b[0m \u001b[0;34m=\u001b[0m \u001b[0mself\u001b[0m\u001b[0;34m.\u001b[0m\u001b[0mexecute\u001b[0m\u001b[0;34m(\u001b[0m\u001b[0mCommand\u001b[0m\u001b[0;34m.\u001b[0m\u001b[0mNEW_SESSION\u001b[0m\u001b[0;34m,\u001b[0m \u001b[0mparameters\u001b[0m\u001b[0;34m)\u001b[0m\u001b[0;34m\u001b[0m\u001b[0;34m\u001b[0m\u001b[0m\n\u001b[0m\u001b[1;32m    360\u001b[0m         \u001b[0;32mif\u001b[0m \u001b[0;34m'sessionId'\u001b[0m \u001b[0;32mnot\u001b[0m \u001b[0;32min\u001b[0m \u001b[0mresponse\u001b[0m\u001b[0;34m:\u001b[0m\u001b[0;34m\u001b[0m\u001b[0;34m\u001b[0m\u001b[0m\n\u001b[1;32m    361\u001b[0m             \u001b[0mresponse\u001b[0m \u001b[0;34m=\u001b[0m \u001b[0mresponse\u001b[0m\u001b[0;34m[\u001b[0m\u001b[0;34m'value'\u001b[0m\u001b[0;34m]\u001b[0m\u001b[0;34m\u001b[0m\u001b[0;34m\u001b[0m\u001b[0m\n",
      "\u001b[0;32m~/opt/anaconda3/lib/python3.9/site-packages/selenium/webdriver/remote/webdriver.py\u001b[0m in \u001b[0;36mexecute\u001b[0;34m(self, driver_command, params)\u001b[0m\n\u001b[1;32m    422\u001b[0m         \u001b[0mresponse\u001b[0m \u001b[0;34m=\u001b[0m \u001b[0mself\u001b[0m\u001b[0;34m.\u001b[0m\u001b[0mcommand_executor\u001b[0m\u001b[0;34m.\u001b[0m\u001b[0mexecute\u001b[0m\u001b[0;34m(\u001b[0m\u001b[0mdriver_command\u001b[0m\u001b[0;34m,\u001b[0m \u001b[0mparams\u001b[0m\u001b[0;34m)\u001b[0m\u001b[0;34m\u001b[0m\u001b[0;34m\u001b[0m\u001b[0m\n\u001b[1;32m    423\u001b[0m         \u001b[0;32mif\u001b[0m \u001b[0mresponse\u001b[0m\u001b[0;34m:\u001b[0m\u001b[0;34m\u001b[0m\u001b[0;34m\u001b[0m\u001b[0m\n\u001b[0;32m--> 424\u001b[0;31m             \u001b[0mself\u001b[0m\u001b[0;34m.\u001b[0m\u001b[0merror_handler\u001b[0m\u001b[0;34m.\u001b[0m\u001b[0mcheck_response\u001b[0m\u001b[0;34m(\u001b[0m\u001b[0mresponse\u001b[0m\u001b[0;34m)\u001b[0m\u001b[0;34m\u001b[0m\u001b[0;34m\u001b[0m\u001b[0m\n\u001b[0m\u001b[1;32m    425\u001b[0m             response['value'] = self._unwrap_value(\n\u001b[1;32m    426\u001b[0m                 response.get('value', None))\n",
      "\u001b[0;32m~/opt/anaconda3/lib/python3.9/site-packages/selenium/webdriver/remote/errorhandler.py\u001b[0m in \u001b[0;36mcheck_response\u001b[0;34m(self, response)\u001b[0m\n\u001b[1;32m    245\u001b[0m                 \u001b[0malert_text\u001b[0m \u001b[0;34m=\u001b[0m \u001b[0mvalue\u001b[0m\u001b[0;34m[\u001b[0m\u001b[0;34m'alert'\u001b[0m\u001b[0;34m]\u001b[0m\u001b[0;34m.\u001b[0m\u001b[0mget\u001b[0m\u001b[0;34m(\u001b[0m\u001b[0;34m'text'\u001b[0m\u001b[0;34m)\u001b[0m\u001b[0;34m\u001b[0m\u001b[0;34m\u001b[0m\u001b[0m\n\u001b[1;32m    246\u001b[0m             \u001b[0;32mraise\u001b[0m \u001b[0mexception_class\u001b[0m\u001b[0;34m(\u001b[0m\u001b[0mmessage\u001b[0m\u001b[0;34m,\u001b[0m \u001b[0mscreen\u001b[0m\u001b[0;34m,\u001b[0m \u001b[0mstacktrace\u001b[0m\u001b[0;34m,\u001b[0m \u001b[0malert_text\u001b[0m\u001b[0;34m)\u001b[0m  \u001b[0;31m# type: ignore[call-arg]  # mypy is not smart enough here\u001b[0m\u001b[0;34m\u001b[0m\u001b[0;34m\u001b[0m\u001b[0m\n\u001b[0;32m--> 247\u001b[0;31m         \u001b[0;32mraise\u001b[0m \u001b[0mexception_class\u001b[0m\u001b[0;34m(\u001b[0m\u001b[0mmessage\u001b[0m\u001b[0;34m,\u001b[0m \u001b[0mscreen\u001b[0m\u001b[0;34m,\u001b[0m \u001b[0mstacktrace\u001b[0m\u001b[0;34m)\u001b[0m\u001b[0;34m\u001b[0m\u001b[0;34m\u001b[0m\u001b[0m\n\u001b[0m\u001b[1;32m    248\u001b[0m \u001b[0;34m\u001b[0m\u001b[0m\n\u001b[1;32m    249\u001b[0m     \u001b[0;32mdef\u001b[0m \u001b[0m_value_or_default\u001b[0m\u001b[0;34m(\u001b[0m\u001b[0mself\u001b[0m\u001b[0;34m,\u001b[0m \u001b[0mobj\u001b[0m\u001b[0;34m:\u001b[0m \u001b[0mMapping\u001b[0m\u001b[0;34m[\u001b[0m\u001b[0m_KT\u001b[0m\u001b[0;34m,\u001b[0m \u001b[0m_VT\u001b[0m\u001b[0;34m]\u001b[0m\u001b[0;34m,\u001b[0m \u001b[0mkey\u001b[0m\u001b[0;34m:\u001b[0m \u001b[0m_KT\u001b[0m\u001b[0;34m,\u001b[0m \u001b[0mdefault\u001b[0m\u001b[0;34m:\u001b[0m \u001b[0m_VT\u001b[0m\u001b[0;34m)\u001b[0m \u001b[0;34m->\u001b[0m \u001b[0m_VT\u001b[0m\u001b[0;34m:\u001b[0m\u001b[0;34m\u001b[0m\u001b[0;34m\u001b[0m\u001b[0m\n",
      "\u001b[0;31mSessionNotCreatedException\u001b[0m: Message: session not created: This version of ChromeDriver only supports Chrome version 96\nCurrent browser version is 98.0.4758.80 with binary path /Applications/Google Chrome.app/Contents/MacOS/Google Chrome\nStacktrace:\n0   chromedriver                        0x0000000101279408 __gxx_personality_v0 + 543364\n1   chromedriver                        0x000000010120f138 __gxx_personality_v0 + 108468\n2   chromedriver                        0x0000000100e0e7d8 chromedriver + 157656\n3   chromedriver                        0x0000000100e30b88 chromedriver + 297864\n4   chromedriver                        0x0000000100e2d608 chromedriver + 284168\n5   chromedriver                        0x0000000100e2a624 chromedriver + 271908\n6   chromedriver                        0x0000000100e5be24 chromedriver + 474660\n7   chromedriver                        0x0000000100e33238 chromedriver + 307768\n8   chromedriver                        0x000000010123cc7c __gxx_personality_v0 + 295672\n9   chromedriver                        0x0000000101250bd8 __gxx_personality_v0 + 377428\n10  chromedriver                        0x00000001012552b0 __gxx_personality_v0 + 395564\n11  chromedriver                        0x00000001012519f8 __gxx_personality_v0 + 381044\n12  chromedriver                        0x0000000101232754 __gxx_personality_v0 + 253392\n13  chromedriver                        0x000000010126aa38 __gxx_personality_v0 + 483508\n14  chromedriver                        0x000000010126abac __gxx_personality_v0 + 483880\n15  chromedriver                        0x000000010127ffec __gxx_personality_v0 + 570984\n16  libsystem_pthread.dylib             0x00000001c132d4ec _pthread_start + 148\n17  libsystem_pthread.dylib             0x00000001c13282d0 thread_start + 8\n"
     ]
    }
   ],
   "source": [
    "!pip install selenium\n",
    "\n",
    "\n",
    "from selenium import webdriver\n",
    "from selenium.webdriver.common.keys import Keys\n",
    "from bs4 import BeautifulSoup\n",
    "import time\n",
    "\n",
    "\n",
    "url = 'https://www.youtube.com/c/Algorithmenverstehen/videos'\n",
    "path = '/Users/mnemo/Desktop/chromedriver'\n",
    "video_urls = []\n",
    "\n",
    "\n",
    "def get_video_urls(url):\n",
    "    # initializing selenium driver\n",
    "    print('Process started...\\n')\n",
    "    driver = webdriver.Chrome(executable_path=path)\n",
    "    driver.get(url)\n",
    "\n",
    "    time.sleep(5)\n",
    "    xpath = '//*[@id=\"yDmH0d\"]/c-wiz/div/div/div/div[2]/div[1]/div[4]/form/div/div/button/span'\n",
    "    driver.find_element_by_xpath(xpath).click()\n",
    "    time.sleep(5)\n",
    "\n",
    "\n",
    "    # scrolling to the bottom of the page\n",
    "    for item in range(50):\n",
    "        page = driver.find_element_by_tag_name('html')\n",
    "        page.send_keys(Keys.END)\n",
    "\n",
    "    # extracting data from page\n",
    "    content = driver.page_source.encode('utf-8').strip()\n",
    "    soup = BeautifulSoup(content, 'html.parser')\n",
    "    print('Extracting video urls...\\n')\n",
    "\n",
    "    # extracting and printing youtube video url from channel\n",
    "    for link in soup.findAll('a', id='video-title'):\n",
    "        video_urls.append('https://www.youtube.com' + link.get('href'))\n",
    "    print('Printing results...\\n')\n",
    "    print(f'This youtube channel has {len(video_urls)} videos published')\n",
    "\n",
    "    # close browser\n",
    "    driver.quit()\n",
    "\n",
    "\n",
    "def extract_info(url):\n",
    "    get_video_urls(url)\n",
    "    print('\\nNow extracting video information...', '\\n')\n",
    "\n",
    "    for link in video_urls:\n",
    "        # initializing selenium driver\n",
    "        driver = webdriver.Chrome(executable_path=path)\n",
    "        driver.get(link)\n",
    "        # scrolling to the bottom of the page\n",
    "        time.sleep(5)\n",
    "        driver.find_element_by_tag_name('html').send_keys(Keys.PAGE_DOWN)\n",
    "\n",
    "        # extracting video information\n",
    "        content = driver.page_source.encode('utf-8').strip()\n",
    "        soup = BeautifulSoup(content, 'html.parser')\n",
    "        video_url = link\n",
    "        youtube_name = soup.find('a', class_='yt-simple-endpoint style-scope yt-formatted-string').text\n",
    "        subscribers = soup.find('yt-formatted-string', id='owner-sub-count').text\n",
    "        published = driver.find_element_by_xpath('//*[@id=\"info-strings\"]/yt-formatted-string').text\n",
    "        title = soup.find('yt-formatted-string', class_='style-scope ytd-video-primary-info-renderer').text\n",
    "        views = soup.find('span', class_='view-count style-scope ytd-video-view-count-renderer').text\n",
    "        likes = soup.findAll('yt-formatted-string', class_='style-scope ytd-toggle-button-renderer style-text')[0].text\n",
    "        dislikes = soup.findAll('yt-formatted-string', class_='style-scope ytd-toggle-button-renderer style-text')[1].text\n",
    "        comment = driver.find_element_by_xpath(\"//*[@id='count']/yt-formatted-string/span[1]\").text\n",
    "\n",
    "        driver.quit()\n",
    "        with open('videos.txt', 'a') as f:\n",
    "            f.write(\n",
    "                f'{youtube_name} > {subscribers} > {published} > {title} > {views} > {likes} > {dislikes} > {comment} > {video_url}\\n')\n",
    "\n",
    "    print('All video information has being extracted successfully')\n",
    "    \n",
    "\n",
    "\n",
    "if __name__ == '__main__':\n",
    "    get_video_urls(url)\n",
    "\n",
    "print(video_urls)      "
   ]
  },
  {
   "cell_type": "code",
   "execution_count": null,
   "id": "8f514390-d18c-467d-ac27-b48620c7e4d1",
   "metadata": {},
   "outputs": [],
   "source": []
  },
  {
   "cell_type": "code",
   "execution_count": null,
   "id": "52eed823-ef76-423f-83c5-cd1558f41178",
   "metadata": {},
   "outputs": [],
   "source": []
  },
  {
   "cell_type": "code",
   "execution_count": 2,
   "id": "27aca991-45ed-4497-84c9-8e767df6e64d",
   "metadata": {},
   "outputs": [
    {
     "name": "stdout",
     "output_type": "stream",
     "text": [
      "['u-eIT9fz9TU', 'bydCrkeK_Gs', 'IwVysMS6vEw', 'h_y8KXqIseY', 'rSPdUkLudho', 'Vpi-LQTd60I', 'K2DJOlhITJA', 'dm9gvuvjeDY', 'UXy8tQf-auo', 'i9GY4n9aIkA', 'RjhXB1aBDCM', '4h03jLZSRpg', 'GKbgDV3dAOU', '4hhlfpS8gFo', 'euGSXN6ODqg', 'V1F8nsK95P4', 'BxTqsmTw9Ik', '9KI87E60X74', '2pMJ_C5vJsE', '83n4qp7nz9M', 'XhilnzhnnIU', '2AVEo2HiNrA', 'wMk5HYx_8ps', 'eOYTlV0Af3o', 'EHYyHg1Wmuk', 'e4RcvKszq0o', 'JV4Jc9QVN7k', 'J7X2QECfrwY', 'mZOnBubyqMg', 'Pp2mowr3yII', 'VyBnEeeExso', 'xymJuT8r3ok', 'xfktNtpGDPQ', '-PxVXkSHOaE', '93k8aj7P60Y', 'uSOdpqLWP4Y', 'RXlLi4Uq5ho', 'Zx9QvU1fNi0', 'JKhvsWUJQ3I', 'Qh0N7BXN00w', 'k4C2m8NtRA4', 'w_lhORlfZ20', 'oLds8Rna3FQ', 'fYDhjLxM5sM', 'yG1d6mEWXAo', '_xy90SNnXik', 'HVgI9vCYe30', 'Nd5NoPxyFcE', 'Qg6oHm_VVdI', 'MFE7ulj4TqQ', 'EYpCEvUHhYE', 'zcCLq4A-NY0', '-BjRGoGpK9k', 'piORlIe1ys8', '2aNz8upHROM', 'bYptobjt2JM', 'KAW0Tq7iaRQ', 'b3WbA-MTm7A', 'ttxzlLllh-c', 'jlT4Y4qEZtI', 'YAC7nChPEsw', 'T-L9IfnwbIY', 'fF7JBjmYRSY', 'dItpfHjmDLA', 'bWCPa6TTDKI', 'QLx22qOdT4o', 'LdUKzjLdIcM', 'WKEbQpdaSVI', 'sXxK-JATrc0', 'RDdLbEq-_v0', 'hxQHWL2_0Hw', 'yBi1p6-s-7s', 'IUhZ8DxTsaE', '5L7O_3giIps', 'UzjNEhpSNqA', 'QGwUeoV7NEg', 'rCGEQLTcTLA', 'BsI9LD3IQvo', 'hqutjv1LAMU', 'pXm_6ZxGVp8', 'gu4yZipltSY', 'R4nJTT60zU8', 'azM21xiwMR4', 'F4Cs3dIOwxE', 'TYrEsIYsgNA', 'dVrL_q3TtF0', 'gII-008rdWo', 'fxz3Hdx4XpM', 'qOzUPxF9NAc', 'szcQ-IhSZd0', 'I1xCXvArEgk', 'CY5evTysuSs', 'doYHWk6tkSU', 'zoWIiWAvQ6E', 'JqZptK4vhuM', 'uIykRXQhQtE', 'faIfhYoxTzI', 's3-cqGfNQjY', 'DZxhmvpFnqA', 'AmA2egSNNog', 'BerHdPRy-ts', 'VUjn-R1aKCo', 'TUdRub9U7dA', 'JpMnWZwpz1A', 'vjkPuAsqVLo', '9Tt4rf21xxM', 'Yy0dm07UYKs', 'pzeZUtuOenk', 'WIcZ-5_mJbI', '-laNxxdV5QY', '2cSBiDpDCa0', 'UT3uM4D9QVE', 'siba-6nlRwA', 'ncQoYmpfhpA', 'mMO3EioOuOE', 'URRJxo0cT_A', 'DdEqjlmgzSo', '3otUNZum1Ig', 'b8jeLiWePTU', 'MFN5gzIJOVI', 'JIxwzgTSCfY', 'io_ZSMJhYZU', 'xD1Cqf6OhM0', 'DU8102wlKbU', 'dxClXyew_Ww', 'hnWu1TjAu3E', 'fResSfmRSJA', 'hdJoNgRqJ0g', '5RpSgkbze2s', '2dbPP7BIZJ4', 'HP5LSJPBxus', 'f5jyijnUbzs', 'ZGirJbzHBdI', 'uV9co5OyfZ0', 'nK0buWcK-ww', 'DDVDsH_Vof4', '3J-m83qRO0I', 'kReouDd8dOg', 'QwMLsMgYYKc', '-W5XRQhZEBo', 'oJkqxWrQM88', '72nXOF8KxEg', 'sdEAbfmgUpI', 'vFlpLRPcqp8', 'N1QSduxqc3Q', 'RlL7whbmvhY', '9d0oSZXDKeU', 'zDRios4HGWg', 'mBkexCT8b2U', 'moijzqWvgyg', 'T8Qy5czGWgo', 'oCBl_9QptnE', 'chf067TZ3dI', 'gmNBUYJM42A', 'OkbYHqdG2Fk', 'gn8jCoSJb24', 'lwcwcRzyD04', '4Sj-E5Tfbdw', 'GEI1MGsn84E', 'DzgVoPWiZLs', 'CVs8FGvCVjQ', 'kimpC3r4F00', '21sQ0EY1eRs', 'h5yfQTq4b94', 'VAcPTeKGkq0', 'rqtxf_1SNoQ', 'WPwvZ041EQA', 'izChmLKHNEI', 'DD5tEqYwhZY', '0F0CeyAbpmA', 'LySVohYkDb4', 'z1z964oIxTE', '0vdcvDg-Lkk', 'frOb7GV0gl4', 'QZr0g5Uadjg', 'dplKCP7xyi0', 'or1csZloslc', 'Jl6kgN0TLcM', 'auiUAV3-ayc', '9gAh2fV_hqQ', 'CVtT8TDCg8Y', '9rJk22KMazE', 'rnPGNvs-cv8', 'Pu4xoogF8WE', 'h4P3iOLHXf8', 'UlGzkpQ5CEs', 'pLkde--khqs', '0NgjjrT51yI', 'NPqYmPLU-Bo', '3DdLDFEj02I', 'oGN86YEK190', 'z4BjIqYJCps', 'PcPxmJJaL0E', 'dlt3EDfksnw', 'y_qhbmW51ns', 'zhLC5PiK1IU', 'g_0Sn0bl0eY', '1z_n6EK9sm8', 'TVGf0_m6Q8g', 'MGUs-vm0VrE', '5iG85ktVmR0', 'Jv1DrugW1nk', 'Q8mZGW81DJY', 'tso5PmLw5yI', 'V2JqlPhcy_M', 'H5ZgqstJg_E', 'bk39EOaEPXY', 'zNtVdgOFWn4', 'HVNUe0XDybM', 'uPwYjGMkmwA', 'bxYkipulub0', 'piDLE7gFhHQ', '1cTmD0H2znM', 'TPOc0kgfkCU', 'W9tPX_gcGJ4', 'a1QIlo7Xf_A', 'hOnrz2Vhjj8', '4mo_nzIKUZk', 'PVHoyFOYtBs', 'sxWydQIJIhM', 'NNAUaXHPCkc', 'z_ulHG6bv_k', 'sjhwB-MmghY', 'tXHi_edfTo4', 'GUepNEC48WI', 'J379ftVIC0s', '--bdRoF2RLw', 'spxGV7XqP44', 'usya1zz-skM', 'PkkOMAYIgYo', 'GtVWdeevZpw', 'GKMG6bErYfk', '_z0J__BkIsg', 'EOgFDl3QllA', '9fhkYY9Dn5Y', 'M34bTRNYokI', 'uRCeIi2FlhM', 'i_0ImIhC5aU', 'kJWfSJm8UYE', 'UfbXbij5LW8', 'ckQzJpZG7So', 'Oe3DAZQCiSQ', 'WXtO2S_mq80', '8CGoCLpOTuk', 'hZ71n2ssfKs', 'i3lA8dKbI-Y', 'm7FzXQhWIeo', '_73szqTSx2s', '_WrNmd2br6g', '9WAG2P1B3us', 'MYQWlM098es', '3-q4dvCHtVs', 'qXibn0hXzfk', 'yYknxIg1W58', 'qiAGZ6Ky2O0', 'z16Z1ejbSYs', '-VXN6TPATA0', 'MCwsj0hf0Fs', '0j55gTZVwy0', 'dJ7d9wwC2sw', 'Z0u8zYM4V5Y', '735scMudFWw', 'IxtWAMxec-0', 'r73k0gX5vBI', '7ypjTWq5dU8', 'nzPN4Q4ekO0', 'ufupYFnAfdk', 'Ce9Din83uFY', 'Eaw5PYdbuag', 'MJ-2q2hHho8', 'tGkfu_xutWs', 'jRRPaRBaKzs', 'AWdLkNZJZ70', 'UsCDE7tHrBY', 'bRodgiY6yCw', 'GGEQ4jOb4DE', 'r6nEQvEQQUU', 'IOd-msupNQQ', 'LC7W3EWMAzw', 'dQSAZArNBpY', 'fmfMzHcn2GI', 'mk7PZfAmB1g', 'K91-uAeBFFU', '0BZze8bdFrs', '9I-uoC_E1UI', '83IbesrxleM', 'ZC0SHn5UK-Y', 'vWS_AChccyM', 'U9PYdp-QJuA', 'w2Ua6Ck7mSI', '50E1gIunhzE', '0tsv-OfsZNY', 'kQUiFjKuChA', '_ke4E-zjI7k', 'FO3MZrCR97g', 'kMizXsfSK2o', 'IM1WtnTYJK4', 'yhxvqdsvkiY', '07bKsLs7Q4o', 'CNiS387yEOc', 'tGkfu_xutWs', 'jRRPaRBaKzs', 'AWdLkNZJZ70', 'UsCDE7tHrBY', 'bRodgiY6yCw', 'GGEQ4jOb4DE', 'r6nEQvEQQUU', 'IOd-msupNQQ', 'LC7W3EWMAzw', 'dQSAZArNBpY', 'fmfMzHcn2GI', 'mk7PZfAmB1g', 'K91-uAeBFFU', '0BZze8bdFrs', '9I-uoC_E1UI', '83IbesrxleM', 'ZC0SHn5UK-Y', 'vWS_AChccyM', 'U9PYdp-QJuA', 'w2Ua6Ck7mSI', '50E1gIunhzE', '0tsv-OfsZNY', 'kQUiFjKuChA', '_ke4E-zjI7k', 'FO3MZrCR97g', 'kMizXsfSK2o', 'IM1WtnTYJK4', 'yhxvqdsvkiY', '07bKsLs7Q4o', 'CNiS387yEOc', 'KzhWHGoAuK8', 'Sm0Go9IioJ4', '9j6usdTBYbc', 'XEY9K6YdmBI', 'p3BPRuk0Wwk', 'Pd2c6CCpItI', 'j0DFFsqYRBA', 'XtQgQhRAGS8', 'JtXeRG1RfL4', 'MWyih-7KIEA', 'F0kvOezvS84', 'gcsEnaoFmGY', 'i3z1sK4JqYA', 'uiu5UQNFsQU', 'Y0qwi2USzUA', 'gWRuZ91fs2U', 'Q733CvZN8w0', 'eLxc9RrdTZQ', 'JCu2no8pd8c', 'aTINHtjSPDc', 'vhr1JSb--8s', 'qT39IQ1l-cU', 'wXsBiLTvI9E', '6XLfscth8gk', 'DZ29fqns_k0', 'R7WfeMhgUPI', 'CqrN1ojfR-Q', '7hJzkZxD-Cc', 'Zhnngn7HYrg', 'bPx4z_ZM888', 'Ln3gAhQfGzI', 'CxmOKbb7K5c', '-_xWgT3oLZo', 'bcf_m4q1ub0', 'DxCG0GcKhCg', 'Qphp9gqYXR8', 'lcbiyMZDBKU', 'viNjW78xB4I', 'kPofqbNlkM4', 'vaahX3Wdxu8', 'LfQJLJGd2v0', 'Usq8lSWu_mY', 'ybcahhQ7BWU', 'xIsBOVM5Gds', 'GwyPVdoQ37g', 'T7L-i_Th2Ew', 'FWFA5hHe-_Q', 'c3Tvoew31aU', 'i7q4MVWbqrc', 'GMjEAYtCHQg', 'vjWeSRFxSxI', 'xbL27K2Ij4U', 'yu9AGvHD1y0', 'JXynITTghVU', 'pBEjUgUM6Ck', 'GxPcgTgqeLo', 'Vr5zkVZut84', 'jKfdrhBOLFk', 'wS6QfqqGHw8', 'cKogHJmdKp4', 'VJweL65MZ0o', 'W0n4_EGs3ms', 'S5P7ITOQwL0', '74m2RhfAkAE', 'bRR7tOdjOt4', 'yuoe6BN-1YQ', 't2G7yviicAQ', 'etVt2MbfRzk', '95KyHXzhRII', 'vD35ab1Mhmw', 'y__6V_E8iNE', 'l6vSWJmbh0s', 'usBJBhB05Ig', 'k7RwRWJwowc', 'KfDoZMCDcxM', '_bvjm1qcBhw', 'XyeZjk7fh-c', '_DU6kDmu7uw', 'sK7pAsMuw6M', 'mgZBDkatFIs', 'YYHYe76S7es', 'kEzR47ND__U', 'W6mW6n8T6yU', 'o95cOqnLekw', '1JuK_R7oh4U', 'ciHmpJF2wAA', 'c2hHWi-8wKo', 'LvGmab9Eioo', 'NYYbhj3qUAQ', 'HlwOknw7g5w', 'KkrL8yX5lOg', 'ntbM-aFDZEc', 'xcs3JEWhTGM', 'yMTOeJeUeFs', 'Mc-2Z_NEB4U', '2d7c3O_2Vx8', 'S9m44EDVQ6M', 'BbOUhSRh57I', 'zWCSEDNZMH0', 'GmY6Oo13qY0', '3a69QhYMr3o', 'q8Euh7L2aKY', 'FgdqKMJUaoE', 'QrC4wTZoj8k', 'tFk_dKN6Szw', 'oWYk_g3-a4E', 'q6Rk3xD0xNQ', 'DkC6FLraUpQ', 'qI420OvrZU8', 'mX3eqfLcISo', '2zIS89wSh4Q', 'Ylh9CNQCjVw', 'WRtJAR09aBc', 'uO93fu6yivE', 'oQK8-u1zjdQ', 'ChDyvU0jQ4I', 'Hv4fM5et7qE', '2rRzp8ddyP0', 'scmho6pSG4Y', '9hmtbFht1PA', 'YoNAdPOMMGQ', 'YRlJc0Mur5E', 'NDGzi0INL1E', 'ifS-TaVNDbA', 'G_2ex4DEaMM', '-YXeB6662U4', '5CC92VuNN6Y', '9Z7OjYgWOuQ', '7wk17kHBiPw', 'Qs3HGXuSpM4', 'm9SPKwJFRCE', 'AAzqbbwONzQ', 'CqCspy52DMM', 'mQLADVxxRU8', 'qGToWDAYyxw', '4ieqRkmqiIg', 'kesfaEFBcLY', 'APSHfX-apO8', '1O29P69jpzA', 'qSGc7gocfm8', '62d2P9M4jt4', 'JAag3APL_J0', 'XDNBqLOJwcc', 'E1sgEVlnvkA', 'qAXS7nFztVA', 'LTPbEF-PvXU', 'WwSUgCYnihM', 'OMcuphjeG4k', 'MI93ZGBb9zE', 'BUSjD02F6Dw', 'OcDqFkaz3K4', '1YBhWJ0S3Ms', 'guYMliqu1CU', '9QyVMjBfirw', 'Kln_Cn5vPKA', 'A2kxgYWK02A', 'nCeR8r6dblM', '6WPpAB4vlj8', 'XUvC8C9Al7s', 'dWE6vVKsOkw', '03s-w6XxUSQ', 'Xen1pMKDmLw', 'RYVo5yZIsC4', 'rhfcHlaDzOE', 'swOzyz2PP18', 'LbSZSyq4I9U', 'DeUkMDE4j_8', 'IwxDe7-KowA', 'bJQLi5khwR0', 'Hejjakz3gLM', 'N0Y9E0wdLKk', 'n8NDyxOMVEw', 'GQdMXu3mILA', 'W00Fdn6GfPw', 'I3j7NPGOZjw', 'p4itQ6UmtXA', 'FJUXWTlo7Vw', 'ApnIS_Qf6l8', 'LRYUDeJYyBo', 'ZX1u-zYeHvM']\n"
     ]
    }
   ],
   "source": [
    "video_ids = [url.split('=')[1] for url in video_urls]\n",
    "\n",
    "print(video_ids)"
   ]
  },
  {
   "cell_type": "code",
   "execution_count": null,
   "id": "86ccd797-4b65-4015-a420-e6c1d7f319da",
   "metadata": {},
   "outputs": [],
   "source": []
  },
  {
   "cell_type": "code",
   "execution_count": null,
   "id": "6e6501cf-77ea-4699-8c59-ea6b4a3a1df5",
   "metadata": {},
   "outputs": [],
   "source": []
  },
  {
   "cell_type": "code",
   "execution_count": null,
   "id": "c6223ac8-a6c2-46f6-8277-61c3d8397d86",
   "metadata": {},
   "outputs": [],
   "source": []
  },
  {
   "cell_type": "code",
   "execution_count": null,
   "id": "dc3aa61d-7a6f-495b-8102-fcd7977a8528",
   "metadata": {},
   "outputs": [],
   "source": []
  }
 ],
 "metadata": {
  "kernelspec": {
   "display_name": "Python 3 (ipykernel)",
   "language": "python",
   "name": "python3"
  },
  "language_info": {
   "codemirror_mode": {
    "name": "ipython",
    "version": 3
   },
   "file_extension": ".py",
   "mimetype": "text/x-python",
   "name": "python",
   "nbconvert_exporter": "python",
   "pygments_lexer": "ipython3",
   "version": "3.9.7"
  }
 },
 "nbformat": 4,
 "nbformat_minor": 5
}
