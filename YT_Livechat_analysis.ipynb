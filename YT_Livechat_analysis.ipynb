{
 "cells": [
  {
   "cell_type": "code",
   "execution_count": 1,
   "metadata": {},
   "outputs": [
    {
     "name": "stdout",
     "output_type": "stream",
     "text": [
      "Requirement already satisfied: pytchat in /Users/mnemo/opt/anaconda3/lib/python3.9/site-packages (0.5.5)\n",
      "Requirement already satisfied: httpx[http2] in /Users/mnemo/opt/anaconda3/lib/python3.9/site-packages (from pytchat) (0.22.0)\n",
      "Requirement already satisfied: rfc3986[idna2008]<2,>=1.3 in /Users/mnemo/opt/anaconda3/lib/python3.9/site-packages (from httpx[http2]->pytchat) (1.5.0)\n",
      "Requirement already satisfied: certifi in /Users/mnemo/opt/anaconda3/lib/python3.9/site-packages (from httpx[http2]->pytchat) (2021.10.8)\n",
      "Requirement already satisfied: charset-normalizer in /Users/mnemo/opt/anaconda3/lib/python3.9/site-packages (from httpx[http2]->pytchat) (2.0.4)\n",
      "Requirement already satisfied: httpcore<0.15.0,>=0.14.5 in /Users/mnemo/opt/anaconda3/lib/python3.9/site-packages (from httpx[http2]->pytchat) (0.14.6)\n",
      "Requirement already satisfied: sniffio in /Users/mnemo/opt/anaconda3/lib/python3.9/site-packages (from httpx[http2]->pytchat) (1.2.0)\n",
      "Requirement already satisfied: h2<5,>=3 in /Users/mnemo/opt/anaconda3/lib/python3.9/site-packages (from httpx[http2]->pytchat) (4.1.0)\n",
      "Requirement already satisfied: hpack<5,>=4.0 in /Users/mnemo/opt/anaconda3/lib/python3.9/site-packages (from h2<5,>=3->httpx[http2]->pytchat) (4.0.0)\n",
      "Requirement already satisfied: hyperframe<7,>=6.0 in /Users/mnemo/opt/anaconda3/lib/python3.9/site-packages (from h2<5,>=3->httpx[http2]->pytchat) (6.0.1)\n",
      "Requirement already satisfied: h11<0.13,>=0.11 in /Users/mnemo/opt/anaconda3/lib/python3.9/site-packages (from httpcore<0.15.0,>=0.14.5->httpx[http2]->pytchat) (0.12.0)\n",
      "Requirement already satisfied: anyio==3.* in /Users/mnemo/opt/anaconda3/lib/python3.9/site-packages (from httpcore<0.15.0,>=0.14.5->httpx[http2]->pytchat) (3.5.0)\n",
      "Requirement already satisfied: idna>=2.8 in /Users/mnemo/opt/anaconda3/lib/python3.9/site-packages (from anyio==3.*->httpcore<0.15.0,>=0.14.5->httpx[http2]->pytchat) (3.2)\n",
      "Note: you may need to restart the kernel to use updated packages.\n"
     ]
    }
   ],
   "source": [
    "pip install pytchat"
   ]
  },
  {
   "cell_type": "code",
   "execution_count": null,
   "metadata": {},
   "outputs": [],
   "source": []
  },
  {
   "cell_type": "code",
   "execution_count": null,
   "metadata": {},
   "outputs": [],
   "source": []
  },
  {
   "cell_type": "code",
   "execution_count": null,
   "metadata": {},
   "outputs": [],
   "source": []
  },
  {
   "cell_type": "code",
   "execution_count": 1,
   "metadata": {},
   "outputs": [
    {
     "name": "stdout",
     "output_type": "stream",
     "text": [
      " ulBdroF // Moin // 0:28\n",
      " Emily Wunsch // :red_heart::red_heart::red_heart::red_heart: // 0:51\n",
      " ulBdroF // Endlich der god of war stream // 1:15\n",
      " Emily Wunsch // Kann man dir Sachen schicken? :red_heart: // 1:38\n",
      " Emily Wunsch // :_WasGucksDu::_WasGucksDu::_WasGucksDu::_WasGucksDu::_WasGucksDu: // 2:02\n",
      " Michelle Schellhaas // Hallo ihr :smiling_face: // 2:26\n",
      " Hansi Hintermsee // moin :dragon: hättest mal mit dem 1 teil god angefangen zwecks Story verständnis // 2:49\n",
      " Doctor Bug // endlich Drachen Stream // 3:13\n",
      " Hansi Hintermsee // Trotzdem. Viel Spaß // 3:36\n",
      " Kenny // endlich god of war // 4:00\n",
      " Michelle Schellhaas // Bei mir gabs grad Sushi :sushi:  // 4:23\n",
      " Michelle Schellhaas // Was kostet das Game // 4:47\n",
      " Schneefuchs // Ein liebes hallo an alle :slightly_smiling_face:  // 5:11\n",
      " Michelle Schellhaas // Oh bin mal gespannt auf das Gameplay bei dir eventuell hol ich mir das dann auch // 5:34\n",
      " TB1993 // Moin Drache & alle andern :slightly_smiling_face: // 5:58\n",
      " SüssSauerBiene // Moinsen // 6:21\n",
      " JCloudJalix // Welcome to Welpling! // 6:45\n",
      "['JCloudJalix']\n",
      " AwesomeFIFA // Hey Drache wünsche dir viel spaß bei dem Game ist super habs geliebt. // 7:08\n",
      " JCloudJalix // Moin Drache, // 7:32\n",
      " JCloudJalix // Also GoW für Steam ist der Vierte teil. GoW Ragnarök soll am 22.09.2022 für PS4 & 5 rauskommen. :slightly_smiling_face: // 7:56\n",
      " Oh Long John // servus freu mivh // 8:19\n",
      " JCloudJalix // Also Spiel wird erst um 18 Uhr freigeschaltet ^^ // 8:43\n",
      " coffee to go // @kiki wie war das mit dem Wikinger // 9:06\n",
      " SüssSauerBiene // Ragnarök ist der falsche teil // 9:30\n",
      " JCloudJalix // Aber dir ist klar das du grad nicht Ragnarök lädst // 9:54\n",
      " Schneefuchs // @Drache wann bist du immer auf DC wegen reden? // 10:17\n",
      " JCloudJalix // Ragnarök kommt am 22.09.2022 für Ps4 & 5 // 10:41\n",
      " JCloudJalix // Ist ja alles gut, GoW ist quasi der Vorteil zu Ragnarök // 11:04\n",
      " SüssSauerBiene // Den den du spielst heißt God of war 4 // 11:28\n",
      " CheshireCat // Guten Abend  // 11:51\n",
      " SüssSauerBiene // Ragnarök kommt bald erst für Playstation // 12:15\n",
      " JCloudJalix // Also den du Lädst heißt God of War (Ist der vierte teil) und der nächste der am 22.09.2022 kommt heißt God of War: Ragnarök // 12:39\n",
      " JCloudJalix // Hat viele GoW fans damals verwirrt  // 13:02\n",
      " Michelle Schellhaas // Mein PC ist wahrscheinlich zu schwach für das Game :disappointed_face: // 13:26\n",
      " Michelle Schellhaas // Aber an sich klingt das Spiel wirklich spannend  // 13:49\n",
      " SüssSauerBiene // Der neue teil heißt nur God of war weil der ein Neues Spielerlebnis einführt @Drachen Lord  // 14:13\n",
      " JCloudJalix // Auf Steam ja? // 14:36\n",
      " CheshireCat // Gamer unter sich:robot: // 15:00\n",
      " JCloudJalix // Ragnarök führt die Story von GoW weiter :slightly_smiling_face: // 15:24\n",
      " JCloudJalix // oder einfach nur God of War // 15:47\n",
      " JCloudJalix // Richtig // 16:11\n",
      " JCloudJalix // War ja damals PS Exklusic // 16:34\n",
      " JCloudJalix // Kiki ja tut es  // 16:58\n",
      " TB1993 // bis gleich :thumbs_up: // 17:21\n",
      " Schneefuchs // @Drache wann bist du immer auf DC wegen reden? // 17:45\n",
      "###############################################\n",
      "###############################################\n",
      "['ulBdroF', 'Emily Wunsch', 'Michelle Schellhaas', 'Hansi Hintermsee', 'Doctor Bug', 'Kenny', 'Schneefuchs', 'TB1993', 'SüssSauerBiene', 'JCloudJalix', 'AwesomeFIFA', 'Oh Long John', 'coffee to go', 'CheshireCat']\n",
      "###############################################\n"
     ]
    },
    {
     "ename": "TypeError",
     "evalue": "unsupported operand type(s) for +: 'int' and 'str'",
     "output_type": "error",
     "traceback": [
      "\u001b[0;31m---------------------------------------------------------------------------\u001b[0m",
      "\u001b[0;31mTypeError\u001b[0m                                 Traceback (most recent call last)",
      "\u001b[0;32m/var/folders/85/w6695fhx3ds_csvkj21k04zm0000gn/T/ipykernel_3347/1726390805.py\u001b[0m in \u001b[0;36m<module>\u001b[0;34m\u001b[0m\n\u001b[1;32m     79\u001b[0m         \u001b[0mprint\u001b[0m\u001b[0;34m(\u001b[0m\u001b[0;34m\"0\"\u001b[0m\u001b[0;34m)\u001b[0m\u001b[0;34m\u001b[0m\u001b[0;34m\u001b[0m\u001b[0m\n\u001b[1;32m     80\u001b[0m     \u001b[0;32melse\u001b[0m\u001b[0;34m:\u001b[0m\u001b[0;34m\u001b[0m\u001b[0;34m\u001b[0m\u001b[0m\n\u001b[0;32m---> 81\u001b[0;31m         \u001b[0mprint\u001b[0m\u001b[0;34m(\u001b[0m\u001b[0mlen\u001b[0m\u001b[0;34m(\u001b[0m\u001b[0msupporters\u001b[0m\u001b[0;34m)\u001b[0m \u001b[0;34m+\u001b[0m \u001b[0;34m' '\u001b[0m \u001b[0;34m+\u001b[0m \u001b[0msupporters\u001b[0m\u001b[0;34m)\u001b[0m\u001b[0;34m\u001b[0m\u001b[0;34m\u001b[0m\u001b[0m\n\u001b[0m\u001b[1;32m     82\u001b[0m \u001b[0;34m\u001b[0m\u001b[0m\n\u001b[1;32m     83\u001b[0m     \u001b[0mprint\u001b[0m\u001b[0;34m(\u001b[0m\u001b[0;34m'###############################################'\u001b[0m\u001b[0;34m)\u001b[0m\u001b[0;34m\u001b[0m\u001b[0;34m\u001b[0m\u001b[0m\n",
      "\u001b[0;31mTypeError\u001b[0m: unsupported operand type(s) for +: 'int' and 'str'"
     ]
    }
   ],
   "source": [
    "import pytchat\n",
    "import time\n",
    "import matplotlib.pyplot as plt\n",
    "import numpy as np\n",
    "\n",
    "\n",
    "#start a timer and count the time it takes to run the program\n",
    "start_time = time.time()\n",
    "\n",
    "\n",
    "authors = []\n",
    "messages = []\n",
    "supporters = []\n",
    "timestamps = []\n",
    "money = 0\n",
    "\n",
    "\n",
    "chat = pytchat.create(video_id=\"GVdZ2thzUKA\")\n",
    "\n",
    "\n",
    "def format_time(seconds):\n",
    "        seconds = int(seconds)\n",
    "        minutes = seconds // 60\n",
    "        seconds = seconds % 60\n",
    "        return f\"{minutes}:{seconds:02d}\"\n",
    "\n",
    "\n",
    "def get_minutes(timestamps):\n",
    "    minutes_list = []\n",
    "    for minute in timestamps:\n",
    "        minutes_list.append(minute.split(':')[0])\n",
    "    return minutes_list\n",
    "\n",
    "\n",
    "\n",
    "def main():\n",
    "    \n",
    "\n",
    "    while chat.is_alive():\n",
    "        for c in chat.get().sync_items():\n",
    "\n",
    "            #print c.message and the seconds from the timer\n",
    "            time_elapsed = format_time(time.time() - start_time)\n",
    "            print(f\" {c.author.name} // {c.message} // {time_elapsed}\")\n",
    "\n",
    "            #add unique authors to the list of authors\n",
    "            if c.author.name not in authors:\n",
    "                authors.append(c.author.name)\n",
    "                #print(authors)\n",
    "\n",
    "\n",
    "            timestamps.append(time_elapsed)\n",
    "\n",
    "\n",
    "            #add all messages to the list of messages\n",
    "            messages.append(c.message)\n",
    "            \n",
    "\n",
    "            if c.message == 'Welcome to Welpling!':\n",
    "                supporters.append(c.author.name)\n",
    "                print(supporters)\n",
    "\n",
    "     \n",
    "\n",
    "\n",
    "\n",
    "if __name__ == \"__main__\":\n",
    "    main()\n",
    "\n",
    "    print('###############################################')\n",
    "    print('###############################################')\n",
    "    \n",
    "\n",
    "    print(authors)\n",
    "\n",
    "    print('###############################################')\n",
    "\n",
    "    if len(supporters) == 0:\n",
    "        print(\"0\")\n",
    "    else:\n",
    "        print(len(supporters))\n",
    "    \n",
    "    print('###############################################')\n",
    "\n",
    "    print(timestamps)\n",
    "    print('###############################################')\n",
    "    occurences = get_minutes(timestamps)\n",
    "    plt.hist(occurences) \n",
    "\n",
    "    \n",
    "    #print(messages)\n",
    "               "
   ]
  },
  {
   "cell_type": "code",
   "execution_count": null,
   "metadata": {},
   "outputs": [],
   "source": []
  },
  {
   "cell_type": "code",
   "execution_count": null,
   "metadata": {},
   "outputs": [],
   "source": []
  },
  {
   "cell_type": "code",
   "execution_count": null,
   "metadata": {},
   "outputs": [],
   "source": []
  },
  {
   "cell_type": "code",
   "execution_count": null,
   "metadata": {},
   "outputs": [],
   "source": []
  },
  {
   "cell_type": "code",
   "execution_count": null,
   "metadata": {},
   "outputs": [],
   "source": []
  },
  {
   "cell_type": "code",
   "execution_count": null,
   "metadata": {},
   "outputs": [],
   "source": []
  },
  {
   "cell_type": "code",
   "execution_count": 1,
   "metadata": {},
   "outputs": [
    {
     "ename": "NameError",
     "evalue": "name 'timestamps' is not defined",
     "output_type": "error",
     "traceback": [
      "\u001b[0;31m---------------------------------------------------------------------------\u001b[0m",
      "\u001b[0;31mNameError\u001b[0m                                 Traceback (most recent call last)",
      "\u001b[0;32m/var/folders/85/w6695fhx3ds_csvkj21k04zm0000gn/T/ipykernel_2976/1586919560.py\u001b[0m in \u001b[0;36m<module>\u001b[0;34m\u001b[0m\n\u001b[1;32m     13\u001b[0m     \u001b[0mplt\u001b[0m\u001b[0;34m.\u001b[0m\u001b[0mshow\u001b[0m\u001b[0;34m(\u001b[0m\u001b[0;34m)\u001b[0m\u001b[0;34m\u001b[0m\u001b[0;34m\u001b[0m\u001b[0m\n\u001b[1;32m     14\u001b[0m \u001b[0;34m\u001b[0m\u001b[0m\n\u001b[0;32m---> 15\u001b[0;31m \u001b[0mplot_timestamps\u001b[0m\u001b[0;34m(\u001b[0m\u001b[0;34m)\u001b[0m\u001b[0;34m\u001b[0m\u001b[0;34m\u001b[0m\u001b[0m\n\u001b[0m",
      "\u001b[0;32m/var/folders/85/w6695fhx3ds_csvkj21k04zm0000gn/T/ipykernel_2976/1586919560.py\u001b[0m in \u001b[0;36mplot_timestamps\u001b[0;34m()\u001b[0m\n\u001b[1;32m      9\u001b[0m \u001b[0;34m\u001b[0m\u001b[0m\n\u001b[1;32m     10\u001b[0m \u001b[0;32mdef\u001b[0m \u001b[0mplot_timestamps\u001b[0m\u001b[0;34m(\u001b[0m\u001b[0;34m)\u001b[0m\u001b[0;34m:\u001b[0m\u001b[0;34m\u001b[0m\u001b[0;34m\u001b[0m\u001b[0m\n\u001b[0;32m---> 11\u001b[0;31m     \u001b[0mplt\u001b[0m\u001b[0;34m.\u001b[0m\u001b[0mbar\u001b[0m\u001b[0;34m(\u001b[0m\u001b[0mnp\u001b[0m\u001b[0;34m.\u001b[0m\u001b[0marange\u001b[0m\u001b[0;34m(\u001b[0m\u001b[0mlen\u001b[0m\u001b[0;34m(\u001b[0m\u001b[0mtimestamps\u001b[0m\u001b[0;34m)\u001b[0m\u001b[0;34m)\u001b[0m\u001b[0;34m,\u001b[0m \u001b[0mtimestamps\u001b[0m\u001b[0;34m)\u001b[0m\u001b[0;34m\u001b[0m\u001b[0;34m\u001b[0m\u001b[0m\n\u001b[0m\u001b[1;32m     12\u001b[0m     \u001b[0mplt\u001b[0m\u001b[0;34m.\u001b[0m\u001b[0mxticks\u001b[0m\u001b[0;34m(\u001b[0m\u001b[0mnp\u001b[0m\u001b[0;34m.\u001b[0m\u001b[0marange\u001b[0m\u001b[0;34m(\u001b[0m\u001b[0mlen\u001b[0m\u001b[0;34m(\u001b[0m\u001b[0mtimestamps\u001b[0m\u001b[0;34m)\u001b[0m\u001b[0;34m)\u001b[0m\u001b[0;34m,\u001b[0m \u001b[0mtimemarks\u001b[0m\u001b[0;34m)\u001b[0m\u001b[0;34m\u001b[0m\u001b[0;34m\u001b[0m\u001b[0m\n\u001b[1;32m     13\u001b[0m     \u001b[0mplt\u001b[0m\u001b[0;34m.\u001b[0m\u001b[0mshow\u001b[0m\u001b[0;34m(\u001b[0m\u001b[0;34m)\u001b[0m\u001b[0;34m\u001b[0m\u001b[0;34m\u001b[0m\u001b[0m\n",
      "\u001b[0;31mNameError\u001b[0m: name 'timestamps' is not defined"
     ]
    }
   ],
   "source": [
    "timemarks = ['0:45', '1:11', '1:11', '1:14','1:21', '2:16', '2:17' , '3:02', '3:47', '4:33']\n",
    "\n",
    "#create a matplotlib bar graph of the timestamps\n",
    "#each bar represents 10 seconds \n",
    "#where do the most timestamps occur?\n",
    "\n",
    "import matplotlib.pyplot as plt\n",
    "import numpy as np\n",
    "\n",
    "def plot_timestamps():\n",
    "    plt.bar(np.arange(len(timestamps)), timestamps)\n",
    "    plt.xticks(np.arange(len(timestamps)), timemarks)\n",
    "    plt.show()\n",
    "\n",
    "plot_timestamps()\n"
   ]
  },
  {
   "cell_type": "code",
   "execution_count": null,
   "metadata": {},
   "outputs": [],
   "source": []
  },
  {
   "cell_type": "code",
   "execution_count": 6,
   "metadata": {},
   "outputs": [
    {
     "data": {
      "text/plain": [
       "'2:36'"
      ]
     },
     "execution_count": 6,
     "metadata": {},
     "output_type": "execute_result"
    }
   ],
   "source": [
    "#Turn the seconds like 139.44419384002686 into the format of minutes:seconds\n",
    "def format_time(seconds):\n",
    "    seconds = int(seconds)\n",
    "    minutes = seconds // 60\n",
    "    seconds = seconds % 60\n",
    "    return f\"{minutes}:{seconds:02d}\"\n",
    "\n",
    "format_time(156.80919790267944)"
   ]
  },
  {
   "cell_type": "code",
   "execution_count": null,
   "metadata": {},
   "outputs": [],
   "source": [
    "print(f\"{c.datetime} [{c.author.name}]- {c.message}\")"
   ]
  }
 ],
 "metadata": {
  "interpreter": {
   "hash": "b0fa6594d8f4cbf19f97940f81e996739fb7646882a419484c72d19e05852a7e"
  },
  "kernelspec": {
   "display_name": "Python 3.9.10 64-bit",
   "language": "python",
   "name": "python3"
  },
  "language_info": {
   "codemirror_mode": {
    "name": "ipython",
    "version": 3
   },
   "file_extension": ".py",
   "mimetype": "text/x-python",
   "name": "python",
   "nbconvert_exporter": "python",
   "pygments_lexer": "ipython3",
   "version": "3.9.7"
  },
  "orig_nbformat": 4
 },
 "nbformat": 4,
 "nbformat_minor": 2
}
