{
 "cells": [
  {
   "cell_type": "code",
   "execution_count": 6,
   "id": "9289d922-c335-4e62-919d-fa38123b60f2",
   "metadata": {},
   "outputs": [
    {
     "name": "stdin",
     "output_type": "stream",
     "text": [
      "Please enter a string as you wish:  Eichhörnchen\n"
     ]
    },
    {
     "name": "stdout",
     "output_type": "stream",
     "text": [
      "      \n",
      "The number of vowels: 3\n",
      "\n",
      "The number of consonant: 8\n",
      "\n",
      "The number of umlaute: 1\n"
     ]
    }
   ],
   "source": [
    "#Python program to count vowel or consonant of the given string\n",
    "str=input(\"Please enter a string as you wish: \")\n",
    "vowels=0\n",
    "consonants=0\n",
    "umlaute=0\n",
    "\n",
    "for i in str:\n",
    "    if(i == 'a'or i == 'e'or i == 'i'or i == 'o'or i == 'u' or\n",
    "       i == 'A'or i == 'E'or i == 'I'or i == 'O'or i == 'U' ):\n",
    "           vowels=vowels+1;#vowel counter is incremented by 1\n",
    "    \n",
    "    elif(i == 'ä'or i == 'ö'or i == 'ü'or i == 'Ä'or i == 'Ö' or\n",
    "       i == 'Ü'):\n",
    "           umlaute += 1;#vowel counter is incremented by 1\n",
    "    \n",
    "    else:\n",
    "        consonants=consonants+1;\n",
    "#consonant counter is incremented by 1\n",
    "print(\"      \")\n",
    "print(\"The number of vowels:\",vowels)\n",
    "print(\"\\nThe number of consonant:\",consonants)\n",
    "print(\"\\nThe number of umlaute:\",umlaute)"
   ]
  },
  {
   "cell_type": "code",
   "execution_count": null,
   "id": "5e98ab83-ab07-4162-b1bd-7ab9d29feeee",
   "metadata": {},
   "outputs": [],
   "source": []
  },
  {
   "cell_type": "code",
   "execution_count": null,
   "id": "01dab4c8-4e76-481b-9370-2e4ddc916145",
   "metadata": {},
   "outputs": [],
   "source": []
  },
  {
   "cell_type": "code",
   "execution_count": null,
   "id": "fa5a4ef9-39ae-4dd2-94de-7c1a02ee32d5",
   "metadata": {},
   "outputs": [],
   "source": []
  },
  {
   "cell_type": "code",
   "execution_count": null,
   "id": "a0342e27-3624-4b5a-8e66-3240de1aabda",
   "metadata": {},
   "outputs": [],
   "source": []
  },
  {
   "cell_type": "code",
   "execution_count": 33,
   "id": "dfce94b1-891d-4cdf-a1f1-b0e10113333b",
   "metadata": {},
   "outputs": [
    {
     "name": "stdout",
     "output_type": "stream",
     "text": [
      "[' Apple', ' Orange', ' Grapes']\n"
     ]
    }
   ],
   "source": [
    "lst = ['State your favorite fruit: Apple', 'State your favorite fruit: Orange', 'State your favorite fruit: Grapes']\n",
    "\n",
    "final_lst = [x.split(\":\")[-1] for x in lst]\n",
    "\n",
    "print(final_lst)"
   ]
  },
  {
   "cell_type": "code",
   "execution_count": 7,
   "id": "d8237c67-001e-4955-a189-f534a6598b12",
   "metadata": {},
   "outputs": [
    {
     "name": "stdout",
     "output_type": "stream",
     "text": [
      "Collecting random_poem\n",
      "  Downloading random_poem-1.0.1.tar.gz (2.5 kB)\n",
      "Requirement already satisfied: beautifulsoup4 in ./opt/anaconda3/lib/python3.8/site-packages (from random_poem) (4.9.3)\n",
      "Requirement already satisfied: requests in ./opt/anaconda3/lib/python3.8/site-packages (from random_poem) (2.25.1)\n",
      "Requirement already satisfied: soupsieve>1.2 in ./opt/anaconda3/lib/python3.8/site-packages (from beautifulsoup4->random_poem) (2.2.1)\n",
      "Requirement already satisfied: certifi>=2017.4.17 in ./opt/anaconda3/lib/python3.8/site-packages (from requests->random_poem) (2020.12.5)\n",
      "Requirement already satisfied: chardet<5,>=3.0.2 in ./opt/anaconda3/lib/python3.8/site-packages (from requests->random_poem) (4.0.0)\n",
      "Requirement already satisfied: urllib3<1.27,>=1.21.1 in ./opt/anaconda3/lib/python3.8/site-packages (from requests->random_poem) (1.26.4)\n",
      "Requirement already satisfied: idna<3,>=2.5 in ./opt/anaconda3/lib/python3.8/site-packages (from requests->random_poem) (2.10)\n",
      "Building wheels for collected packages: random-poem\n",
      "\u001b[33m  WARNING: Building wheel for random-poem failed: [Errno 20] Not a directory: '/Users/wiifreaki/Library/Caches/pip'\u001b[0m\n",
      "Failed to build random-poem\n",
      "Installing collected packages: random-poem\n",
      "    Running setup.py install for random-poem ... \u001b[?25ldone\n",
      "\u001b[33m  DEPRECATION: random-poem was installed using the legacy 'setup.py install' method, because a wheel could not be built for it. A possible replacement is to fix the wheel build issue reported above. You can find discussion regarding this at https://github.com/pypa/pip/issues/8368.\u001b[0m\n",
      "\u001b[?25hSuccessfully installed random-poem-1.0.1\n"
     ]
    }
   ],
   "source": [
    "!pip install random_poem"
   ]
  },
  {
   "cell_type": "code",
   "execution_count": null,
   "id": "89a28fe2-a0d2-469b-a7c8-71579f95659e",
   "metadata": {},
   "outputs": [],
   "source": []
  },
  {
   "cell_type": "code",
   "execution_count": null,
   "id": "41c9a685-9a35-4484-848f-af098b991374",
   "metadata": {},
   "outputs": [],
   "source": []
  },
  {
   "cell_type": "code",
   "execution_count": null,
   "id": "00213aeb-aa01-4715-a350-9091063e764b",
   "metadata": {},
   "outputs": [],
   "source": []
  },
  {
   "cell_type": "code",
   "execution_count": 9,
   "id": "5cbc897f-f898-44ca-8779-d0422e1f0d86",
   "metadata": {},
   "outputs": [
    {
     "data": {
      "text/plain": [
       "\"The News\\nBy Katie Peterson\\n\\nIn different cities, on different\\n\\r forms of transportation, a woman read Daniel Deronda\\n\\r until the year became the arbitrary pink\\n\\r the calendar chose for the middle of winter.\\n\\r And finally she sat in the reference section\\n\\r of the public library finishing Daniel Deronda\\n\\r for days at a slowing pace between pieces\\nof newspapers and foreign language newspapers\\nwhose syntax she enjoyed, not understanding.\\nAnd when she didn't anymore she wrote in the margins\\nof Daniel Deronda for someone\\nwho might never see. Thought of that person\\nwho might never see, staring equally at the rain, equally\\nthinking of her and of nothing in particular.\\nOutside the news fell apart. If one chooses\\nto be shallow or noble, or one\\nis born so, and if it matters. Translations\\nare appropriate when Nature is dormant, or when one\\nhas nothing to say, or does not know\\nwhat to say. These are three different things\\nbut sometimes they are the same.\\nIt is not wrong to want nice things, neither\\nis it wrong to want to be good, or to feel that\\nas a physical force of pleasure: Daniel Deronda,\\nwho does not know who he is,\\nwho thinks he does, and goes away on a boat.\\nBut the cover is a picture of a woman gambling.\\nThe air warms outside the reference\\nsection, and also the rain. Incomprehensible news.\\nWhenever a book ends, silence, as if a stewardship had ceased.\\nA person can feel the bones of one's hands by stretching them.\\nIf love comes again, know better than to speak.\\n\""
      ]
     },
     "execution_count": 9,
     "metadata": {},
     "output_type": "execute_result"
    }
   ],
   "source": [
    "import random_poem as rp\n",
    "rp.get_poem()"
   ]
  },
  {
   "cell_type": "code",
   "execution_count": null,
   "id": "7f1ec795-a819-47f1-9f3e-da8c79d04b94",
   "metadata": {},
   "outputs": [],
   "source": []
  },
  {
   "cell_type": "code",
   "execution_count": null,
   "id": "a17f7cfe-a979-4bcf-be06-d367bbd2e62e",
   "metadata": {},
   "outputs": [],
   "source": []
  },
  {
   "cell_type": "code",
   "execution_count": 22,
   "id": "770fea20-3b60-47b8-849b-ee494dde3855",
   "metadata": {},
   "outputs": [
    {
     "name": "stdout",
     "output_type": "stream",
     "text": [
      "Requirement already satisfied: zufallsworte in ./opt/anaconda3/lib/python3.8/site-packages (0.0.3)\n"
     ]
    }
   ],
   "source": [
    "!pip install zufallsworte\n"
   ]
  },
  {
   "cell_type": "code",
   "execution_count": 23,
   "id": "344ea2db-fa8e-4d33-b382-3a8c143313cd",
   "metadata": {},
   "outputs": [],
   "source": [
    "import zufallsworte as zufall"
   ]
  },
  {
   "cell_type": "code",
   "execution_count": 24,
   "id": "bcd66894-ef70-487b-9c71-08e42bcb4ea3",
   "metadata": {},
   "outputs": [
    {
     "name": "stdout",
     "output_type": "stream",
     "text": [
      "['herumlaborieren', 'Herumtreiberei', 'herumhauen']\n"
     ]
    }
   ],
   "source": [
    "zufall.anfangsbuchstaben('herum', 3)"
   ]
  },
  {
   "cell_type": "code",
   "execution_count": 25,
   "id": "d670c158-10ea-4d18-a682-9f600d41fcc9",
   "metadata": {},
   "outputs": [
    {
     "name": "stdout",
     "output_type": "stream",
     "text": [
      "['dazwischenlegen', 'lahmlegen', 'zugrundelegen', 'anzulegen']\n"
     ]
    }
   ],
   "source": [
    "zufall.endbuchstaben('legen', 4)"
   ]
  },
  {
   "cell_type": "code",
   "execution_count": 26,
   "id": "49a90743-4add-4a7b-816c-157358b2e7bc",
   "metadata": {},
   "outputs": [
    {
     "name": "stdout",
     "output_type": "stream",
     "text": [
      "['Oberwiesenthalerin']\n"
     ]
    }
   ],
   "source": [
    "zufall.zufallswoerter(1)"
   ]
  },
  {
   "cell_type": "code",
   "execution_count": 19,
   "id": "43141f28-bc16-4b1c-a80e-5cf35b2858a6",
   "metadata": {},
   "outputs": [
    {
     "ename": "TypeError",
     "evalue": "sample() missing 1 required positional argument: 'k'",
     "output_type": "error",
     "traceback": [
      "\u001b[0;31m---------------------------------------------------------------------------\u001b[0m",
      "\u001b[0;31mTypeError\u001b[0m                                 Traceback (most recent call last)",
      "\u001b[0;32m<ipython-input-19-50fa533def5c>\u001b[0m in \u001b[0;36m<module>\u001b[0;34m\u001b[0m\n\u001b[0;32m----> 1\u001b[0;31m \u001b[0mzufall\u001b[0m\u001b[0;34m.\u001b[0m\u001b[0mzufallswort\u001b[0m\u001b[0;34m(\u001b[0m\u001b[0;34m)\u001b[0m\u001b[0;34m\u001b[0m\u001b[0;34m\u001b[0m\u001b[0m\n\u001b[0m",
      "\u001b[0;32m~/opt/anaconda3/lib/python3.8/site-packages/zufallsworte/__init__.py\u001b[0m in \u001b[0;36mzufallswort\u001b[0;34m()\u001b[0m\n\u001b[1;32m     26\u001b[0m \u001b[0;34m\u001b[0m\u001b[0m\n\u001b[1;32m     27\u001b[0m \u001b[0;32mdef\u001b[0m \u001b[0mzufallswort\u001b[0m\u001b[0;34m(\u001b[0m\u001b[0;34m)\u001b[0m\u001b[0;34m:\u001b[0m\u001b[0;34m\u001b[0m\u001b[0;34m\u001b[0m\u001b[0m\n\u001b[0;32m---> 28\u001b[0;31m     \u001b[0mprint\u001b[0m\u001b[0;34m(\u001b[0m\u001b[0mrandom\u001b[0m\u001b[0;34m.\u001b[0m\u001b[0msample\u001b[0m\u001b[0;34m(\u001b[0m\u001b[0mduden\u001b[0m\u001b[0;34m)\u001b[0m\u001b[0;34m)\u001b[0m\u001b[0;34m\u001b[0m\u001b[0;34m\u001b[0m\u001b[0m\n\u001b[0m\u001b[1;32m     29\u001b[0m \u001b[0;34m\u001b[0m\u001b[0m\n\u001b[1;32m     30\u001b[0m \u001b[0;34m\u001b[0m\u001b[0m\n",
      "\u001b[0;31mTypeError\u001b[0m: sample() missing 1 required positional argument: 'k'"
     ]
    }
   ],
   "source": [
    "zufall.zufallswort()"
   ]
  },
  {
   "cell_type": "code",
   "execution_count": null,
   "id": "329e1bf8-8f85-447a-8fd2-df37f2d2e5c4",
   "metadata": {},
   "outputs": [],
   "source": []
  }
 ],
 "metadata": {
  "kernelspec": {
   "display_name": "Python 3",
   "language": "python",
   "name": "python3"
  },
  "language_info": {
   "codemirror_mode": {
    "name": "ipython",
    "version": 3
   },
   "file_extension": ".py",
   "mimetype": "text/x-python",
   "name": "python",
   "nbconvert_exporter": "python",
   "pygments_lexer": "ipython3",
   "version": "3.8.8"
  }
 },
 "nbformat": 4,
 "nbformat_minor": 5
}
