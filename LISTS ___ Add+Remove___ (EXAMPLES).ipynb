{
 "cells": [
  {
   "cell_type": "markdown",
   "metadata": {},
   "source": [
    "### Remove 1 specific letter from list"
   ]
  },
  {
   "cell_type": "code",
   "execution_count": 31,
   "metadata": {},
   "outputs": [
    {
     "name": "stdout",
     "output_type": "stream",
     "text": [
      "['bg', 'kb', '', 'bj', 'z']\n",
      "['bg', 'kb', '', 'bj', 'z']\n"
     ]
    }
   ],
   "source": [
    "Liste = ['vbg', 'vkb', 'vv', 'vbj', 'vz'] #the list continues \n",
    "\n",
    "\n",
    "print([s.strip('v') for s in Liste]) # remove the 8 from the string borders\n",
    "print([s.replace('v', '') for s in lst]) # remove all the 8s "
   ]
  },
  {
   "cell_type": "markdown",
   "metadata": {},
   "source": [
    "### Remove last string in Liste"
   ]
  },
  {
   "cell_type": "code",
   "execution_count": 12,
   "metadata": {},
   "outputs": [
    {
     "name": "stdout",
     "output_type": "stream",
     "text": [
      "['vbg', 'vkb', 'vv', 'vbj']\n"
     ]
    }
   ],
   "source": [
    "Liste = ['vbg', 'vkb', 'vv', 'vbj', 'vz']\n",
    "\n",
    "NewListe = Liste[:-1]\n",
    "\n",
    "print(NewListe)"
   ]
  },
  {
   "cell_type": "markdown",
   "metadata": {},
   "source": [
    "### Add +1 or Characters for each element in Liste"
   ]
  },
  {
   "cell_type": "code",
   "execution_count": 35,
   "metadata": {},
   "outputs": [
    {
     "name": "stdout",
     "output_type": "stream",
     "text": [
      "[2, 3, 4, 5, 6]\n"
     ]
    }
   ],
   "source": [
    "x = [1, 2, 3, 4, 5]\n",
    "\n",
    "for i in range(len(x)):\n",
    "     x[i] += 1\n",
    "\n",
    "print(x)"
   ]
  },
  {
   "cell_type": "code",
   "execution_count": 40,
   "metadata": {},
   "outputs": [
    {
     "name": "stdout",
     "output_type": "stream",
     "text": [
      "['a######', 'b######', 'c######']\n"
     ]
    }
   ],
   "source": [
    "y = ['a','b','c']\n",
    "\n",
    "for i in range(len(y)):\n",
    "     y[i] += '######'\n",
    "\n",
    "print(y)"
   ]
  },
  {
   "cell_type": "markdown",
   "metadata": {},
   "source": [
    "### Unique values in 2D array"
   ]
  },
  {
   "cell_type": "code",
   "execution_count": 3,
   "metadata": {},
   "outputs": [
    {
     "data": {
      "text/plain": [
       "array([[0, 1],\n",
       "       [0, 1],\n",
       "       [4, 2]])"
      ]
     },
     "execution_count": 3,
     "metadata": {},
     "output_type": "execute_result"
    }
   ],
   "source": [
    "import numpy as np\n",
    "b = np.array([[1, 1, 0], [1, 1, 0], [2, 2, 4]])\n",
    "np.unique(b, axis=1)"
   ]
  },
  {
   "cell_type": "markdown",
   "metadata": {},
   "source": [
    "### Iterating over a list with string + integer"
   ]
  },
  {
   "cell_type": "code",
   "execution_count": 8,
   "metadata": {},
   "outputs": [
    {
     "name": "stdout",
     "output_type": "stream",
     "text": [
      "red 1\n",
      "blue 2\n",
      "green 3\n",
      "______________________\n",
      "Word: red, Value: 1\n",
      "Word: blue, Value: 2\n",
      "Word: green, Value: 3\n"
     ]
    }
   ],
   "source": [
    "d = [('red', 1), ('blue', 2), ('green', 3)]\n",
    "\n",
    "for value in d: \n",
    "    word = value[0]\n",
    "    value = value[1]\n",
    "    print(word, value)\n",
    "    \n",
    "print('______________________')    \n",
    "    \n",
    "for value in d: \n",
    "    word = value[0]\n",
    "    value = value[1]\n",
    "    print(\"Word: {:}, Value: {:}\".format(word , value))"
   ]
  },
  {
   "cell_type": "code",
   "execution_count": null,
   "metadata": {},
   "outputs": [],
   "source": []
  }
 ],
 "metadata": {
  "kernelspec": {
   "display_name": "Python 3",
   "language": "python",
   "name": "python3"
  },
  "language_info": {
   "codemirror_mode": {
    "name": "ipython",
    "version": 3
   },
   "file_extension": ".py",
   "mimetype": "text/x-python",
   "name": "python",
   "nbconvert_exporter": "python",
   "pygments_lexer": "ipython3",
   "version": "3.7.9"
  }
 },
 "nbformat": 4,
 "nbformat_minor": 2
}
