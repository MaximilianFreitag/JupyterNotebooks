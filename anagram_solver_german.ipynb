{
 "cells": [
  {
   "cell_type": "code",
   "execution_count": 2,
   "metadata": {},
   "outputs": [
    {
     "data": {
      "text/plain": [
       "['fiese', 'Seife']"
      ]
     },
     "execution_count": 2,
     "metadata": {},
     "output_type": "execute_result"
    }
   ],
   "source": [
    "import random\n",
    "import string\n",
    "import os\n",
    "\n",
    "with open(os.path.join(os.path.expanduser('~'), 'Desktop', 'duden.txt')) as f:\n",
    "    words = f.read().splitlines()\n",
    "\n",
    "word_list = words\n",
    "\n",
    "#given following string\n",
    "anagram_scramble = 'Seife'\n",
    "\n",
    "def find_anagrams(anagram_scramble):\n",
    "    anagram_list = []\n",
    "    for word in word_list:\n",
    "        if sorted(anagram_scramble.lower()) == sorted(word.lower()):\n",
    "            anagram_list.append(word)\n",
    "    return anagram_list\n",
    "\n",
    "find_anagrams(anagram_scramble)  \n",
    "\n",
    "\n"
   ]
  },
  {
   "cell_type": "code",
   "execution_count": null,
   "metadata": {},
   "outputs": [],
   "source": []
  }
 ],
 "metadata": {
  "interpreter": {
   "hash": "aee8b7b246df8f9039afb4144a1f6fd8d2ca17a180786b69acc140d282b71a49"
  },
  "kernelspec": {
   "display_name": "Python 3.10.0 64-bit",
   "language": "python",
   "name": "python3"
  },
  "language_info": {
   "codemirror_mode": {
    "name": "ipython",
    "version": 3
   },
   "file_extension": ".py",
   "mimetype": "text/x-python",
   "name": "python",
   "nbconvert_exporter": "python",
   "pygments_lexer": "ipython3",
   "version": "3.10.0"
  },
  "orig_nbformat": 4
 },
 "nbformat": 4,
 "nbformat_minor": 2
}
