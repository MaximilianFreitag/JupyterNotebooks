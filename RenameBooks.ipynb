{
 "cells": [
  {
   "cell_type": "code",
   "execution_count": 1,
   "metadata": {},
   "outputs": [
    {
     "name": "stdout",
     "output_type": "stream",
     "text": [
      "/Users/wiifreaki/Test777\n"
     ]
    }
   ],
   "source": [
    "import os\n",
    "\n",
    "#os.chdir('/Users/wiifreaki/Desktop/jj')\n",
    "print(os.getcwd())          \n",
    "\n",
    "#for f in os.listdir():\n",
    " #   print(f)"
   ]
  },
  {
   "cell_type": "code",
   "execution_count": 2,
   "metadata": {},
   "outputs": [
    {
     "name": "stdout",
     "output_type": "stream",
     "text": [
      "/Users/wiifreaki/Desktop/jj\n"
     ]
    }
   ],
   "source": [
    "\n",
    "\n",
    "os.chdir('/Users/wiifreaki/Desktop/jj')\n",
    "print(os.getcwd())          \n",
    "\n",
    "#for f in os.listdir():\n",
    " #   for f in os.listdir():"
   ]
  },
  {
   "cell_type": "code",
   "execution_count": 3,
   "metadata": {},
   "outputs": [
    {
     "name": "stdout",
     "output_type": "stream",
     "text": [
      ".DS_Store\n",
      "A Dolls House and Other Plays (Penguin) by Henrik Ibsen (z-lib.org).epub\n",
      "A Pattern of Violence  How the Law Classifies Crimes and What It Means for Justice by David Alan Sklansky (z-lib.org).pdf\n",
      "Advanced Algorithms and Data Structures by Marcello La Rocca (z-lib.org).epub\n",
      "Aller Liebe Anfang by Hermann, Judith (z-lib.org).epub\n",
      "An Outsiders Guide to Humans What Science Taught Me About What We Do and Who We Are by Camilla Pang PhD (z-lib.org).epub\n",
      "Apps programmieren mit Swift by Jörg Brunsmann, Dominik Hauser, Klaus M. Rodewig (z-lib.org).epub\n",
      "Aufzüge und Fahrtreppen by Dieter Unger (z-lib.org).epub\n",
      "Back to Work Why We Need Smart Government for a Strong Economy by Bill Clinton (z-lib.org).epub\n",
      "Billy Summers by Stephen King (z-lib.org).epub\n",
      "Black Holes and Time Warps Einstein’s Outrageous Legacy by Kip S. Thorne, Stephen Hawking (z-lib.org).epub\n",
      "Black Holes The Membrane Paradigm by K. S. Thorne, R. H. Price, D. A. MacDonald (z-lib.org).pdf\n",
      "China im Blickpunkt des 21. Jahrhunderts by Tobias Loitsch (z-lib.org).epub\n",
      "Citrix XenApp und XenDesktop 7.15 LTSR by Jan Hendrik Meier (z-lib.org).epub\n",
      "Classic Game Design From Pong to Pac-man With Unity by Franz Lanzinger (z-lib.org).pdf\n",
      "Classifying Fashion, Fashioning Class by Katherine Appleford (z-lib.org).pdf\n",
      "Columbine by Dave Cullen (z-lib.org).epub\n",
      "Cybersecurity Best Practices by Unknown (z-lib.org).epub\n",
      "Dark Roads by Chevy Stevens (z-lib.org).epub\n",
      "Das Phantom des Alexander Wolf by Gasdanow, Gaito (z-lib.org).epub\n",
      "Das Spiel by Philipp Lahm (z-lib.org).epub\n",
      "Der Morgen der Welt by Roeck, Bernd (z-lib.org).epub\n",
      "Der Schatten Thriller (German Edition) by Melanie Raabe (z-lib.org).epub\n",
      "Die Geschichte des Wassers by Maja Lunde (z-lib.org).epub\n",
      "Die Letzten ihrer Art Roman by Maja Lunde [Lunde, Maja] (z-lib.org).epub\n",
      "Die Plazenta by Berthold Huppertz  Ekkehard Schleußner (z-lib.org).epub\n",
      "Die Unterwerfung der Welt Eine Globalgeschichte der europäischen Expansion 1415-2015 by Reinhard, Wolfgang (z-lib.org).pdf\n",
      "Die Verzauberung der Welt Eine andere Geschichte der Naturwissenschaften by Fischer, Ernst Peter (z-lib.org).epub\n",
      "Economic Statecraft New Edition by David A. Baldwin (z-lib.org).pdf\n",
      "Ein Abend bei Claire by Gasdanow, Gaito (z-lib.org).epub\n",
      "Enemies A History of the FBI by Tim Weiner (z-lib.org).epub\n",
      "Explaining Humans What Science Can Teach Us About Life, Love and Relationships by Camilla Pang (z-lib.org).epub\n",
      "Extreme Lebensräume Wie Mikroben unseren Planeten erobern by Skander Elleuche (z-lib.org).epub\n",
      "Foundations in microbiology by Kathleen P. Talaro Barry Chess (z-lib.org).pdf\n",
      "Google AdWords by Guido Pelzer, Dagmar Gerigk (z-lib.org).epub\n",
      "Industrie 4.0 für die Praxis by Unknown (z-lib.org).epub\n",
      "Infectious diseases  a case study approach by Jonathan C. Cho (editor) (z-lib.org).pdf\n",
      "Inglourious Basterds a screenplay by Tarantino, Quentin (z-lib.org).epub\n",
      "Java Alles-in-einem-Band für Dummies (German Edition) by Arnold V. Willemer (z-lib.org).pdf\n",
      "Java ist auch eine Insel by Christian Ullenboom (z-lib.org).epub\n",
      "Jein by Stahl, Stefanie (z-lib.org).epub\n",
      "Kallocain by Karin Boye (z-lib.org).epub\n",
      "Kindernotfall-ABC by Thomas Nicolai  Florian Hoffmann (z-lib.org).epub\n",
      "Magento 2 by Alexander Steireif (z-lib.org).epub\n",
      "Mathematik Für Informatiker Für Dummies by Steffens, Hans-Jürgen Zöllner, Christian Mühlmann, Kathrin  Christian Zöllner  Kathrin Mühlmann (z-lib.org).epub\n",
      "Medizindidaktik by Thomas Kollewe, Monika Sennekamp  Falk Ochsendorf (z-lib.org).epub\n",
      "Mein Bruder Sisyphos, mein Freund der Minotauros by Andreas Marneros (z-lib.org).epub\n",
      "Mit ICH-KULTUR zum privaten und beruflichen Erfolg by Jutta Malzacher (z-lib.org).epub\n",
      "Never Let You Go by Stevens, Chevy (z-lib.org).epub\n",
      "Once Upon a Time in Hollywood by Quentin Tarantino [Tarantino, Quentin] (z-lib.org).epub\n",
      "One Man Against the World The Tragedy of Richard Nixon by Tim Weiner (z-lib.org).epub\n",
      "Onward by Howard Schultz  Joanne Lesley Gordon (z-lib.org).epub\n",
      "Power BI Für Dummies by Eitelberg, Tillmann Engels, Oliver Geisler, Frank  Oliver Engels  Frank Geisler  Wolfgang Strasser (z-lib.org).epub\n",
      "PsyConversion by Philipp Spreer (z-lib.org).epub\n",
      "R für Dummies by Joris Meys (z-lib.org).epub\n",
      "Reinventing You, With a New Preface by Dorie Clark (z-lib.org).epub\n",
      "Rocks  Minerals (DK Smithsonian Handbook) by Chris Pellant (z-lib.org).pdf\n",
      "Stern 111 by Lutz Seiler (z-lib.org).epub\n",
      "Still Missing by Stevens, Chevy (z-lib.org).epub\n",
      "Talent, Strategy, Risk How Investors and Boards Are Redefining TSR by Bill McNabb, Ram Charan, Dennis Carey (z-lib.org).pdf\n",
      "That Night by Stevens, Chevy (z-lib.org).epub\n",
      "The Husbands by Chandler Baker (z-lib.org).epub\n",
      "The Pandemic Century A History of Global Contagion from the Spanish Flu to Covid-19 by Mark Honigsbaum (z-lib.org).epub\n",
      "The Science of Interstellar by Kip Thorne, Christopher Nolan (z-lib.org).epub\n",
      "The Science of Sin Why We Do The Things We Know We Shouldn’t by Jack Lewis (z-lib.org).epub\n",
      "The Show Girl by Nicola Harrison (z-lib.org).epub\n",
      "The Story of Work A New History of Humankind by Lucassen, Jan (z-lib.org).epub\n",
      "The Trap by Raabe, Melanie Taylor, Imogen (z-lib.org).epub\n",
      "The Uninhabitable Earth Life After Warming by David Wallace-Wells (z-lib.org).epub\n",
      "The Witches of New York by Ami McKay (z-lib.org).epub\n",
      "Theory and Credibility Integrating Theoretical and Empirical Social Science by Scott Ashworth, Christopher R. Berry, Ethan Bueno de Mesquita (z-lib.org).pdf\n",
      "UML 2.5 by Christoph Kecher, Alexander Salvanos, Ralf Hoffmann-Elbern (z-lib.org).epub\n",
      "Website-Konzeption und Relaunch by Sebastian Erlhofer, Dorothea Brenner (z-lib.org).epub\n",
      "Wie Schnee so weiß by Marissa Meyer (z-lib.org).epub\n",
      "Wissenschaftliches Arbeiten by Balzert, Helmut Schröder, Marion Schäfer, Christian (z-lib.org).pdf\n"
     ]
    }
   ],
   "source": [
    "for i in os.listdir('/Users/wiifreaki/Desktop/jj'):\n",
    "    print(i)"
   ]
  },
  {
   "cell_type": "code",
   "execution_count": 4,
   "metadata": {},
   "outputs": [
    {
     "name": "stdout",
     "output_type": "stream",
     "text": [
      "Wissenschaftliches Arbeiten by Balzert, Helmut Schröder, Marion Schäfer, Christian (z-lib.org).pdf\n"
     ]
    }
   ],
   "source": [
    "for i in os.listdir('/Users/wiifreaki/Desktop/jj'):\n",
    "    os.rename(i, i.replace('(z-lib.org)', ' '))\n",
    "    \n",
    "print(i)    "
   ]
  },
  {
   "cell_type": "code",
   "execution_count": null,
   "metadata": {},
   "outputs": [],
   "source": []
  },
  {
   "cell_type": "code",
   "execution_count": null,
   "metadata": {},
   "outputs": [],
   "source": []
  },
  {
   "cell_type": "code",
   "execution_count": null,
   "metadata": {},
   "outputs": [],
   "source": []
  }
 ],
 "metadata": {
  "kernelspec": {
   "display_name": "Python 3",
   "language": "python",
   "name": "python3"
  },
  "language_info": {
   "codemirror_mode": {
    "name": "ipython",
    "version": 3
   },
   "file_extension": ".py",
   "mimetype": "text/x-python",
   "name": "python",
   "nbconvert_exporter": "python",
   "pygments_lexer": "ipython3",
   "version": "3.8.8"
  }
 },
 "nbformat": 4,
 "nbformat_minor": 4
}
