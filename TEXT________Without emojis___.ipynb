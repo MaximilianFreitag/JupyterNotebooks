{
 "cells": [
  {
   "cell_type": "code",
   "execution_count": 23,
   "metadata": {},
   "outputs": [
    {
     "name": "stdout",
     "output_type": "stream",
     "text": [
      "hello__emoji___free___world\n"
     ]
    }
   ],
   "source": [
    "import unicodedata\n",
    "from unidecode import unidecode\n",
    "\n",
    "def deEmojify(inputString):\n",
    "    returnString = \"\"\n",
    "\n",
    "    for character in inputString:\n",
    "        try:\n",
    "            character.encode(\"ascii\")\n",
    "            returnString += character\n",
    "        except UnicodeEncodeError:\n",
    "            replaced = unidecode(str(character))\n",
    "            if replaced != '':\n",
    "                returnString += replaced\n",
    "            else:\n",
    "                try:\n",
    "                     returnString += \"[\" + unicodedata.name(character) + \"]\"\n",
    "                except ValueError:\n",
    "                     returnString += \"[x]\"\n",
    "\n",
    "    return returnString\n",
    "\n",
    "\n",
    "\n",
    "string = '🙁😠hello😡😞😟😣__emoji😖','🙁😠___free😡😞___world😟😣😖'\n",
    "print(deEmojify(string))"
   ]
  },
  {
   "cell_type": "code",
   "execution_count": null,
   "metadata": {},
   "outputs": [],
   "source": []
  }
 ],
 "metadata": {
  "kernelspec": {
   "display_name": "Python 3",
   "language": "python",
   "name": "python3"
  },
  "language_info": {
   "codemirror_mode": {
    "name": "ipython",
    "version": 3
   },
   "file_extension": ".py",
   "mimetype": "text/x-python",
   "name": "python",
   "nbconvert_exporter": "python",
   "pygments_lexer": "ipython3",
   "version": "3.7.9"
  }
 },
 "nbformat": 4,
 "nbformat_minor": 2
}
