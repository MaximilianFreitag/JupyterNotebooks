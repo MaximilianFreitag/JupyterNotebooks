{
 "cells": [
  {
   "cell_type": "code",
   "execution_count": 1,
   "metadata": {},
   "outputs": [
    {
     "name": "stderr",
     "output_type": "stream",
     "text": [
      "Downloading: 100%|██████████| 629/629 [00:00<00:00, 138kB/s]\n",
      "Downloading: 100%|██████████| 255M/255M [00:40<00:00, 6.55MB/s] \n",
      "Downloading: 100%|██████████| 48.0/48.0 [00:00<00:00, 23.1kB/s]\n",
      "Downloading: 100%|██████████| 226k/226k [00:00<00:00, 578kB/s] \n"
     ]
    },
    {
     "name": "stdout",
     "output_type": "stream",
     "text": [
      "{'label': 'POSITIVE', 'score': 0.9998656511306763}\n",
      "{'label': 'NEGATIVE', 'score': 0.9991129040718079}\n",
      "{'label': 'POSITIVE', 'score': 0.9998695850372314}\n",
      "{'label': 'NEGATIVE', 'score': 0.9986074566841125}\n",
      "{'label': 'NEGATIVE', 'score': 0.9974709749221802}\n"
     ]
    }
   ],
   "source": [
    "from transformers import pipeline\n",
    "from transformers import AutoTokenizer, AutoModelForSequenceClassification\n",
    "import torch\n",
    "import torch.nn.functional as F\n",
    "\n"
   ]
  },
  {
   "cell_type": "code",
   "execution_count": 12,
   "metadata": {},
   "outputs": [
    {
     "name": "stdout",
     "output_type": "stream",
     "text": [
      "['neutral', 'positive', 'negative', 'negative', 'negative']\n"
     ]
    },
    {
     "name": "stderr",
     "output_type": "stream",
     "text": [
      "/var/folders/85/w6695fhx3ds_csvkj21k04zm0000gn/T/ipykernel_3751/1829319957.py:10: UserWarning: To copy construct from a tensor, it is recommended to use sourceTensor.clone().detach() or sourceTensor.clone().detach().requires_grad_(True), rather than torch.tensor(sourceTensor).\n",
      "  batch = torch.tensor(batch['input_ids'])\n"
     ]
    }
   ],
   "source": [
    "\n",
    "model_name = 'oliverguhr/german-sentiment-bert'\n",
    "\n",
    "tokenizer = AutoTokenizer.from_pretrained(model_name)\n",
    "model = AutoModelForSequenceClassification.from_pretrained(model_name)\n",
    "\n",
    "X_train_german= ['Das haus ist grün', 'Cool', 'Ich hasse das Haus', 'Warum', 'hehehe']\n",
    "\n",
    "\n",
    "batch = tokenizer(X_train_german, padding=True, truncation=True, max_length = 512, return_tensors='pt')\n",
    "batch = torch.tensor(batch['input_ids'])\n",
    "#print(batch)\n",
    "\n",
    "with torch.no_grad():\n",
    "    outputs = model(batch)\n",
    "    label_ids = torch.argmax(outputs.logits, dim=1)\n",
    "    #print(label_ids)\n",
    "    labels = [model.config.id2label[label_id] for label_id in label_ids.tolist()]\n",
    "    print(labels)\n"
   ]
  },
  {
   "cell_type": "code",
   "execution_count": null,
   "metadata": {},
   "outputs": [],
   "source": []
  }
 ],
 "metadata": {
  "interpreter": {
   "hash": "b0fa6594d8f4cbf19f97940f81e996739fb7646882a419484c72d19e05852a7e"
  },
  "kernelspec": {
   "display_name": "Python 3.9.10 64-bit",
   "language": "python",
   "name": "python3"
  },
  "language_info": {
   "codemirror_mode": {
    "name": "ipython",
    "version": 3
   },
   "file_extension": ".py",
   "mimetype": "text/x-python",
   "name": "python",
   "nbconvert_exporter": "python",
   "pygments_lexer": "ipython3",
   "version": "3.9.7"
  },
  "orig_nbformat": 4
 },
 "nbformat": 4,
 "nbformat_minor": 2
}
