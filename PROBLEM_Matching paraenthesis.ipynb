{
 "cells": [
  {
   "cell_type": "markdown",
   "metadata": {},
   "source": [
    "# Actual Code"
   ]
  },
  {
   "cell_type": "code",
   "execution_count": 1,
   "metadata": {},
   "outputs": [
    {
     "name": "stdout",
     "output_type": "stream",
     "text": [
      "Output: Not Balanced\n"
     ]
    }
   ],
   "source": [
    "string = '( [ ( ) ] { } ( { [ ( ) ( ) ] ( ) ] ( ) } ) )'\n",
    "\n",
    "#( [ ( ) ] { } ( { [ ( ) ( ) ] ( ) ] ( ) } ) )\n",
    "\n",
    "def balanced_unbalanced(string): \n",
    "    \n",
    "    stack = [] \n",
    "  \n",
    "    # Traversing the string \n",
    "    for char in string: \n",
    "        if char in [\"(\", \"{\", \"[\"]: \n",
    "  \n",
    "            # Push the element in the stack \n",
    "            stack.append(string) \n",
    "        else: \n",
    "  \n",
    "            # IF current character is not opening \n",
    "            # bracket, then it must be closing. \n",
    "            # So stack cannot be empty at this point. \n",
    "            if not stack: \n",
    "                return False\n",
    "            current_char = stack.pop() \n",
    "            if current_char == '(': \n",
    "                if char != \")\": \n",
    "                    return False\n",
    "            if current_char == '{': \n",
    "                if char != \"}\": \n",
    "                    return False\n",
    "            if current_char == '[': \n",
    "                if char != \"]\": \n",
    "                    return False\n",
    "  \n",
    "    # Check Empty Stack \n",
    "    if stack: \n",
    "        return False\n",
    "    return True\n",
    "  \n",
    "   \n",
    "if __name__ == \"__main__\": \n",
    "    \n",
    "  \n",
    "    # Toss the string into the created function \n",
    "    if balanced_unbalanced(string): \n",
    "        print(\"Output: Balanced\") \n",
    "    else: \n",
    "        print(\"Output: Not Balanced\") "
   ]
  },
  {
   "cell_type": "markdown",
   "metadata": {},
   "source": [
    "## So our string = '( [ ( ) ] { } ( { [ ( ) ( ) ] ( ) ] ( ) } ) )' is NOT balanced"
   ]
  },
  {
   "cell_type": "code",
   "execution_count": null,
   "metadata": {},
   "outputs": [],
   "source": []
  }
 ],
 "metadata": {
  "kernelspec": {
   "display_name": "Python 3",
   "language": "python",
   "name": "python3"
  },
  "language_info": {
   "codemirror_mode": {
    "name": "ipython",
    "version": 3
   },
   "file_extension": ".py",
   "mimetype": "text/x-python",
   "name": "python",
   "nbconvert_exporter": "python",
   "pygments_lexer": "ipython3",
   "version": "3.7.9"
  }
 },
 "nbformat": 4,
 "nbformat_minor": 4
}
