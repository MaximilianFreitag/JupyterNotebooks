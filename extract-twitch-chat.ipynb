{
 "cells": [
  {
   "cell_type": "code",
   "execution_count": null,
   "metadata": {},
   "outputs": [],
   "source": [
    "#get oauth token\n",
    "#https://twitchapps.com/tmi/\n"
   ]
  },
  {
   "cell_type": "code",
   "execution_count": 1,
   "metadata": {},
   "outputs": [],
   "source": [
    "#Kernel 3.9.13\n",
    "\n",
    "from twitch_listener import listener\n",
    "\n",
    "\n",
    "# Connect to Twitch\n",
    "bot = listener.connect_twitch('maxmnemo', \n",
    "                             'oauth:rlrprlvmgiv2rihf2b7lya2jo1xfnw', \n",
    "                             '6wk5itntbput1tddde1lo7o1zuym20')\n",
    "\n",
    "# List of channels to connect to\n",
    "channels_to_listen_to = ['trainwreckstv', 'sedyto', 'derkioskoriginal']\n",
    "\n",
    "# Scrape live chat data into raw log files. (Duration is seconds)\n",
    "bot.listen(channels_to_listen_to, duration = 600) \n",
    "\n",
    "# Convert log files into .CSV format\n",
    "bot.parse_logs(timestamp = True)\n",
    "\n",
    "# Generate adjacency matrix\n",
    "bot.adj_matrix(weighted = False, matrix_name = \"streamer_network.csv\")\n"
   ]
  },
  {
   "cell_type": "code",
   "execution_count": null,
   "metadata": {},
   "outputs": [],
   "source": [
    "#remove the column username\n",
    "'''\n",
    "def remove_column(file_name, column_index):\n",
    "    with open(file_name, 'r') as f:\n",
    "        reader = csv.reader(f)\n",
    "        data = list(reader)\n",
    "    with open(file_name, 'w') as f:\n",
    "        writer = csv.writer(f)\n",
    "        for row in data:\n",
    "            del row[column_index]\n",
    "            writer.writerow(row)\n",
    "\n",
    "\n",
    "remove_column('trainwreckstv.csv', 1)\n",
    "'''"
   ]
  },
  {
   "cell_type": "code",
   "execution_count": 122,
   "metadata": {},
   "outputs": [
    {
     "name": "stdout",
     "output_type": "stream",
     "text": [
      "['text', 'username', 'timestamp']\n",
      "['I\\'ll protect ya but Germany is a bit far. when you come back to London I got you lol 😆.  @sedyto\\n\"\\n', 'cagedkaspa', ' 13:38:2']\n",
      "['Loool immer auf Benzos', 'onetwothreefresh', ' 13:38:3']\n",
      "['@ihuntwitches321 But she\\'s just creating problems here. Sedy tells her right now, that she should stop the discussions, everything fine\\n\"\\n', 'm43h', ' 13:38:3']\n",
      "['mEiNunGsFreiHEIt wird auf twitch gerne mal falsch verstanden', 'aiiocas', ' 13:38:3']\n",
      "['Benzo doesn\\'t understand German LUL See his face?\\n\"\\n', 'chokal', ' 13:38:5']\n",
      "['NIYE YOK', 'ryleomatic', ' 13:38:5']\n",
      "['olsun güzel olur izlemesi', 'ryleomatic', ' 13:38:5']\n",
      "['auf twitch in der startseite kurz joseph joestar gesehen darum musste ich jetzt einfach reinschauen yaa widepeepoHappy', 'minikx3', ' 13:39:0']\n",
      "['türkçen çok cute', 'erunar', ' 13:39:0']\n",
      "['heyy hübsche', 'zipeckz', ' 13:39:0']\n",
      "['how many languages do you speak? :O', 'rouwa', ' 13:39:0']\n",
      "['bist du türkin?', 'donelited', ' 13:39:1']\n",
      "['@SedyTo Do you play Genshin or Valorant?', 'helveklikk', ' 13:39:1']\n",
      "['Da fuddelt aber jemand viel am Flaschendeckel rum :D #zwangsneurosen xD', 'reepz_z', ' 13:39:2']\n",
      "['Ich folge dir noch wegen deiner Schönheit', 's04_protox', ' 13:39:2']\n",
      "['i know that word!!  it means shit right?!', 'eightiesmike', ' 13:39:2']\n",
      "['Woher kannst du so toll Englisch? Dein Akzent ist toll :)', 'xwhiteswanx', ' 13:39:2']\n",
      "['haahaha', 'froedddi', ' 13:39:2']\n",
      "['Eyyy madame hahahaha', 'onetwothreefresh', ' 13:39:3']\n",
      "['sedy is even funnier when i cant understand her', 'rotemv3', ' 13:39:3']\n",
      "['sadge ... sedy won´t even fart on me xD', 'thevikingbearde', ' 13:39:4']\n",
      "['Hey Sedy u look preety today. See u with 5.3k Viewers is great keep it up Pog', 'brians__gaming', ' 13:39:5']\n",
      "['Gerne baby', 's04_protox', ' 13:39:5']\n",
      "['Meinungsfreiheit heißt auch nicht das man die Meinung des gegenüber tolerieren muss', 'dat__typ', ' 13:39:5']\n",
      "['was bist von sternzeichen?', 'donelited', ' 13:39:5']\n",
      "['@rotemv3 To be honest, she is truly funny', 'onetwothreefresh', ' 13:39:5']\n",
      "['my german has gotten bad, i barely followed that :-p', 'akumakun1980', ' 13:40:0']\n",
      "['Noch immer unterwegs, Diggi', 'soretid', ' 13:40:2']\n",
      "['GG good day everyone, hope you\\'ll enjoy further streams. Thanks and bye ^^\\n\"\\n', 'kebapspatz', ' 13:40:2']\n",
      "['@m43h It\\'s about curating an experience and don\\'t need to keep all conversations alive.\\n\"\\n', 'ihuntwitches321', ' 13:40:2']\n",
      "['Was ist das eigentlich für ein Beispiel? \"Auf den Tisch scheißen\". Also ich verstehe ja ihr wollt nach euren eigenen Gelüsten hier ist ein \"freies Land\"  so wie es hier schön verkauft wird. Macht ruhig. Aber wenn auf einmal jemand Kopftuch trägt, hört die Meinungsfreiheit und die Gleichberechtigung auf oder was? Hier werden zwei verschiedene Gesellschaften vertreten.', 'verblendete', ' 13:40:2']\n",
      "['bi ayaga kalkip dönsene dünya alem güzellik görsün', 'ryleomatic', ' 13:40:2']\n",
      "['why dont people understand that it’s YOUR HOUSE, so it’s YOUR RULES', 'eightiesmike', ' 13:40:4']\n",
      "['alder ich feier dich :D mach weiter so :D', 'reepz_z', ' 13:40:4']\n",
      "['Na wer wohl', 'soretid', ' 13:40:4']\n",
      "['Ich habe am 17.02 :)', 'lumer04', ' 13:40:4']\n",
      "['sedySip', 'cluepex', ' 13:40:4']\n",
      "['@SedyTo Komm mal ne Runde Hochheim, bisschen Wein trinken und Snobs ärgern ;P hahaha', 'onetwothreefresh', ' 13:40:5']\n",
      "['lol dann aber ganz knapp Fische. Meine das geht am 20.Februar los (bin wassermann)', 'b4lls3y', ' 13:40:5']\n",
      "['fun fact: in deutschland gibt es gar keine absolute meinungsfreiheit wie in den usa. für einige dinge kann man in de bestraft werden', 'aiiocas', ' 13:40:5']\n",
      "['nasi ya', 'ryleomatic', ' 13:41:0']\n",
      "['im off now.. thanks for the stream :) see ya soon Sedy :)', 'schwatvogel', ' 13:41:0']\n",
      "['@eightiesmike in germany we call it : \" hausrecht \" :D', 'waschbaerkreuzung', ' 13:41:0']\n",
      "['amacını anladı knk', 'erunar', ' 13:41:0']\n",
      "['Können Sie sich vorstellen, eines Tages in Amerika zu leben?', 'legendarytales65', ' 13:41:1']\n",
      "['@waschbaerkreuzung lol i wish we had one word for it like that xD', 'eightiesmike', ' 13:41:2']\n",
      "['Jaja das seh ich dir an, ich auch hahaha', 'onetwothreefresh', ' 13:41:3']\n",
      "['@schwatvogel have a goo done', 'chokal', ' 13:41:3']\n",
      "['@ihuntwitches321 @Chokal suggesting to just remove @VeRBLENDETe not gonna get better', 'thevikingbearde', ' 13:41:3']\n",
      "['Do you have a Doggo?', 'thrembu', ' 13:41:3']\n",
      "['@theVikingBearDE Zu tief dieses Niveau. Viel spass noch alleine hier. Statt auf Aussagen einzugehen werden diese gekonnt ignoriert. Da ist es zielführender mit einer Wand zu reden als hier. Intilektuell nicht hoch genug. Schlechte Aussagen incomming.', 'verblendete', ' 13:41:4']\n",
      "['Wein is auf', 'soretid', ' 13:41:4']\n",
      "['absolute meinungsfreiheit gibt\\'s nirgendwo auf der welt\\n\"\\n', 'donelited', ' 13:41:5']\n",
      "['Gibts hier jemanden der Reinsch heisst? reepzzShocked', 'reepz_z', ' 13:41:5']\n",
      "['ask chat i guess lol', 'kebapspatz', ' 13:42:0']\n",
      "['şofdıgdgfd', 'erunar', ' 13:42:0']\n",
      "['oh yeah where’s winsy and abiii? sedyWinston', 'eightiesmike', ' 13:42:1']\n",
      "['\"bozuşuruz bak\"', 'samutknm', ' 13:42:1']\n",
      "['@theVikingBearDE no offense but I\\'m waiting for Sedy to tell us to ban or time out\\n\"\\n', 'chokal', ' 13:42:1']\n",
      "['naja, aber das meiste fällt ja unter \\'dummheit schützt vor strafe nicht\\'\\n\"\\n', 'foxferoxtv', ' 13:42:1']\n",
      "['@Erunar sen yayin ac da sen dön kanki', 'ryleomatic', ' 13:42:1']\n",
      "['what u wanna say', 'one_monster_left', ' 13:42:2']\n",
      "['@SedyTo Abo kannst du schlecht Türkisch? haha :D', 'onetwothreefresh', ' 13:42:2']\n",
      "['Timeout for @VeRBLENDETe please @ihuntwitches321', 'm43h', ' 13:42:2']\n",
      "['@Chokal kk', 'thevikingbearde', ' 13:42:2']\n",
      "['Same Same bei mir mit Albanisch? lol', 'onetwothreefresh', ' 13:42:2']\n",
      "['@VeRBLENDETe du willst es einfach nicht verstehen LUL @ihuntwitches321 just do it', 'cluepex', ' 13:42:3']\n",
      "['LUL LUL', 'brausedaniel', ' 13:42:3']\n",
      "['Oh schau an, noch irgendeine Trulla die im Miniskirt da sitzt und Denkt sie wäre einzigartig, dabei genau so billig wie alle anderen.', 'benjixhh', ' 13:42:3']\n",
      "['yavru ceylan sende isik var', 'ryleomatic', ' 13:42:3']\n",
      "['@ihuntwitches321 <3', 'm43h', ' 13:42:4']\n",
      "['Glaube auch - der reinsch', 'soretid', ' 13:42:4']\n",
      "['@ryleomatic  öyle yapıyım bari ama alet gözükürse eteğin altından ben karışmam', 'erunar', ' 13:42:4']\n",
      "['ASDASD', 'ryleomatic', ' 13:42:5']\n",
      "['siktir ya :D', 'ryleomatic', ' 13:42:5']\n",
      "['bosüdürüsch bah ez', 'magentaoyster', ' 13:42:5']\n",
      "['With the Frontpage wierd ppl come in chat @SedyTo stay cool', 'brians__gaming', ' 13:43:0']\n",
      "['kann jetz au türkisch', 'magentaoyster', ' 13:43:0']\n",
      "['oglum eranur diye erkek ismi mi olur aq', 'ryleomatic', ' 13:43:0']\n",
      "['@benjixhh dann verpiss dich doch', 'dat__typ', ' 13:43:0']\n",
      "['mcroftS', 'buddahzeus', ' 13:43:0']\n",
      "['cxpovjxcpvo', 'erunar', ' 13:43:0']\n",
      "['@benjixhh Digga, die Perle hat Humor und ist Intelligent (scheiss mal auf den mini rock) im Hintergrund ist ein PEPE alter!', 'onetwothreefresh', ' 13:43:1']\n",
      "['erunar btw', 'erunar', ' 13:43:1']\n",
      "['@Cluepex @m43h Sorry a bit slow due having to go through a translator LuL', 'ihuntwitches321', ' 13:43:1']\n",
      "['Und er heißt BENZOS hahaha', 'onetwothreefresh', ' 13:43:1']\n",
      "['mal martin rütter anrufen', 'aiiocas', ' 13:43:2']\n",
      "['mcroftGrr', 'buddahzeus', ' 13:43:2']\n",
      "['will you adopt me', 'waterrox', ' 13:43:3']\n",
      "['Tell me!', 'soretid', ' 13:43:4']\n",
      "['mcroftNotes', 'buddahzeus', ' 13:43:4']\n",
      "['no it was between them lol', 'one_monster_left', ' 13:43:4']\n",
      "['sedyHi sedyAya', 'mr_who_916', ' 13:43:4']\n",
      "['sedy aww im sorry, im glad they have a place to go while you heal up :))', 'eightiesmike', ' 13:43:5']\n",
      "['ich bekomm was ich will und muss micht billig hergeben DU BITCH :D', 'benjixhh', ' 13:43:5']\n",
      "['how you been', 'mr_who_916', ' 13:43:5']\n",
      "['rude', 'waterrox', ' 13:44:0']\n",
      "['wait didn´t we already establish that Sedy has massive Balls under that skirt? xD', 'thevikingbearde', ' 13:44:0']\n",
      "['@Mr_Who_916 sedyHi', 'ihuntwitches321', ' 13:44:0']\n",
      "['bist du eigentlich Deutsch oder Englisch', 'semtey26', ' 13:44:0']\n",
      "['KEKW', 'brians__gaming', ' 13:44:1']\n",
      "['it\\'s going great\\n\"\\n', 'mr_who_916', ' 13:44:1']\n",
      "['isso', 'sir_smokealot__420', ' 13:44:2']\n",
      "['@benjixhh cute', 'cluepex', ' 13:44:2']\n",
      "['oh dear lord 700 more people :o', 'eightiesmike', ' 13:44:2']\n",
      "['lol @benjixhh Keyboard warrior spotted', 'kopite87', ' 13:44:2']\n",
      "['what mic are you using?', 'helveklikk', ' 13:44:2']\n",
      "['@benjixhh ja weil es funktioniert ... kann man eben sogar machen wenn man dumm ist das Ganze ...', 'linkfannr1', ' 13:44:2']\n",
      "['Oh, Krasser tune - die Trulla - oh', 'soretid', ' 13:44:2']\n",
      "['@benjixhh Wenn es dir nicht gefällt halt die Klappe und guck dir jemand anderen an du Holroller.', 'cytox_xotyc', ' 13:44:3']\n",
      "['my whip is a vanquish my bitch is the baddest', 'donuts420glazeit', ' 13:44:3']\n",
      "['Welcome Raiders!! sedyHype Welcome Raiders!! sedyHype Welcome Raiders!! sedyHype Welcome Raiders!! sedyHype Welcome Raiders!! sedyHype Welcome Raiders!! sedyHype Welcome Raiders!! sedyHype Welcome Raiders!! sedyHype', 'ihuntwitches321', ' 13:44:3']\n",
      "['Welcome Raiders!! sedyHype Welcome Raiders!! sedyHype Welcome Raiders!! sedyHype Welcome Raiders!! sedyHype Welcome Raiders!! sedyHype Welcome Raiders!! sedyHype', 'ihuntwitches321', ' 13:44:3']\n",
      "['SEDYYY, I bought my Twitch con ticket !! Are you still going ? :)', 'snivli', ' 13:44:4']\n",
      "['TIT', 'magentaoyster', ' 13:44:4']\n",
      "['reepzzPikahype reepzzPikahype reepzzPikahype reepzzPikahype reepzzPikahype reepzzPikahype reepzzPikahype reepzzPikahype reepzzPikahype reepzzPikahype reepzzPikahype reepzzPikahype reepzzPikahype reepzzPikahype reepzzPikahype reepzzPikahype reepzzPikahype reepzzPikahype reepzzPikahype', 'reepz_z', ' 13:44:5']\n",
      "['Wohoooord', 'soretid', ' 13:44:5']\n",
      "['sedy were they saying you had a peepee???', 'eightiesmike', ' 13:44:5']\n",
      "['sedyDrool', 'retiredd', ' 13:45:0']\n",
      "['Just keep what you are doing! I love how people can not take it.', 'paschasenpai', ' 13:45:0']\n",
      "['Jill is his best friend', 'm43h', ' 13:45:0']\n",
      "['\"So much spare time on your hands because you\\'ve never had a tit in them.\" LUL', 'teajae_dossier', ' 13:45:0']\n",
      "['Tetten!', 'brausedaniel', ' 13:45:0']\n",
      "['ya you tell em queen', 'waterrox', ' 13:45:0']\n",
      "['A raid from an empty channel again', 'chokal', ' 13:45:1']\n",
      "['lol', 'mr_who_916', ' 13:45:1']\n",
      "['autsch hahah', 'b0rnstr0ng', ' 13:45:1']\n",
      "['you just insulted many of the viewers xD but they know anyway LUL', 'donelited', ' 13:45:1']\n",
      "['Schön gesacht', 'soretid', ' 13:45:2']\n",
      "['Empty Channel, 0 Followers', 'ihuntwitches321', ' 13:45:2']\n",
      "['yeah thats a bot raid. Just ignore it', 'cluepex', ' 13:45:2']\n",
      "['@SedyTo nice dress and beautiful today    can u stand up pls  :D ?', 'darkseer3404', ' 13:45:2']\n",
      "['wo hast so gut englisch gelernt?', 'lulkek23', ' 13:45:3']\n",
      "['happens more often recently', 'cluepex', ' 13:45:3']\n",
      "['streamer girls in mini skirt, hallo das ist content, so läuft das leider \"auch\" heutzutage.. aber nicht nur, siehe Asmongold/Gronkh :)', 'bladepk', ' 13:45:3']\n",
      "['hahahahahahhahaha', 'vahitu2', ' 13:45:4']\n",
      "['@Helveklikk Audio Technica AT2035 is her mic', 'chokal', ' 13:45:4']\n",
      "['@Chokal @Cluepex oh whats the point of bot raids?  :o', 'eightiesmike', ' 13:45:5']\n",
      "['ich würde das gar nicht vorlesen @SedyTo', 'mateinger', ' 13:45:5']\n",
      "['@SedyTo Ey ich guck 2 streams hier vllt 1 mal in paar Monaten, und jedes mal ärger ich mich über startseite weil mir iwelche e-girls angezegt werden. Aber du bist funky fresh lustig. Lass dich nicht ärgern ^^', 'onetwothreefresh', ' 13:45:5']\n",
      "['Du hast ne schöne stimme Sedy :3', 'beekins', ' 13:45:5']\n",
      "['D:', 'bloolooloo', ' 13:45:5']\n",
      "['@darkseer3404 What if she wants to sit down and talk?', 'ihuntwitches321', ' 13:46:0']\n",
      "['@SedyTo one suggested other to stream, the other said his tool would show if he wore a mini skirt. They weren\\'t insulting you.\\n\"\\n', 'one_monster_left', ' 13:46:0']\n",
      "['Btw ihr seid alle ihre Sklaven und nicht andersherum lol', 'onetwothreefresh', ' 13:46:0']\n",
      "['Hajt ciao ciao viel spaß noch', 'onetwothreefresh', ' 13:46:1']\n",
      "['your nose crooked as fck', 'shadowcst23', ' 13:46:1']\n",
      "['@eightiesmike no point at all. Just fake raiding with lots of people i guess', 'cluepex', ' 13:46:1']\n",
      "['SMAASH!!', 'zetokid', ' 13:46:1']\n",
      "['how about your balls sedy mmh', 'kastorfbreath', ' 13:46:1']\n",
      "['Wann  OF?', 'snacklem0re', ' 13:46:2']\n",
      "['Your languages skill is really awesome.', 'buddahzeus', ' 13:46:2']\n",
      "['But i i was workin on dem', 'soretid', ' 13:46:2']\n",
      "['Everyone love boobs <3', 'reepz_z', ' 13:46:2']\n",
      "['ist dein vater oder mutter türkisch?', 'donelited', ' 13:46:2']\n",
      "['@eightiesmike to annoy a streamer with the alerts and also, they think Twitch is gonna punish the streamer for following bots LUL', 'chokal', ' 13:46:2']\n",
      "['no thats ur brain', 'doylebrunson', ' 13:46:3']\n",
      "['@snacklem0re No OF', 'ihuntwitches321', ' 13:46:3']\n",
      "['nah, i\\'m lurking cuz i\\'m cooking LUL\\n\"\\n', 'xeld0r', ' 13:46:4']\n",
      "['can u speak turkish or is it just, that 1 parent is turkish?  @SedyTo', 'vahitu2', ' 13:46:4']\n",
      "['it\\'s a chat off\\n\"\\n', 'bloolooloo', ' 13:46:4']\n",
      "['I tabbed back in on the your balls part xD', 'mrbubblekins', ' 13:46:5']\n",
      "['@Chokal thats such a weird thing to go out of their way to do lol xP', 'eightiesmike', ' 13:47:0']\n",
      "['Mein Englisch ist so schlecht, das sogar die Erde sich noch schneller dreht, damit sie meinen Englisch nicht hören müssen. RIP', 'f1inal', ' 13:47:0']\n",
      "['weird flex Kappa', 'mateinger', ' 13:47:0']\n",
      "['sedy you’re an inspiration :3', 'eightiesmike', ' 13:47:0']\n",
      "['LUL LUL LUL', 'brausedaniel', ' 13:47:0']\n",
      "['Why  no OF?', 'snacklem0re', ' 13:47:1']\n",
      "['@sedyto I slept. thank you!', 'wrath0r', ' 13:47:1']\n",
      "['Two?', 'soretid', ' 13:47:1']\n",
      "['wie machst dus dass du von den schizo medikamenten ned zunimmst?', 'magentaoyster', ' 13:47:1']\n",
      "['and you speak english', 'doylebrunson', ' 13:47:2']\n",
      "['@F1iNaL same :)', 'dat__typ', ' 13:47:2']\n",
      "['@eightiesmike Script kiddies thinking they\\'re hacking the Pentagon or some shit KEKW\\n\"\\n', 'chokal', ' 13:47:2']\n",
      "['@snacklem0re why even ask?', 'ihuntwitches321', ' 13:47:2']\n",
      "['dude stop giving them attention its not worth theyre probably enjoying being degraded anyway KEKW', 'donuts420glazeit', ' 13:47:3']\n",
      "['Sedy is the big sister i always wanted', 'its_allure', ' 13:47:3']\n",
      "['Hello', 'gunsandknives', ' 13:47:3']\n",
      "['Looked at ur insta and it way hotter than i expected', 'brausedaniel', ' 13:47:4']\n",
      "['smash', 'zetokid', ' 13:47:4']\n",
      "['@GunsAndKnives sedyHi', 'ihuntwitches321', ' 13:47:4']\n",
      "['Mach weiter so! Bin mal weg. Nächste quatsch ich dich dann einfach mal an :D und schau nicht so grimmig ;)', 'papiyoda__', ' 13:47:4']\n",
      "['KEKW', 'vahitu2', ' 13:47:4']\n",
      "['man the german twitch community looks very friendly reading chat', 'penepthefirst', ' 13:47:4']\n",
      "['love your T- shirt', 'astravus', ' 13:47:4']\n",
      "['gerne streiten? weird kink  Kappa', 'everytimetii', ' 13:47:5']\n",
      "['ich bin ein mann', 'schwablinear', ' 13:47:5']\n",
      "['Nemesis Fan? Awesome <3', 'mari_morrow', ' 13:48:1']\n",
      "['Sedys inner German \"I´ll argue the shit out of you back and forth bitch!\"', 'thevikingbearde', ' 13:48:1']\n",
      "['@schwablinear Weird flex bro', 'm43h', ' 13:48:1']\n",
      "['@Chokal lol SO 37337!  theyre so neat', 'eightiesmike', ' 13:48:1']\n",
      "['du bist eine schon frau', 'schwablinear', ' 13:48:1']\n"
     ]
    }
   ],
   "source": [
    "import csv\n",
    "import re\n",
    "import matplotlib.pyplot as plt\n",
    "import datetime\n",
    "\n",
    "\n",
    "#Enter the name of the streamer from the URL\n",
    "streamer = 'sedyto'\n",
    "\n",
    "\n",
    "laughs = []\n",
    "timestamps = []\n",
    "all_messages = []\n",
    "authors = []\n",
    "\n",
    "\n",
    "def remove_time(string):\n",
    "    return string[:8]\n",
    "\n",
    "\n",
    "today = datetime.datetime.now().strftime(\"%Y-%m-%d\")\n",
    "\n",
    "\n",
    "with open(f'{streamer}.csv') as f:\n",
    "    reader = csv.reader(f)\n",
    "    for row in reader:\n",
    "        \n",
    "        try:\n",
    "            #remove if messsage starts with !\n",
    "            if row[0].startswith('!') or 'https://' in row[0] or row[1].startswith('Streamlabs') or row[1].startswith('streamlabs') or 'bot' in row[1]:\n",
    "                continue\n",
    "\n",
    "            #only add unique messages\n",
    "            if row[1] not in authors:\n",
    "                authors.append(row[1])\n",
    "                \n",
    "                \n",
    "            #replace 2022-05-31 with a space\n",
    "            if today in row[2]:\n",
    "                row[2] = row[2].replace(today, '')\n",
    "                row[2] = remove_time(row[2])\n",
    "\n",
    "\n",
    "                #append row to laughs\n",
    "                timestamps.append(row[2])\n",
    "\n",
    "                if \"haha\" in row[0].lower() or \"LUL\" in row[0].lower() or \"LUL\" in row[0].lower() or \":D\" in row[0].lower() or \"xd\" in row[0].lower() or \"OMEGALUL\" in row[0].lower():\n",
    "                    laughs.append(row[2])\n",
    "            \n",
    "            \n",
    "        except:\n",
    "            pass\n",
    "            \n",
    "        all_messages.append(row[0])\n",
    "\n",
    "        print(row)\n",
    "        \n",
    "\n",
    "\n",
    "  \n",
    "\n",
    "            \n",
    "\n"
   ]
  },
  {
   "cell_type": "code",
   "execution_count": null,
   "metadata": {},
   "outputs": [],
   "source": []
  },
  {
   "cell_type": "code",
   "execution_count": 123,
   "metadata": {},
   "outputs": [
    {
     "name": "stdout",
     "output_type": "stream",
     "text": [
      "Es wurden 193 Nachrichten geschrieben\n",
      "Es haben 78 User geschrieben\n",
      "40.41% ...engagement rate. (100% = Jeder user hat eine Nachricht geschrieben)\n"
     ]
    },
    {
     "data": {
      "application/vnd.plotly.v1+json": {
       "config": {
        "plotlyServerURL": "https://plot.ly"
       },
       "data": [
        {
         "alignmentgroup": "True",
         "hovertemplate": "x=%{x}<br>y=%{y}<extra></extra>",
         "legendgroup": "",
         "marker": {
          "color": "#636efa",
          "pattern": {
           "shape": ""
          }
         },
         "name": "",
         "offsetgroup": "",
         "orientation": "v",
         "showlegend": false,
         "textposition": "auto",
         "type": "bar",
         "x": [
          "KEKW",
          "text",
          "I'll protect ya but Germany is a bit far. when you come back to London I got you lol 😆.  @sedyto\n\"\n",
          "Loool immer auf Benzos",
          "@ihuntwitches321 But she's just creating problems here. Sedy tells her right now, that she should stop the discussions, everything fine\n\"\n",
          "mEiNunGsFreiHEIt wird auf twitch gerne mal falsch verstanden",
          "Benzo doesn't understand German LUL See his face?\n\"\n",
          "NIYE YOK",
          "olsun güzel olur izlemesi",
          "auf twitch in der startseite kurz joseph joestar gesehen darum musste ich jetzt einfach reinschauen yaa widepeepoHappy",
          "türkçen çok cute",
          "heyy hübsche",
          "how many languages do you speak? :O",
          "bist du türkin?",
          "@SedyTo Do you play Genshin or Valorant?",
          "Da fuddelt aber jemand viel am Flaschendeckel rum :D #zwangsneurosen xD",
          "Ich folge dir noch wegen deiner Schönheit",
          "i know that word!!  it means shit right?!",
          "Woher kannst du so toll Englisch? Dein Akzent ist toll :)",
          "haahaha"
         ],
         "xaxis": "x",
         "y": [
          2,
          1,
          1,
          1,
          1,
          1,
          1,
          1,
          1,
          1,
          1,
          1,
          1,
          1,
          1,
          1,
          1,
          1,
          1,
          1
         ],
         "yaxis": "y"
        }
       ],
       "layout": {
        "barmode": "relative",
        "legend": {
         "tracegroupgap": 0
        },
        "margin": {
         "t": 60
        },
        "template": {
         "data": {
          "bar": [
           {
            "error_x": {
             "color": "#2a3f5f"
            },
            "error_y": {
             "color": "#2a3f5f"
            },
            "marker": {
             "line": {
              "color": "#E5ECF6",
              "width": 0.5
             },
             "pattern": {
              "fillmode": "overlay",
              "size": 10,
              "solidity": 0.2
             }
            },
            "type": "bar"
           }
          ],
          "barpolar": [
           {
            "marker": {
             "line": {
              "color": "#E5ECF6",
              "width": 0.5
             },
             "pattern": {
              "fillmode": "overlay",
              "size": 10,
              "solidity": 0.2
             }
            },
            "type": "barpolar"
           }
          ],
          "carpet": [
           {
            "aaxis": {
             "endlinecolor": "#2a3f5f",
             "gridcolor": "white",
             "linecolor": "white",
             "minorgridcolor": "white",
             "startlinecolor": "#2a3f5f"
            },
            "baxis": {
             "endlinecolor": "#2a3f5f",
             "gridcolor": "white",
             "linecolor": "white",
             "minorgridcolor": "white",
             "startlinecolor": "#2a3f5f"
            },
            "type": "carpet"
           }
          ],
          "choropleth": [
           {
            "colorbar": {
             "outlinewidth": 0,
             "ticks": ""
            },
            "type": "choropleth"
           }
          ],
          "contour": [
           {
            "colorbar": {
             "outlinewidth": 0,
             "ticks": ""
            },
            "colorscale": [
             [
              0,
              "#0d0887"
             ],
             [
              0.1111111111111111,
              "#46039f"
             ],
             [
              0.2222222222222222,
              "#7201a8"
             ],
             [
              0.3333333333333333,
              "#9c179e"
             ],
             [
              0.4444444444444444,
              "#bd3786"
             ],
             [
              0.5555555555555556,
              "#d8576b"
             ],
             [
              0.6666666666666666,
              "#ed7953"
             ],
             [
              0.7777777777777778,
              "#fb9f3a"
             ],
             [
              0.8888888888888888,
              "#fdca26"
             ],
             [
              1,
              "#f0f921"
             ]
            ],
            "type": "contour"
           }
          ],
          "contourcarpet": [
           {
            "colorbar": {
             "outlinewidth": 0,
             "ticks": ""
            },
            "type": "contourcarpet"
           }
          ],
          "heatmap": [
           {
            "colorbar": {
             "outlinewidth": 0,
             "ticks": ""
            },
            "colorscale": [
             [
              0,
              "#0d0887"
             ],
             [
              0.1111111111111111,
              "#46039f"
             ],
             [
              0.2222222222222222,
              "#7201a8"
             ],
             [
              0.3333333333333333,
              "#9c179e"
             ],
             [
              0.4444444444444444,
              "#bd3786"
             ],
             [
              0.5555555555555556,
              "#d8576b"
             ],
             [
              0.6666666666666666,
              "#ed7953"
             ],
             [
              0.7777777777777778,
              "#fb9f3a"
             ],
             [
              0.8888888888888888,
              "#fdca26"
             ],
             [
              1,
              "#f0f921"
             ]
            ],
            "type": "heatmap"
           }
          ],
          "heatmapgl": [
           {
            "colorbar": {
             "outlinewidth": 0,
             "ticks": ""
            },
            "colorscale": [
             [
              0,
              "#0d0887"
             ],
             [
              0.1111111111111111,
              "#46039f"
             ],
             [
              0.2222222222222222,
              "#7201a8"
             ],
             [
              0.3333333333333333,
              "#9c179e"
             ],
             [
              0.4444444444444444,
              "#bd3786"
             ],
             [
              0.5555555555555556,
              "#d8576b"
             ],
             [
              0.6666666666666666,
              "#ed7953"
             ],
             [
              0.7777777777777778,
              "#fb9f3a"
             ],
             [
              0.8888888888888888,
              "#fdca26"
             ],
             [
              1,
              "#f0f921"
             ]
            ],
            "type": "heatmapgl"
           }
          ],
          "histogram": [
           {
            "marker": {
             "pattern": {
              "fillmode": "overlay",
              "size": 10,
              "solidity": 0.2
             }
            },
            "type": "histogram"
           }
          ],
          "histogram2d": [
           {
            "colorbar": {
             "outlinewidth": 0,
             "ticks": ""
            },
            "colorscale": [
             [
              0,
              "#0d0887"
             ],
             [
              0.1111111111111111,
              "#46039f"
             ],
             [
              0.2222222222222222,
              "#7201a8"
             ],
             [
              0.3333333333333333,
              "#9c179e"
             ],
             [
              0.4444444444444444,
              "#bd3786"
             ],
             [
              0.5555555555555556,
              "#d8576b"
             ],
             [
              0.6666666666666666,
              "#ed7953"
             ],
             [
              0.7777777777777778,
              "#fb9f3a"
             ],
             [
              0.8888888888888888,
              "#fdca26"
             ],
             [
              1,
              "#f0f921"
             ]
            ],
            "type": "histogram2d"
           }
          ],
          "histogram2dcontour": [
           {
            "colorbar": {
             "outlinewidth": 0,
             "ticks": ""
            },
            "colorscale": [
             [
              0,
              "#0d0887"
             ],
             [
              0.1111111111111111,
              "#46039f"
             ],
             [
              0.2222222222222222,
              "#7201a8"
             ],
             [
              0.3333333333333333,
              "#9c179e"
             ],
             [
              0.4444444444444444,
              "#bd3786"
             ],
             [
              0.5555555555555556,
              "#d8576b"
             ],
             [
              0.6666666666666666,
              "#ed7953"
             ],
             [
              0.7777777777777778,
              "#fb9f3a"
             ],
             [
              0.8888888888888888,
              "#fdca26"
             ],
             [
              1,
              "#f0f921"
             ]
            ],
            "type": "histogram2dcontour"
           }
          ],
          "mesh3d": [
           {
            "colorbar": {
             "outlinewidth": 0,
             "ticks": ""
            },
            "type": "mesh3d"
           }
          ],
          "parcoords": [
           {
            "line": {
             "colorbar": {
              "outlinewidth": 0,
              "ticks": ""
             }
            },
            "type": "parcoords"
           }
          ],
          "pie": [
           {
            "automargin": true,
            "type": "pie"
           }
          ],
          "scatter": [
           {
            "marker": {
             "colorbar": {
              "outlinewidth": 0,
              "ticks": ""
             }
            },
            "type": "scatter"
           }
          ],
          "scatter3d": [
           {
            "line": {
             "colorbar": {
              "outlinewidth": 0,
              "ticks": ""
             }
            },
            "marker": {
             "colorbar": {
              "outlinewidth": 0,
              "ticks": ""
             }
            },
            "type": "scatter3d"
           }
          ],
          "scattercarpet": [
           {
            "marker": {
             "colorbar": {
              "outlinewidth": 0,
              "ticks": ""
             }
            },
            "type": "scattercarpet"
           }
          ],
          "scattergeo": [
           {
            "marker": {
             "colorbar": {
              "outlinewidth": 0,
              "ticks": ""
             }
            },
            "type": "scattergeo"
           }
          ],
          "scattergl": [
           {
            "marker": {
             "colorbar": {
              "outlinewidth": 0,
              "ticks": ""
             }
            },
            "type": "scattergl"
           }
          ],
          "scattermapbox": [
           {
            "marker": {
             "colorbar": {
              "outlinewidth": 0,
              "ticks": ""
             }
            },
            "type": "scattermapbox"
           }
          ],
          "scatterpolar": [
           {
            "marker": {
             "colorbar": {
              "outlinewidth": 0,
              "ticks": ""
             }
            },
            "type": "scatterpolar"
           }
          ],
          "scatterpolargl": [
           {
            "marker": {
             "colorbar": {
              "outlinewidth": 0,
              "ticks": ""
             }
            },
            "type": "scatterpolargl"
           }
          ],
          "scatterternary": [
           {
            "marker": {
             "colorbar": {
              "outlinewidth": 0,
              "ticks": ""
             }
            },
            "type": "scatterternary"
           }
          ],
          "surface": [
           {
            "colorbar": {
             "outlinewidth": 0,
             "ticks": ""
            },
            "colorscale": [
             [
              0,
              "#0d0887"
             ],
             [
              0.1111111111111111,
              "#46039f"
             ],
             [
              0.2222222222222222,
              "#7201a8"
             ],
             [
              0.3333333333333333,
              "#9c179e"
             ],
             [
              0.4444444444444444,
              "#bd3786"
             ],
             [
              0.5555555555555556,
              "#d8576b"
             ],
             [
              0.6666666666666666,
              "#ed7953"
             ],
             [
              0.7777777777777778,
              "#fb9f3a"
             ],
             [
              0.8888888888888888,
              "#fdca26"
             ],
             [
              1,
              "#f0f921"
             ]
            ],
            "type": "surface"
           }
          ],
          "table": [
           {
            "cells": {
             "fill": {
              "color": "#EBF0F8"
             },
             "line": {
              "color": "white"
             }
            },
            "header": {
             "fill": {
              "color": "#C8D4E3"
             },
             "line": {
              "color": "white"
             }
            },
            "type": "table"
           }
          ]
         },
         "layout": {
          "annotationdefaults": {
           "arrowcolor": "#2a3f5f",
           "arrowhead": 0,
           "arrowwidth": 1
          },
          "autotypenumbers": "strict",
          "coloraxis": {
           "colorbar": {
            "outlinewidth": 0,
            "ticks": ""
           }
          },
          "colorscale": {
           "diverging": [
            [
             0,
             "#8e0152"
            ],
            [
             0.1,
             "#c51b7d"
            ],
            [
             0.2,
             "#de77ae"
            ],
            [
             0.3,
             "#f1b6da"
            ],
            [
             0.4,
             "#fde0ef"
            ],
            [
             0.5,
             "#f7f7f7"
            ],
            [
             0.6,
             "#e6f5d0"
            ],
            [
             0.7,
             "#b8e186"
            ],
            [
             0.8,
             "#7fbc41"
            ],
            [
             0.9,
             "#4d9221"
            ],
            [
             1,
             "#276419"
            ]
           ],
           "sequential": [
            [
             0,
             "#0d0887"
            ],
            [
             0.1111111111111111,
             "#46039f"
            ],
            [
             0.2222222222222222,
             "#7201a8"
            ],
            [
             0.3333333333333333,
             "#9c179e"
            ],
            [
             0.4444444444444444,
             "#bd3786"
            ],
            [
             0.5555555555555556,
             "#d8576b"
            ],
            [
             0.6666666666666666,
             "#ed7953"
            ],
            [
             0.7777777777777778,
             "#fb9f3a"
            ],
            [
             0.8888888888888888,
             "#fdca26"
            ],
            [
             1,
             "#f0f921"
            ]
           ],
           "sequentialminus": [
            [
             0,
             "#0d0887"
            ],
            [
             0.1111111111111111,
             "#46039f"
            ],
            [
             0.2222222222222222,
             "#7201a8"
            ],
            [
             0.3333333333333333,
             "#9c179e"
            ],
            [
             0.4444444444444444,
             "#bd3786"
            ],
            [
             0.5555555555555556,
             "#d8576b"
            ],
            [
             0.6666666666666666,
             "#ed7953"
            ],
            [
             0.7777777777777778,
             "#fb9f3a"
            ],
            [
             0.8888888888888888,
             "#fdca26"
            ],
            [
             1,
             "#f0f921"
            ]
           ]
          },
          "colorway": [
           "#636efa",
           "#EF553B",
           "#00cc96",
           "#ab63fa",
           "#FFA15A",
           "#19d3f3",
           "#FF6692",
           "#B6E880",
           "#FF97FF",
           "#FECB52"
          ],
          "font": {
           "color": "#2a3f5f"
          },
          "geo": {
           "bgcolor": "white",
           "lakecolor": "white",
           "landcolor": "#E5ECF6",
           "showlakes": true,
           "showland": true,
           "subunitcolor": "white"
          },
          "hoverlabel": {
           "align": "left"
          },
          "hovermode": "closest",
          "mapbox": {
           "style": "light"
          },
          "paper_bgcolor": "white",
          "plot_bgcolor": "#E5ECF6",
          "polar": {
           "angularaxis": {
            "gridcolor": "white",
            "linecolor": "white",
            "ticks": ""
           },
           "bgcolor": "#E5ECF6",
           "radialaxis": {
            "gridcolor": "white",
            "linecolor": "white",
            "ticks": ""
           }
          },
          "scene": {
           "xaxis": {
            "backgroundcolor": "#E5ECF6",
            "gridcolor": "white",
            "gridwidth": 2,
            "linecolor": "white",
            "showbackground": true,
            "ticks": "",
            "zerolinecolor": "white"
           },
           "yaxis": {
            "backgroundcolor": "#E5ECF6",
            "gridcolor": "white",
            "gridwidth": 2,
            "linecolor": "white",
            "showbackground": true,
            "ticks": "",
            "zerolinecolor": "white"
           },
           "zaxis": {
            "backgroundcolor": "#E5ECF6",
            "gridcolor": "white",
            "gridwidth": 2,
            "linecolor": "white",
            "showbackground": true,
            "ticks": "",
            "zerolinecolor": "white"
           }
          },
          "shapedefaults": {
           "line": {
            "color": "#2a3f5f"
           }
          },
          "ternary": {
           "aaxis": {
            "gridcolor": "white",
            "linecolor": "white",
            "ticks": ""
           },
           "baxis": {
            "gridcolor": "white",
            "linecolor": "white",
            "ticks": ""
           },
           "bgcolor": "#E5ECF6",
           "caxis": {
            "gridcolor": "white",
            "linecolor": "white",
            "ticks": ""
           }
          },
          "title": {
           "x": 0.05
          },
          "xaxis": {
           "automargin": true,
           "gridcolor": "white",
           "linecolor": "white",
           "ticks": "",
           "title": {
            "standoff": 15
           },
           "zerolinecolor": "white",
           "zerolinewidth": 2
          },
          "yaxis": {
           "automargin": true,
           "gridcolor": "white",
           "linecolor": "white",
           "ticks": "",
           "title": {
            "standoff": 15
           },
           "zerolinecolor": "white",
           "zerolinewidth": 2
          }
         }
        },
        "xaxis": {
         "anchor": "y",
         "domain": [
          0,
          1
         ],
         "title": {
          "text": "x"
         }
        },
        "yaxis": {
         "anchor": "x",
         "domain": [
          0,
          1
         ],
         "title": {
          "text": "y"
         }
        }
       }
      }
     },
     "metadata": {},
     "output_type": "display_data"
    }
   ],
   "source": [
    "import itertools\n",
    "from collections import Counter\n",
    "from wordcloud import WordCloud\n",
    "import plotly.express as px\n",
    "\n",
    "\n",
    "print(f'Es wurden {len(all_messages)} Nachrichten geschrieben')  \n",
    "print(f'Es haben {len(authors)} User geschrieben')\n",
    "#print(f'{round(len(all_messages) / len(authors), 3)} ...ist der Lurker Index.')\n",
    "print(f'{round( len(authors) / len(all_messages) * 100, 2)}' + '%' + ' ...engagement rate. (100% = Jeder user hat eine Nachricht geschrieben)')\n",
    "\n",
    "\n",
    "\n",
    "#MOST WORDS COUNTER\n",
    "most_common_words = Counter(all_messages).most_common(20)\n",
    "#PLOT\n",
    "fig = px.bar(x=[word[0] for word in most_common_words], y=[word[1] for word in most_common_words])\n",
    "fig.show()\n",
    "\n",
    "\n",
    "\n",
    "\n"
   ]
  },
  {
   "cell_type": "code",
   "execution_count": null,
   "metadata": {},
   "outputs": [],
   "source": []
  },
  {
   "cell_type": "code",
   "execution_count": null,
   "metadata": {},
   "outputs": [],
   "source": []
  },
  {
   "cell_type": "code",
   "execution_count": 124,
   "metadata": {},
   "outputs": [
    {
     "data": {
      "application/vnd.plotly.v1+json": {
       "config": {
        "plotlyServerURL": "https://plot.ly"
       },
       "data": [
        {
         "type": "histogram",
         "x": [
          " 13:38:2",
          " 13:38:3",
          " 13:38:3",
          " 13:38:3",
          " 13:38:5",
          " 13:38:5",
          " 13:38:5",
          " 13:39:0",
          " 13:39:0",
          " 13:39:0",
          " 13:39:0",
          " 13:39:1",
          " 13:39:1",
          " 13:39:2",
          " 13:39:2",
          " 13:39:2",
          " 13:39:2",
          " 13:39:2",
          " 13:39:3",
          " 13:39:3",
          " 13:39:4",
          " 13:39:5",
          " 13:39:5",
          " 13:39:5",
          " 13:39:5",
          " 13:39:5",
          " 13:40:0",
          " 13:40:2",
          " 13:40:2",
          " 13:40:2",
          " 13:40:2",
          " 13:40:2",
          " 13:40:4",
          " 13:40:4",
          " 13:40:4",
          " 13:40:4",
          " 13:40:4",
          " 13:40:5",
          " 13:40:5",
          " 13:40:5",
          " 13:41:0",
          " 13:41:0",
          " 13:41:0",
          " 13:41:0",
          " 13:41:1",
          " 13:41:2",
          " 13:41:3",
          " 13:41:3",
          " 13:41:3",
          " 13:41:3",
          " 13:41:4",
          " 13:41:4",
          " 13:41:5",
          " 13:41:5",
          " 13:42:0",
          " 13:42:0",
          " 13:42:1",
          " 13:42:1",
          " 13:42:1",
          " 13:42:1",
          " 13:42:1",
          " 13:42:2",
          " 13:42:2",
          " 13:42:2",
          " 13:42:2",
          " 13:42:2",
          " 13:42:3",
          " 13:42:3",
          " 13:42:3",
          " 13:42:3",
          " 13:42:4",
          " 13:42:4",
          " 13:42:4",
          " 13:42:5",
          " 13:42:5",
          " 13:42:5",
          " 13:43:0",
          " 13:43:0",
          " 13:43:0",
          " 13:43:0",
          " 13:43:0",
          " 13:43:0",
          " 13:43:1",
          " 13:43:1",
          " 13:43:1",
          " 13:43:1",
          " 13:43:2",
          " 13:43:2",
          " 13:43:3",
          " 13:43:4",
          " 13:43:4",
          " 13:43:4",
          " 13:43:4",
          " 13:43:5",
          " 13:43:5",
          " 13:43:5",
          " 13:44:0",
          " 13:44:0",
          " 13:44:0",
          " 13:44:0",
          " 13:44:1",
          " 13:44:1",
          " 13:44:2",
          " 13:44:2",
          " 13:44:2",
          " 13:44:2",
          " 13:44:2",
          " 13:44:2",
          " 13:44:2",
          " 13:44:3",
          " 13:44:3",
          " 13:44:3",
          " 13:44:3",
          " 13:44:4",
          " 13:44:4",
          " 13:44:5",
          " 13:44:5",
          " 13:44:5",
          " 13:45:0",
          " 13:45:0",
          " 13:45:0",
          " 13:45:0",
          " 13:45:0",
          " 13:45:0",
          " 13:45:1",
          " 13:45:1",
          " 13:45:1",
          " 13:45:1",
          " 13:45:2",
          " 13:45:2",
          " 13:45:2",
          " 13:45:2",
          " 13:45:3",
          " 13:45:3",
          " 13:45:3",
          " 13:45:4",
          " 13:45:4",
          " 13:45:5",
          " 13:45:5",
          " 13:45:5",
          " 13:45:5",
          " 13:45:5",
          " 13:46:0",
          " 13:46:0",
          " 13:46:0",
          " 13:46:1",
          " 13:46:1",
          " 13:46:1",
          " 13:46:1",
          " 13:46:1",
          " 13:46:2",
          " 13:46:2",
          " 13:46:2",
          " 13:46:2",
          " 13:46:2",
          " 13:46:2",
          " 13:46:3",
          " 13:46:3",
          " 13:46:4",
          " 13:46:4",
          " 13:46:4",
          " 13:46:5",
          " 13:47:0",
          " 13:47:0",
          " 13:47:0",
          " 13:47:0",
          " 13:47:0",
          " 13:47:1",
          " 13:47:1",
          " 13:47:1",
          " 13:47:1",
          " 13:47:2",
          " 13:47:2",
          " 13:47:2",
          " 13:47:2",
          " 13:47:3",
          " 13:47:3",
          " 13:47:3",
          " 13:47:4",
          " 13:47:4",
          " 13:47:4",
          " 13:47:4",
          " 13:47:4",
          " 13:47:4",
          " 13:47:4",
          " 13:47:5",
          " 13:47:5",
          " 13:48:1",
          " 13:48:1",
          " 13:48:1",
          " 13:48:1",
          " 13:48:1"
         ]
        }
       ],
       "layout": {
        "template": {
         "data": {
          "bar": [
           {
            "error_x": {
             "color": "#2a3f5f"
            },
            "error_y": {
             "color": "#2a3f5f"
            },
            "marker": {
             "line": {
              "color": "#E5ECF6",
              "width": 0.5
             },
             "pattern": {
              "fillmode": "overlay",
              "size": 10,
              "solidity": 0.2
             }
            },
            "type": "bar"
           }
          ],
          "barpolar": [
           {
            "marker": {
             "line": {
              "color": "#E5ECF6",
              "width": 0.5
             },
             "pattern": {
              "fillmode": "overlay",
              "size": 10,
              "solidity": 0.2
             }
            },
            "type": "barpolar"
           }
          ],
          "carpet": [
           {
            "aaxis": {
             "endlinecolor": "#2a3f5f",
             "gridcolor": "white",
             "linecolor": "white",
             "minorgridcolor": "white",
             "startlinecolor": "#2a3f5f"
            },
            "baxis": {
             "endlinecolor": "#2a3f5f",
             "gridcolor": "white",
             "linecolor": "white",
             "minorgridcolor": "white",
             "startlinecolor": "#2a3f5f"
            },
            "type": "carpet"
           }
          ],
          "choropleth": [
           {
            "colorbar": {
             "outlinewidth": 0,
             "ticks": ""
            },
            "type": "choropleth"
           }
          ],
          "contour": [
           {
            "colorbar": {
             "outlinewidth": 0,
             "ticks": ""
            },
            "colorscale": [
             [
              0,
              "#0d0887"
             ],
             [
              0.1111111111111111,
              "#46039f"
             ],
             [
              0.2222222222222222,
              "#7201a8"
             ],
             [
              0.3333333333333333,
              "#9c179e"
             ],
             [
              0.4444444444444444,
              "#bd3786"
             ],
             [
              0.5555555555555556,
              "#d8576b"
             ],
             [
              0.6666666666666666,
              "#ed7953"
             ],
             [
              0.7777777777777778,
              "#fb9f3a"
             ],
             [
              0.8888888888888888,
              "#fdca26"
             ],
             [
              1,
              "#f0f921"
             ]
            ],
            "type": "contour"
           }
          ],
          "contourcarpet": [
           {
            "colorbar": {
             "outlinewidth": 0,
             "ticks": ""
            },
            "type": "contourcarpet"
           }
          ],
          "heatmap": [
           {
            "colorbar": {
             "outlinewidth": 0,
             "ticks": ""
            },
            "colorscale": [
             [
              0,
              "#0d0887"
             ],
             [
              0.1111111111111111,
              "#46039f"
             ],
             [
              0.2222222222222222,
              "#7201a8"
             ],
             [
              0.3333333333333333,
              "#9c179e"
             ],
             [
              0.4444444444444444,
              "#bd3786"
             ],
             [
              0.5555555555555556,
              "#d8576b"
             ],
             [
              0.6666666666666666,
              "#ed7953"
             ],
             [
              0.7777777777777778,
              "#fb9f3a"
             ],
             [
              0.8888888888888888,
              "#fdca26"
             ],
             [
              1,
              "#f0f921"
             ]
            ],
            "type": "heatmap"
           }
          ],
          "heatmapgl": [
           {
            "colorbar": {
             "outlinewidth": 0,
             "ticks": ""
            },
            "colorscale": [
             [
              0,
              "#0d0887"
             ],
             [
              0.1111111111111111,
              "#46039f"
             ],
             [
              0.2222222222222222,
              "#7201a8"
             ],
             [
              0.3333333333333333,
              "#9c179e"
             ],
             [
              0.4444444444444444,
              "#bd3786"
             ],
             [
              0.5555555555555556,
              "#d8576b"
             ],
             [
              0.6666666666666666,
              "#ed7953"
             ],
             [
              0.7777777777777778,
              "#fb9f3a"
             ],
             [
              0.8888888888888888,
              "#fdca26"
             ],
             [
              1,
              "#f0f921"
             ]
            ],
            "type": "heatmapgl"
           }
          ],
          "histogram": [
           {
            "marker": {
             "pattern": {
              "fillmode": "overlay",
              "size": 10,
              "solidity": 0.2
             }
            },
            "type": "histogram"
           }
          ],
          "histogram2d": [
           {
            "colorbar": {
             "outlinewidth": 0,
             "ticks": ""
            },
            "colorscale": [
             [
              0,
              "#0d0887"
             ],
             [
              0.1111111111111111,
              "#46039f"
             ],
             [
              0.2222222222222222,
              "#7201a8"
             ],
             [
              0.3333333333333333,
              "#9c179e"
             ],
             [
              0.4444444444444444,
              "#bd3786"
             ],
             [
              0.5555555555555556,
              "#d8576b"
             ],
             [
              0.6666666666666666,
              "#ed7953"
             ],
             [
              0.7777777777777778,
              "#fb9f3a"
             ],
             [
              0.8888888888888888,
              "#fdca26"
             ],
             [
              1,
              "#f0f921"
             ]
            ],
            "type": "histogram2d"
           }
          ],
          "histogram2dcontour": [
           {
            "colorbar": {
             "outlinewidth": 0,
             "ticks": ""
            },
            "colorscale": [
             [
              0,
              "#0d0887"
             ],
             [
              0.1111111111111111,
              "#46039f"
             ],
             [
              0.2222222222222222,
              "#7201a8"
             ],
             [
              0.3333333333333333,
              "#9c179e"
             ],
             [
              0.4444444444444444,
              "#bd3786"
             ],
             [
              0.5555555555555556,
              "#d8576b"
             ],
             [
              0.6666666666666666,
              "#ed7953"
             ],
             [
              0.7777777777777778,
              "#fb9f3a"
             ],
             [
              0.8888888888888888,
              "#fdca26"
             ],
             [
              1,
              "#f0f921"
             ]
            ],
            "type": "histogram2dcontour"
           }
          ],
          "mesh3d": [
           {
            "colorbar": {
             "outlinewidth": 0,
             "ticks": ""
            },
            "type": "mesh3d"
           }
          ],
          "parcoords": [
           {
            "line": {
             "colorbar": {
              "outlinewidth": 0,
              "ticks": ""
             }
            },
            "type": "parcoords"
           }
          ],
          "pie": [
           {
            "automargin": true,
            "type": "pie"
           }
          ],
          "scatter": [
           {
            "marker": {
             "colorbar": {
              "outlinewidth": 0,
              "ticks": ""
             }
            },
            "type": "scatter"
           }
          ],
          "scatter3d": [
           {
            "line": {
             "colorbar": {
              "outlinewidth": 0,
              "ticks": ""
             }
            },
            "marker": {
             "colorbar": {
              "outlinewidth": 0,
              "ticks": ""
             }
            },
            "type": "scatter3d"
           }
          ],
          "scattercarpet": [
           {
            "marker": {
             "colorbar": {
              "outlinewidth": 0,
              "ticks": ""
             }
            },
            "type": "scattercarpet"
           }
          ],
          "scattergeo": [
           {
            "marker": {
             "colorbar": {
              "outlinewidth": 0,
              "ticks": ""
             }
            },
            "type": "scattergeo"
           }
          ],
          "scattergl": [
           {
            "marker": {
             "colorbar": {
              "outlinewidth": 0,
              "ticks": ""
             }
            },
            "type": "scattergl"
           }
          ],
          "scattermapbox": [
           {
            "marker": {
             "colorbar": {
              "outlinewidth": 0,
              "ticks": ""
             }
            },
            "type": "scattermapbox"
           }
          ],
          "scatterpolar": [
           {
            "marker": {
             "colorbar": {
              "outlinewidth": 0,
              "ticks": ""
             }
            },
            "type": "scatterpolar"
           }
          ],
          "scatterpolargl": [
           {
            "marker": {
             "colorbar": {
              "outlinewidth": 0,
              "ticks": ""
             }
            },
            "type": "scatterpolargl"
           }
          ],
          "scatterternary": [
           {
            "marker": {
             "colorbar": {
              "outlinewidth": 0,
              "ticks": ""
             }
            },
            "type": "scatterternary"
           }
          ],
          "surface": [
           {
            "colorbar": {
             "outlinewidth": 0,
             "ticks": ""
            },
            "colorscale": [
             [
              0,
              "#0d0887"
             ],
             [
              0.1111111111111111,
              "#46039f"
             ],
             [
              0.2222222222222222,
              "#7201a8"
             ],
             [
              0.3333333333333333,
              "#9c179e"
             ],
             [
              0.4444444444444444,
              "#bd3786"
             ],
             [
              0.5555555555555556,
              "#d8576b"
             ],
             [
              0.6666666666666666,
              "#ed7953"
             ],
             [
              0.7777777777777778,
              "#fb9f3a"
             ],
             [
              0.8888888888888888,
              "#fdca26"
             ],
             [
              1,
              "#f0f921"
             ]
            ],
            "type": "surface"
           }
          ],
          "table": [
           {
            "cells": {
             "fill": {
              "color": "#EBF0F8"
             },
             "line": {
              "color": "white"
             }
            },
            "header": {
             "fill": {
              "color": "#C8D4E3"
             },
             "line": {
              "color": "white"
             }
            },
            "type": "table"
           }
          ]
         },
         "layout": {
          "annotationdefaults": {
           "arrowcolor": "#2a3f5f",
           "arrowhead": 0,
           "arrowwidth": 1
          },
          "autotypenumbers": "strict",
          "coloraxis": {
           "colorbar": {
            "outlinewidth": 0,
            "ticks": ""
           }
          },
          "colorscale": {
           "diverging": [
            [
             0,
             "#8e0152"
            ],
            [
             0.1,
             "#c51b7d"
            ],
            [
             0.2,
             "#de77ae"
            ],
            [
             0.3,
             "#f1b6da"
            ],
            [
             0.4,
             "#fde0ef"
            ],
            [
             0.5,
             "#f7f7f7"
            ],
            [
             0.6,
             "#e6f5d0"
            ],
            [
             0.7,
             "#b8e186"
            ],
            [
             0.8,
             "#7fbc41"
            ],
            [
             0.9,
             "#4d9221"
            ],
            [
             1,
             "#276419"
            ]
           ],
           "sequential": [
            [
             0,
             "#0d0887"
            ],
            [
             0.1111111111111111,
             "#46039f"
            ],
            [
             0.2222222222222222,
             "#7201a8"
            ],
            [
             0.3333333333333333,
             "#9c179e"
            ],
            [
             0.4444444444444444,
             "#bd3786"
            ],
            [
             0.5555555555555556,
             "#d8576b"
            ],
            [
             0.6666666666666666,
             "#ed7953"
            ],
            [
             0.7777777777777778,
             "#fb9f3a"
            ],
            [
             0.8888888888888888,
             "#fdca26"
            ],
            [
             1,
             "#f0f921"
            ]
           ],
           "sequentialminus": [
            [
             0,
             "#0d0887"
            ],
            [
             0.1111111111111111,
             "#46039f"
            ],
            [
             0.2222222222222222,
             "#7201a8"
            ],
            [
             0.3333333333333333,
             "#9c179e"
            ],
            [
             0.4444444444444444,
             "#bd3786"
            ],
            [
             0.5555555555555556,
             "#d8576b"
            ],
            [
             0.6666666666666666,
             "#ed7953"
            ],
            [
             0.7777777777777778,
             "#fb9f3a"
            ],
            [
             0.8888888888888888,
             "#fdca26"
            ],
            [
             1,
             "#f0f921"
            ]
           ]
          },
          "colorway": [
           "#636efa",
           "#EF553B",
           "#00cc96",
           "#ab63fa",
           "#FFA15A",
           "#19d3f3",
           "#FF6692",
           "#B6E880",
           "#FF97FF",
           "#FECB52"
          ],
          "font": {
           "color": "#2a3f5f"
          },
          "geo": {
           "bgcolor": "white",
           "lakecolor": "white",
           "landcolor": "#E5ECF6",
           "showlakes": true,
           "showland": true,
           "subunitcolor": "white"
          },
          "hoverlabel": {
           "align": "left"
          },
          "hovermode": "closest",
          "mapbox": {
           "style": "light"
          },
          "paper_bgcolor": "white",
          "plot_bgcolor": "#E5ECF6",
          "polar": {
           "angularaxis": {
            "gridcolor": "white",
            "linecolor": "white",
            "ticks": ""
           },
           "bgcolor": "#E5ECF6",
           "radialaxis": {
            "gridcolor": "white",
            "linecolor": "white",
            "ticks": ""
           }
          },
          "scene": {
           "xaxis": {
            "backgroundcolor": "#E5ECF6",
            "gridcolor": "white",
            "gridwidth": 2,
            "linecolor": "white",
            "showbackground": true,
            "ticks": "",
            "zerolinecolor": "white"
           },
           "yaxis": {
            "backgroundcolor": "#E5ECF6",
            "gridcolor": "white",
            "gridwidth": 2,
            "linecolor": "white",
            "showbackground": true,
            "ticks": "",
            "zerolinecolor": "white"
           },
           "zaxis": {
            "backgroundcolor": "#E5ECF6",
            "gridcolor": "white",
            "gridwidth": 2,
            "linecolor": "white",
            "showbackground": true,
            "ticks": "",
            "zerolinecolor": "white"
           }
          },
          "shapedefaults": {
           "line": {
            "color": "#2a3f5f"
           }
          },
          "ternary": {
           "aaxis": {
            "gridcolor": "white",
            "linecolor": "white",
            "ticks": ""
           },
           "baxis": {
            "gridcolor": "white",
            "linecolor": "white",
            "ticks": ""
           },
           "bgcolor": "#E5ECF6",
           "caxis": {
            "gridcolor": "white",
            "linecolor": "white",
            "ticks": ""
           }
          },
          "title": {
           "x": 0.05
          },
          "xaxis": {
           "automargin": true,
           "gridcolor": "white",
           "linecolor": "white",
           "ticks": "",
           "title": {
            "standoff": 15
           },
           "zerolinecolor": "white",
           "zerolinewidth": 2
          },
          "yaxis": {
           "automargin": true,
           "gridcolor": "white",
           "linecolor": "white",
           "ticks": "",
           "title": {
            "standoff": 15
           },
           "zerolinecolor": "white",
           "zerolinewidth": 2
          }
         }
        }
       }
      }
     },
     "metadata": {},
     "output_type": "display_data"
    },
    {
     "data": {
      "application/vnd.plotly.v1+json": {
       "config": {
        "plotlyServerURL": "https://plot.ly"
       },
       "data": [
        {
         "type": "histogram",
         "x": [
          " 13:39:2",
          " 13:39:2",
          " 13:39:3",
          " 13:39:4",
          " 13:40:5",
          " 13:41:2",
          " 13:41:3",
          " 13:42:2",
          " 13:43:1",
          " 13:44:0",
          " 13:45:1",
          " 13:45:1",
          " 13:45:4",
          " 13:46:5"
         ]
        }
       ],
       "layout": {
        "template": {
         "data": {
          "bar": [
           {
            "error_x": {
             "color": "#2a3f5f"
            },
            "error_y": {
             "color": "#2a3f5f"
            },
            "marker": {
             "line": {
              "color": "#E5ECF6",
              "width": 0.5
             },
             "pattern": {
              "fillmode": "overlay",
              "size": 10,
              "solidity": 0.2
             }
            },
            "type": "bar"
           }
          ],
          "barpolar": [
           {
            "marker": {
             "line": {
              "color": "#E5ECF6",
              "width": 0.5
             },
             "pattern": {
              "fillmode": "overlay",
              "size": 10,
              "solidity": 0.2
             }
            },
            "type": "barpolar"
           }
          ],
          "carpet": [
           {
            "aaxis": {
             "endlinecolor": "#2a3f5f",
             "gridcolor": "white",
             "linecolor": "white",
             "minorgridcolor": "white",
             "startlinecolor": "#2a3f5f"
            },
            "baxis": {
             "endlinecolor": "#2a3f5f",
             "gridcolor": "white",
             "linecolor": "white",
             "minorgridcolor": "white",
             "startlinecolor": "#2a3f5f"
            },
            "type": "carpet"
           }
          ],
          "choropleth": [
           {
            "colorbar": {
             "outlinewidth": 0,
             "ticks": ""
            },
            "type": "choropleth"
           }
          ],
          "contour": [
           {
            "colorbar": {
             "outlinewidth": 0,
             "ticks": ""
            },
            "colorscale": [
             [
              0,
              "#0d0887"
             ],
             [
              0.1111111111111111,
              "#46039f"
             ],
             [
              0.2222222222222222,
              "#7201a8"
             ],
             [
              0.3333333333333333,
              "#9c179e"
             ],
             [
              0.4444444444444444,
              "#bd3786"
             ],
             [
              0.5555555555555556,
              "#d8576b"
             ],
             [
              0.6666666666666666,
              "#ed7953"
             ],
             [
              0.7777777777777778,
              "#fb9f3a"
             ],
             [
              0.8888888888888888,
              "#fdca26"
             ],
             [
              1,
              "#f0f921"
             ]
            ],
            "type": "contour"
           }
          ],
          "contourcarpet": [
           {
            "colorbar": {
             "outlinewidth": 0,
             "ticks": ""
            },
            "type": "contourcarpet"
           }
          ],
          "heatmap": [
           {
            "colorbar": {
             "outlinewidth": 0,
             "ticks": ""
            },
            "colorscale": [
             [
              0,
              "#0d0887"
             ],
             [
              0.1111111111111111,
              "#46039f"
             ],
             [
              0.2222222222222222,
              "#7201a8"
             ],
             [
              0.3333333333333333,
              "#9c179e"
             ],
             [
              0.4444444444444444,
              "#bd3786"
             ],
             [
              0.5555555555555556,
              "#d8576b"
             ],
             [
              0.6666666666666666,
              "#ed7953"
             ],
             [
              0.7777777777777778,
              "#fb9f3a"
             ],
             [
              0.8888888888888888,
              "#fdca26"
             ],
             [
              1,
              "#f0f921"
             ]
            ],
            "type": "heatmap"
           }
          ],
          "heatmapgl": [
           {
            "colorbar": {
             "outlinewidth": 0,
             "ticks": ""
            },
            "colorscale": [
             [
              0,
              "#0d0887"
             ],
             [
              0.1111111111111111,
              "#46039f"
             ],
             [
              0.2222222222222222,
              "#7201a8"
             ],
             [
              0.3333333333333333,
              "#9c179e"
             ],
             [
              0.4444444444444444,
              "#bd3786"
             ],
             [
              0.5555555555555556,
              "#d8576b"
             ],
             [
              0.6666666666666666,
              "#ed7953"
             ],
             [
              0.7777777777777778,
              "#fb9f3a"
             ],
             [
              0.8888888888888888,
              "#fdca26"
             ],
             [
              1,
              "#f0f921"
             ]
            ],
            "type": "heatmapgl"
           }
          ],
          "histogram": [
           {
            "marker": {
             "pattern": {
              "fillmode": "overlay",
              "size": 10,
              "solidity": 0.2
             }
            },
            "type": "histogram"
           }
          ],
          "histogram2d": [
           {
            "colorbar": {
             "outlinewidth": 0,
             "ticks": ""
            },
            "colorscale": [
             [
              0,
              "#0d0887"
             ],
             [
              0.1111111111111111,
              "#46039f"
             ],
             [
              0.2222222222222222,
              "#7201a8"
             ],
             [
              0.3333333333333333,
              "#9c179e"
             ],
             [
              0.4444444444444444,
              "#bd3786"
             ],
             [
              0.5555555555555556,
              "#d8576b"
             ],
             [
              0.6666666666666666,
              "#ed7953"
             ],
             [
              0.7777777777777778,
              "#fb9f3a"
             ],
             [
              0.8888888888888888,
              "#fdca26"
             ],
             [
              1,
              "#f0f921"
             ]
            ],
            "type": "histogram2d"
           }
          ],
          "histogram2dcontour": [
           {
            "colorbar": {
             "outlinewidth": 0,
             "ticks": ""
            },
            "colorscale": [
             [
              0,
              "#0d0887"
             ],
             [
              0.1111111111111111,
              "#46039f"
             ],
             [
              0.2222222222222222,
              "#7201a8"
             ],
             [
              0.3333333333333333,
              "#9c179e"
             ],
             [
              0.4444444444444444,
              "#bd3786"
             ],
             [
              0.5555555555555556,
              "#d8576b"
             ],
             [
              0.6666666666666666,
              "#ed7953"
             ],
             [
              0.7777777777777778,
              "#fb9f3a"
             ],
             [
              0.8888888888888888,
              "#fdca26"
             ],
             [
              1,
              "#f0f921"
             ]
            ],
            "type": "histogram2dcontour"
           }
          ],
          "mesh3d": [
           {
            "colorbar": {
             "outlinewidth": 0,
             "ticks": ""
            },
            "type": "mesh3d"
           }
          ],
          "parcoords": [
           {
            "line": {
             "colorbar": {
              "outlinewidth": 0,
              "ticks": ""
             }
            },
            "type": "parcoords"
           }
          ],
          "pie": [
           {
            "automargin": true,
            "type": "pie"
           }
          ],
          "scatter": [
           {
            "marker": {
             "colorbar": {
              "outlinewidth": 0,
              "ticks": ""
             }
            },
            "type": "scatter"
           }
          ],
          "scatter3d": [
           {
            "line": {
             "colorbar": {
              "outlinewidth": 0,
              "ticks": ""
             }
            },
            "marker": {
             "colorbar": {
              "outlinewidth": 0,
              "ticks": ""
             }
            },
            "type": "scatter3d"
           }
          ],
          "scattercarpet": [
           {
            "marker": {
             "colorbar": {
              "outlinewidth": 0,
              "ticks": ""
             }
            },
            "type": "scattercarpet"
           }
          ],
          "scattergeo": [
           {
            "marker": {
             "colorbar": {
              "outlinewidth": 0,
              "ticks": ""
             }
            },
            "type": "scattergeo"
           }
          ],
          "scattergl": [
           {
            "marker": {
             "colorbar": {
              "outlinewidth": 0,
              "ticks": ""
             }
            },
            "type": "scattergl"
           }
          ],
          "scattermapbox": [
           {
            "marker": {
             "colorbar": {
              "outlinewidth": 0,
              "ticks": ""
             }
            },
            "type": "scattermapbox"
           }
          ],
          "scatterpolar": [
           {
            "marker": {
             "colorbar": {
              "outlinewidth": 0,
              "ticks": ""
             }
            },
            "type": "scatterpolar"
           }
          ],
          "scatterpolargl": [
           {
            "marker": {
             "colorbar": {
              "outlinewidth": 0,
              "ticks": ""
             }
            },
            "type": "scatterpolargl"
           }
          ],
          "scatterternary": [
           {
            "marker": {
             "colorbar": {
              "outlinewidth": 0,
              "ticks": ""
             }
            },
            "type": "scatterternary"
           }
          ],
          "surface": [
           {
            "colorbar": {
             "outlinewidth": 0,
             "ticks": ""
            },
            "colorscale": [
             [
              0,
              "#0d0887"
             ],
             [
              0.1111111111111111,
              "#46039f"
             ],
             [
              0.2222222222222222,
              "#7201a8"
             ],
             [
              0.3333333333333333,
              "#9c179e"
             ],
             [
              0.4444444444444444,
              "#bd3786"
             ],
             [
              0.5555555555555556,
              "#d8576b"
             ],
             [
              0.6666666666666666,
              "#ed7953"
             ],
             [
              0.7777777777777778,
              "#fb9f3a"
             ],
             [
              0.8888888888888888,
              "#fdca26"
             ],
             [
              1,
              "#f0f921"
             ]
            ],
            "type": "surface"
           }
          ],
          "table": [
           {
            "cells": {
             "fill": {
              "color": "#EBF0F8"
             },
             "line": {
              "color": "white"
             }
            },
            "header": {
             "fill": {
              "color": "#C8D4E3"
             },
             "line": {
              "color": "white"
             }
            },
            "type": "table"
           }
          ]
         },
         "layout": {
          "annotationdefaults": {
           "arrowcolor": "#2a3f5f",
           "arrowhead": 0,
           "arrowwidth": 1
          },
          "autotypenumbers": "strict",
          "coloraxis": {
           "colorbar": {
            "outlinewidth": 0,
            "ticks": ""
           }
          },
          "colorscale": {
           "diverging": [
            [
             0,
             "#8e0152"
            ],
            [
             0.1,
             "#c51b7d"
            ],
            [
             0.2,
             "#de77ae"
            ],
            [
             0.3,
             "#f1b6da"
            ],
            [
             0.4,
             "#fde0ef"
            ],
            [
             0.5,
             "#f7f7f7"
            ],
            [
             0.6,
             "#e6f5d0"
            ],
            [
             0.7,
             "#b8e186"
            ],
            [
             0.8,
             "#7fbc41"
            ],
            [
             0.9,
             "#4d9221"
            ],
            [
             1,
             "#276419"
            ]
           ],
           "sequential": [
            [
             0,
             "#0d0887"
            ],
            [
             0.1111111111111111,
             "#46039f"
            ],
            [
             0.2222222222222222,
             "#7201a8"
            ],
            [
             0.3333333333333333,
             "#9c179e"
            ],
            [
             0.4444444444444444,
             "#bd3786"
            ],
            [
             0.5555555555555556,
             "#d8576b"
            ],
            [
             0.6666666666666666,
             "#ed7953"
            ],
            [
             0.7777777777777778,
             "#fb9f3a"
            ],
            [
             0.8888888888888888,
             "#fdca26"
            ],
            [
             1,
             "#f0f921"
            ]
           ],
           "sequentialminus": [
            [
             0,
             "#0d0887"
            ],
            [
             0.1111111111111111,
             "#46039f"
            ],
            [
             0.2222222222222222,
             "#7201a8"
            ],
            [
             0.3333333333333333,
             "#9c179e"
            ],
            [
             0.4444444444444444,
             "#bd3786"
            ],
            [
             0.5555555555555556,
             "#d8576b"
            ],
            [
             0.6666666666666666,
             "#ed7953"
            ],
            [
             0.7777777777777778,
             "#fb9f3a"
            ],
            [
             0.8888888888888888,
             "#fdca26"
            ],
            [
             1,
             "#f0f921"
            ]
           ]
          },
          "colorway": [
           "#636efa",
           "#EF553B",
           "#00cc96",
           "#ab63fa",
           "#FFA15A",
           "#19d3f3",
           "#FF6692",
           "#B6E880",
           "#FF97FF",
           "#FECB52"
          ],
          "font": {
           "color": "#2a3f5f"
          },
          "geo": {
           "bgcolor": "white",
           "lakecolor": "white",
           "landcolor": "#E5ECF6",
           "showlakes": true,
           "showland": true,
           "subunitcolor": "white"
          },
          "hoverlabel": {
           "align": "left"
          },
          "hovermode": "closest",
          "mapbox": {
           "style": "light"
          },
          "paper_bgcolor": "white",
          "plot_bgcolor": "#E5ECF6",
          "polar": {
           "angularaxis": {
            "gridcolor": "white",
            "linecolor": "white",
            "ticks": ""
           },
           "bgcolor": "#E5ECF6",
           "radialaxis": {
            "gridcolor": "white",
            "linecolor": "white",
            "ticks": ""
           }
          },
          "scene": {
           "xaxis": {
            "backgroundcolor": "#E5ECF6",
            "gridcolor": "white",
            "gridwidth": 2,
            "linecolor": "white",
            "showbackground": true,
            "ticks": "",
            "zerolinecolor": "white"
           },
           "yaxis": {
            "backgroundcolor": "#E5ECF6",
            "gridcolor": "white",
            "gridwidth": 2,
            "linecolor": "white",
            "showbackground": true,
            "ticks": "",
            "zerolinecolor": "white"
           },
           "zaxis": {
            "backgroundcolor": "#E5ECF6",
            "gridcolor": "white",
            "gridwidth": 2,
            "linecolor": "white",
            "showbackground": true,
            "ticks": "",
            "zerolinecolor": "white"
           }
          },
          "shapedefaults": {
           "line": {
            "color": "#2a3f5f"
           }
          },
          "ternary": {
           "aaxis": {
            "gridcolor": "white",
            "linecolor": "white",
            "ticks": ""
           },
           "baxis": {
            "gridcolor": "white",
            "linecolor": "white",
            "ticks": ""
           },
           "bgcolor": "#E5ECF6",
           "caxis": {
            "gridcolor": "white",
            "linecolor": "white",
            "ticks": ""
           }
          },
          "title": {
           "x": 0.05
          },
          "xaxis": {
           "automargin": true,
           "gridcolor": "white",
           "linecolor": "white",
           "ticks": "",
           "title": {
            "standoff": 15
           },
           "zerolinecolor": "white",
           "zerolinewidth": 2
          },
          "yaxis": {
           "automargin": true,
           "gridcolor": "white",
           "linecolor": "white",
           "ticks": "",
           "title": {
            "standoff": 15
           },
           "zerolinecolor": "white",
           "zerolinewidth": 2
          }
         }
        }
       }
      }
     },
     "metadata": {},
     "output_type": "display_data"
    }
   ],
   "source": [
    "#plot the timestamps\n",
    "import plotly.graph_objects as go\n",
    "\n",
    "#use the histogram to plot the timestamps\n",
    "fig = go.Figure(data=[go.Histogram(x=timestamps)])\n",
    "fig.show()\n",
    "\n",
    "\n",
    "fig2 = go.Figure(data=[go.Histogram(x=laughs)])\n",
    "fig2.show()\n",
    "\n",
    "\n",
    "#10:47:3 means, the message occured between 10:47:30 and 10:47:39, (10 seconds intervall)"
   ]
  },
  {
   "cell_type": "code",
   "execution_count": null,
   "metadata": {},
   "outputs": [],
   "source": []
  },
  {
   "cell_type": "code",
   "execution_count": null,
   "metadata": {},
   "outputs": [],
   "source": []
  }
 ],
 "metadata": {
  "interpreter": {
   "hash": "b0fa6594d8f4cbf19f97940f81e996739fb7646882a419484c72d19e05852a7e"
  },
  "kernelspec": {
   "display_name": "Python 3.9.13 64-bit",
   "language": "python",
   "name": "python3"
  },
  "language_info": {
   "codemirror_mode": {
    "name": "ipython",
    "version": 3
   },
   "file_extension": ".py",
   "mimetype": "text/x-python",
   "name": "python",
   "nbconvert_exporter": "python",
   "pygments_lexer": "ipython3",
   "version": "3.9.13"
  },
  "orig_nbformat": 4
 },
 "nbformat": 4,
 "nbformat_minor": 2
}
